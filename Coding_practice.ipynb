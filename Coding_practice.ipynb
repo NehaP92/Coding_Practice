{
 "cells": [
  {
   "cell_type": "markdown",
   "metadata": {},
   "source": [
    "# General Coding"
   ]
  },
  {
   "cell_type": "code",
   "execution_count": 1,
   "metadata": {},
   "outputs": [],
   "source": [
    "import numpy as np"
   ]
  },
  {
   "cell_type": "code",
   "execution_count": 2,
   "metadata": {},
   "outputs": [],
   "source": [
    "import itertools"
   ]
  },
  {
   "cell_type": "code",
   "execution_count": 42,
   "metadata": {},
   "outputs": [
    {
     "name": "stdout",
     "output_type": "stream",
     "text": [
      "1\n",
      "1\n",
      "1\n",
      "2\n"
     ]
    }
   ],
   "source": [
    "x=int(input())\n",
    "y=int(input())\n",
    "z=int(input())\n",
    "n=int(input())"
   ]
  },
  {
   "cell_type": "code",
   "execution_count": 29,
   "metadata": {},
   "outputs": [
    {
     "data": {
      "text/plain": [
       "[(0, 0, 1),\n",
       " (0, 0, 1),\n",
       " (0, 1, 0),\n",
       " (0, 1, 1),\n",
       " (0, 1, 0),\n",
       " (0, 1, 1),\n",
       " (0, 0, 1),\n",
       " (0, 0, 1),\n",
       " (0, 1, 0),\n",
       " (0, 1, 1),\n",
       " (0, 1, 0),\n",
       " (0, 1, 1),\n",
       " (1, 0, 0),\n",
       " (1, 0, 1),\n",
       " (1, 0, 0),\n",
       " (1, 0, 1),\n",
       " (1, 1, 0),\n",
       " (1, 1, 0),\n",
       " (1, 0, 0),\n",
       " (1, 0, 1),\n",
       " (1, 0, 0),\n",
       " (1, 0, 1),\n",
       " (1, 1, 0),\n",
       " (1, 1, 0)]"
      ]
     },
     "execution_count": 29,
     "metadata": {},
     "output_type": "execute_result"
    }
   ],
   "source": [
    "xyzn = list(itertools.permutations([int(x),int(y),int(z),int(n)],3))\n",
    "xyzn"
   ]
  },
  {
   "cell_type": "code",
   "execution_count": 30,
   "metadata": {},
   "outputs": [
    {
     "data": {
      "text/plain": [
       "[(0, 1, 1),\n",
       " (0, 1, 1),\n",
       " (0, 1, 1),\n",
       " (0, 1, 1),\n",
       " (1, 0, 1),\n",
       " (1, 0, 1),\n",
       " (1, 1, 0),\n",
       " (1, 1, 0),\n",
       " (1, 0, 1),\n",
       " (1, 0, 1),\n",
       " (1, 1, 0),\n",
       " (1, 1, 0)]"
      ]
     },
     "execution_count": 30,
     "metadata": {},
     "output_type": "execute_result"
    }
   ],
   "source": [
    "output=[]\n",
    "for i, tup in enumerate(xyzn):\n",
    "    if sum(tup)!=n:\n",
    "#         print(sum(tup))\n",
    "        output.append(tup)\n",
    "\n",
    "output"
   ]
  },
  {
   "cell_type": "code",
   "execution_count": 31,
   "metadata": {},
   "outputs": [
    {
     "name": "stdout",
     "output_type": "stream",
     "text": [
      "24\n",
      "12\n"
     ]
    }
   ],
   "source": [
    "print(len(xyzn))\n",
    "print(len(output))"
   ]
  },
  {
   "cell_type": "code",
   "execution_count": 27,
   "metadata": {},
   "outputs": [
    {
     "data": {
      "text/plain": [
       "'1'"
      ]
     },
     "execution_count": 27,
     "metadata": {},
     "output_type": "execute_result"
    }
   ],
   "source": [
    "n"
   ]
  },
  {
   "cell_type": "code",
   "execution_count": 47,
   "metadata": {},
   "outputs": [],
   "source": [
    "i=list(range(x+1))\n",
    "j=list(range(y+1))\n",
    "k=list(range(z+1))"
   ]
  },
  {
   "cell_type": "code",
   "execution_count": 55,
   "metadata": {},
   "outputs": [
    {
     "data": {
      "text/plain": [
       "[([0, 1], [0, 1], [0, 1]),\n",
       " ([0, 1], [0, 1], [0, 1]),\n",
       " ([0, 1], [0, 1], [0, 1]),\n",
       " ([0, 1], [0, 1], [0, 1]),\n",
       " ([0, 1], [0, 1], [0, 1]),\n",
       " ([0, 1], [0, 1], [0, 1])]"
      ]
     },
     "execution_count": 55,
     "metadata": {},
     "output_type": "execute_result"
    }
   ],
   "source": [
    "list(itertools.permutations((i,j,k),3))"
   ]
  },
  {
   "cell_type": "code",
   "execution_count": 49,
   "metadata": {},
   "outputs": [
    {
     "data": {
      "text/plain": [
       "[0, 1]"
      ]
     },
     "execution_count": 49,
     "metadata": {},
     "output_type": "execute_result"
    }
   ],
   "source": [
    "i"
   ]
  },
  {
   "cell_type": "code",
   "execution_count": 59,
   "metadata": {},
   "outputs": [
    {
     "data": {
      "text/plain": [
       "[[0, 0, 0],\n",
       " [0, 0, 1],\n",
       " [0, 1, 0],\n",
       " [0, 1, 1],\n",
       " [1, 0, 0],\n",
       " [1, 0, 1],\n",
       " [1, 1, 0],\n",
       " [1, 1, 1]]"
      ]
     },
     "execution_count": 59,
     "metadata": {},
     "output_type": "execute_result"
    }
   ],
   "source": [
    "permutations=[]\n",
    "for alli in i:\n",
    "    for allj in j:\n",
    "        for allk in k:\n",
    "            permutations.append([alli,allj,allk])\n",
    "            \n",
    "permutations"
   ]
  },
  {
   "cell_type": "code",
   "execution_count": 60,
   "metadata": {},
   "outputs": [],
   "source": [
    "output2 = []\n",
    "for p in permutations:\n",
    "    if sum(p)!=n:\n",
    "        output2.append(p)"
   ]
  },
  {
   "cell_type": "code",
   "execution_count": 61,
   "metadata": {},
   "outputs": [
    {
     "data": {
      "text/plain": [
       "[[0, 0, 0], [0, 0, 1], [0, 1, 0], [1, 0, 0], [1, 1, 1]]"
      ]
     },
     "execution_count": 61,
     "metadata": {},
     "output_type": "execute_result"
    }
   ],
   "source": [
    "output2"
   ]
  },
  {
   "cell_type": "code",
   "execution_count": 58,
   "metadata": {},
   "outputs": [],
   "source": [
    "i=range(x+1)\n",
    "j=range(y+1)\n",
    "k=range(z+1)"
   ]
  },
  {
   "cell_type": "code",
   "execution_count": 62,
   "metadata": {},
   "outputs": [
    {
     "name": "stdout",
     "output_type": "stream",
     "text": [
      "1\n",
      "1\n",
      "1\n",
      "2\n"
     ]
    },
    {
     "data": {
      "text/plain": [
       "[[0, 0, 0], [0, 0, 1], [0, 1, 0], [1, 0, 0], [1, 1, 1]]"
      ]
     },
     "execution_count": 62,
     "metadata": {},
     "output_type": "execute_result"
    }
   ],
   "source": [
    "x = int(input())\n",
    "y = int(input())\n",
    "z = int(input())\n",
    "n = int(input())\n",
    "i=range(x+1)\n",
    "j=range(y+1)\n",
    "k=range(z+1) \n",
    "permutations=[]\n",
    "for alli in i:\n",
    "    for allj in j:\n",
    "        for allk in k:\n",
    "            permutations.append([alli,allj,allk])       \n",
    "output=[]\n",
    "for p in permutations:\n",
    "    if sum(p)!=n:\n",
    "        output.append(p)\n",
    "output"
   ]
  },
  {
   "cell_type": "code",
   "execution_count": 63,
   "metadata": {},
   "outputs": [
    {
     "data": {
      "text/plain": [
       "[[0, 0, 0], [0, 0, 1], [0, 1, 0], [1, 0, 0], [1, 1, 1]]"
      ]
     },
     "execution_count": 63,
     "metadata": {},
     "output_type": "execute_result"
    }
   ],
   "source": [
    "def fun(x,y,z,n):\n",
    "    i=range(x+1)\n",
    "    j=range(y+1)\n",
    "    k=range(z+1) \n",
    "    permutations=[]\n",
    "    for alli in i:\n",
    "        for allj in j:\n",
    "            for allk in k:\n",
    "                permutations.append([alli,allj,allk])       \n",
    "    output=[]\n",
    "    for p in permutations:\n",
    "        if sum(p)!=n:\n",
    "            output.append(p)\n",
    "    return output\n",
    "\n",
    "fun(x,y,z,n)"
   ]
  },
  {
   "cell_type": "code",
   "execution_count": 75,
   "metadata": {},
   "outputs": [
    {
     "name": "stdout",
     "output_type": "stream",
     "text": [
      "5\n",
      "5 4 3 2 1\n"
     ]
    }
   ],
   "source": [
    "n = int(input())\n",
    "arr = map(int, input().split())"
   ]
  },
  {
   "cell_type": "code",
   "execution_count": 76,
   "metadata": {},
   "outputs": [
    {
     "data": {
      "text/plain": [
       "[5, 4, 3, 2, 1]"
      ]
     },
     "execution_count": 76,
     "metadata": {},
     "output_type": "execute_result"
    }
   ],
   "source": [
    "arrlist = list(arr)\n",
    "arrlist"
   ]
  },
  {
   "cell_type": "code",
   "execution_count": 78,
   "metadata": {},
   "outputs": [],
   "source": [
    "arrlist.sort()"
   ]
  },
  {
   "cell_type": "code",
   "execution_count": 79,
   "metadata": {},
   "outputs": [
    {
     "data": {
      "text/plain": [
       "5"
      ]
     },
     "execution_count": 79,
     "metadata": {},
     "output_type": "execute_result"
    }
   ],
   "source": [
    "len(arrlist)"
   ]
  },
  {
   "cell_type": "code",
   "execution_count": 80,
   "metadata": {},
   "outputs": [
    {
     "data": {
      "text/plain": [
       "[1, 2, 3, 4, 5]"
      ]
     },
     "execution_count": 80,
     "metadata": {},
     "output_type": "execute_result"
    }
   ],
   "source": [
    "arrlist"
   ]
  },
  {
   "cell_type": "code",
   "execution_count": 82,
   "metadata": {},
   "outputs": [
    {
     "data": {
      "text/plain": [
       "5"
      ]
     },
     "execution_count": 82,
     "metadata": {},
     "output_type": "execute_result"
    }
   ],
   "source": [
    "max(arrlist)"
   ]
  },
  {
   "cell_type": "code",
   "execution_count": 83,
   "metadata": {},
   "outputs": [
    {
     "data": {
      "text/plain": [
       "[1, 2, 3, 4]"
      ]
     },
     "execution_count": 83,
     "metadata": {},
     "output_type": "execute_result"
    }
   ],
   "source": [
    "finallist=[i for i in arrlist if i!=max(arrlist)]\n",
    "finallist"
   ]
  },
  {
   "cell_type": "code",
   "execution_count": 84,
   "metadata": {},
   "outputs": [
    {
     "name": "stdout",
     "output_type": "stream",
     "text": [
      "4\n"
     ]
    }
   ],
   "source": [
    "print(max(finallist))"
   ]
  },
  {
   "cell_type": "code",
   "execution_count": 101,
   "metadata": {},
   "outputs": [
    {
     "name": "stdout",
     "output_type": "stream",
     "text": [
      "4\n",
      "neha\n",
      "28\n",
      "swets\n",
      "40\n",
      "dad\n",
      "30\n",
      "mom\n",
      "30\n"
     ]
    }
   ],
   "source": [
    "name_=[]\n",
    "score_=[]\n",
    "for _ in range(int(input())):\n",
    "    name = input()\n",
    "    score = float(input())\n",
    "    name_.append(name)\n",
    "    score_.append(score)\n",
    "    \n",
    "list_main = [[name_[i],score_[i]] for i in range(len(name_))]"
   ]
  },
  {
   "cell_type": "code",
   "execution_count": 102,
   "metadata": {},
   "outputs": [
    {
     "data": {
      "text/plain": [
       "[['neha', 28.0], ['swets', 40.0], ['dad', 30.0], ['mom', 30.0]]"
      ]
     },
     "execution_count": 102,
     "metadata": {},
     "output_type": "execute_result"
    }
   ],
   "source": [
    "list_main = [[name_[i],score_[i]] for i in range(len(name_))]\n",
    "list_main"
   ]
  },
  {
   "cell_type": "code",
   "execution_count": 103,
   "metadata": {},
   "outputs": [
    {
     "data": {
      "text/plain": [
       "['neha', 'swets', 'dad', 'mom']"
      ]
     },
     "execution_count": 103,
     "metadata": {},
     "output_type": "execute_result"
    }
   ],
   "source": [
    "name_"
   ]
  },
  {
   "cell_type": "code",
   "execution_count": 104,
   "metadata": {},
   "outputs": [
    {
     "data": {
      "text/plain": [
       "[28.0, 40.0, 30.0, 30.0]"
      ]
     },
     "execution_count": 104,
     "metadata": {},
     "output_type": "execute_result"
    }
   ],
   "source": [
    "score_"
   ]
  },
  {
   "cell_type": "code",
   "execution_count": 105,
   "metadata": {},
   "outputs": [],
   "source": [
    "scorefin = [i for i in score_ if i!=min(score_)]\n",
    "seclow = min(scorefin)"
   ]
  },
  {
   "cell_type": "code",
   "execution_count": 106,
   "metadata": {},
   "outputs": [
    {
     "data": {
      "text/plain": [
       "['dad', 'mom']"
      ]
     },
     "execution_count": 106,
     "metadata": {},
     "output_type": "execute_result"
    }
   ],
   "source": [
    "stud = [n[0] for n in [list_main[k] for k in range(len(list_main))] if n[1]==seclow]\n",
    "stud"
   ]
  },
  {
   "cell_type": "code",
   "execution_count": 107,
   "metadata": {},
   "outputs": [
    {
     "data": {
      "text/plain": [
       "30.0"
      ]
     },
     "execution_count": 107,
     "metadata": {},
     "output_type": "execute_result"
    }
   ],
   "source": [
    "seclow"
   ]
  },
  {
   "cell_type": "code",
   "execution_count": 117,
   "metadata": {},
   "outputs": [
    {
     "name": "stdout",
     "output_type": "stream",
     "text": [
      "dad\n",
      "mom\n"
     ]
    }
   ],
   "source": [
    "for i in range(len(stud)):\n",
    "    print(stud[i])"
   ]
  },
  {
   "cell_type": "code",
   "execution_count": 116,
   "metadata": {},
   "outputs": [
    {
     "data": {
      "text/plain": [
       "['dad', 'mom']"
      ]
     },
     "execution_count": 116,
     "metadata": {},
     "output_type": "execute_result"
    }
   ],
   "source": [
    "stud"
   ]
  },
  {
   "cell_type": "code",
   "execution_count": 111,
   "metadata": {},
   "outputs": [
    {
     "data": {
      "text/plain": [
       "2"
      ]
     },
     "execution_count": 111,
     "metadata": {},
     "output_type": "execute_result"
    }
   ],
   "source": [
    "len(stud)"
   ]
  },
  {
   "cell_type": "markdown",
   "metadata": {
    "heading_collapsed": true
   },
   "source": [
    "# NLP"
   ]
  },
  {
   "cell_type": "markdown",
   "metadata": {
    "heading_collapsed": true,
    "hidden": true
   },
   "source": [
    "## Corpus Statistics - Lab"
   ]
  },
  {
   "cell_type": "code",
   "execution_count": 1,
   "metadata": {
    "ExecuteTime": {
     "end_time": "2021-05-15T15:27:51.623377Z",
     "start_time": "2021-05-15T15:27:48.276678Z"
    },
    "hidden": true
   },
   "outputs": [],
   "source": [
    "import nltk\n",
    "from nltk.corpus import gutenberg, stopwords\n",
    "from nltk.collocations import *\n",
    "from nltk import FreqDist, word_tokenize\n",
    "import string\n",
    "import re"
   ]
  },
  {
   "cell_type": "code",
   "execution_count": 2,
   "metadata": {
    "ExecuteTime": {
     "end_time": "2021-05-15T15:28:06.726385Z",
     "start_time": "2021-05-15T15:28:05.349666Z"
    },
    "hidden": true
   },
   "outputs": [
    {
     "name": "stderr",
     "output_type": "stream",
     "text": [
      "[nltk_data] Downloading package gutenberg to\n",
      "[nltk_data]     C:\\Users\\19035\\AppData\\Roaming\\nltk_data...\n",
      "[nltk_data]   Package gutenberg is already up-to-date!\n"
     ]
    },
    {
     "data": {
      "text/plain": [
       "True"
      ]
     },
     "execution_count": 2,
     "metadata": {},
     "output_type": "execute_result"
    }
   ],
   "source": [
    "nltk.download('gutenberg')"
   ]
  },
  {
   "cell_type": "code",
   "execution_count": 3,
   "metadata": {
    "ExecuteTime": {
     "end_time": "2021-05-15T15:28:14.081173Z",
     "start_time": "2021-05-15T15:28:14.071204Z"
    },
    "hidden": true
   },
   "outputs": [
    {
     "data": {
      "text/plain": [
       "['austen-emma.txt',\n",
       " 'austen-persuasion.txt',\n",
       " 'austen-sense.txt',\n",
       " 'bible-kjv.txt',\n",
       " 'blake-poems.txt',\n",
       " 'bryant-stories.txt',\n",
       " 'burgess-busterbrown.txt',\n",
       " 'carroll-alice.txt',\n",
       " 'chesterton-ball.txt',\n",
       " 'chesterton-brown.txt',\n",
       " 'chesterton-thursday.txt',\n",
       " 'edgeworth-parents.txt',\n",
       " 'melville-moby_dick.txt',\n",
       " 'milton-paradise.txt',\n",
       " 'shakespeare-caesar.txt',\n",
       " 'shakespeare-hamlet.txt',\n",
       " 'shakespeare-macbeth.txt',\n",
       " 'whitman-leaves.txt']"
      ]
     },
     "execution_count": 3,
     "metadata": {},
     "output_type": "execute_result"
    }
   ],
   "source": [
    "file_ids = gutenberg.fileids()\n",
    "file_ids"
   ]
  },
  {
   "cell_type": "code",
   "execution_count": 4,
   "metadata": {
    "ExecuteTime": {
     "end_time": "2021-05-15T15:28:23.162977Z",
     "start_time": "2021-05-15T15:28:23.149975Z"
    },
    "hidden": true
   },
   "outputs": [
    {
     "data": {
      "text/plain": [
       "\"[The Tragedie of Macbeth by William Shakespeare 1603]\\n\\n\\nActus Primus. Scoena Prima.\\n\\nThunder and Lightning. Enter three Witches.\\n\\n  1. When shall we three meet againe?\\nIn Thunder, Lightning, or in Raine?\\n  2. When the Hurley-burley's done,\\nWhen the Battaile's lost, and wonne\\n\\n   3. That will be ere the set of Sunne\\n\\n   1. Where the place?\\n  2. Vpon the Heath\\n\\n   3. There to meet with Macbeth\\n\\n   1. I come, Gray-Malkin\\n\\n   All. Padock calls anon: faire is foule, and foule is faire,\\nHouer through the fogge and filthie ayre.\\n\\nExeunt.\\n\\n\\nScena Secunda.\\n\\nAlarum within. Enter King Malcome, Donalbaine, Lenox, with\\nattendants,\\nmeeting a bleeding Captaine.\\n\\n  King. What bloody man is that? he can report,\\nAs seemeth by his plight, of the Reuolt\\nThe newest state\\n\\n   Mal. This is the Serieant,\\nWho like a good and hardie Souldier fought\\n'Gainst my Captiuitie: Haile braue friend;\\nSay to the King, the knowledge of the Broyle,\\nAs thou didst leaue it\\n\\n   Cap. Doubtfull it stood,\\nAs two spent Swimmers, t\""
      ]
     },
     "execution_count": 4,
     "metadata": {},
     "output_type": "execute_result"
    }
   ],
   "source": [
    "macbeth_text = gutenberg.raw('shakespeare-macbeth.txt')\n",
    "macbeth_text[:1000]"
   ]
  },
  {
   "cell_type": "code",
   "execution_count": 5,
   "metadata": {
    "ExecuteTime": {
     "end_time": "2021-05-15T15:28:29.520967Z",
     "start_time": "2021-05-15T15:28:29.516575Z"
    },
    "hidden": true
   },
   "outputs": [
    {
     "name": "stdout",
     "output_type": "stream",
     "text": [
      "[The Tragedie of Macbeth by William Shakespeare 1603]\n",
      "\n",
      "\n",
      "Actus Primus. Scoena Prima.\n",
      "\n",
      "Thunder and Lightning. Enter three Witches.\n",
      "\n",
      "  1. When shall we three meet againe?\n",
      "In Thunder, Lightning, or in Raine?\n",
      "  2. When the Hurley-burley's done,\n",
      "When the Battaile's lost, and wonne\n",
      "\n",
      "   3. That will be ere the set of Sunne\n",
      "\n",
      "   1. Where the place?\n",
      "  2. Vpon the Heath\n",
      "\n",
      "   3. There to meet with Macbeth\n",
      "\n",
      "   1. I come, Gray-Malkin\n",
      "\n",
      "   All. Padock calls anon: faire is foule, and foule is faire,\n",
      "Houer through the fogge and filthie ayre.\n",
      "\n",
      "Exeunt.\n",
      "\n",
      "\n",
      "Scena Secunda.\n",
      "\n",
      "Alarum within. Enter King Malcome, Donalbaine, Lenox, with\n",
      "attendants,\n",
      "meeting a bleeding Captaine.\n",
      "\n",
      "  King. What bloody man is that? he can report,\n",
      "As seemeth by his plight, of the Reuolt\n",
      "The newest state\n",
      "\n",
      "   Mal. This is the Serieant,\n",
      "Who like a good and hardie Souldier fought\n",
      "'Gainst my Captiuitie: Haile braue friend;\n",
      "Say to the King, the knowledge of the Broyle,\n",
      "As thou didst leaue it\n",
      "\n",
      "   Cap. Doubtfull it stood,\n",
      "As two spent Swimmers, t\n"
     ]
    }
   ],
   "source": [
    "print(macbeth_text[:1000])"
   ]
  },
  {
   "cell_type": "code",
   "execution_count": 6,
   "metadata": {
    "ExecuteTime": {
     "end_time": "2021-05-15T15:28:38.341057Z",
     "start_time": "2021-05-15T15:28:38.310140Z"
    },
    "hidden": true
   },
   "outputs": [
    {
     "data": {
      "text/plain": [
       "['The',\n",
       " 'Tragedie',\n",
       " 'of',\n",
       " 'Macbeth',\n",
       " 'by',\n",
       " 'William',\n",
       " 'Shakespeare',\n",
       " 'Actus',\n",
       " 'Primus',\n",
       " 'Scoena',\n",
       " 'Prima',\n",
       " 'Thunder',\n",
       " 'and',\n",
       " 'Lightning',\n",
       " 'Enter',\n",
       " 'three',\n",
       " 'Witches',\n",
       " 'When',\n",
       " 'shall',\n",
       " 'we',\n",
       " 'three',\n",
       " 'meet',\n",
       " 'againe',\n",
       " 'In',\n",
       " 'Thunder',\n",
       " 'Lightning',\n",
       " 'or',\n",
       " 'in',\n",
       " 'Raine',\n",
       " 'When',\n",
       " 'the',\n",
       " 'Hurley',\n",
       " \"burley's\",\n",
       " 'done',\n",
       " 'When',\n",
       " 'the',\n",
       " \"Battaile's\",\n",
       " 'lost',\n",
       " 'and',\n",
       " 'wonne',\n",
       " 'That',\n",
       " 'will',\n",
       " 'be',\n",
       " 'ere',\n",
       " 'the',\n",
       " 'set',\n",
       " 'of',\n",
       " 'Sunne',\n",
       " 'Where',\n",
       " 'the',\n",
       " 'place',\n",
       " 'Vpon',\n",
       " 'the',\n",
       " 'Heath',\n",
       " 'There',\n",
       " 'to',\n",
       " 'meet',\n",
       " 'with',\n",
       " 'Macbeth',\n",
       " 'I',\n",
       " 'come',\n",
       " 'Gray',\n",
       " 'Malkin',\n",
       " 'All',\n",
       " 'Padock',\n",
       " 'calls',\n",
       " 'anon',\n",
       " 'faire',\n",
       " 'is',\n",
       " 'foule',\n",
       " 'and',\n",
       " 'foule',\n",
       " 'is',\n",
       " 'faire',\n",
       " 'Houer',\n",
       " 'through',\n",
       " 'the',\n",
       " 'fogge',\n",
       " 'and',\n",
       " 'filthie',\n",
       " 'ayre',\n",
       " 'Exeunt',\n",
       " 'Scena',\n",
       " 'Secunda',\n",
       " 'Alarum',\n",
       " 'within',\n",
       " 'Enter',\n",
       " 'King',\n",
       " 'Malcome',\n",
       " 'Donalbaine',\n",
       " 'Lenox',\n",
       " 'with',\n",
       " 'attendants',\n",
       " 'meeting',\n",
       " 'a',\n",
       " 'bleeding',\n",
       " 'Captaine',\n",
       " 'King',\n",
       " 'What',\n",
       " 'bloody',\n",
       " 'man',\n",
       " 'is',\n",
       " 'that',\n",
       " 'he',\n",
       " 'can',\n",
       " 'report',\n",
       " 'As',\n",
       " 'seemeth',\n",
       " 'by',\n",
       " 'his',\n",
       " 'plight',\n",
       " 'of',\n",
       " 'the',\n",
       " 'Reuolt',\n",
       " 'The',\n",
       " 'newest',\n",
       " 'state',\n",
       " 'Mal',\n",
       " 'This',\n",
       " 'is',\n",
       " 'the',\n",
       " 'Serieant',\n",
       " 'Who',\n",
       " 'like',\n",
       " 'a',\n",
       " 'good',\n",
       " 'and',\n",
       " 'hardie',\n",
       " 'Souldier',\n",
       " 'fought',\n",
       " 'Gainst',\n",
       " 'my',\n",
       " 'Captiuitie',\n",
       " 'Haile',\n",
       " 'braue',\n",
       " 'friend',\n",
       " 'Say',\n",
       " 'to',\n",
       " 'the',\n",
       " 'King',\n",
       " 'the',\n",
       " 'knowledge',\n",
       " 'of',\n",
       " 'the',\n",
       " 'Broyle',\n",
       " 'As',\n",
       " 'thou',\n",
       " 'didst',\n",
       " 'leaue',\n",
       " 'it',\n",
       " 'Cap',\n",
       " 'Doubtfull',\n",
       " 'it',\n",
       " 'stood',\n",
       " 'As',\n",
       " 'two',\n",
       " 'spent',\n",
       " 'Swimmers',\n",
       " 'that',\n",
       " 'doe',\n",
       " 'cling',\n",
       " 'together',\n",
       " 'And',\n",
       " 'choake',\n",
       " 'their',\n",
       " 'Art',\n",
       " 'The',\n",
       " 'mercilesse',\n",
       " 'Macdonwald',\n",
       " 'Worthie',\n",
       " 'to',\n",
       " 'be',\n",
       " 'a',\n",
       " 'Rebell',\n",
       " 'for',\n",
       " 'to',\n",
       " 'that',\n",
       " 'The',\n",
       " 'multiplying',\n",
       " 'Villanies',\n",
       " 'of',\n",
       " 'Nature',\n",
       " 'Doe',\n",
       " 'swarme',\n",
       " 'vpon',\n",
       " 'him',\n",
       " 'from',\n",
       " 'the',\n",
       " 'Westerne',\n",
       " 'Isles',\n",
       " 'Of',\n",
       " 'Kernes',\n",
       " 'and',\n",
       " 'Gallowgrosses',\n",
       " 'is',\n",
       " \"supply'd\",\n",
       " 'And',\n",
       " 'Fortune',\n",
       " 'on',\n",
       " 'his',\n",
       " 'damned',\n",
       " 'Quarry',\n",
       " 'smiling',\n",
       " \"Shew'd\",\n",
       " 'like',\n",
       " 'a',\n",
       " 'Rebells',\n",
       " 'Whore',\n",
       " 'but',\n",
       " \"all's\",\n",
       " 'too',\n",
       " 'weake',\n",
       " 'For',\n",
       " 'braue',\n",
       " 'Macbeth',\n",
       " 'well',\n",
       " 'hee',\n",
       " 'deserues',\n",
       " 'that',\n",
       " 'Name',\n",
       " 'Disdayning',\n",
       " 'Fortune',\n",
       " 'with',\n",
       " 'his',\n",
       " 'brandisht',\n",
       " 'Steele',\n",
       " 'Which',\n",
       " \"smoak'd\",\n",
       " 'with',\n",
       " 'bloody',\n",
       " 'execution',\n",
       " 'Like',\n",
       " 'Valours',\n",
       " 'Minion',\n",
       " \"caru'd\",\n",
       " 'out',\n",
       " 'his',\n",
       " 'passage',\n",
       " 'Till',\n",
       " 'hee',\n",
       " \"fac'd\",\n",
       " 'the',\n",
       " 'Slaue',\n",
       " 'Which',\n",
       " \"neu'r\",\n",
       " 'shooke',\n",
       " 'hands',\n",
       " 'nor',\n",
       " 'bad',\n",
       " 'farwell',\n",
       " 'to',\n",
       " 'him',\n",
       " 'Till',\n",
       " 'he',\n",
       " \"vnseam'd\",\n",
       " 'him',\n",
       " 'from',\n",
       " 'the',\n",
       " 'Naue',\n",
       " 'toth',\n",
       " 'Chops',\n",
       " 'And',\n",
       " \"fix'd\",\n",
       " 'his',\n",
       " 'Head',\n",
       " 'vpon',\n",
       " 'our',\n",
       " 'Battlements',\n",
       " 'King',\n",
       " 'O',\n",
       " 'valiant',\n",
       " 'Cousin',\n",
       " 'worthy',\n",
       " 'Gentleman',\n",
       " 'Cap',\n",
       " 'As',\n",
       " 'whence',\n",
       " 'the',\n",
       " 'Sunne',\n",
       " 'gins',\n",
       " 'his',\n",
       " 'reflection',\n",
       " 'Shipwracking',\n",
       " 'Stormes',\n",
       " 'and',\n",
       " 'direfull',\n",
       " 'Thunders',\n",
       " 'So',\n",
       " 'from',\n",
       " 'that',\n",
       " 'Spring',\n",
       " 'whence',\n",
       " 'comfort',\n",
       " \"seem'd\",\n",
       " 'to',\n",
       " 'come',\n",
       " 'Discomfort',\n",
       " 'swells',\n",
       " 'Marke',\n",
       " 'King',\n",
       " 'of',\n",
       " 'Scotland',\n",
       " 'marke',\n",
       " 'No',\n",
       " 'sooner',\n",
       " 'Iustice',\n",
       " 'had',\n",
       " 'with',\n",
       " 'Valour',\n",
       " \"arm'd\",\n",
       " \"Compell'd\",\n",
       " 'these',\n",
       " 'skipping',\n",
       " 'Kernes',\n",
       " 'to',\n",
       " 'trust',\n",
       " 'their',\n",
       " 'heeles',\n",
       " 'But',\n",
       " 'the',\n",
       " 'Norweyan',\n",
       " 'Lord',\n",
       " 'surueying',\n",
       " 'vantage',\n",
       " 'With',\n",
       " 'furbusht',\n",
       " 'Armes',\n",
       " 'and',\n",
       " 'new',\n",
       " 'supplyes',\n",
       " 'of',\n",
       " 'men',\n",
       " 'Began',\n",
       " 'a',\n",
       " 'fresh',\n",
       " 'assault',\n",
       " 'King',\n",
       " \"Dismay'd\",\n",
       " 'not',\n",
       " 'this',\n",
       " 'our',\n",
       " 'Captaines',\n",
       " 'Macbeth',\n",
       " 'and',\n",
       " 'Banquoh',\n",
       " 'Cap',\n",
       " 'Yes',\n",
       " 'as',\n",
       " 'Sparrowes',\n",
       " 'Eagles',\n",
       " 'Or',\n",
       " 'the',\n",
       " 'Hare',\n",
       " 'the',\n",
       " 'Lyon',\n",
       " 'If',\n",
       " 'I',\n",
       " 'say',\n",
       " 'sooth',\n",
       " 'I',\n",
       " 'must',\n",
       " 'report',\n",
       " 'they',\n",
       " 'were',\n",
       " 'As',\n",
       " 'Cannons',\n",
       " 'ouer',\n",
       " \"charg'd\",\n",
       " 'with',\n",
       " 'double',\n",
       " 'Cracks',\n",
       " 'So',\n",
       " 'they',\n",
       " 'doubly',\n",
       " 'redoubled',\n",
       " 'stroakes',\n",
       " 'vpon',\n",
       " 'the',\n",
       " 'Foe',\n",
       " 'Except',\n",
       " 'they',\n",
       " 'meant',\n",
       " 'to',\n",
       " 'bathe',\n",
       " 'in',\n",
       " 'reeking',\n",
       " 'Wounds',\n",
       " 'Or',\n",
       " 'memorize',\n",
       " 'another',\n",
       " 'Golgotha',\n",
       " 'I',\n",
       " 'cannot',\n",
       " 'tell',\n",
       " 'but',\n",
       " 'I',\n",
       " 'am',\n",
       " 'faint',\n",
       " 'My',\n",
       " 'Gashes',\n",
       " 'cry',\n",
       " 'for',\n",
       " 'helpe',\n",
       " 'King',\n",
       " 'So',\n",
       " 'well',\n",
       " 'thy',\n",
       " 'words',\n",
       " 'become',\n",
       " 'thee',\n",
       " 'as',\n",
       " 'thy',\n",
       " 'wounds',\n",
       " 'They',\n",
       " 'smack',\n",
       " 'of',\n",
       " 'Honor',\n",
       " 'both',\n",
       " 'Goe',\n",
       " 'get',\n",
       " 'him',\n",
       " 'Surgeons',\n",
       " 'Enter',\n",
       " 'Rosse',\n",
       " 'and',\n",
       " 'Angus',\n",
       " 'Who',\n",
       " 'comes',\n",
       " 'here',\n",
       " 'Mal',\n",
       " 'The',\n",
       " 'worthy',\n",
       " 'Thane',\n",
       " 'of',\n",
       " 'Rosse',\n",
       " 'Lenox',\n",
       " 'What',\n",
       " 'a',\n",
       " 'haste',\n",
       " 'lookes',\n",
       " 'through',\n",
       " 'his',\n",
       " 'eyes',\n",
       " 'So',\n",
       " 'should',\n",
       " 'he',\n",
       " 'looke',\n",
       " 'that',\n",
       " 'seemes',\n",
       " 'to',\n",
       " 'speake',\n",
       " 'things',\n",
       " 'strange',\n",
       " 'Rosse',\n",
       " 'God',\n",
       " 'saue',\n",
       " 'the',\n",
       " 'King',\n",
       " 'King',\n",
       " 'Whence',\n",
       " \"cam'st\",\n",
       " 'thou',\n",
       " 'worthy',\n",
       " 'Thane',\n",
       " 'Rosse',\n",
       " 'From',\n",
       " 'Fiffe',\n",
       " 'great',\n",
       " 'King',\n",
       " 'Where',\n",
       " 'the',\n",
       " 'Norweyan',\n",
       " 'Banners',\n",
       " 'flowt',\n",
       " 'the',\n",
       " 'Skie',\n",
       " 'And',\n",
       " 'fanne',\n",
       " 'our',\n",
       " 'people',\n",
       " 'cold',\n",
       " 'Norway',\n",
       " 'himselfe',\n",
       " 'with',\n",
       " 'terrible',\n",
       " 'numbers',\n",
       " 'Assisted',\n",
       " 'by',\n",
       " 'that',\n",
       " 'most',\n",
       " 'disloyall',\n",
       " 'Traytor',\n",
       " 'The',\n",
       " 'Thane',\n",
       " 'of',\n",
       " 'Cawdor',\n",
       " 'began',\n",
       " 'a',\n",
       " 'dismall',\n",
       " 'Conflict',\n",
       " 'Till',\n",
       " 'that',\n",
       " \"Bellona's\",\n",
       " 'Bridegroome',\n",
       " 'lapt',\n",
       " 'in',\n",
       " 'proofe',\n",
       " 'Confronted',\n",
       " 'him',\n",
       " 'with',\n",
       " 'selfe',\n",
       " 'comparisons',\n",
       " 'Point',\n",
       " 'against',\n",
       " 'Point',\n",
       " 'rebellious',\n",
       " 'Arme',\n",
       " 'gainst',\n",
       " 'Arme',\n",
       " 'Curbing',\n",
       " 'his',\n",
       " 'lauish',\n",
       " 'spirit',\n",
       " 'and',\n",
       " 'to',\n",
       " 'conclude',\n",
       " 'The',\n",
       " 'Victorie',\n",
       " 'fell',\n",
       " 'on',\n",
       " 'vs',\n",
       " 'King',\n",
       " 'Great',\n",
       " 'happinesse',\n",
       " 'Rosse',\n",
       " 'That',\n",
       " 'now',\n",
       " 'Sweno',\n",
       " 'the',\n",
       " 'Norwayes',\n",
       " 'King',\n",
       " 'Craues',\n",
       " 'composition',\n",
       " 'Nor',\n",
       " 'would',\n",
       " 'we',\n",
       " 'deigne',\n",
       " 'him',\n",
       " 'buriall',\n",
       " 'of',\n",
       " 'his',\n",
       " 'men',\n",
       " 'Till',\n",
       " 'he',\n",
       " 'disbursed',\n",
       " 'at',\n",
       " 'Saint',\n",
       " 'Colmes',\n",
       " 'ynch',\n",
       " 'Ten',\n",
       " 'thousand',\n",
       " 'Dollars',\n",
       " 'to',\n",
       " 'our',\n",
       " 'generall',\n",
       " 'vse',\n",
       " 'King',\n",
       " 'No',\n",
       " 'more',\n",
       " 'that',\n",
       " 'Thane',\n",
       " 'of',\n",
       " 'Cawdor',\n",
       " 'shall',\n",
       " 'deceiue',\n",
       " 'Our',\n",
       " 'Bosome',\n",
       " 'interest',\n",
       " 'Goe',\n",
       " 'pronounce',\n",
       " 'his',\n",
       " 'present',\n",
       " 'death',\n",
       " 'And',\n",
       " 'with',\n",
       " 'his',\n",
       " 'former',\n",
       " 'Title',\n",
       " 'greet',\n",
       " 'Macbeth',\n",
       " 'Rosse',\n",
       " 'Ile',\n",
       " 'see',\n",
       " 'it',\n",
       " 'done',\n",
       " 'King',\n",
       " 'What',\n",
       " 'he',\n",
       " 'hath',\n",
       " 'lost',\n",
       " 'Noble',\n",
       " 'Macbeth',\n",
       " 'hath',\n",
       " 'wonne',\n",
       " 'Exeunt',\n",
       " 'Scena',\n",
       " 'Tertia',\n",
       " 'Thunder',\n",
       " 'Enter',\n",
       " 'the',\n",
       " 'three',\n",
       " 'Witches',\n",
       " 'Where',\n",
       " 'hast',\n",
       " 'thou',\n",
       " 'beene',\n",
       " 'Sister',\n",
       " 'Killing',\n",
       " 'Swine',\n",
       " 'Sister',\n",
       " 'where',\n",
       " 'thou',\n",
       " 'A',\n",
       " 'Saylors',\n",
       " 'Wife',\n",
       " 'had',\n",
       " 'Chestnuts',\n",
       " 'in',\n",
       " 'her',\n",
       " 'Lappe',\n",
       " 'And',\n",
       " 'mouncht',\n",
       " 'mouncht',\n",
       " 'and',\n",
       " 'mouncht',\n",
       " 'Giue',\n",
       " 'me',\n",
       " 'quoth',\n",
       " 'I',\n",
       " 'Aroynt',\n",
       " 'thee',\n",
       " 'Witch',\n",
       " 'the',\n",
       " 'rumpe',\n",
       " 'fed',\n",
       " 'Ronyon',\n",
       " 'cryes',\n",
       " 'Her',\n",
       " \"Husband's\",\n",
       " 'to',\n",
       " 'Aleppo',\n",
       " 'gone',\n",
       " 'Master',\n",
       " \"o'th\",\n",
       " 'Tiger',\n",
       " 'But',\n",
       " 'in',\n",
       " 'a',\n",
       " 'Syue',\n",
       " 'Ile',\n",
       " 'thither',\n",
       " 'sayle',\n",
       " 'And',\n",
       " 'like',\n",
       " 'a',\n",
       " 'Rat',\n",
       " 'without',\n",
       " 'a',\n",
       " 'tayle',\n",
       " 'Ile',\n",
       " 'doe',\n",
       " 'Ile',\n",
       " 'doe',\n",
       " 'and',\n",
       " 'Ile',\n",
       " 'doe',\n",
       " 'Ile',\n",
       " 'giue',\n",
       " 'thee',\n",
       " 'a',\n",
       " 'Winde',\n",
       " \"Th'art\",\n",
       " 'kinde',\n",
       " 'And',\n",
       " 'I',\n",
       " 'another',\n",
       " 'I',\n",
       " 'my',\n",
       " 'selfe',\n",
       " 'haue',\n",
       " 'all',\n",
       " 'the',\n",
       " 'other',\n",
       " 'And',\n",
       " 'the',\n",
       " 'very',\n",
       " 'Ports',\n",
       " 'they',\n",
       " 'blow',\n",
       " 'All',\n",
       " 'the',\n",
       " 'Quarters',\n",
       " 'that',\n",
       " 'they',\n",
       " 'know',\n",
       " \"I'th\",\n",
       " 'Ship',\n",
       " 'mans',\n",
       " 'Card',\n",
       " 'Ile',\n",
       " 'dreyne',\n",
       " 'him',\n",
       " 'drie',\n",
       " 'as',\n",
       " 'Hay',\n",
       " 'Sleepe',\n",
       " 'shall',\n",
       " 'neyther',\n",
       " 'Night',\n",
       " 'nor',\n",
       " 'Day',\n",
       " 'Hang',\n",
       " 'vpon',\n",
       " 'his',\n",
       " 'Pent',\n",
       " 'house',\n",
       " 'Lid',\n",
       " 'He',\n",
       " 'shall',\n",
       " 'liue',\n",
       " 'a',\n",
       " 'man',\n",
       " 'forbid',\n",
       " 'Wearie',\n",
       " \"Seu'nights\",\n",
       " 'nine',\n",
       " 'times',\n",
       " 'nine',\n",
       " 'Shall',\n",
       " 'he',\n",
       " 'dwindle',\n",
       " 'peake',\n",
       " 'and',\n",
       " 'pine',\n",
       " 'Though',\n",
       " 'his',\n",
       " 'Barke',\n",
       " 'cannot',\n",
       " 'be',\n",
       " 'lost',\n",
       " 'Yet',\n",
       " 'it',\n",
       " 'shall',\n",
       " 'be',\n",
       " 'Tempest',\n",
       " 'tost',\n",
       " 'Looke',\n",
       " 'what',\n",
       " 'I',\n",
       " 'haue',\n",
       " 'Shew',\n",
       " 'me',\n",
       " 'shew',\n",
       " 'me',\n",
       " 'Here',\n",
       " 'I',\n",
       " 'haue',\n",
       " 'a',\n",
       " 'Pilots',\n",
       " 'Thumbe',\n",
       " 'Wrackt',\n",
       " 'as',\n",
       " 'homeward',\n",
       " 'he',\n",
       " 'did',\n",
       " 'come',\n",
       " 'Drum',\n",
       " 'within',\n",
       " 'A',\n",
       " 'Drumme',\n",
       " 'a',\n",
       " 'Drumme',\n",
       " 'Macbeth',\n",
       " 'doth',\n",
       " 'come',\n",
       " 'All',\n",
       " 'The',\n",
       " 'weyward',\n",
       " 'Sisters',\n",
       " 'hand',\n",
       " 'in',\n",
       " 'hand',\n",
       " 'Posters',\n",
       " 'of',\n",
       " 'the',\n",
       " 'Sea',\n",
       " 'and',\n",
       " 'Land',\n",
       " 'Thus',\n",
       " 'doe',\n",
       " 'goe',\n",
       " 'about',\n",
       " 'about',\n",
       " 'Thrice',\n",
       " 'to',\n",
       " 'thine',\n",
       " 'and',\n",
       " 'thrice',\n",
       " 'to',\n",
       " 'mine',\n",
       " 'And',\n",
       " 'thrice',\n",
       " 'againe',\n",
       " 'to',\n",
       " 'make',\n",
       " 'vp',\n",
       " 'nine',\n",
       " 'Peace',\n",
       " 'the',\n",
       " \"Charme's\",\n",
       " 'wound',\n",
       " 'vp',\n",
       " 'Enter',\n",
       " 'Macbeth',\n",
       " 'and',\n",
       " 'Banquo',\n",
       " 'Macb',\n",
       " 'So',\n",
       " 'foule',\n",
       " 'and',\n",
       " 'faire',\n",
       " 'a',\n",
       " 'day',\n",
       " 'I',\n",
       " 'haue',\n",
       " 'not',\n",
       " 'seene',\n",
       " 'Banquo',\n",
       " 'How',\n",
       " 'farre',\n",
       " \"is't\",\n",
       " \"call'd\",\n",
       " 'to',\n",
       " 'Soris',\n",
       " 'What',\n",
       " 'are',\n",
       " 'these',\n",
       " 'So',\n",
       " \"wither'd\",\n",
       " 'and',\n",
       " 'so',\n",
       " 'wilde',\n",
       " 'in',\n",
       " 'their',\n",
       " 'attyre',\n",
       " 'That',\n",
       " 'looke',\n",
       " 'not',\n",
       " 'like',\n",
       " 'th',\n",
       " 'Inhabitants',\n",
       " \"o'th\",\n",
       " 'Earth',\n",
       " 'And',\n",
       " 'yet',\n",
       " 'are',\n",
       " \"on't\",\n",
       " 'Liue',\n",
       " 'you',\n",
       " 'or',\n",
       " 'are',\n",
       " 'you',\n",
       " 'aught',\n",
       " 'That',\n",
       " 'man',\n",
       " 'may',\n",
       " 'question',\n",
       " 'you',\n",
       " 'seeme',\n",
       " 'to',\n",
       " 'vnderstand',\n",
       " 'me',\n",
       " 'By',\n",
       " 'each',\n",
       " 'at',\n",
       " 'once',\n",
       " 'her',\n",
       " 'choppie',\n",
       " 'finger',\n",
       " 'laying',\n",
       " 'Vpon',\n",
       " 'her',\n",
       " 'skinnie',\n",
       " 'Lips',\n",
       " 'you',\n",
       " 'should',\n",
       " 'be',\n",
       " 'Women',\n",
       " 'And',\n",
       " 'yet',\n",
       " 'your',\n",
       " 'Beards',\n",
       " 'forbid',\n",
       " 'me',\n",
       " 'to',\n",
       " 'interprete',\n",
       " 'That',\n",
       " 'you',\n",
       " 'are',\n",
       " 'so',\n",
       " 'Mac',\n",
       " 'Speake',\n",
       " 'if',\n",
       " 'you',\n",
       " 'can',\n",
       " 'what',\n",
       " 'are',\n",
       " 'you',\n",
       " 'All',\n",
       " 'haile',\n",
       " 'Macbeth',\n",
       " 'haile',\n",
       " 'to',\n",
       " 'thee',\n",
       " 'Thane',\n",
       " 'of',\n",
       " 'Glamis',\n",
       " 'All',\n",
       " 'haile',\n",
       " 'Macbeth',\n",
       " 'haile',\n",
       " 'to',\n",
       " 'thee',\n",
       " 'Thane',\n",
       " 'of',\n",
       " 'Cawdor',\n",
       " 'All',\n",
       " 'haile',\n",
       " 'Macbeth',\n",
       " 'that',\n",
       " 'shalt',\n",
       " 'be',\n",
       " 'King',\n",
       " 'hereafter',\n",
       " 'Banq',\n",
       " 'Good',\n",
       " 'Sir',\n",
       " 'why',\n",
       " 'doe',\n",
       " 'you',\n",
       " 'start',\n",
       " 'and',\n",
       " 'seeme',\n",
       " 'to',\n",
       " 'feare',\n",
       " 'Things',\n",
       " 'that',\n",
       " 'doe',\n",
       " 'sound',\n",
       " 'so',\n",
       " 'faire',\n",
       " \"i'th\",\n",
       " 'name',\n",
       " 'of',\n",
       " 'truth',\n",
       " 'Are',\n",
       " 'ye',\n",
       " 'fantasticall',\n",
       " 'or',\n",
       " 'that',\n",
       " 'indeed',\n",
       " 'Which',\n",
       " 'outwardly',\n",
       " 'ye',\n",
       " 'shew',\n",
       " 'My',\n",
       " 'Noble',\n",
       " 'Partner',\n",
       " 'You',\n",
       " 'greet',\n",
       " 'with',\n",
       " 'present',\n",
       " 'Grace',\n",
       " 'and',\n",
       " 'great',\n",
       " 'prediction',\n",
       " 'Of',\n",
       " 'Noble',\n",
       " 'hauing',\n",
       " 'and',\n",
       " 'of',\n",
       " 'Royall',\n",
       " 'hope',\n",
       " 'That',\n",
       " 'he',\n",
       " 'seemes',\n",
       " 'wrapt',\n",
       " 'withall',\n",
       " 'to',\n",
       " 'me',\n",
       " ...]"
      ]
     },
     "execution_count": 6,
     "metadata": {},
     "output_type": "execute_result"
    }
   ],
   "source": [
    "pattern = \"([a-zA-Z]+(?:'[a-z]+)?)\"\n",
    "macbeth_tokens_raw = nltk.regexp_tokenize(macbeth_text,pattern)\n",
    "macbeth_tokens_raw"
   ]
  },
  {
   "cell_type": "code",
   "execution_count": 7,
   "metadata": {
    "ExecuteTime": {
     "end_time": "2021-05-15T15:28:46.918141Z",
     "start_time": "2021-05-15T15:28:46.895262Z"
    },
    "hidden": true
   },
   "outputs": [
    {
     "data": {
      "text/plain": [
       "['the',\n",
       " 'tragedie',\n",
       " 'of',\n",
       " 'macbeth',\n",
       " 'by',\n",
       " 'william',\n",
       " 'shakespeare',\n",
       " 'actus',\n",
       " 'primus',\n",
       " 'scoena',\n",
       " 'prima',\n",
       " 'thunder',\n",
       " 'and',\n",
       " 'lightning',\n",
       " 'enter',\n",
       " 'three',\n",
       " 'witches',\n",
       " 'when',\n",
       " 'shall',\n",
       " 'we',\n",
       " 'three',\n",
       " 'meet',\n",
       " 'againe',\n",
       " 'in',\n",
       " 'thunder',\n",
       " 'lightning',\n",
       " 'or',\n",
       " 'in',\n",
       " 'raine',\n",
       " 'when',\n",
       " 'the',\n",
       " 'hurley',\n",
       " \"burley's\",\n",
       " 'done',\n",
       " 'when',\n",
       " 'the',\n",
       " \"battaile's\",\n",
       " 'lost',\n",
       " 'and',\n",
       " 'wonne',\n",
       " 'that',\n",
       " 'will',\n",
       " 'be',\n",
       " 'ere',\n",
       " 'the',\n",
       " 'set',\n",
       " 'of',\n",
       " 'sunne',\n",
       " 'where',\n",
       " 'the',\n",
       " 'place',\n",
       " 'vpon',\n",
       " 'the',\n",
       " 'heath',\n",
       " 'there',\n",
       " 'to',\n",
       " 'meet',\n",
       " 'with',\n",
       " 'macbeth',\n",
       " 'i',\n",
       " 'come',\n",
       " 'gray',\n",
       " 'malkin',\n",
       " 'all',\n",
       " 'padock',\n",
       " 'calls',\n",
       " 'anon',\n",
       " 'faire',\n",
       " 'is',\n",
       " 'foule',\n",
       " 'and',\n",
       " 'foule',\n",
       " 'is',\n",
       " 'faire',\n",
       " 'houer',\n",
       " 'through',\n",
       " 'the',\n",
       " 'fogge',\n",
       " 'and',\n",
       " 'filthie',\n",
       " 'ayre',\n",
       " 'exeunt',\n",
       " 'scena',\n",
       " 'secunda',\n",
       " 'alarum',\n",
       " 'within',\n",
       " 'enter',\n",
       " 'king',\n",
       " 'malcome',\n",
       " 'donalbaine',\n",
       " 'lenox',\n",
       " 'with',\n",
       " 'attendants',\n",
       " 'meeting',\n",
       " 'a',\n",
       " 'bleeding',\n",
       " 'captaine',\n",
       " 'king',\n",
       " 'what',\n",
       " 'bloody',\n",
       " 'man',\n",
       " 'is',\n",
       " 'that',\n",
       " 'he',\n",
       " 'can',\n",
       " 'report',\n",
       " 'as',\n",
       " 'seemeth',\n",
       " 'by',\n",
       " 'his',\n",
       " 'plight',\n",
       " 'of',\n",
       " 'the',\n",
       " 'reuolt',\n",
       " 'the',\n",
       " 'newest',\n",
       " 'state',\n",
       " 'mal',\n",
       " 'this',\n",
       " 'is',\n",
       " 'the',\n",
       " 'serieant',\n",
       " 'who',\n",
       " 'like',\n",
       " 'a',\n",
       " 'good',\n",
       " 'and',\n",
       " 'hardie',\n",
       " 'souldier',\n",
       " 'fought',\n",
       " 'gainst',\n",
       " 'my',\n",
       " 'captiuitie',\n",
       " 'haile',\n",
       " 'braue',\n",
       " 'friend',\n",
       " 'say',\n",
       " 'to',\n",
       " 'the',\n",
       " 'king',\n",
       " 'the',\n",
       " 'knowledge',\n",
       " 'of',\n",
       " 'the',\n",
       " 'broyle',\n",
       " 'as',\n",
       " 'thou',\n",
       " 'didst',\n",
       " 'leaue',\n",
       " 'it',\n",
       " 'cap',\n",
       " 'doubtfull',\n",
       " 'it',\n",
       " 'stood',\n",
       " 'as',\n",
       " 'two',\n",
       " 'spent',\n",
       " 'swimmers',\n",
       " 'that',\n",
       " 'doe',\n",
       " 'cling',\n",
       " 'together',\n",
       " 'and',\n",
       " 'choake',\n",
       " 'their',\n",
       " 'art',\n",
       " 'the',\n",
       " 'mercilesse',\n",
       " 'macdonwald',\n",
       " 'worthie',\n",
       " 'to',\n",
       " 'be',\n",
       " 'a',\n",
       " 'rebell',\n",
       " 'for',\n",
       " 'to',\n",
       " 'that',\n",
       " 'the',\n",
       " 'multiplying',\n",
       " 'villanies',\n",
       " 'of',\n",
       " 'nature',\n",
       " 'doe',\n",
       " 'swarme',\n",
       " 'vpon',\n",
       " 'him',\n",
       " 'from',\n",
       " 'the',\n",
       " 'westerne',\n",
       " 'isles',\n",
       " 'of',\n",
       " 'kernes',\n",
       " 'and',\n",
       " 'gallowgrosses',\n",
       " 'is',\n",
       " \"supply'd\",\n",
       " 'and',\n",
       " 'fortune',\n",
       " 'on',\n",
       " 'his',\n",
       " 'damned',\n",
       " 'quarry',\n",
       " 'smiling',\n",
       " \"shew'd\",\n",
       " 'like',\n",
       " 'a',\n",
       " 'rebells',\n",
       " 'whore',\n",
       " 'but',\n",
       " \"all's\",\n",
       " 'too',\n",
       " 'weake',\n",
       " 'for',\n",
       " 'braue',\n",
       " 'macbeth',\n",
       " 'well',\n",
       " 'hee',\n",
       " 'deserues',\n",
       " 'that',\n",
       " 'name',\n",
       " 'disdayning',\n",
       " 'fortune',\n",
       " 'with',\n",
       " 'his',\n",
       " 'brandisht',\n",
       " 'steele',\n",
       " 'which',\n",
       " \"smoak'd\",\n",
       " 'with',\n",
       " 'bloody',\n",
       " 'execution',\n",
       " 'like',\n",
       " 'valours',\n",
       " 'minion',\n",
       " \"caru'd\",\n",
       " 'out',\n",
       " 'his',\n",
       " 'passage',\n",
       " 'till',\n",
       " 'hee',\n",
       " \"fac'd\",\n",
       " 'the',\n",
       " 'slaue',\n",
       " 'which',\n",
       " \"neu'r\",\n",
       " 'shooke',\n",
       " 'hands',\n",
       " 'nor',\n",
       " 'bad',\n",
       " 'farwell',\n",
       " 'to',\n",
       " 'him',\n",
       " 'till',\n",
       " 'he',\n",
       " \"vnseam'd\",\n",
       " 'him',\n",
       " 'from',\n",
       " 'the',\n",
       " 'naue',\n",
       " 'toth',\n",
       " 'chops',\n",
       " 'and',\n",
       " \"fix'd\",\n",
       " 'his',\n",
       " 'head',\n",
       " 'vpon',\n",
       " 'our',\n",
       " 'battlements',\n",
       " 'king',\n",
       " 'o',\n",
       " 'valiant',\n",
       " 'cousin',\n",
       " 'worthy',\n",
       " 'gentleman',\n",
       " 'cap',\n",
       " 'as',\n",
       " 'whence',\n",
       " 'the',\n",
       " 'sunne',\n",
       " 'gins',\n",
       " 'his',\n",
       " 'reflection',\n",
       " 'shipwracking',\n",
       " 'stormes',\n",
       " 'and',\n",
       " 'direfull',\n",
       " 'thunders',\n",
       " 'so',\n",
       " 'from',\n",
       " 'that',\n",
       " 'spring',\n",
       " 'whence',\n",
       " 'comfort',\n",
       " \"seem'd\",\n",
       " 'to',\n",
       " 'come',\n",
       " 'discomfort',\n",
       " 'swells',\n",
       " 'marke',\n",
       " 'king',\n",
       " 'of',\n",
       " 'scotland',\n",
       " 'marke',\n",
       " 'no',\n",
       " 'sooner',\n",
       " 'iustice',\n",
       " 'had',\n",
       " 'with',\n",
       " 'valour',\n",
       " \"arm'd\",\n",
       " \"compell'd\",\n",
       " 'these',\n",
       " 'skipping',\n",
       " 'kernes',\n",
       " 'to',\n",
       " 'trust',\n",
       " 'their',\n",
       " 'heeles',\n",
       " 'but',\n",
       " 'the',\n",
       " 'norweyan',\n",
       " 'lord',\n",
       " 'surueying',\n",
       " 'vantage',\n",
       " 'with',\n",
       " 'furbusht',\n",
       " 'armes',\n",
       " 'and',\n",
       " 'new',\n",
       " 'supplyes',\n",
       " 'of',\n",
       " 'men',\n",
       " 'began',\n",
       " 'a',\n",
       " 'fresh',\n",
       " 'assault',\n",
       " 'king',\n",
       " \"dismay'd\",\n",
       " 'not',\n",
       " 'this',\n",
       " 'our',\n",
       " 'captaines',\n",
       " 'macbeth',\n",
       " 'and',\n",
       " 'banquoh',\n",
       " 'cap',\n",
       " 'yes',\n",
       " 'as',\n",
       " 'sparrowes',\n",
       " 'eagles',\n",
       " 'or',\n",
       " 'the',\n",
       " 'hare',\n",
       " 'the',\n",
       " 'lyon',\n",
       " 'if',\n",
       " 'i',\n",
       " 'say',\n",
       " 'sooth',\n",
       " 'i',\n",
       " 'must',\n",
       " 'report',\n",
       " 'they',\n",
       " 'were',\n",
       " 'as',\n",
       " 'cannons',\n",
       " 'ouer',\n",
       " \"charg'd\",\n",
       " 'with',\n",
       " 'double',\n",
       " 'cracks',\n",
       " 'so',\n",
       " 'they',\n",
       " 'doubly',\n",
       " 'redoubled',\n",
       " 'stroakes',\n",
       " 'vpon',\n",
       " 'the',\n",
       " 'foe',\n",
       " 'except',\n",
       " 'they',\n",
       " 'meant',\n",
       " 'to',\n",
       " 'bathe',\n",
       " 'in',\n",
       " 'reeking',\n",
       " 'wounds',\n",
       " 'or',\n",
       " 'memorize',\n",
       " 'another',\n",
       " 'golgotha',\n",
       " 'i',\n",
       " 'cannot',\n",
       " 'tell',\n",
       " 'but',\n",
       " 'i',\n",
       " 'am',\n",
       " 'faint',\n",
       " 'my',\n",
       " 'gashes',\n",
       " 'cry',\n",
       " 'for',\n",
       " 'helpe',\n",
       " 'king',\n",
       " 'so',\n",
       " 'well',\n",
       " 'thy',\n",
       " 'words',\n",
       " 'become',\n",
       " 'thee',\n",
       " 'as',\n",
       " 'thy',\n",
       " 'wounds',\n",
       " 'they',\n",
       " 'smack',\n",
       " 'of',\n",
       " 'honor',\n",
       " 'both',\n",
       " 'goe',\n",
       " 'get',\n",
       " 'him',\n",
       " 'surgeons',\n",
       " 'enter',\n",
       " 'rosse',\n",
       " 'and',\n",
       " 'angus',\n",
       " 'who',\n",
       " 'comes',\n",
       " 'here',\n",
       " 'mal',\n",
       " 'the',\n",
       " 'worthy',\n",
       " 'thane',\n",
       " 'of',\n",
       " 'rosse',\n",
       " 'lenox',\n",
       " 'what',\n",
       " 'a',\n",
       " 'haste',\n",
       " 'lookes',\n",
       " 'through',\n",
       " 'his',\n",
       " 'eyes',\n",
       " 'so',\n",
       " 'should',\n",
       " 'he',\n",
       " 'looke',\n",
       " 'that',\n",
       " 'seemes',\n",
       " 'to',\n",
       " 'speake',\n",
       " 'things',\n",
       " 'strange',\n",
       " 'rosse',\n",
       " 'god',\n",
       " 'saue',\n",
       " 'the',\n",
       " 'king',\n",
       " 'king',\n",
       " 'whence',\n",
       " \"cam'st\",\n",
       " 'thou',\n",
       " 'worthy',\n",
       " 'thane',\n",
       " 'rosse',\n",
       " 'from',\n",
       " 'fiffe',\n",
       " 'great',\n",
       " 'king',\n",
       " 'where',\n",
       " 'the',\n",
       " 'norweyan',\n",
       " 'banners',\n",
       " 'flowt',\n",
       " 'the',\n",
       " 'skie',\n",
       " 'and',\n",
       " 'fanne',\n",
       " 'our',\n",
       " 'people',\n",
       " 'cold',\n",
       " 'norway',\n",
       " 'himselfe',\n",
       " 'with',\n",
       " 'terrible',\n",
       " 'numbers',\n",
       " 'assisted',\n",
       " 'by',\n",
       " 'that',\n",
       " 'most',\n",
       " 'disloyall',\n",
       " 'traytor',\n",
       " 'the',\n",
       " 'thane',\n",
       " 'of',\n",
       " 'cawdor',\n",
       " 'began',\n",
       " 'a',\n",
       " 'dismall',\n",
       " 'conflict',\n",
       " 'till',\n",
       " 'that',\n",
       " \"bellona's\",\n",
       " 'bridegroome',\n",
       " 'lapt',\n",
       " 'in',\n",
       " 'proofe',\n",
       " 'confronted',\n",
       " 'him',\n",
       " 'with',\n",
       " 'selfe',\n",
       " 'comparisons',\n",
       " 'point',\n",
       " 'against',\n",
       " 'point',\n",
       " 'rebellious',\n",
       " 'arme',\n",
       " 'gainst',\n",
       " 'arme',\n",
       " 'curbing',\n",
       " 'his',\n",
       " 'lauish',\n",
       " 'spirit',\n",
       " 'and',\n",
       " 'to',\n",
       " 'conclude',\n",
       " 'the',\n",
       " 'victorie',\n",
       " 'fell',\n",
       " 'on',\n",
       " 'vs',\n",
       " 'king',\n",
       " 'great',\n",
       " 'happinesse',\n",
       " 'rosse',\n",
       " 'that',\n",
       " 'now',\n",
       " 'sweno',\n",
       " 'the',\n",
       " 'norwayes',\n",
       " 'king',\n",
       " 'craues',\n",
       " 'composition',\n",
       " 'nor',\n",
       " 'would',\n",
       " 'we',\n",
       " 'deigne',\n",
       " 'him',\n",
       " 'buriall',\n",
       " 'of',\n",
       " 'his',\n",
       " 'men',\n",
       " 'till',\n",
       " 'he',\n",
       " 'disbursed',\n",
       " 'at',\n",
       " 'saint',\n",
       " 'colmes',\n",
       " 'ynch',\n",
       " 'ten',\n",
       " 'thousand',\n",
       " 'dollars',\n",
       " 'to',\n",
       " 'our',\n",
       " 'generall',\n",
       " 'vse',\n",
       " 'king',\n",
       " 'no',\n",
       " 'more',\n",
       " 'that',\n",
       " 'thane',\n",
       " 'of',\n",
       " 'cawdor',\n",
       " 'shall',\n",
       " 'deceiue',\n",
       " 'our',\n",
       " 'bosome',\n",
       " 'interest',\n",
       " 'goe',\n",
       " 'pronounce',\n",
       " 'his',\n",
       " 'present',\n",
       " 'death',\n",
       " 'and',\n",
       " 'with',\n",
       " 'his',\n",
       " 'former',\n",
       " 'title',\n",
       " 'greet',\n",
       " 'macbeth',\n",
       " 'rosse',\n",
       " 'ile',\n",
       " 'see',\n",
       " 'it',\n",
       " 'done',\n",
       " 'king',\n",
       " 'what',\n",
       " 'he',\n",
       " 'hath',\n",
       " 'lost',\n",
       " 'noble',\n",
       " 'macbeth',\n",
       " 'hath',\n",
       " 'wonne',\n",
       " 'exeunt',\n",
       " 'scena',\n",
       " 'tertia',\n",
       " 'thunder',\n",
       " 'enter',\n",
       " 'the',\n",
       " 'three',\n",
       " 'witches',\n",
       " 'where',\n",
       " 'hast',\n",
       " 'thou',\n",
       " 'beene',\n",
       " 'sister',\n",
       " 'killing',\n",
       " 'swine',\n",
       " 'sister',\n",
       " 'where',\n",
       " 'thou',\n",
       " 'a',\n",
       " 'saylors',\n",
       " 'wife',\n",
       " 'had',\n",
       " 'chestnuts',\n",
       " 'in',\n",
       " 'her',\n",
       " 'lappe',\n",
       " 'and',\n",
       " 'mouncht',\n",
       " 'mouncht',\n",
       " 'and',\n",
       " 'mouncht',\n",
       " 'giue',\n",
       " 'me',\n",
       " 'quoth',\n",
       " 'i',\n",
       " 'aroynt',\n",
       " 'thee',\n",
       " 'witch',\n",
       " 'the',\n",
       " 'rumpe',\n",
       " 'fed',\n",
       " 'ronyon',\n",
       " 'cryes',\n",
       " 'her',\n",
       " \"husband's\",\n",
       " 'to',\n",
       " 'aleppo',\n",
       " 'gone',\n",
       " 'master',\n",
       " \"o'th\",\n",
       " 'tiger',\n",
       " 'but',\n",
       " 'in',\n",
       " 'a',\n",
       " 'syue',\n",
       " 'ile',\n",
       " 'thither',\n",
       " 'sayle',\n",
       " 'and',\n",
       " 'like',\n",
       " 'a',\n",
       " 'rat',\n",
       " 'without',\n",
       " 'a',\n",
       " 'tayle',\n",
       " 'ile',\n",
       " 'doe',\n",
       " 'ile',\n",
       " 'doe',\n",
       " 'and',\n",
       " 'ile',\n",
       " 'doe',\n",
       " 'ile',\n",
       " 'giue',\n",
       " 'thee',\n",
       " 'a',\n",
       " 'winde',\n",
       " \"th'art\",\n",
       " 'kinde',\n",
       " 'and',\n",
       " 'i',\n",
       " 'another',\n",
       " 'i',\n",
       " 'my',\n",
       " 'selfe',\n",
       " 'haue',\n",
       " 'all',\n",
       " 'the',\n",
       " 'other',\n",
       " 'and',\n",
       " 'the',\n",
       " 'very',\n",
       " 'ports',\n",
       " 'they',\n",
       " 'blow',\n",
       " 'all',\n",
       " 'the',\n",
       " 'quarters',\n",
       " 'that',\n",
       " 'they',\n",
       " 'know',\n",
       " \"i'th\",\n",
       " 'ship',\n",
       " 'mans',\n",
       " 'card',\n",
       " 'ile',\n",
       " 'dreyne',\n",
       " 'him',\n",
       " 'drie',\n",
       " 'as',\n",
       " 'hay',\n",
       " 'sleepe',\n",
       " 'shall',\n",
       " 'neyther',\n",
       " 'night',\n",
       " 'nor',\n",
       " 'day',\n",
       " 'hang',\n",
       " 'vpon',\n",
       " 'his',\n",
       " 'pent',\n",
       " 'house',\n",
       " 'lid',\n",
       " 'he',\n",
       " 'shall',\n",
       " 'liue',\n",
       " 'a',\n",
       " 'man',\n",
       " 'forbid',\n",
       " 'wearie',\n",
       " \"seu'nights\",\n",
       " 'nine',\n",
       " 'times',\n",
       " 'nine',\n",
       " 'shall',\n",
       " 'he',\n",
       " 'dwindle',\n",
       " 'peake',\n",
       " 'and',\n",
       " 'pine',\n",
       " 'though',\n",
       " 'his',\n",
       " 'barke',\n",
       " 'cannot',\n",
       " 'be',\n",
       " 'lost',\n",
       " 'yet',\n",
       " 'it',\n",
       " 'shall',\n",
       " 'be',\n",
       " 'tempest',\n",
       " 'tost',\n",
       " 'looke',\n",
       " 'what',\n",
       " 'i',\n",
       " 'haue',\n",
       " 'shew',\n",
       " 'me',\n",
       " 'shew',\n",
       " 'me',\n",
       " 'here',\n",
       " 'i',\n",
       " 'haue',\n",
       " 'a',\n",
       " 'pilots',\n",
       " 'thumbe',\n",
       " 'wrackt',\n",
       " 'as',\n",
       " 'homeward',\n",
       " 'he',\n",
       " 'did',\n",
       " 'come',\n",
       " 'drum',\n",
       " 'within',\n",
       " 'a',\n",
       " 'drumme',\n",
       " 'a',\n",
       " 'drumme',\n",
       " 'macbeth',\n",
       " 'doth',\n",
       " 'come',\n",
       " 'all',\n",
       " 'the',\n",
       " 'weyward',\n",
       " 'sisters',\n",
       " 'hand',\n",
       " 'in',\n",
       " 'hand',\n",
       " 'posters',\n",
       " 'of',\n",
       " 'the',\n",
       " 'sea',\n",
       " 'and',\n",
       " 'land',\n",
       " 'thus',\n",
       " 'doe',\n",
       " 'goe',\n",
       " 'about',\n",
       " 'about',\n",
       " 'thrice',\n",
       " 'to',\n",
       " 'thine',\n",
       " 'and',\n",
       " 'thrice',\n",
       " 'to',\n",
       " 'mine',\n",
       " 'and',\n",
       " 'thrice',\n",
       " 'againe',\n",
       " 'to',\n",
       " 'make',\n",
       " 'vp',\n",
       " 'nine',\n",
       " 'peace',\n",
       " 'the',\n",
       " \"charme's\",\n",
       " 'wound',\n",
       " 'vp',\n",
       " 'enter',\n",
       " 'macbeth',\n",
       " 'and',\n",
       " 'banquo',\n",
       " 'macb',\n",
       " 'so',\n",
       " 'foule',\n",
       " 'and',\n",
       " 'faire',\n",
       " 'a',\n",
       " 'day',\n",
       " 'i',\n",
       " 'haue',\n",
       " 'not',\n",
       " 'seene',\n",
       " 'banquo',\n",
       " 'how',\n",
       " 'farre',\n",
       " \"is't\",\n",
       " \"call'd\",\n",
       " 'to',\n",
       " 'soris',\n",
       " 'what',\n",
       " 'are',\n",
       " 'these',\n",
       " 'so',\n",
       " \"wither'd\",\n",
       " 'and',\n",
       " 'so',\n",
       " 'wilde',\n",
       " 'in',\n",
       " 'their',\n",
       " 'attyre',\n",
       " 'that',\n",
       " 'looke',\n",
       " 'not',\n",
       " 'like',\n",
       " 'th',\n",
       " 'inhabitants',\n",
       " \"o'th\",\n",
       " 'earth',\n",
       " 'and',\n",
       " 'yet',\n",
       " 'are',\n",
       " \"on't\",\n",
       " 'liue',\n",
       " 'you',\n",
       " 'or',\n",
       " 'are',\n",
       " 'you',\n",
       " 'aught',\n",
       " 'that',\n",
       " 'man',\n",
       " 'may',\n",
       " 'question',\n",
       " 'you',\n",
       " 'seeme',\n",
       " 'to',\n",
       " 'vnderstand',\n",
       " 'me',\n",
       " 'by',\n",
       " 'each',\n",
       " 'at',\n",
       " 'once',\n",
       " 'her',\n",
       " 'choppie',\n",
       " 'finger',\n",
       " 'laying',\n",
       " 'vpon',\n",
       " 'her',\n",
       " 'skinnie',\n",
       " 'lips',\n",
       " 'you',\n",
       " 'should',\n",
       " 'be',\n",
       " 'women',\n",
       " 'and',\n",
       " 'yet',\n",
       " 'your',\n",
       " 'beards',\n",
       " 'forbid',\n",
       " 'me',\n",
       " 'to',\n",
       " 'interprete',\n",
       " 'that',\n",
       " 'you',\n",
       " 'are',\n",
       " 'so',\n",
       " 'mac',\n",
       " 'speake',\n",
       " 'if',\n",
       " 'you',\n",
       " 'can',\n",
       " 'what',\n",
       " 'are',\n",
       " 'you',\n",
       " 'all',\n",
       " 'haile',\n",
       " 'macbeth',\n",
       " 'haile',\n",
       " 'to',\n",
       " 'thee',\n",
       " 'thane',\n",
       " 'of',\n",
       " 'glamis',\n",
       " 'all',\n",
       " 'haile',\n",
       " 'macbeth',\n",
       " 'haile',\n",
       " 'to',\n",
       " 'thee',\n",
       " 'thane',\n",
       " 'of',\n",
       " 'cawdor',\n",
       " 'all',\n",
       " 'haile',\n",
       " 'macbeth',\n",
       " 'that',\n",
       " 'shalt',\n",
       " 'be',\n",
       " 'king',\n",
       " 'hereafter',\n",
       " 'banq',\n",
       " 'good',\n",
       " 'sir',\n",
       " 'why',\n",
       " 'doe',\n",
       " 'you',\n",
       " 'start',\n",
       " 'and',\n",
       " 'seeme',\n",
       " 'to',\n",
       " 'feare',\n",
       " 'things',\n",
       " 'that',\n",
       " 'doe',\n",
       " 'sound',\n",
       " 'so',\n",
       " 'faire',\n",
       " \"i'th\",\n",
       " 'name',\n",
       " 'of',\n",
       " 'truth',\n",
       " 'are',\n",
       " 'ye',\n",
       " 'fantasticall',\n",
       " 'or',\n",
       " 'that',\n",
       " 'indeed',\n",
       " 'which',\n",
       " 'outwardly',\n",
       " 'ye',\n",
       " 'shew',\n",
       " 'my',\n",
       " 'noble',\n",
       " 'partner',\n",
       " 'you',\n",
       " 'greet',\n",
       " 'with',\n",
       " 'present',\n",
       " 'grace',\n",
       " 'and',\n",
       " 'great',\n",
       " 'prediction',\n",
       " 'of',\n",
       " 'noble',\n",
       " 'hauing',\n",
       " 'and',\n",
       " 'of',\n",
       " 'royall',\n",
       " 'hope',\n",
       " 'that',\n",
       " 'he',\n",
       " 'seemes',\n",
       " 'wrapt',\n",
       " 'withall',\n",
       " 'to',\n",
       " 'me',\n",
       " ...]"
      ]
     },
     "execution_count": 7,
     "metadata": {},
     "output_type": "execute_result"
    }
   ],
   "source": [
    "macbeth_tokens = [x.lower() for x in macbeth_tokens_raw]\n",
    "macbeth_tokens"
   ]
  },
  {
   "cell_type": "code",
   "execution_count": 8,
   "metadata": {
    "ExecuteTime": {
     "end_time": "2021-05-15T15:28:55.171523Z",
     "start_time": "2021-05-15T15:28:55.142635Z"
    },
    "hidden": true
   },
   "outputs": [
    {
     "data": {
      "text/plain": [
       "[('the', 649),\n",
       " ('and', 545),\n",
       " ('to', 383),\n",
       " ('of', 338),\n",
       " ('i', 331),\n",
       " ('a', 241),\n",
       " ('that', 227),\n",
       " ('my', 203),\n",
       " ('you', 203),\n",
       " ('in', 199),\n",
       " ('is', 180),\n",
       " ('not', 165),\n",
       " ('it', 161),\n",
       " ('with', 153),\n",
       " ('his', 146),\n",
       " ('be', 137),\n",
       " ('macb', 137),\n",
       " ('your', 126),\n",
       " ('our', 123),\n",
       " ('haue', 122),\n",
       " ('but', 120),\n",
       " ('me', 113),\n",
       " ('he', 110),\n",
       " ('for', 109),\n",
       " ('what', 106),\n",
       " ('this', 104),\n",
       " ('all', 99),\n",
       " ('so', 96),\n",
       " ('him', 90),\n",
       " ('as', 89),\n",
       " ('thou', 87),\n",
       " ('we', 83),\n",
       " ('enter', 81),\n",
       " ('which', 80),\n",
       " ('are', 73),\n",
       " ('will', 72),\n",
       " ('they', 70),\n",
       " ('shall', 68),\n",
       " ('no', 67),\n",
       " ('then', 63),\n",
       " ('macbeth', 62),\n",
       " ('their', 62),\n",
       " ('thee', 61),\n",
       " ('vpon', 58),\n",
       " ('on', 58),\n",
       " ('macd', 58),\n",
       " ('from', 57),\n",
       " ('yet', 57),\n",
       " ('thy', 56),\n",
       " ('vs', 55)]"
      ]
     },
     "execution_count": 8,
     "metadata": {},
     "output_type": "execute_result"
    }
   ],
   "source": [
    "macbeth_freqdist = FreqDist(macbeth_tokens)\n",
    "macbeth_freqdist.most_common(50)"
   ]
  },
  {
   "cell_type": "code",
   "execution_count": 9,
   "metadata": {
    "ExecuteTime": {
     "end_time": "2021-05-15T15:29:09.815023Z",
     "start_time": "2021-05-15T15:29:09.810035Z"
    },
    "hidden": true
   },
   "outputs": [
    {
     "data": {
      "text/plain": [
       "['!',\n",
       " '\"',\n",
       " '#',\n",
       " '$',\n",
       " '%',\n",
       " '&',\n",
       " \"'\",\n",
       " '(',\n",
       " ')',\n",
       " '*',\n",
       " '+',\n",
       " ',',\n",
       " '-',\n",
       " '.',\n",
       " '/',\n",
       " ':',\n",
       " ';',\n",
       " '<',\n",
       " '=',\n",
       " '>',\n",
       " '?',\n",
       " '@',\n",
       " '[',\n",
       " '\\\\',\n",
       " ']',\n",
       " '^',\n",
       " '_',\n",
       " '`',\n",
       " '{',\n",
       " '|',\n",
       " '}',\n",
       " '~']"
      ]
     },
     "execution_count": 9,
     "metadata": {},
     "output_type": "execute_result"
    }
   ],
   "source": [
    "list(string.punctuation)"
   ]
  },
  {
   "cell_type": "code",
   "execution_count": 10,
   "metadata": {
    "ExecuteTime": {
     "end_time": "2021-05-15T15:29:15.706358Z",
     "start_time": "2021-05-15T15:29:15.649541Z"
    },
    "hidden": true
   },
   "outputs": [
    {
     "data": {
      "text/plain": [
       "['tragedie',\n",
       " 'macbeth',\n",
       " 'william',\n",
       " 'shakespeare',\n",
       " 'actus',\n",
       " 'primus',\n",
       " 'scoena',\n",
       " 'prima',\n",
       " 'thunder',\n",
       " 'lightning',\n",
       " 'enter',\n",
       " 'three',\n",
       " 'witches',\n",
       " 'shall',\n",
       " 'three',\n",
       " 'meet',\n",
       " 'againe',\n",
       " 'thunder',\n",
       " 'lightning',\n",
       " 'raine',\n",
       " 'hurley',\n",
       " \"burley's\",\n",
       " 'done',\n",
       " \"battaile's\",\n",
       " 'lost',\n",
       " 'wonne',\n",
       " 'ere',\n",
       " 'set',\n",
       " 'sunne',\n",
       " 'place',\n",
       " 'vpon',\n",
       " 'heath',\n",
       " 'meet',\n",
       " 'macbeth',\n",
       " 'come',\n",
       " 'gray',\n",
       " 'malkin',\n",
       " 'padock',\n",
       " 'calls',\n",
       " 'anon',\n",
       " 'faire',\n",
       " 'foule',\n",
       " 'foule',\n",
       " 'faire',\n",
       " 'houer',\n",
       " 'fogge',\n",
       " 'filthie',\n",
       " 'ayre',\n",
       " 'exeunt',\n",
       " 'scena',\n",
       " 'secunda',\n",
       " 'alarum',\n",
       " 'within',\n",
       " 'enter',\n",
       " 'king',\n",
       " 'malcome',\n",
       " 'donalbaine',\n",
       " 'lenox',\n",
       " 'attendants',\n",
       " 'meeting',\n",
       " 'bleeding',\n",
       " 'captaine',\n",
       " 'king',\n",
       " 'bloody',\n",
       " 'man',\n",
       " 'report',\n",
       " 'seemeth',\n",
       " 'plight',\n",
       " 'reuolt',\n",
       " 'newest',\n",
       " 'state',\n",
       " 'mal',\n",
       " 'serieant',\n",
       " 'like',\n",
       " 'good',\n",
       " 'hardie',\n",
       " 'souldier',\n",
       " 'fought',\n",
       " 'gainst',\n",
       " 'captiuitie',\n",
       " 'haile',\n",
       " 'braue',\n",
       " 'friend',\n",
       " 'say',\n",
       " 'king',\n",
       " 'knowledge',\n",
       " 'broyle',\n",
       " 'thou',\n",
       " 'didst',\n",
       " 'leaue',\n",
       " 'cap',\n",
       " 'doubtfull',\n",
       " 'stood',\n",
       " 'two',\n",
       " 'spent',\n",
       " 'swimmers',\n",
       " 'doe',\n",
       " 'cling',\n",
       " 'together',\n",
       " 'choake',\n",
       " 'art',\n",
       " 'mercilesse',\n",
       " 'macdonwald',\n",
       " 'worthie',\n",
       " 'rebell',\n",
       " 'multiplying',\n",
       " 'villanies',\n",
       " 'nature',\n",
       " 'doe',\n",
       " 'swarme',\n",
       " 'vpon',\n",
       " 'westerne',\n",
       " 'isles',\n",
       " 'kernes',\n",
       " 'gallowgrosses',\n",
       " \"supply'd\",\n",
       " 'fortune',\n",
       " 'damned',\n",
       " 'quarry',\n",
       " 'smiling',\n",
       " \"shew'd\",\n",
       " 'like',\n",
       " 'rebells',\n",
       " 'whore',\n",
       " \"all's\",\n",
       " 'weake',\n",
       " 'braue',\n",
       " 'macbeth',\n",
       " 'well',\n",
       " 'hee',\n",
       " 'deserues',\n",
       " 'name',\n",
       " 'disdayning',\n",
       " 'fortune',\n",
       " 'brandisht',\n",
       " 'steele',\n",
       " \"smoak'd\",\n",
       " 'bloody',\n",
       " 'execution',\n",
       " 'like',\n",
       " 'valours',\n",
       " 'minion',\n",
       " \"caru'd\",\n",
       " 'passage',\n",
       " 'till',\n",
       " 'hee',\n",
       " \"fac'd\",\n",
       " 'slaue',\n",
       " \"neu'r\",\n",
       " 'shooke',\n",
       " 'hands',\n",
       " 'bad',\n",
       " 'farwell',\n",
       " 'till',\n",
       " \"vnseam'd\",\n",
       " 'naue',\n",
       " 'toth',\n",
       " 'chops',\n",
       " \"fix'd\",\n",
       " 'head',\n",
       " 'vpon',\n",
       " 'battlements',\n",
       " 'king',\n",
       " 'valiant',\n",
       " 'cousin',\n",
       " 'worthy',\n",
       " 'gentleman',\n",
       " 'cap',\n",
       " 'whence',\n",
       " 'sunne',\n",
       " 'gins',\n",
       " 'reflection',\n",
       " 'shipwracking',\n",
       " 'stormes',\n",
       " 'direfull',\n",
       " 'thunders',\n",
       " 'spring',\n",
       " 'whence',\n",
       " 'comfort',\n",
       " \"seem'd\",\n",
       " 'come',\n",
       " 'discomfort',\n",
       " 'swells',\n",
       " 'marke',\n",
       " 'king',\n",
       " 'scotland',\n",
       " 'marke',\n",
       " 'sooner',\n",
       " 'iustice',\n",
       " 'valour',\n",
       " \"arm'd\",\n",
       " \"compell'd\",\n",
       " 'skipping',\n",
       " 'kernes',\n",
       " 'trust',\n",
       " 'heeles',\n",
       " 'norweyan',\n",
       " 'lord',\n",
       " 'surueying',\n",
       " 'vantage',\n",
       " 'furbusht',\n",
       " 'armes',\n",
       " 'new',\n",
       " 'supplyes',\n",
       " 'men',\n",
       " 'began',\n",
       " 'fresh',\n",
       " 'assault',\n",
       " 'king',\n",
       " \"dismay'd\",\n",
       " 'captaines',\n",
       " 'macbeth',\n",
       " 'banquoh',\n",
       " 'cap',\n",
       " 'yes',\n",
       " 'sparrowes',\n",
       " 'eagles',\n",
       " 'hare',\n",
       " 'lyon',\n",
       " 'say',\n",
       " 'sooth',\n",
       " 'must',\n",
       " 'report',\n",
       " 'cannons',\n",
       " 'ouer',\n",
       " \"charg'd\",\n",
       " 'double',\n",
       " 'cracks',\n",
       " 'doubly',\n",
       " 'redoubled',\n",
       " 'stroakes',\n",
       " 'vpon',\n",
       " 'foe',\n",
       " 'except',\n",
       " 'meant',\n",
       " 'bathe',\n",
       " 'reeking',\n",
       " 'wounds',\n",
       " 'memorize',\n",
       " 'another',\n",
       " 'golgotha',\n",
       " 'cannot',\n",
       " 'tell',\n",
       " 'faint',\n",
       " 'gashes',\n",
       " 'cry',\n",
       " 'helpe',\n",
       " 'king',\n",
       " 'well',\n",
       " 'thy',\n",
       " 'words',\n",
       " 'become',\n",
       " 'thee',\n",
       " 'thy',\n",
       " 'wounds',\n",
       " 'smack',\n",
       " 'honor',\n",
       " 'goe',\n",
       " 'get',\n",
       " 'surgeons',\n",
       " 'enter',\n",
       " 'rosse',\n",
       " 'angus',\n",
       " 'comes',\n",
       " 'mal',\n",
       " 'worthy',\n",
       " 'thane',\n",
       " 'rosse',\n",
       " 'lenox',\n",
       " 'haste',\n",
       " 'lookes',\n",
       " 'eyes',\n",
       " 'looke',\n",
       " 'seemes',\n",
       " 'speake',\n",
       " 'things',\n",
       " 'strange',\n",
       " 'rosse',\n",
       " 'god',\n",
       " 'saue',\n",
       " 'king',\n",
       " 'king',\n",
       " 'whence',\n",
       " \"cam'st\",\n",
       " 'thou',\n",
       " 'worthy',\n",
       " 'thane',\n",
       " 'rosse',\n",
       " 'fiffe',\n",
       " 'great',\n",
       " 'king',\n",
       " 'norweyan',\n",
       " 'banners',\n",
       " 'flowt',\n",
       " 'skie',\n",
       " 'fanne',\n",
       " 'people',\n",
       " 'cold',\n",
       " 'norway',\n",
       " 'himselfe',\n",
       " 'terrible',\n",
       " 'numbers',\n",
       " 'assisted',\n",
       " 'disloyall',\n",
       " 'traytor',\n",
       " 'thane',\n",
       " 'cawdor',\n",
       " 'began',\n",
       " 'dismall',\n",
       " 'conflict',\n",
       " 'till',\n",
       " \"bellona's\",\n",
       " 'bridegroome',\n",
       " 'lapt',\n",
       " 'proofe',\n",
       " 'confronted',\n",
       " 'selfe',\n",
       " 'comparisons',\n",
       " 'point',\n",
       " 'point',\n",
       " 'rebellious',\n",
       " 'arme',\n",
       " 'gainst',\n",
       " 'arme',\n",
       " 'curbing',\n",
       " 'lauish',\n",
       " 'spirit',\n",
       " 'conclude',\n",
       " 'victorie',\n",
       " 'fell',\n",
       " 'vs',\n",
       " 'king',\n",
       " 'great',\n",
       " 'happinesse',\n",
       " 'rosse',\n",
       " 'sweno',\n",
       " 'norwayes',\n",
       " 'king',\n",
       " 'craues',\n",
       " 'composition',\n",
       " 'would',\n",
       " 'deigne',\n",
       " 'buriall',\n",
       " 'men',\n",
       " 'till',\n",
       " 'disbursed',\n",
       " 'saint',\n",
       " 'colmes',\n",
       " 'ynch',\n",
       " 'ten',\n",
       " 'thousand',\n",
       " 'dollars',\n",
       " 'generall',\n",
       " 'vse',\n",
       " 'king',\n",
       " 'thane',\n",
       " 'cawdor',\n",
       " 'shall',\n",
       " 'deceiue',\n",
       " 'bosome',\n",
       " 'interest',\n",
       " 'goe',\n",
       " 'pronounce',\n",
       " 'present',\n",
       " 'death',\n",
       " 'former',\n",
       " 'title',\n",
       " 'greet',\n",
       " 'macbeth',\n",
       " 'rosse',\n",
       " 'ile',\n",
       " 'see',\n",
       " 'done',\n",
       " 'king',\n",
       " 'hath',\n",
       " 'lost',\n",
       " 'noble',\n",
       " 'macbeth',\n",
       " 'hath',\n",
       " 'wonne',\n",
       " 'exeunt',\n",
       " 'scena',\n",
       " 'tertia',\n",
       " 'thunder',\n",
       " 'enter',\n",
       " 'three',\n",
       " 'witches',\n",
       " 'hast',\n",
       " 'thou',\n",
       " 'beene',\n",
       " 'sister',\n",
       " 'killing',\n",
       " 'swine',\n",
       " 'sister',\n",
       " 'thou',\n",
       " 'saylors',\n",
       " 'wife',\n",
       " 'chestnuts',\n",
       " 'lappe',\n",
       " 'mouncht',\n",
       " 'mouncht',\n",
       " 'mouncht',\n",
       " 'giue',\n",
       " 'quoth',\n",
       " 'aroynt',\n",
       " 'thee',\n",
       " 'witch',\n",
       " 'rumpe',\n",
       " 'fed',\n",
       " 'ronyon',\n",
       " 'cryes',\n",
       " \"husband's\",\n",
       " 'aleppo',\n",
       " 'gone',\n",
       " 'master',\n",
       " \"o'th\",\n",
       " 'tiger',\n",
       " 'syue',\n",
       " 'ile',\n",
       " 'thither',\n",
       " 'sayle',\n",
       " 'like',\n",
       " 'rat',\n",
       " 'without',\n",
       " 'tayle',\n",
       " 'ile',\n",
       " 'doe',\n",
       " 'ile',\n",
       " 'doe',\n",
       " 'ile',\n",
       " 'doe',\n",
       " 'ile',\n",
       " 'giue',\n",
       " 'thee',\n",
       " 'winde',\n",
       " \"th'art\",\n",
       " 'kinde',\n",
       " 'another',\n",
       " 'selfe',\n",
       " 'haue',\n",
       " 'ports',\n",
       " 'blow',\n",
       " 'quarters',\n",
       " 'know',\n",
       " \"i'th\",\n",
       " 'ship',\n",
       " 'mans',\n",
       " 'card',\n",
       " 'ile',\n",
       " 'dreyne',\n",
       " 'drie',\n",
       " 'hay',\n",
       " 'sleepe',\n",
       " 'shall',\n",
       " 'neyther',\n",
       " 'night',\n",
       " 'day',\n",
       " 'hang',\n",
       " 'vpon',\n",
       " 'pent',\n",
       " 'house',\n",
       " 'lid',\n",
       " 'shall',\n",
       " 'liue',\n",
       " 'man',\n",
       " 'forbid',\n",
       " 'wearie',\n",
       " \"seu'nights\",\n",
       " 'nine',\n",
       " 'times',\n",
       " 'nine',\n",
       " 'shall',\n",
       " 'dwindle',\n",
       " 'peake',\n",
       " 'pine',\n",
       " 'though',\n",
       " 'barke',\n",
       " 'cannot',\n",
       " 'lost',\n",
       " 'yet',\n",
       " 'shall',\n",
       " 'tempest',\n",
       " 'tost',\n",
       " 'looke',\n",
       " 'haue',\n",
       " 'shew',\n",
       " 'shew',\n",
       " 'haue',\n",
       " 'pilots',\n",
       " 'thumbe',\n",
       " 'wrackt',\n",
       " 'homeward',\n",
       " 'come',\n",
       " 'drum',\n",
       " 'within',\n",
       " 'drumme',\n",
       " 'drumme',\n",
       " 'macbeth',\n",
       " 'doth',\n",
       " 'come',\n",
       " 'weyward',\n",
       " 'sisters',\n",
       " 'hand',\n",
       " 'hand',\n",
       " 'posters',\n",
       " 'sea',\n",
       " 'land',\n",
       " 'thus',\n",
       " 'doe',\n",
       " 'goe',\n",
       " 'thrice',\n",
       " 'thine',\n",
       " 'thrice',\n",
       " 'mine',\n",
       " 'thrice',\n",
       " 'againe',\n",
       " 'make',\n",
       " 'vp',\n",
       " 'nine',\n",
       " 'peace',\n",
       " \"charme's\",\n",
       " 'wound',\n",
       " 'vp',\n",
       " 'enter',\n",
       " 'macbeth',\n",
       " 'banquo',\n",
       " 'macb',\n",
       " 'foule',\n",
       " 'faire',\n",
       " 'day',\n",
       " 'haue',\n",
       " 'seene',\n",
       " 'banquo',\n",
       " 'farre',\n",
       " \"is't\",\n",
       " \"call'd\",\n",
       " 'soris',\n",
       " \"wither'd\",\n",
       " 'wilde',\n",
       " 'attyre',\n",
       " 'looke',\n",
       " 'like',\n",
       " 'th',\n",
       " 'inhabitants',\n",
       " \"o'th\",\n",
       " 'earth',\n",
       " 'yet',\n",
       " \"on't\",\n",
       " 'liue',\n",
       " 'aught',\n",
       " 'man',\n",
       " 'may',\n",
       " 'question',\n",
       " 'seeme',\n",
       " 'vnderstand',\n",
       " 'choppie',\n",
       " 'finger',\n",
       " 'laying',\n",
       " 'vpon',\n",
       " 'skinnie',\n",
       " 'lips',\n",
       " 'women',\n",
       " 'yet',\n",
       " 'beards',\n",
       " 'forbid',\n",
       " 'interprete',\n",
       " 'mac',\n",
       " 'speake',\n",
       " 'haile',\n",
       " 'macbeth',\n",
       " 'haile',\n",
       " 'thee',\n",
       " 'thane',\n",
       " 'glamis',\n",
       " 'haile',\n",
       " 'macbeth',\n",
       " 'haile',\n",
       " 'thee',\n",
       " 'thane',\n",
       " 'cawdor',\n",
       " 'haile',\n",
       " 'macbeth',\n",
       " 'shalt',\n",
       " 'king',\n",
       " 'hereafter',\n",
       " 'banq',\n",
       " 'good',\n",
       " 'sir',\n",
       " 'doe',\n",
       " 'start',\n",
       " 'seeme',\n",
       " 'feare',\n",
       " 'things',\n",
       " 'doe',\n",
       " 'sound',\n",
       " 'faire',\n",
       " \"i'th\",\n",
       " 'name',\n",
       " 'truth',\n",
       " 'ye',\n",
       " 'fantasticall',\n",
       " 'indeed',\n",
       " 'outwardly',\n",
       " 'ye',\n",
       " 'shew',\n",
       " 'noble',\n",
       " 'partner',\n",
       " 'greet',\n",
       " 'present',\n",
       " 'grace',\n",
       " 'great',\n",
       " 'prediction',\n",
       " 'noble',\n",
       " 'hauing',\n",
       " 'royall',\n",
       " 'hope',\n",
       " 'seemes',\n",
       " 'wrapt',\n",
       " 'withall',\n",
       " 'speake',\n",
       " 'looke',\n",
       " 'seedes',\n",
       " 'time',\n",
       " 'say',\n",
       " 'graine',\n",
       " 'grow',\n",
       " 'speake',\n",
       " 'neyther',\n",
       " 'begge',\n",
       " 'feare',\n",
       " 'fauors',\n",
       " 'hate',\n",
       " 'hayle',\n",
       " 'hayle',\n",
       " 'hayle',\n",
       " 'lesser',\n",
       " 'macbeth',\n",
       " 'greater',\n",
       " 'happy',\n",
       " 'yet',\n",
       " 'much',\n",
       " 'happyer',\n",
       " 'thou',\n",
       " 'shalt',\n",
       " 'get',\n",
       " 'kings',\n",
       " 'though',\n",
       " 'thou',\n",
       " 'none',\n",
       " 'haile',\n",
       " 'macbeth',\n",
       " 'banquo',\n",
       " 'banquo',\n",
       " 'macbeth',\n",
       " 'haile',\n",
       " 'macb',\n",
       " 'stay',\n",
       " 'imperfect',\n",
       " 'speakers',\n",
       " 'tell',\n",
       " 'sinells',\n",
       " 'death',\n",
       " 'know',\n",
       " 'thane',\n",
       " 'glamis',\n",
       " 'cawdor',\n",
       " 'thane',\n",
       " 'cawdor',\n",
       " 'liues',\n",
       " 'prosperous',\n",
       " 'gentleman',\n",
       " 'king',\n",
       " 'stands',\n",
       " 'within',\n",
       " 'prospect',\n",
       " 'beleefe',\n",
       " 'cawdor',\n",
       " 'say',\n",
       " 'whence',\n",
       " 'owe',\n",
       " 'strange',\n",
       " 'intelligence',\n",
       " 'vpon',\n",
       " 'blasted',\n",
       " 'heath',\n",
       " 'stop',\n",
       " 'way',\n",
       " 'prophetique',\n",
       " 'greeting',\n",
       " 'speake',\n",
       " 'charge',\n",
       " 'witches',\n",
       " 'vanish',\n",
       " 'banq',\n",
       " 'earth',\n",
       " 'hath',\n",
       " 'bubbles',\n",
       " 'water',\n",
       " \"ha's\",\n",
       " 'whither',\n",
       " \"vanish'd\",\n",
       " 'macb',\n",
       " 'ayre',\n",
       " \"seem'd\",\n",
       " 'corporall',\n",
       " 'melted',\n",
       " 'breath',\n",
       " 'winde',\n",
       " 'would',\n",
       " \"stay'd\",\n",
       " 'banq',\n",
       " 'things',\n",
       " 'doe',\n",
       " 'speake',\n",
       " 'haue',\n",
       " 'eaten',\n",
       " 'insane',\n",
       " 'root',\n",
       " 'takes',\n",
       " 'reason',\n",
       " 'prisoner',\n",
       " 'macb',\n",
       " 'children',\n",
       " 'shall',\n",
       " 'kings',\n",
       " 'banq',\n",
       " 'shall',\n",
       " 'king',\n",
       " 'macb',\n",
       " 'thane',\n",
       " 'cawdor',\n",
       " 'went',\n",
       " 'banq',\n",
       " 'toth',\n",
       " 'selfe',\n",
       " 'tune',\n",
       " 'words',\n",
       " \"who's\",\n",
       " 'enter',\n",
       " 'rosse',\n",
       " 'angus',\n",
       " 'rosse',\n",
       " 'king',\n",
       " 'hath',\n",
       " 'happily',\n",
       " \"receiu'd\",\n",
       " 'macbeth',\n",
       " 'newes',\n",
       " 'thy',\n",
       " 'successe',\n",
       " 'reades',\n",
       " 'thy',\n",
       " 'personall',\n",
       " 'venture',\n",
       " 'rebels',\n",
       " 'sight',\n",
       " 'wonders',\n",
       " 'prayses',\n",
       " 'doe',\n",
       " 'contend',\n",
       " 'thine',\n",
       " \"silenc'd\",\n",
       " 'viewing',\n",
       " \"o're\",\n",
       " 'rest',\n",
       " \"o'th\",\n",
       " 'selfe',\n",
       " 'day',\n",
       " 'findes',\n",
       " 'thee',\n",
       " 'stout',\n",
       " 'norweyan',\n",
       " 'rankes',\n",
       " 'nothing',\n",
       " 'afeard',\n",
       " 'thy',\n",
       " 'selfe',\n",
       " 'didst',\n",
       " 'make',\n",
       " 'strange',\n",
       " 'images',\n",
       " 'death',\n",
       " 'thick',\n",
       " 'tale',\n",
       " 'post',\n",
       " 'post',\n",
       " 'euery',\n",
       " 'one',\n",
       " 'beare',\n",
       " 'thy',\n",
       " 'prayses',\n",
       " 'kingdomes',\n",
       " 'great',\n",
       " 'defence',\n",
       " \"powr'd\",\n",
       " 'downe',\n",
       " 'ang',\n",
       " 'wee',\n",
       " 'sent',\n",
       " 'giue',\n",
       " 'thee',\n",
       " 'royall',\n",
       " 'master',\n",
       " 'thanks',\n",
       " 'onely',\n",
       " 'harrold',\n",
       " 'thee',\n",
       " 'sight',\n",
       " 'pay',\n",
       " 'thee',\n",
       " 'rosse',\n",
       " 'earnest',\n",
       " 'greater',\n",
       " 'honor',\n",
       " 'bad',\n",
       " 'call',\n",
       " 'thee',\n",
       " 'thane',\n",
       " 'cawdor',\n",
       " 'addition',\n",
       " 'haile',\n",
       " 'worthy',\n",
       " 'thane',\n",
       " 'thine',\n",
       " 'banq',\n",
       " 'deuill',\n",
       " 'speake',\n",
       " 'true',\n",
       " 'macb',\n",
       " 'thane',\n",
       " 'cawdor',\n",
       " 'liues',\n",
       " 'doe',\n",
       " 'dresse',\n",
       " 'borrowed',\n",
       " 'robes',\n",
       " 'ang',\n",
       " 'thane',\n",
       " 'liues',\n",
       " 'yet',\n",
       " 'vnder',\n",
       " 'heauie',\n",
       " 'iudgement',\n",
       " 'beares',\n",
       " 'life',\n",
       " 'deserues',\n",
       " 'loose',\n",
       " 'whether',\n",
       " \"combin'd\",\n",
       " 'norway',\n",
       " 'lyne',\n",
       " 'rebell',\n",
       " 'hidden',\n",
       " 'helpe',\n",
       " 'vantage',\n",
       " \"labour'd\",\n",
       " 'countreyes',\n",
       " 'wracke',\n",
       " 'know',\n",
       " 'treasons',\n",
       " 'capitall',\n",
       " \"confess'd\",\n",
       " \"prou'd\",\n",
       " 'haue',\n",
       " 'ouerthrowne',\n",
       " 'macb',\n",
       " 'glamys',\n",
       " 'thane',\n",
       " 'cawdor',\n",
       " 'greatest',\n",
       " 'behinde',\n",
       " 'thankes',\n",
       " 'paines',\n",
       " 'doe',\n",
       " 'hope',\n",
       " 'children',\n",
       " 'shall',\n",
       " 'kings',\n",
       " 'gaue',\n",
       " 'thane',\n",
       " 'cawdor',\n",
       " \"promis'd\",\n",
       " 'lesse',\n",
       " 'banq',\n",
       " 'trusted',\n",
       " 'home',\n",
       " 'might',\n",
       " 'yet',\n",
       " 'enkindle',\n",
       " 'vnto',\n",
       " 'crowne',\n",
       " 'besides',\n",
       " 'thane',\n",
       " 'cawdor',\n",
       " 'tis',\n",
       " 'strange',\n",
       " 'oftentimes',\n",
       " 'winne',\n",
       " 'vs',\n",
       " 'harme',\n",
       " 'instruments',\n",
       " 'darknesse',\n",
       " 'tell',\n",
       " 'vs',\n",
       " 'truths',\n",
       " 'winne',\n",
       " 'vs',\n",
       " 'honest',\n",
       " 'trifles',\n",
       " \"betray's\",\n",
       " 'deepest',\n",
       " 'consequence',\n",
       " 'cousins',\n",
       " 'word',\n",
       " 'pray',\n",
       " 'macb',\n",
       " 'two',\n",
       " 'truths',\n",
       " 'told',\n",
       " 'happy',\n",
       " 'prologues',\n",
       " 'swelling',\n",
       " 'act',\n",
       " 'imperiall',\n",
       " 'theame',\n",
       " 'thanke',\n",
       " 'gentlemen',\n",
       " 'supernaturall',\n",
       " 'solliciting',\n",
       " 'cannot',\n",
       " 'ill',\n",
       " 'cannot',\n",
       " 'good',\n",
       " 'ill',\n",
       " 'hath',\n",
       " 'giuen',\n",
       " 'earnest',\n",
       " 'successe',\n",
       " 'commencing',\n",
       " 'truth',\n",
       " 'thane',\n",
       " 'cawdor',\n",
       " 'good',\n",
       " 'doe',\n",
       " 'yeeld',\n",
       " 'suggestion',\n",
       " 'whose',\n",
       " 'horrid',\n",
       " 'image',\n",
       " 'doth',\n",
       " 'vnfixe',\n",
       " 'heire',\n",
       " 'make',\n",
       " 'seated',\n",
       " 'heart',\n",
       " 'knock',\n",
       " 'ribbes',\n",
       " 'vse',\n",
       " 'nature',\n",
       " 'present',\n",
       " 'feares',\n",
       " 'lesse',\n",
       " 'horrible',\n",
       " 'imaginings',\n",
       " 'thought',\n",
       " 'whose',\n",
       " 'murther',\n",
       " 'yet',\n",
       " 'fantasticall',\n",
       " 'shakes',\n",
       " 'single',\n",
       " 'state',\n",
       " 'man',\n",
       " 'function',\n",
       " \"smother'd\",\n",
       " 'surmise',\n",
       " 'nothing',\n",
       " 'banq',\n",
       " 'looke',\n",
       " \"partner's\",\n",
       " 'rapt',\n",
       " 'macb',\n",
       " 'chance',\n",
       " 'haue',\n",
       " 'king',\n",
       " 'chance',\n",
       " 'may',\n",
       " 'crowne',\n",
       " 'without',\n",
       " 'stirre',\n",
       " 'banq',\n",
       " 'new',\n",
       " 'honors',\n",
       " 'come',\n",
       " 'vpon',\n",
       " 'like',\n",
       " 'strange',\n",
       " 'garments',\n",
       " 'cleaue',\n",
       " 'mould',\n",
       " ...]"
      ]
     },
     "execution_count": 10,
     "metadata": {},
     "output_type": "execute_result"
    }
   ],
   "source": [
    "stopwords_list = stopwords.words('english')\n",
    "stopwords_list += list(string.punctuation)\n",
    "stopwords_list += ['0','1','2','3','4','5','6','7','8','9']\n",
    "\n",
    "macbeth_words_stopped = [x for x in macbeth_tokens if x not in stopwords_list]\n",
    "macbeth_words_stopped"
   ]
  },
  {
   "cell_type": "code",
   "execution_count": 11,
   "metadata": {
    "ExecuteTime": {
     "end_time": "2021-05-15T15:29:24.684205Z",
     "start_time": "2021-05-15T15:29:24.661342Z"
    },
    "hidden": true
   },
   "outputs": [
    {
     "data": {
      "text/plain": [
       "[('macb', 137),\n",
       " ('haue', 122),\n",
       " ('thou', 87),\n",
       " ('enter', 81),\n",
       " ('shall', 68),\n",
       " ('macbeth', 62),\n",
       " ('thee', 61),\n",
       " ('vpon', 58),\n",
       " ('macd', 58),\n",
       " ('yet', 57),\n",
       " ('thy', 56),\n",
       " ('vs', 55),\n",
       " ('come', 54),\n",
       " ('king', 54),\n",
       " ('hath', 52),\n",
       " ('good', 49),\n",
       " ('rosse', 49),\n",
       " ('lady', 48),\n",
       " ('would', 47),\n",
       " ('time', 46),\n",
       " ('like', 43),\n",
       " ('say', 39),\n",
       " ('doe', 38),\n",
       " ('lord', 38),\n",
       " ('make', 38),\n",
       " ('tis', 37),\n",
       " ('must', 36),\n",
       " ('done', 35),\n",
       " ('selfe', 35),\n",
       " ('ile', 35),\n",
       " ('feare', 35),\n",
       " ('let', 35),\n",
       " ('man', 34),\n",
       " ('wife', 34),\n",
       " ('night', 34),\n",
       " ('banquo', 34),\n",
       " ('well', 33),\n",
       " ('know', 33),\n",
       " ('one', 32),\n",
       " ('great', 31),\n",
       " ('see', 31),\n",
       " ('may', 31),\n",
       " ('exeunt', 30),\n",
       " ('speake', 29),\n",
       " ('sir', 29),\n",
       " ('lenox', 28),\n",
       " ('mine', 26),\n",
       " ('vp', 26),\n",
       " ('th', 26),\n",
       " ('mal', 25)]"
      ]
     },
     "execution_count": 11,
     "metadata": {},
     "output_type": "execute_result"
    }
   ],
   "source": [
    "macbeth_stopped_freqdist = FreqDist(macbeth_words_stopped)\n",
    "macbeth_stopped_freqdist.most_common(50)"
   ]
  },
  {
   "cell_type": "code",
   "execution_count": 12,
   "metadata": {
    "ExecuteTime": {
     "end_time": "2021-05-15T15:29:33.729974Z",
     "start_time": "2021-05-15T15:29:33.724994Z"
    },
    "hidden": true
   },
   "outputs": [
    {
     "data": {
      "text/plain": [
       "3441"
      ]
     },
     "execution_count": 12,
     "metadata": {},
     "output_type": "execute_result"
    }
   ],
   "source": [
    "len(macbeth_stopped_freqdist)"
   ]
  },
  {
   "cell_type": "code",
   "execution_count": 13,
   "metadata": {
    "ExecuteTime": {
     "end_time": "2021-05-15T15:29:38.738276Z",
     "start_time": "2021-05-15T15:29:38.728303Z"
    },
    "hidden": true
   },
   "outputs": [
    {
     "data": {
      "text/plain": [
       "[('macb', 137),\n",
       " ('haue', 122),\n",
       " ('thou', 87),\n",
       " ('enter', 81),\n",
       " ('shall', 68),\n",
       " ('macbeth', 62),\n",
       " ('thee', 61),\n",
       " ('vpon', 58),\n",
       " ('macd', 58),\n",
       " ('yet', 57),\n",
       " ('thy', 56),\n",
       " ('vs', 55),\n",
       " ('come', 54),\n",
       " ('king', 54),\n",
       " ('hath', 52),\n",
       " ('good', 49),\n",
       " ('rosse', 49),\n",
       " ('lady', 48),\n",
       " ('would', 47),\n",
       " ('time', 46),\n",
       " ('like', 43),\n",
       " ('say', 39),\n",
       " ('doe', 38),\n",
       " ('lord', 38),\n",
       " ('make', 38),\n",
       " ('tis', 37),\n",
       " ('must', 36),\n",
       " ('done', 35),\n",
       " ('selfe', 35),\n",
       " ('ile', 35),\n",
       " ('feare', 35),\n",
       " ('let', 35),\n",
       " ('man', 34),\n",
       " ('wife', 34),\n",
       " ('night', 34),\n",
       " ('banquo', 34),\n",
       " ('well', 33),\n",
       " ('know', 33),\n",
       " ('one', 32),\n",
       " ('great', 31),\n",
       " ('see', 31),\n",
       " ('may', 31),\n",
       " ('exeunt', 30),\n",
       " ('speake', 29),\n",
       " ('sir', 29),\n",
       " ('lenox', 28),\n",
       " ('mine', 26),\n",
       " ('vp', 26),\n",
       " ('th', 26),\n",
       " ('mal', 25)]"
      ]
     },
     "execution_count": 13,
     "metadata": {},
     "output_type": "execute_result"
    }
   ],
   "source": [
    "macbeth_stopped_freqdist.most_common(50)"
   ]
  },
  {
   "cell_type": "code",
   "execution_count": 14,
   "metadata": {
    "ExecuteTime": {
     "end_time": "2021-05-15T15:29:44.149627Z",
     "start_time": "2021-05-15T15:29:44.136968Z"
    },
    "hidden": true
   },
   "outputs": [
    {
     "name": "stdout",
     "output_type": "stream",
     "text": [
      "Word\t\t\tNormalized Frequency\n",
      "macb \t\t\t 0.03981\n",
      "haue \t\t\t 0.03545\n",
      "thou \t\t\t 0.02528\n",
      "enter \t\t\t 0.02354\n",
      "shall \t\t\t 0.01976\n",
      "macbeth \t\t\t 0.01802\n",
      "thee \t\t\t 0.01773\n",
      "vpon \t\t\t 0.01686\n",
      "macd \t\t\t 0.01686\n",
      "yet \t\t\t 0.01656\n",
      "thy \t\t\t 0.01627\n",
      "vs \t\t\t 0.01598\n",
      "come \t\t\t 0.01569\n",
      "king \t\t\t 0.01569\n",
      "hath \t\t\t 0.01511\n",
      "good \t\t\t 0.01424\n",
      "rosse \t\t\t 0.01424\n",
      "lady \t\t\t 0.01395\n",
      "would \t\t\t 0.01366\n",
      "time \t\t\t 0.01337\n",
      "like \t\t\t 0.0125\n",
      "say \t\t\t 0.01133\n",
      "doe \t\t\t 0.01104\n",
      "lord \t\t\t 0.01104\n",
      "make \t\t\t 0.01104\n",
      "tis \t\t\t 0.01075\n",
      "must \t\t\t 0.01046\n",
      "done \t\t\t 0.01017\n",
      "selfe \t\t\t 0.01017\n",
      "ile \t\t\t 0.01017\n",
      "feare \t\t\t 0.01017\n",
      "let \t\t\t 0.01017\n",
      "man \t\t\t 0.009881\n",
      "wife \t\t\t 0.009881\n",
      "night \t\t\t 0.009881\n",
      "banquo \t\t\t 0.009881\n",
      "well \t\t\t 0.00959\n",
      "know \t\t\t 0.00959\n",
      "one \t\t\t 0.0093\n",
      "great \t\t\t 0.009009\n",
      "see \t\t\t 0.009009\n",
      "may \t\t\t 0.009009\n",
      "exeunt \t\t\t 0.008718\n",
      "speake \t\t\t 0.008428\n",
      "sir \t\t\t 0.008428\n",
      "lenox \t\t\t 0.008137\n",
      "mine \t\t\t 0.007556\n",
      "vp \t\t\t 0.007556\n",
      "th \t\t\t 0.007556\n",
      "mal \t\t\t 0.007265\n"
     ]
    }
   ],
   "source": [
    "total_word_count = len(macbeth_stopped_freqdist)\n",
    "macbeth_top_50 = macbeth_stopped_freqdist.most_common(50)\n",
    "print('Word\\t\\t\\tNormalized Frequency')\n",
    "for word in macbeth_top_50:\n",
    "    normalized_frequency = word[1]/total_word_count\n",
    "    print('{} \\t\\t\\t {:.4}'.format(word[0], normalized_frequency))"
   ]
  },
  {
   "cell_type": "code",
   "execution_count": 15,
   "metadata": {
    "ExecuteTime": {
     "end_time": "2021-05-15T15:50:23.720800Z",
     "start_time": "2021-05-15T15:50:23.716844Z"
    },
    "hidden": true
   },
   "outputs": [],
   "source": [
    "bigram_measures = nltk.collocations.BigramAssocMeasures()"
   ]
  },
  {
   "cell_type": "code",
   "execution_count": 16,
   "metadata": {
    "ExecuteTime": {
     "end_time": "2021-05-15T15:50:28.914228Z",
     "start_time": "2021-05-15T15:50:28.839396Z"
    },
    "hidden": true
   },
   "outputs": [],
   "source": [
    "macbeth_finder = BigramCollocationFinder.from_words(macbeth_words_stopped)"
   ]
  },
  {
   "cell_type": "code",
   "execution_count": 17,
   "metadata": {
    "ExecuteTime": {
     "end_time": "2021-05-15T15:50:33.646194Z",
     "start_time": "2021-05-15T15:50:33.603741Z"
    },
    "hidden": true
   },
   "outputs": [],
   "source": [
    "macbeth_scored = macbeth_finder.score_ngrams(bigram_measures.raw_freq)"
   ]
  },
  {
   "cell_type": "code",
   "execution_count": 18,
   "metadata": {
    "ExecuteTime": {
     "end_time": "2021-05-15T15:50:41.497145Z",
     "start_time": "2021-05-15T15:50:41.486207Z"
    },
    "hidden": true
   },
   "outputs": [
    {
     "data": {
      "text/plain": [
       "[(('enter', 'macbeth'), 0.0015818091942659417),\n",
       " (('exeunt', 'scena'), 0.0014829461196243204),\n",
       " (('thane', 'cawdor'), 0.0012852199703410777),\n",
       " (('knock', 'knock'), 0.0009886307464162135),\n",
       " (('lord', 'macb'), 0.0008897676717745922),\n",
       " (('thou', 'art'), 0.0008897676717745922),\n",
       " (('good', 'lord'), 0.0007909045971329708),\n",
       " (('haue', 'done'), 0.0007909045971329708),\n",
       " (('macb', 'haue'), 0.0007909045971329708),\n",
       " (('enter', 'lady'), 0.0006920415224913495),\n",
       " (('let', 'vs'), 0.0006920415224913495),\n",
       " (('macbeth', 'macb'), 0.0005931784478497281),\n",
       " (('enter', 'malcolme'), 0.0004943153732081067),\n",
       " (('enter', 'three'), 0.0004943153732081067),\n",
       " (('euery', 'one'), 0.0004943153732081067),\n",
       " (('macb', 'ile'), 0.0004943153732081067),\n",
       " (('macb', 'thou'), 0.0004943153732081067),\n",
       " (('make', 'vs'), 0.0004943153732081067),\n",
       " (('mine', 'eyes'), 0.0004943153732081067),\n",
       " (('mine', 'owne'), 0.0004943153732081067),\n",
       " (('scena', 'secunda'), 0.0004943153732081067),\n",
       " (('three', 'witches'), 0.0004943153732081067),\n",
       " (('thy', 'selfe'), 0.0004943153732081067),\n",
       " (('worthy', 'thane'), 0.0004943153732081067),\n",
       " (('would', 'haue'), 0.0004943153732081067),\n",
       " (('borne', 'woman'), 0.0003954522985664854),\n",
       " (('come', 'come'), 0.0003954522985664854),\n",
       " (('enter', 'banquo'), 0.0003954522985664854),\n",
       " (('enter', 'king'), 0.0003954522985664854),\n",
       " (('enter', 'macduffe'), 0.0003954522985664854),\n",
       " (('enter', 'rosse'), 0.0003954522985664854),\n",
       " (('haile', 'king'), 0.0003954522985664854),\n",
       " (('haile', 'macbeth'), 0.0003954522985664854),\n",
       " (('hath', 'made'), 0.0003954522985664854),\n",
       " (('haue', 'seene'), 0.0003954522985664854),\n",
       " (('macb', 'bring'), 0.0003954522985664854),\n",
       " (('macbeth', 'macbeth'), 0.0003954522985664854),\n",
       " (('malcolme', 'donalbaine'), 0.0003954522985664854),\n",
       " (('old', 'man'), 0.0003954522985664854),\n",
       " (('rosse', 'angus'), 0.0003954522985664854),\n",
       " (('scena', 'prima'), 0.0003954522985664854),\n",
       " (('see', 'thee'), 0.0003954522985664854),\n",
       " (('shew', 'shew'), 0.0003954522985664854),\n",
       " (('sir', 'macb'), 0.0003954522985664854),\n",
       " (('ten', 'thousand'), 0.0003954522985664854),\n",
       " (('tertia', 'enter'), 0.0003954522985664854),\n",
       " (('thy', 'face'), 0.0003954522985664854),\n",
       " (('woman', 'borne'), 0.0003954522985664854),\n",
       " (('would', 'make'), 0.0003954522985664854),\n",
       " (('alarums', 'enter'), 0.00029658922392486405)]"
      ]
     },
     "execution_count": 18,
     "metadata": {},
     "output_type": "execute_result"
    }
   ],
   "source": [
    "# Display the first 50 elements of macbeth_scored\n",
    "macbeth_scored[:50]"
   ]
  },
  {
   "cell_type": "code",
   "execution_count": 19,
   "metadata": {
    "ExecuteTime": {
     "end_time": "2021-05-15T15:50:48.923578Z",
     "start_time": "2021-05-15T15:50:48.891748Z"
    },
    "hidden": true
   },
   "outputs": [],
   "source": [
    "macbeth_pmi_finder = BigramCollocationFinder.from_words(macbeth_words_stopped)"
   ]
  },
  {
   "cell_type": "code",
   "execution_count": 20,
   "metadata": {
    "ExecuteTime": {
     "end_time": "2021-05-15T15:50:56.386797Z",
     "start_time": "2021-05-15T15:50:56.379803Z"
    },
    "hidden": true
   },
   "outputs": [],
   "source": [
    "macbeth_pmi_finder.apply_freq_filter(5)"
   ]
  },
  {
   "cell_type": "code",
   "execution_count": 21,
   "metadata": {
    "ExecuteTime": {
     "end_time": "2021-05-15T15:51:00.801473Z",
     "start_time": "2021-05-15T15:51:00.796516Z"
    },
    "hidden": true
   },
   "outputs": [],
   "source": [
    "macbeth_pmi_scored = macbeth_pmi_finder.score_ngrams(bigram_measures.pmi)"
   ]
  },
  {
   "cell_type": "code",
   "execution_count": 22,
   "metadata": {
    "ExecuteTime": {
     "end_time": "2021-05-15T15:51:05.357398Z",
     "start_time": "2021-05-15T15:51:05.351436Z"
    },
    "hidden": true
   },
   "outputs": [
    {
     "data": {
      "text/plain": [
       "[(('three', 'witches'), 8.925697076191916),\n",
       " (('scena', 'secunda'), 8.844777080808349),\n",
       " (('knock', 'knock'), 8.62613679433301),\n",
       " (('thane', 'cawdor'), 7.968474805033251),\n",
       " (('exeunt', 'scena'), 7.844777080808349),\n",
       " (('mine', 'eyes'), 7.46626545755462),\n",
       " (('worthy', 'thane'), 6.982280604558284),\n",
       " (('mine', 'owne'), 6.838234234941577),\n",
       " (('euery', 'one'), 6.626136794333009),\n",
       " (('thou', 'art'), 5.861265203596917),\n",
       " (('enter', 'malcolme'), 5.585847073307292),\n",
       " (('enter', 'three'), 5.585847073307292),\n",
       " (('good', 'lord'), 5.441571341886851),\n",
       " (('let', 'vs'), 5.2009208910336255),\n",
       " (('enter', 'macbeth'), 5.0101623861741444),\n",
       " (('thy', 'selfe'), 4.689498855330438),\n",
       " (('make', 'vs'), 4.596849567364764),\n",
       " (('haue', 'done'), 4.2441883449377915),\n",
       " (('enter', 'lady'), 4.186751117897471),\n",
       " (('lord', 'macb'), 4.128174104483847),\n",
       " (('macb', 'ile'), 3.3988216944275145),\n",
       " (('would', 'haue'), 3.1408106050924847),\n",
       " (('macbeth', 'macb'), 2.836942806819401),\n",
       " (('macb', 'haue'), 2.2754392789222315),\n",
       " (('macb', 'thou'), 2.0851612155237547)]"
      ]
     },
     "execution_count": 22,
     "metadata": {},
     "output_type": "execute_result"
    }
   ],
   "source": [
    "macbeth_pmi_scored[:50]"
   ]
  },
  {
   "cell_type": "markdown",
   "metadata": {},
   "source": [
    "# Other"
   ]
  },
  {
   "cell_type": "markdown",
   "metadata": {},
   "source": [
    "$$\\large E(X) = \\mu = \\sum p(xi)x_i$$\n",
    "\n"
   ]
  },
  {
   "cell_type": "markdown",
   "metadata": {},
   "source": [
    "$p(2) \\cdot 2$ = $\\frac{1}{3} \\cdot 2$ = $\\frac{2}{3}$\n",
    "$p(5) \\cdot 5$ = $\\frac{2}{3} \\cdot 5$ = $\\frac{10}{3}$"
   ]
  },
  {
   "cell_type": "markdown",
   "metadata": {},
   "source": [
    "$$\\large E((X-\\mu)^2) = \\sigma^2 = \\sum p(xi)(x_i-\\mu)^2$$"
   ]
  },
  {
   "cell_type": "markdown",
   "metadata": {},
   "source": [
    "$$ \\large N(x) = \\dfrac{1}{\\sigma \\sqrt {2\\pi }}e^{-\\dfrac{(x-\\mu)^2}{2\\sigma^2}}$$\n"
   ]
  },
  {
   "cell_type": "markdown",
   "metadata": {},
   "source": [
    "$$\\Large z=\\dfrac{x-\\mu}{\\sigma}$$"
   ]
  },
  {
   "cell_type": "markdown",
   "metadata": {},
   "source": [
    "magine some test results follow a normal distribution with a mean score of 50 and a standard deviation of 10. One of the students scored a 70 on the test. Using this information and $z$-scores makes it easy to tell how she performed in terms of standard deviations from the mean. Converting a test score of 70 to a $z$-score, an $x$ of 70 would be, in this case:\n",
    "\n",
    "$z = \\dfrac{70 - 50}{10} = 2$"
   ]
  },
  {
   "cell_type": "markdown",
   "metadata": {},
   "source": [
    "Measuring Skewness\n",
    "For univariate data $Y1, Y2, ..., Y_n$ the formula for skewness is:\n",
    "\n",
    "$$\\dfrac{\\dfrac{\\displaystyle\\sum^n{i=1}(Yi-Y)^3}{n}}{s^3}$$\n",
    "\n",
    "where $Y$ is the mean, $s$ is the standard deviation, and $n$ is the number of data points. "
   ]
  },
  {
   "cell_type": "markdown",
   "metadata": {},
   "source": [
    "Measuring Kurtosis\n",
    "For univariate data $Y1, Y2, \\dots, Y_n$ the formula for kurtosis is:\n",
    "\n",
    "$$\\dfrac{\\dfrac{\\displaystyle\\sum^n{i=1}(Yi-Y)^4}{n}}{s^4}$$"
   ]
  },
  {
   "cell_type": "markdown",
   "metadata": {},
   "source": [
    "Mesokurtic ($\\text{kurtosis} \\approx 3 $)\n",
    "A mesokurtic distribution has kurtosis statistics that lie close to the ones of a normal distribution. Mesokurtic distributions have a kurtosis of around 3. According to this definition, the standard normal distribution has a kurtosis of 3.\n",
    "\n",
    "Platykurtic ($\\text{kurtosis} < 3 $):\n",
    "When a distribution is platykurtic, the distribution is shorter and tails are thinner than the normal distribution. The peak is lower and broader than Mesokurtic, which means that the tails are light and that there are fewer outliers than in a normal distribution.\n",
    "\n",
    "Leptokurtic ($\\text{kurtosis} > 3 $)\n",
    "When you have a leptokurtic distribution, you have a distribution with longer and fatter tails. The peak is higher and sharper than the peak of a normal distribution, which means that data have heavy tails and that there are more outliers.\n",
    "\n",
    "Outliers stretch your horizontal axis of the distribution, which means that the majority of the data appear in a narrower vertical range. This is why the leptokurtic distribution looks \"skinny\"."
   ]
  },
  {
   "cell_type": "markdown",
   "metadata": {},
   "source": [
    "As stated above, we are often trying to infer population parameters from a sample. As such, we typically don't know the population variance or standard deviation. To start, it is thus natural to use the standard deviation of our sample as an estimate for the standard deviation of our population.\n",
    "\n",
    "$S=\\sqrt{\\dfrac{1}{n-1}\\sum\\limits{i=1}^n (Xi-\\bar{X})^2}$\n",
    "\n",
    "So, when we go to find our confidence interval as before, our equation,\n",
    "\n",
    "$\\dfrac{\\bar{X}-\\mu}{\\sigma/\\sqrt{n}}\\sim N(0,1)$\n",
    "\n",
    "will become\n",
    "\n",
    "$\\dfrac{\\bar{X}-\\mu}{S/\\sqrt{n}}$\n",
    "\n",
    "(substituting S, the sample standard deviation, in for $\\sigma$)\n",
    "\n",
    "As a result, our question now becomes how is this quantity distributed?\n",
    "\n",
    "$T=\\dfrac{\\bar{X}-\\mu}{S/\\sqrt{n}}$\n",
    "\n",
    "While outside the scope of this discussion, it can be shown that this quantity can be modeled by a t-distribution. (Hence the use of the letter $T$).\n",
    "\n",
    "With this, you can calculate confidence intervals for the population mean with your sample alone by using the equation:\n",
    "\n",
    "$\\bar{x}\\pm t_{\\alpha/2,n-1}\\left(\\dfrac{S}{\\sqrt{n}}\\right)$\n",
    "\n",
    "To review some vocabulary and terms:\n",
    "\n",
    "(1) $\\bar{x}$ is a \"point estimate\" of\n",
    "\n",
    "(2) $\\bar{x}\\pm t_{\\alpha/2,n-1}\\left(\\dfrac{S}{\\sqrt{n}}\\right)$ is an \"interval estimate\" of\n",
    "\n",
    "(3) $\\dfrac{S}{\\sqrt{n}}$ is the \"standard error of the mean\"\n",
    "\n",
    "(4) $t_{\\alpha/2,n-1}\\left(\\dfrac{S}{\\sqrt{n}}\\right)$ is the \"margin of error\""
   ]
  },
  {
   "cell_type": "markdown",
   "metadata": {},
   "source": [
    "$ \\Large t = \\frac{\\bar{X1}-\\bar{X2}}{\\sqrt{\\frac{{s1}^2}{N1} + \\frac{{s2}^2}{N2}}} = \\frac{\\bar{X1}-\\bar{X2}}{\\sqrt{{se1}^2+{se2}^2}}$ where\n",
    "\n",
    "$\\bar{X_i}$ - mean of sample i\n",
    "${s_i}^2$ - variance of sample i\n",
    "$N_i$ - sample size of sample i"
   ]
  },
  {
   "cell_type": "markdown",
   "metadata": {},
   "source": [
    "# Interview"
   ]
  },
  {
   "cell_type": "code",
   "execution_count": 19,
   "metadata": {
    "ExecuteTime": {
     "end_time": "2021-08-28T18:00:43.100943Z",
     "start_time": "2021-08-28T18:00:43.087983Z"
    }
   },
   "outputs": [
    {
     "name": "stdout",
     "output_type": "stream",
     "text": [
      "0 4\n"
     ]
    }
   ],
   "source": [
    "n=[5,2,11,17,13]\n",
    "\n",
    "for i in range(len(n)):\n",
    "    for j in range(len(n)):\n",
    "        if i!=j and i<j:\n",
    "            if n[i]+n[j] == 18:\n",
    "                print(i,j)"
   ]
  },
  {
   "cell_type": "code",
   "execution_count": 20,
   "metadata": {
    "ExecuteTime": {
     "end_time": "2021-08-28T18:08:47.760690Z",
     "start_time": "2021-08-28T18:08:47.749755Z"
    }
   },
   "outputs": [],
   "source": [
    "def sum_target(array, target):\n",
    "    \n",
    "    for i in range(len(array)):\n",
    "        for j in range(len(array)):\n",
    "            if i!=j and i<j:\n",
    "                if array[i]+array[j]==target:\n",
    "                    print(i,j)"
   ]
  },
  {
   "cell_type": "code",
   "execution_count": 21,
   "metadata": {
    "ExecuteTime": {
     "end_time": "2021-08-28T18:10:01.604182Z",
     "start_time": "2021-08-28T18:10:01.594210Z"
    }
   },
   "outputs": [
    {
     "name": "stdout",
     "output_type": "stream",
     "text": [
      "1 2\n",
      "3 4\n",
      "4 5\n",
      "4 7\n"
     ]
    }
   ],
   "source": [
    "sum_target([2,7,5,4,8,4,12,4],12)"
   ]
  },
  {
   "cell_type": "markdown",
   "metadata": {},
   "source": [
    "# Other"
   ]
  },
  {
   "cell_type": "markdown",
   "metadata": {},
   "source": [
    "### Average to 2 decimal places : `\"{0:.2f}\".format()`"
   ]
  },
  {
   "cell_type": "code",
   "execution_count": 23,
   "metadata": {
    "ExecuteTime": {
     "end_time": "2021-08-28T21:11:16.307195Z",
     "start_time": "2021-08-28T21:11:16.285075Z"
    }
   },
   "outputs": [
    {
     "name": "stdout",
     "output_type": "stream",
     "text": [
      "94.67\n"
     ]
    }
   ],
   "source": [
    "student_marks={'Neha':[89,79,90], 'Sweta':[99,95,90]}\n",
    "query_name = 'Sweta'\n",
    "\n",
    "avg = sum(student_marks[query_name])/len(student_marks[query_name])\n",
    "print(\"{0:.2f}\".format(avg))"
   ]
  },
  {
   "cell_type": "code",
   "execution_count": 27,
   "metadata": {
    "ExecuteTime": {
     "end_time": "2021-08-28T21:34:19.463154Z",
     "start_time": "2021-08-28T21:34:14.108749Z"
    }
   },
   "outputs": [
    {
     "name": "stdout",
     "output_type": "stream",
     "text": [
      "3 3 3\n"
     ]
    },
    {
     "data": {
      "text/plain": [
       "(3, 3, 3)"
      ]
     },
     "execution_count": 27,
     "metadata": {},
     "output_type": "execute_result"
    }
   ],
   "source": [
    "tuple(map(int, input().split()))"
   ]
  },
  {
   "cell_type": "code",
   "execution_count": 29,
   "metadata": {
    "ExecuteTime": {
     "end_time": "2021-08-28T21:35:54.230575Z",
     "start_time": "2021-08-28T21:35:49.418506Z"
    }
   },
   "outputs": [
    {
     "name": "stdout",
     "output_type": "stream",
     "text": [
      "3 3 3\n"
     ]
    },
    {
     "data": {
      "text/plain": [
       "['3', '3', '3']"
      ]
     },
     "execution_count": 29,
     "metadata": {},
     "output_type": "execute_result"
    }
   ],
   "source": [
    "input().split()"
   ]
  },
  {
   "cell_type": "code",
   "execution_count": 30,
   "metadata": {
    "ExecuteTime": {
     "end_time": "2021-08-28T21:38:16.275432Z",
     "start_time": "2021-08-28T21:38:13.551404Z"
    }
   },
   "outputs": [
    {
     "name": "stdout",
     "output_type": "stream",
     "text": [
      "3 3 3\n"
     ]
    },
    {
     "data": {
      "text/plain": [
       "'3 3 3'"
      ]
     },
     "execution_count": 30,
     "metadata": {},
     "output_type": "execute_result"
    }
   ],
   "source": [
    "input()"
   ]
  },
  {
   "cell_type": "code",
   "execution_count": 31,
   "metadata": {
    "ExecuteTime": {
     "end_time": "2021-08-28T21:40:56.738200Z",
     "start_time": "2021-08-28T21:40:52.392450Z"
    }
   },
   "outputs": [
    {
     "name": "stdout",
     "output_type": "stream",
     "text": [
      "3 3 3\n"
     ]
    },
    {
     "data": {
      "text/plain": [
       "<map at 0x187cb085240>"
      ]
     },
     "execution_count": 31,
     "metadata": {},
     "output_type": "execute_result"
    }
   ],
   "source": [
    "map(int,input().split())"
   ]
  },
  {
   "cell_type": "code",
   "execution_count": 32,
   "metadata": {
    "ExecuteTime": {
     "end_time": "2021-08-28T21:41:14.710037Z",
     "start_time": "2021-08-28T21:41:11.259045Z"
    }
   },
   "outputs": [
    {
     "name": "stdout",
     "output_type": "stream",
     "text": [
      "3 3 3\n"
     ]
    },
    {
     "data": {
      "text/plain": [
       "(3, 3, 3)"
      ]
     },
     "execution_count": 32,
     "metadata": {},
     "output_type": "execute_result"
    }
   ],
   "source": [
    "tuple(map(int,input().split()))"
   ]
  },
  {
   "cell_type": "code",
   "execution_count": 33,
   "metadata": {
    "ExecuteTime": {
     "end_time": "2021-08-28T21:47:12.358708Z",
     "start_time": "2021-08-28T21:47:02.112804Z"
    }
   },
   "outputs": [
    {
     "name": "stdout",
     "output_type": "stream",
     "text": [
      "2 2\n",
      "[[0. 0.]\n",
      " [0. 0.]]\n",
      "[[1. 1.]\n",
      " [1. 1.]]\n"
     ]
    }
   ],
   "source": [
    "import numpy as np\n",
    "\n",
    "dim = tuple(map(int,input().split()))\n",
    "print(np.zeros(dim))\n",
    "print(np.ones(dim))"
   ]
  },
  {
   "cell_type": "code",
   "execution_count": 34,
   "metadata": {
    "ExecuteTime": {
     "end_time": "2021-08-28T21:49:10.343265Z",
     "start_time": "2021-08-28T21:49:06.849692Z"
    }
   },
   "outputs": [
    {
     "name": "stdout",
     "output_type": "stream",
     "text": [
      "2 2\n",
      "[[0 0]\n",
      " [0 0]]\n",
      "[[1 1]\n",
      " [1 1]]\n"
     ]
    }
   ],
   "source": [
    "dim = tuple(map(int,input().split()))\n",
    "print(np.zeros(dim,dtype=np.int))\n",
    "print(np.ones(dim,dtype=np.int))"
   ]
  },
  {
   "cell_type": "code",
   "execution_count": 38,
   "metadata": {
    "ExecuteTime": {
     "end_time": "2021-08-28T22:24:35.024070Z",
     "start_time": "2021-08-28T22:24:32.959222Z"
    }
   },
   "outputs": [
    {
     "name": "stdout",
     "output_type": "stream",
     "text": [
      "3 3\n",
      "[[1. 0. 0.]\n",
      " [0. 1. 0.]\n",
      " [0. 0. 1.]]\n"
     ]
    }
   ],
   "source": [
    "dim = tuple(map(int, input().split()))\n",
    "print(np.identity(dim[0]))"
   ]
  },
  {
   "cell_type": "code",
   "execution_count": 40,
   "metadata": {
    "ExecuteTime": {
     "end_time": "2021-08-28T22:30:36.560642Z",
     "start_time": "2021-08-28T22:30:33.387087Z"
    }
   },
   "outputs": [
    {
     "name": "stdout",
     "output_type": "stream",
     "text": [
      "3 3\n",
      "[[ 1.  0.  0.]\n",
      " [ 0.  1.  0.]\n",
      " [ 0.  0.  1.]]\n"
     ]
    }
   ],
   "source": [
    "\n",
    "np.set_printoptions(legacy='1.13')\n",
    "dim = tuple(map(int, input().split()))\n",
    "print(np.eye(dim[0]))\n",
    "\n"
   ]
  },
  {
   "cell_type": "code",
   "execution_count": 42,
   "metadata": {
    "ExecuteTime": {
     "end_time": "2021-08-28T22:30:59.713674Z",
     "start_time": "2021-08-28T22:30:57.327552Z"
    }
   },
   "outputs": [
    {
     "name": "stdout",
     "output_type": "stream",
     "text": [
      "3 4\n"
     ]
    },
    {
     "ename": "TypeError",
     "evalue": "'tuple' object cannot be interpreted as an integer",
     "output_type": "error",
     "traceback": [
      "\u001b[1;31m---------------------------------------------------------------------------\u001b[0m",
      "\u001b[1;31mTypeError\u001b[0m                                 Traceback (most recent call last)",
      "\u001b[1;32m<ipython-input-42-db9210167bf3>\u001b[0m in \u001b[0;36m<module>\u001b[1;34m\u001b[0m\n\u001b[0;32m      1\u001b[0m \u001b[0mnp\u001b[0m\u001b[1;33m.\u001b[0m\u001b[0mset_printoptions\u001b[0m\u001b[1;33m(\u001b[0m\u001b[0mlegacy\u001b[0m\u001b[1;33m=\u001b[0m\u001b[1;34m'1.13'\u001b[0m\u001b[1;33m)\u001b[0m\u001b[1;33m\u001b[0m\u001b[1;33m\u001b[0m\u001b[0m\n\u001b[0;32m      2\u001b[0m \u001b[0mdim\u001b[0m \u001b[1;33m=\u001b[0m \u001b[0mtuple\u001b[0m\u001b[1;33m(\u001b[0m\u001b[0mmap\u001b[0m\u001b[1;33m(\u001b[0m\u001b[0mint\u001b[0m\u001b[1;33m,\u001b[0m \u001b[0minput\u001b[0m\u001b[1;33m(\u001b[0m\u001b[1;33m)\u001b[0m\u001b[1;33m.\u001b[0m\u001b[0msplit\u001b[0m\u001b[1;33m(\u001b[0m\u001b[1;33m)\u001b[0m\u001b[1;33m)\u001b[0m\u001b[1;33m)\u001b[0m\u001b[1;33m\u001b[0m\u001b[1;33m\u001b[0m\u001b[0m\n\u001b[1;32m----> 3\u001b[1;33m \u001b[0mprint\u001b[0m\u001b[1;33m(\u001b[0m\u001b[0mnp\u001b[0m\u001b[1;33m.\u001b[0m\u001b[0meye\u001b[0m\u001b[1;33m(\u001b[0m\u001b[0mdim\u001b[0m\u001b[1;33m)\u001b[0m\u001b[1;33m)\u001b[0m\u001b[1;33m\u001b[0m\u001b[1;33m\u001b[0m\u001b[0m\n\u001b[0m",
      "\u001b[1;32m~\\Anaconda3\\envs\\learn-env\\lib\\site-packages\\numpy\\lib\\twodim_base.py\u001b[0m in \u001b[0;36meye\u001b[1;34m(N, M, k, dtype, order)\u001b[0m\n\u001b[0;32m    197\u001b[0m     \u001b[1;32mif\u001b[0m \u001b[0mM\u001b[0m \u001b[1;32mis\u001b[0m \u001b[1;32mNone\u001b[0m\u001b[1;33m:\u001b[0m\u001b[1;33m\u001b[0m\u001b[1;33m\u001b[0m\u001b[0m\n\u001b[0;32m    198\u001b[0m         \u001b[0mM\u001b[0m \u001b[1;33m=\u001b[0m \u001b[0mN\u001b[0m\u001b[1;33m\u001b[0m\u001b[1;33m\u001b[0m\u001b[0m\n\u001b[1;32m--> 199\u001b[1;33m     \u001b[0mm\u001b[0m \u001b[1;33m=\u001b[0m \u001b[0mzeros\u001b[0m\u001b[1;33m(\u001b[0m\u001b[1;33m(\u001b[0m\u001b[0mN\u001b[0m\u001b[1;33m,\u001b[0m \u001b[0mM\u001b[0m\u001b[1;33m)\u001b[0m\u001b[1;33m,\u001b[0m \u001b[0mdtype\u001b[0m\u001b[1;33m=\u001b[0m\u001b[0mdtype\u001b[0m\u001b[1;33m,\u001b[0m \u001b[0morder\u001b[0m\u001b[1;33m=\u001b[0m\u001b[0morder\u001b[0m\u001b[1;33m)\u001b[0m\u001b[1;33m\u001b[0m\u001b[1;33m\u001b[0m\u001b[0m\n\u001b[0m\u001b[0;32m    200\u001b[0m     \u001b[1;32mif\u001b[0m \u001b[0mk\u001b[0m \u001b[1;33m>=\u001b[0m \u001b[0mM\u001b[0m\u001b[1;33m:\u001b[0m\u001b[1;33m\u001b[0m\u001b[1;33m\u001b[0m\u001b[0m\n\u001b[0;32m    201\u001b[0m         \u001b[1;32mreturn\u001b[0m \u001b[0mm\u001b[0m\u001b[1;33m\u001b[0m\u001b[1;33m\u001b[0m\u001b[0m\n",
      "\u001b[1;31mTypeError\u001b[0m: 'tuple' object cannot be interpreted as an integer"
     ]
    }
   ],
   "source": [
    "\n",
    "np.set_printoptions(legacy='1.13')\n",
    "dim = tuple(map(int, input().split()))\n",
    "print(np.eye(dim))\n"
   ]
  },
  {
   "cell_type": "code",
   "execution_count": 43,
   "metadata": {
    "ExecuteTime": {
     "end_time": "2021-08-28T22:32:40.202802Z",
     "start_time": "2021-08-28T22:32:37.809506Z"
    }
   },
   "outputs": [
    {
     "name": "stdout",
     "output_type": "stream",
     "text": [
      "3 4\n",
      "[[ 1.  0.  0.  0.]\n",
      " [ 0.  1.  0.  0.]\n",
      " [ 0.  0.  1.  0.]]\n"
     ]
    }
   ],
   "source": [
    "\n",
    "print(np.eye(*map(int, input().split())))"
   ]
  },
  {
   "cell_type": "code",
   "execution_count": 44,
   "metadata": {
    "ExecuteTime": {
     "end_time": "2021-08-28T22:33:11.456490Z",
     "start_time": "2021-08-28T22:33:09.591088Z"
    }
   },
   "outputs": [
    {
     "name": "stdout",
     "output_type": "stream",
     "text": [
      "3 4\n"
     ]
    },
    {
     "ename": "TypeError",
     "evalue": "'map' object cannot be interpreted as an integer",
     "output_type": "error",
     "traceback": [
      "\u001b[1;31m---------------------------------------------------------------------------\u001b[0m",
      "\u001b[1;31mTypeError\u001b[0m                                 Traceback (most recent call last)",
      "\u001b[1;32m<ipython-input-44-9130f93aba19>\u001b[0m in \u001b[0;36m<module>\u001b[1;34m\u001b[0m\n\u001b[1;32m----> 1\u001b[1;33m \u001b[0mprint\u001b[0m\u001b[1;33m(\u001b[0m\u001b[0mnp\u001b[0m\u001b[1;33m.\u001b[0m\u001b[0meye\u001b[0m\u001b[1;33m(\u001b[0m\u001b[0mmap\u001b[0m\u001b[1;33m(\u001b[0m\u001b[0mint\u001b[0m\u001b[1;33m,\u001b[0m \u001b[0minput\u001b[0m\u001b[1;33m(\u001b[0m\u001b[1;33m)\u001b[0m\u001b[1;33m.\u001b[0m\u001b[0msplit\u001b[0m\u001b[1;33m(\u001b[0m\u001b[1;33m)\u001b[0m\u001b[1;33m)\u001b[0m\u001b[1;33m)\u001b[0m\u001b[1;33m)\u001b[0m\u001b[1;33m\u001b[0m\u001b[1;33m\u001b[0m\u001b[0m\n\u001b[0m",
      "\u001b[1;32m~\\Anaconda3\\envs\\learn-env\\lib\\site-packages\\numpy\\lib\\twodim_base.py\u001b[0m in \u001b[0;36meye\u001b[1;34m(N, M, k, dtype, order)\u001b[0m\n\u001b[0;32m    197\u001b[0m     \u001b[1;32mif\u001b[0m \u001b[0mM\u001b[0m \u001b[1;32mis\u001b[0m \u001b[1;32mNone\u001b[0m\u001b[1;33m:\u001b[0m\u001b[1;33m\u001b[0m\u001b[1;33m\u001b[0m\u001b[0m\n\u001b[0;32m    198\u001b[0m         \u001b[0mM\u001b[0m \u001b[1;33m=\u001b[0m \u001b[0mN\u001b[0m\u001b[1;33m\u001b[0m\u001b[1;33m\u001b[0m\u001b[0m\n\u001b[1;32m--> 199\u001b[1;33m     \u001b[0mm\u001b[0m \u001b[1;33m=\u001b[0m \u001b[0mzeros\u001b[0m\u001b[1;33m(\u001b[0m\u001b[1;33m(\u001b[0m\u001b[0mN\u001b[0m\u001b[1;33m,\u001b[0m \u001b[0mM\u001b[0m\u001b[1;33m)\u001b[0m\u001b[1;33m,\u001b[0m \u001b[0mdtype\u001b[0m\u001b[1;33m=\u001b[0m\u001b[0mdtype\u001b[0m\u001b[1;33m,\u001b[0m \u001b[0morder\u001b[0m\u001b[1;33m=\u001b[0m\u001b[0morder\u001b[0m\u001b[1;33m)\u001b[0m\u001b[1;33m\u001b[0m\u001b[1;33m\u001b[0m\u001b[0m\n\u001b[0m\u001b[0;32m    200\u001b[0m     \u001b[1;32mif\u001b[0m \u001b[0mk\u001b[0m \u001b[1;33m>=\u001b[0m \u001b[0mM\u001b[0m\u001b[1;33m:\u001b[0m\u001b[1;33m\u001b[0m\u001b[1;33m\u001b[0m\u001b[0m\n\u001b[0;32m    201\u001b[0m         \u001b[1;32mreturn\u001b[0m \u001b[0mm\u001b[0m\u001b[1;33m\u001b[0m\u001b[1;33m\u001b[0m\u001b[0m\n",
      "\u001b[1;31mTypeError\u001b[0m: 'map' object cannot be interpreted as an integer"
     ]
    }
   ],
   "source": [
    "\n",
    "print(np.eye(map(int, input().split())))"
   ]
  },
  {
   "cell_type": "code",
   "execution_count": 47,
   "metadata": {
    "ExecuteTime": {
     "end_time": "2021-08-28T22:34:29.819615Z",
     "start_time": "2021-08-28T22:34:29.812667Z"
    }
   },
   "outputs": [
    {
     "ename": "SyntaxError",
     "evalue": "can't use starred expression here (<ipython-input-47-eb0f3eef5bb6>, line 5)",
     "output_type": "error",
     "traceback": [
      "\u001b[1;36m  File \u001b[1;32m\"<ipython-input-47-eb0f3eef5bb6>\"\u001b[1;36m, line \u001b[1;32m5\u001b[0m\n\u001b[1;31mSyntaxError\u001b[0m\u001b[1;31m:\u001b[0m can't use starred expression here\n"
     ]
    }
   ],
   "source": [
    "np.set_printoptions(legacy='1.13')\n",
    "dim = (*map(int, input().split()))\n",
    "print(np.eye(dim))"
   ]
  },
  {
   "cell_type": "code",
   "execution_count": 55,
   "metadata": {
    "ExecuteTime": {
     "end_time": "2021-08-29T01:04:51.107335Z",
     "start_time": "2021-08-29T01:04:41.379752Z"
    }
   },
   "outputs": [
    {
     "name": "stdout",
     "output_type": "stream",
     "text": [
      "1 4\n",
      "2 5 9 7\n",
      " 6 5 4 1\n",
      "[ 8 10 13  8]\n"
     ]
    }
   ],
   "source": [
    "n,m = map(int, input().split())\n",
    "\n",
    "a = np.array(list(map(int, input().split())))\n",
    "b = np.array(list(map(int, input().split())))\n",
    "\n",
    "print(a+b)"
   ]
  },
  {
   "cell_type": "code",
   "execution_count": 57,
   "metadata": {
    "ExecuteTime": {
     "end_time": "2021-08-29T01:15:24.318921Z",
     "start_time": "2021-08-29T01:15:13.875209Z"
    }
   },
   "outputs": [
    {
     "name": "stdout",
     "output_type": "stream",
     "text": [
      "2 4\n",
      "1 5 6 8\n",
      "5 4 2 6\n",
      "[[ 6  9  8 14]]\n",
      "[[-4  1  4  2]]\n",
      "[[ 5 20 12 48]]\n",
      "[[0 1 3 1]]\n",
      "[[1 1 0 2]]\n",
      "[[     1    625     36 262144]]\n"
     ]
    }
   ],
   "source": [
    "np.set_printoptions(legacy='1.13')\n",
    "\n",
    "num = map(int, input().split())\n",
    "\n",
    "a = np.array([input().split()],int)\n",
    "\n",
    "b = np.array([input().split()],int)\n",
    "\n",
    "print(np.add(a,b), np.subtract(a,b), np.multiply(a,b), np.floor_divide(a,b),np.mod(a,b), np.power(a,b), sep = '\\n')"
   ]
  },
  {
   "cell_type": "markdown",
   "metadata": {},
   "source": [
    "### Palindromic triangle"
   ]
  },
  {
   "cell_type": "code",
   "execution_count": 60,
   "metadata": {
    "ExecuteTime": {
     "end_time": "2021-08-29T04:40:26.592687Z",
     "start_time": "2021-08-29T04:40:25.140927Z"
    }
   },
   "outputs": [
    {
     "name": "stdout",
     "output_type": "stream",
     "text": [
      "5\n",
      "1\n",
      "121\n",
      "12321\n",
      "1234321\n",
      "123454321\n"
     ]
    }
   ],
   "source": [
    "for i in range(1,int(input())+1):\n",
    "    print(int(((10**i-1)/9)**2))"
   ]
  },
  {
   "cell_type": "code",
   "execution_count": 63,
   "metadata": {
    "ExecuteTime": {
     "end_time": "2021-08-29T04:42:19.297700Z",
     "start_time": "2021-08-29T04:42:18.156302Z"
    }
   },
   "outputs": [
    {
     "name": "stdout",
     "output_type": "stream",
     "text": [
      "5\n",
      "1\n",
      "121\n",
      "12321\n",
      "1234321\n",
      "123454321\n"
     ]
    }
   ],
   "source": [
    "for i in range(1,int(input())+1):\n",
    "    print(((10**i//9)**2))"
   ]
  },
  {
   "cell_type": "markdown",
   "metadata": {},
   "source": [
    "### Mod Divmod\n",
    "\n",
    "**Divmod**: Returns quotient and remainder as a tuple."
   ]
  },
  {
   "cell_type": "code",
   "execution_count": 65,
   "metadata": {
    "ExecuteTime": {
     "end_time": "2021-08-29T04:50:02.213645Z",
     "start_time": "2021-08-29T04:49:58.333429Z"
    }
   },
   "outputs": [
    {
     "name": "stdout",
     "output_type": "stream",
     "text": [
      "177\n",
      "7\n",
      "25\n",
      "2\n",
      "(25, 2)\n"
     ]
    }
   ],
   "source": [
    "a=int(input())\n",
    "b=int(input())\n",
    "\n",
    "print(a//b)\n",
    "print(a%b)\n",
    "print(divmod(a,b))"
   ]
  },
  {
   "cell_type": "markdown",
   "metadata": {},
   "source": [
    "### Alphabet Rangoli"
   ]
  },
  {
   "cell_type": "code",
   "execution_count": 67,
   "metadata": {
    "ExecuteTime": {
     "end_time": "2021-08-29T06:09:12.197302Z",
     "start_time": "2021-08-29T06:09:12.184091Z"
    }
   },
   "outputs": [
    {
     "data": {
      "text/plain": [
       "'abcdefghijklmnopqrstuvwxyz'"
      ]
     },
     "execution_count": 67,
     "metadata": {},
     "output_type": "execute_result"
    }
   ],
   "source": [
    "import string\n",
    "string.ascii_lowercase"
   ]
  },
  {
   "cell_type": "code",
   "execution_count": 71,
   "metadata": {
    "ExecuteTime": {
     "end_time": "2021-08-29T06:11:53.133999Z",
     "start_time": "2021-08-29T06:11:53.126680Z"
    }
   },
   "outputs": [],
   "source": [
    "alpha = string.ascii_lowercase"
   ]
  },
  {
   "cell_type": "code",
   "execution_count": 70,
   "metadata": {
    "ExecuteTime": {
     "end_time": "2021-08-29T06:11:53.117369Z",
     "start_time": "2021-08-29T06:11:26.546348Z"
    }
   },
   "outputs": [
    {
     "name": "stdout",
     "output_type": "stream",
     "text": [
      "8\n"
     ]
    }
   ],
   "source": [
    "n=int(input())"
   ]
  },
  {
   "cell_type": "code",
   "execution_count": 77,
   "metadata": {
    "ExecuteTime": {
     "end_time": "2021-08-29T06:26:01.263318Z",
     "start_time": "2021-08-29T06:26:01.247424Z"
    }
   },
   "outputs": [
    {
     "name": "stdout",
     "output_type": "stream",
     "text": [
      "h-----------------------------\n",
      "h-g---------------h-------------\n",
      "h-g-f--------------g-h------------\n",
      "h-g-f-e-------------f-g-h-----------\n",
      "h-g-f-e-d------------e-f-g-h----------\n",
      "h-g-f-e-d-c-----------d-e-f-g-h---------\n",
      "h-g-f-e-d-c-b----------c-d-e-f-g-h--------\n",
      "h-g-f-e-d-c-b-a---------b-c-d-e-f-g-h-------\n",
      "h-g-f-e-d-c-b----------c-d-e-f-g-h--------\n",
      "h-g-f-e-d-c-----------d-e-f-g-h---------\n",
      "h-g-f-e-d------------e-f-g-h----------\n",
      "h-g-f-e-------------f-g-h-----------\n",
      "h-g-f--------------g-h------------\n",
      "h-g---------------h-------------\n",
      "h-----------------------------\n"
     ]
    }
   ],
   "source": [
    "L=[]\n",
    "for i in range(n):\n",
    "    s = \"-\".join(alpha[i:n])\n",
    "    L.append(s[::-1]+s[1:].center(4*n-3,\"-\"))\n",
    "print('\\n'.join(L[:0:-1]+L))"
   ]
  },
  {
   "cell_type": "code",
   "execution_count": 76,
   "metadata": {
    "ExecuteTime": {
     "end_time": "2021-08-29T06:24:51.138237Z",
     "start_time": "2021-08-29T06:24:51.119863Z"
    }
   },
   "outputs": [
    {
     "name": "stdout",
     "output_type": "stream",
     "text": [
      "--------------h--------------\n",
      "------------h-g-h------------\n",
      "----------h-g-f-g-h----------\n",
      "--------h-g-f-e-f-g-h--------\n",
      "------h-g-f-e-d-e-f-g-h------\n",
      "----h-g-f-e-d-c-d-e-f-g-h----\n",
      "--h-g-f-e-d-c-b-c-d-e-f-g-h--\n",
      "h-g-f-e-d-c-b-a-b-c-d-e-f-g-h\n",
      "--h-g-f-e-d-c-b-c-d-e-f-g-h--\n",
      "----h-g-f-e-d-c-d-e-f-g-h----\n",
      "------h-g-f-e-d-e-f-g-h------\n",
      "--------h-g-f-e-f-g-h--------\n",
      "----------h-g-f-g-h----------\n",
      "------------h-g-h------------\n",
      "--------------h--------------\n"
     ]
    }
   ],
   "source": [
    "L = []\n",
    "for i in range(n):\n",
    "    s = \"-\".join(alpha[i:n])\n",
    "    L.append((s[::-1]+s[1:]).center(4*n-3, \"-\"))\n",
    "print('\\n'.join(L[:0:-1]+L))"
   ]
  },
  {
   "cell_type": "markdown",
   "metadata": {},
   "source": [
    "### Minion Game"
   ]
  },
  {
   "cell_type": "code",
   "execution_count": 78,
   "metadata": {
    "ExecuteTime": {
     "end_time": "2021-08-29T06:57:41.937541Z",
     "start_time": "2021-08-29T06:57:41.913074Z"
    }
   },
   "outputs": [],
   "source": [
    "vowel = 'AEIOU'\n",
    "\n",
    "def minion_game(string,player1,player2):\n",
    "    player1scr=0\n",
    "    player2scr=0\n",
    "    for i in range(len(string)):\n",
    "        if string[i] in vowel:\n",
    "            player1scr += (len(string)-i)\n",
    "        else:\n",
    "            player2scr += (len(string)-i)\n",
    "    if player1scr>player2scr:\n",
    "        print(player1,player1scr)\n",
    "    elif player2scr>player1scr:\n",
    "        print(player2,player2scr)\n",
    "    else:\n",
    "        print(\"Draw\")\n",
    "    "
   ]
  },
  {
   "cell_type": "code",
   "execution_count": 79,
   "metadata": {
    "ExecuteTime": {
     "end_time": "2021-08-29T06:58:18.708192Z",
     "start_time": "2021-08-29T06:58:18.693323Z"
    }
   },
   "outputs": [
    {
     "name": "stdout",
     "output_type": "stream",
     "text": [
      "Neha 12\n"
     ]
    }
   ],
   "source": [
    "minion_game(\"BANANA\",\"Sweta\",\"Neha\")"
   ]
  },
  {
   "cell_type": "code",
   "execution_count": 84,
   "metadata": {
    "ExecuteTime": {
     "end_time": "2021-08-29T21:19:16.709213Z",
     "start_time": "2021-08-29T21:19:00.534187Z"
    }
   },
   "outputs": [
    {
     "name": "stdout",
     "output_type": "stream",
     "text": [
      "DFDLLV\n",
      "3\n"
     ]
    },
    {
     "data": {
      "text/plain": [
       "['DF', 'DL', 'LV']"
      ]
     },
     "execution_count": 84,
     "metadata": {},
     "output_type": "execute_result"
    }
   ],
   "source": [
    "s = input()\n",
    "k = int(input())\n",
    "\n",
    "ti = []\n",
    "\n",
    "n=int(len(s)/k)\n",
    "\n",
    "m=0\n",
    "while m<len(s):\n",
    "    ti.append(s[m:m+n])\n",
    "    m+=n\n",
    "\n",
    "ti"
   ]
  },
  {
   "cell_type": "code",
   "execution_count": 85,
   "metadata": {
    "ExecuteTime": {
     "end_time": "2021-08-29T21:20:00.479490Z",
     "start_time": "2021-08-29T21:19:53.034101Z"
    }
   },
   "outputs": [
    {
     "name": "stdout",
     "output_type": "stream",
     "text": [
      "AAKDDNJKL\n",
      "3\n"
     ]
    },
    {
     "data": {
      "text/plain": [
       "['AAK', 'DDN', 'JKL']"
      ]
     },
     "execution_count": 85,
     "metadata": {},
     "output_type": "execute_result"
    }
   ],
   "source": [
    "s = input()\n",
    "k = int(input())\n",
    "\n",
    "ti = []\n",
    "\n",
    "n=int(len(s)/k)\n",
    "\n",
    "m=0\n",
    "while m<len(s):\n",
    "    ti.append(s[m:m+n])\n",
    "    m+=n\n",
    "\n",
    "ti"
   ]
  },
  {
   "cell_type": "code",
   "execution_count": 99,
   "metadata": {
    "ExecuteTime": {
     "end_time": "2021-08-29T21:28:14.418458Z",
     "start_time": "2021-08-29T21:28:14.409484Z"
    },
    "scrolled": true
   },
   "outputs": [
    {
     "data": {
      "text/plain": [
       "[{'A', 'K'}, {'D', 'N'}, {'J', 'K', 'L'}]"
      ]
     },
     "execution_count": 99,
     "metadata": {},
     "output_type": "execute_result"
    }
   ],
   "source": [
    "list(set(ti[i]) for i in range(len(ti)))"
   ]
  },
  {
   "cell_type": "code",
   "execution_count": 107,
   "metadata": {
    "ExecuteTime": {
     "end_time": "2021-08-29T21:37:38.360195Z",
     "start_time": "2021-08-29T21:37:30.202948Z"
    }
   },
   "outputs": [
    {
     "name": "stdout",
     "output_type": "stream",
     "text": [
      "KKJNDHWWW\n",
      "3\n"
     ]
    },
    {
     "data": {
      "text/plain": [
       "['KJ', 'NDH', 'W']"
      ]
     },
     "execution_count": 107,
     "metadata": {},
     "output_type": "execute_result"
    }
   ],
   "source": [
    "s = input()\n",
    "k = int(input())\n",
    "\n",
    "ti = []\n",
    "\n",
    "n=int(len(s)/k)\n",
    "\n",
    "m=0\n",
    "while m<len(s):\n",
    "    ti.append(s[m:m+n])\n",
    "    m+=n\n",
    "\n",
    "ui = list(\"\".join(dict.fromkeys(ti[i])) for i in range(len(ti)))\n",
    "ui"
   ]
  },
  {
   "cell_type": "code",
   "execution_count": 108,
   "metadata": {
    "ExecuteTime": {
     "end_time": "2021-08-29T21:54:31.973915Z",
     "start_time": "2021-08-29T21:54:31.945987Z"
    }
   },
   "outputs": [
    {
     "ename": "TypeError",
     "evalue": "'module' object is not subscriptable",
     "output_type": "error",
     "traceback": [
      "\u001b[1;31m---------------------------------------------------------------------------\u001b[0m",
      "\u001b[1;31mTypeError\u001b[0m                                 Traceback (most recent call last)",
      "\u001b[1;32m<ipython-input-108-7468091e11c6>\u001b[0m in \u001b[0;36m<module>\u001b[1;34m\u001b[0m\n\u001b[0;32m      1\u001b[0m \u001b[1;32mfor\u001b[0m \u001b[0mi\u001b[0m \u001b[1;32min\u001b[0m \u001b[0mrange\u001b[0m\u001b[1;33m(\u001b[0m\u001b[1;36m0\u001b[0m\u001b[1;33m,\u001b[0m \u001b[0mlen\u001b[0m\u001b[1;33m(\u001b[0m\u001b[0ms\u001b[0m\u001b[1;33m)\u001b[0m\u001b[1;33m,\u001b[0m \u001b[0mk\u001b[0m\u001b[1;33m)\u001b[0m\u001b[1;33m:\u001b[0m\u001b[1;33m\u001b[0m\u001b[1;33m\u001b[0m\u001b[0m\n\u001b[0;32m      2\u001b[0m         \u001b[0muniq\u001b[0m \u001b[1;33m=\u001b[0m \u001b[1;34m''\u001b[0m\u001b[1;33m\u001b[0m\u001b[1;33m\u001b[0m\u001b[0m\n\u001b[1;32m----> 3\u001b[1;33m         \u001b[1;32mfor\u001b[0m \u001b[0mc\u001b[0m \u001b[1;32min\u001b[0m \u001b[0mstring\u001b[0m\u001b[1;33m[\u001b[0m\u001b[0mi\u001b[0m \u001b[1;33m:\u001b[0m \u001b[0mi\u001b[0m\u001b[1;33m+\u001b[0m\u001b[0mk\u001b[0m\u001b[1;33m]\u001b[0m\u001b[1;33m:\u001b[0m\u001b[1;33m\u001b[0m\u001b[1;33m\u001b[0m\u001b[0m\n\u001b[0m\u001b[0;32m      4\u001b[0m             \u001b[1;32mif\u001b[0m \u001b[1;33m(\u001b[0m\u001b[0mc\u001b[0m \u001b[1;32mnot\u001b[0m \u001b[1;32min\u001b[0m \u001b[0muniq\u001b[0m\u001b[1;33m)\u001b[0m\u001b[1;33m:\u001b[0m\u001b[1;33m\u001b[0m\u001b[1;33m\u001b[0m\u001b[0m\n\u001b[0;32m      5\u001b[0m                 \u001b[0muniq\u001b[0m\u001b[1;33m+=\u001b[0m\u001b[0mc\u001b[0m\u001b[1;33m\u001b[0m\u001b[1;33m\u001b[0m\u001b[0m\n",
      "\u001b[1;31mTypeError\u001b[0m: 'module' object is not subscriptable"
     ]
    }
   ],
   "source": [
    "for i in range(0, len(s), k):\n",
    "        uniq = ''\n",
    "        for c in string[i : i+k]:\n",
    "            if (c not in uniq):\n",
    "                uniq+=c\n",
    "        print(uniq)"
   ]
  },
  {
   "cell_type": "markdown",
   "metadata": {},
   "source": [
    "### Set and Union, Intersection\n",
    "\n",
    "**Only** works for **SET**"
   ]
  },
  {
   "cell_type": "code",
   "execution_count": 112,
   "metadata": {
    "ExecuteTime": {
     "end_time": "2021-08-29T22:05:07.027813Z",
     "start_time": "2021-08-29T22:05:07.013118Z"
    }
   },
   "outputs": [
    {
     "data": {
      "text/plain": [
       "{'H', 'R', 'a', 'c', 'e', 'k', 'n', 'r'}"
      ]
     },
     "execution_count": 112,
     "metadata": {},
     "output_type": "execute_result"
    }
   ],
   "source": [
    "s=set(\"Rank\")\n",
    "s.union(set((\"Hacker\")))"
   ]
  },
  {
   "cell_type": "code",
   "execution_count": 113,
   "metadata": {
    "ExecuteTime": {
     "end_time": "2021-08-29T22:08:47.074089Z",
     "start_time": "2021-08-29T22:08:47.057763Z"
    }
   },
   "outputs": [
    {
     "data": {
      "text/plain": [
       "{'H', 'R', 'a', 'c', 'e', 'k', 'n', 'r'}"
      ]
     },
     "execution_count": 113,
     "metadata": {},
     "output_type": "execute_result"
    }
   ],
   "source": [
    "s=set(\"Rank\")\n",
    "s.union(\"Hacker\")"
   ]
  },
  {
   "cell_type": "code",
   "execution_count": 114,
   "metadata": {
    "ExecuteTime": {
     "end_time": "2021-08-29T23:55:31.881435Z",
     "start_time": "2021-08-29T23:54:29.091167Z"
    }
   },
   "outputs": [
    {
     "name": "stdout",
     "output_type": "stream",
     "text": [
      "6\n",
      "5 12 45 18 3 7\n",
      "6\n",
      "5 12 18 6 9 10\n",
      "{18, 3, 5, 6, 7, 9, 10, 12, 45}\n"
     ]
    }
   ],
   "source": [
    "n = int(input())\n",
    "eng_students = list(map(int, input().split()))\n",
    "b = int(input())\n",
    "french_students = list(map(int, input().split()))\n",
    "\n",
    "es = set(eng_students)\n",
    "print(es.union(french_students))"
   ]
  },
  {
   "cell_type": "code",
   "execution_count": 115,
   "metadata": {
    "ExecuteTime": {
     "end_time": "2021-08-29T23:56:42.809018Z",
     "start_time": "2021-08-29T23:56:08.610574Z"
    }
   },
   "outputs": [
    {
     "name": "stdout",
     "output_type": "stream",
     "text": [
      "6\n",
      "5 12 45 18 3 7\n",
      "6\n",
      "5 12 18 6 9 10\n",
      "9\n"
     ]
    }
   ],
   "source": [
    "n = int(input())\n",
    "eng_students = list(map(int, input().split()))\n",
    "b = int(input())\n",
    "french_students = list(map(int, input().split()))\n",
    "\n",
    "es = set(eng_students)\n",
    "print(len(es.union(french_students)))"
   ]
  },
  {
   "cell_type": "code",
   "execution_count": 116,
   "metadata": {
    "ExecuteTime": {
     "end_time": "2021-08-30T00:00:35.052557Z",
     "start_time": "2021-08-30T00:00:05.232842Z"
    }
   },
   "outputs": [
    {
     "name": "stdout",
     "output_type": "stream",
     "text": [
      "6\n",
      "45 12 1 3 56 9\n",
      "6\n",
      "45 1 3 6 15 2\n",
      "3\n"
     ]
    }
   ],
   "source": [
    "n = int(input())\n",
    "eng_students = list(map(int, input().split()))\n",
    "b = int(input())\n",
    "french_students = list(map(int, input().split()))\n",
    "\n",
    "es = set(eng_students)\n",
    "print(len(es.intersection(french_students)))"
   ]
  },
  {
   "cell_type": "code",
   "execution_count": 117,
   "metadata": {
    "ExecuteTime": {
     "end_time": "2021-08-30T00:01:04.420809Z",
     "start_time": "2021-08-30T00:01:04.398180Z"
    }
   },
   "outputs": [
    {
     "name": "stdout",
     "output_type": "stream",
     "text": [
      "{1, 3, 45}\n"
     ]
    }
   ],
   "source": [
    "print(es.intersection(french_students))"
   ]
  },
  {
   "cell_type": "markdown",
   "metadata": {},
   "source": [
    "## Python Problems"
   ]
  },
  {
   "cell_type": "code",
   "execution_count": 119,
   "metadata": {
    "ExecuteTime": {
     "end_time": "2021-08-30T01:13:27.570175Z",
     "start_time": "2021-08-30T01:13:27.539685Z"
    }
   },
   "outputs": [
    {
     "ename": "AttributeError",
     "evalue": "type object 'str' has no attribute 'ascii_lowercase'",
     "output_type": "error",
     "traceback": [
      "\u001b[1;31m---------------------------------------------------------------------------\u001b[0m",
      "\u001b[1;31mAttributeError\u001b[0m                            Traceback (most recent call last)",
      "\u001b[1;32m<ipython-input-119-6aec0373373e>\u001b[0m in \u001b[0;36m<module>\u001b[1;34m\u001b[0m\n\u001b[1;32m----> 1\u001b[1;33m \u001b[0mstr\u001b[0m\u001b[1;33m.\u001b[0m\u001b[0mascii_lowercase\u001b[0m\u001b[1;33m(\u001b[0m\u001b[1;33m)\u001b[0m\u001b[1;33m\u001b[0m\u001b[1;33m\u001b[0m\u001b[0m\n\u001b[0m",
      "\u001b[1;31mAttributeError\u001b[0m: type object 'str' has no attribute 'ascii_lowercase'"
     ]
    }
   ],
   "source": [
    "str.ascii_lowercase()"
   ]
  },
  {
   "cell_type": "markdown",
   "metadata": {},
   "source": [
    "### Check if palindrome"
   ]
  },
  {
   "cell_type": "code",
   "execution_count": 125,
   "metadata": {
    "ExecuteTime": {
     "end_time": "2021-08-30T04:32:33.104144Z",
     "start_time": "2021-08-30T04:32:33.082494Z"
    }
   },
   "outputs": [
    {
     "data": {
      "text/plain": [
       "True"
      ]
     },
     "execution_count": 125,
     "metadata": {},
     "output_type": "execute_result"
    }
   ],
   "source": [
    "a=\"anna\"\n",
    "a[::-1]==a"
   ]
  },
  {
   "cell_type": "code",
   "execution_count": 126,
   "metadata": {
    "ExecuteTime": {
     "end_time": "2021-08-30T04:33:38.133871Z",
     "start_time": "2021-08-30T04:33:38.109940Z"
    }
   },
   "outputs": [
    {
     "data": {
      "text/plain": [
       "True"
      ]
     },
     "execution_count": 126,
     "metadata": {},
     "output_type": "execute_result"
    }
   ],
   "source": [
    "\"a\" in \"anna\""
   ]
  },
  {
   "cell_type": "markdown",
   "metadata": {},
   "source": [
    "### Check if prime"
   ]
  },
  {
   "cell_type": "code",
   "execution_count": 3,
   "metadata": {
    "ExecuteTime": {
     "end_time": "2021-08-30T23:32:40.257922Z",
     "start_time": "2021-08-30T23:32:40.251936Z"
    }
   },
   "outputs": [
    {
     "data": {
      "text/plain": [
       "3"
      ]
     },
     "execution_count": 3,
     "metadata": {},
     "output_type": "execute_result"
    }
   ],
   "source": [
    "10%7"
   ]
  },
  {
   "cell_type": "code",
   "execution_count": 11,
   "metadata": {
    "ExecuteTime": {
     "end_time": "2021-08-30T23:35:09.243182Z",
     "start_time": "2021-08-30T23:35:08.084518Z"
    }
   },
   "outputs": [
    {
     "name": "stdout",
     "output_type": "stream",
     "text": [
      "13\n",
      "13 is prime\n"
     ]
    }
   ],
   "source": [
    "number = int(input())\n",
    "\n",
    "if number>1:\n",
    "    for i in range(2,int(number/2)):\n",
    "        if number%i == 0:\n",
    "            print(f\"{number} is not prime\")\n",
    "            break\n",
    "    else:\n",
    "        print(f\"{number} is prime\")\n",
    "else:\n",
    "    print(f\"{number} is prime\")"
   ]
  },
  {
   "cell_type": "code",
   "execution_count": 12,
   "metadata": {
    "ExecuteTime": {
     "end_time": "2021-08-30T23:35:29.273104Z",
     "start_time": "2021-08-30T23:35:28.188244Z"
    }
   },
   "outputs": [
    {
     "name": "stdout",
     "output_type": "stream",
     "text": [
      "1\n",
      "1 is prime\n"
     ]
    }
   ],
   "source": [
    "number = int(input())\n",
    "\n",
    "if number>1:\n",
    "    for i in range(2,int(number/2)):\n",
    "        if number%i == 0:\n",
    "            print(f\"{number} is not prime\")\n",
    "            break\n",
    "    else:\n",
    "        print(f\"{number} is prime\")\n",
    "else:\n",
    "    print(f\"{number} is prime\")"
   ]
  },
  {
   "cell_type": "markdown",
   "metadata": {},
   "source": [
    "### If monotonic\n",
    "\n",
    "either always increasing or always decreasing"
   ]
  },
  {
   "cell_type": "code",
   "execution_count": 20,
   "metadata": {
    "ExecuteTime": {
     "end_time": "2021-08-31T00:07:00.137323Z",
     "start_time": "2021-08-31T00:06:45.252199Z"
    }
   },
   "outputs": [
    {
     "name": "stdout",
     "output_type": "stream",
     "text": [
      "1 2 6 8 9 12\n",
      "series is monotonic\n"
     ]
    }
   ],
   "source": [
    "series = list(map(int, input().split()))\n",
    "\n",
    "if all(series[i]>=series[i+1] for i in range(len(series)-1)) or all(series[i]<=series[i+1] for i in range(len(series)-1)):\n",
    "    print(\"series is monotonic\")\n",
    "else:\n",
    "    print(\"series is non-monotonic\")"
   ]
  },
  {
   "cell_type": "code",
   "execution_count": 21,
   "metadata": {
    "ExecuteTime": {
     "end_time": "2021-08-31T00:07:20.822579Z",
     "start_time": "2021-08-31T00:07:13.464515Z"
    }
   },
   "outputs": [
    {
     "name": "stdout",
     "output_type": "stream",
     "text": [
      "1 5 6 2 8 4 6 23\n",
      "series is non-monotonic\n"
     ]
    }
   ],
   "source": [
    "series = list(map(int, input().split()))\n",
    "\n",
    "if all(series[i]>=series[i+1] for i in range(len(series)-1)) or all(series[i]<=series[i+1] for i in range(len(series)-1)):\n",
    "    print(\"series is monotonic\")\n",
    "else:\n",
    "    print(\"series is non-monotonic\")"
   ]
  },
  {
   "cell_type": "markdown",
   "metadata": {},
   "source": [
    "### Duplicates"
   ]
  },
  {
   "cell_type": "code",
   "execution_count": 23,
   "metadata": {
    "ExecuteTime": {
     "end_time": "2021-08-31T00:17:00.095657Z",
     "start_time": "2021-08-31T00:17:00.091694Z"
    }
   },
   "outputs": [],
   "source": [
    "def del_duplicates(series):\n",
    "    unique=[]\n",
    "    for i in range(len(series)):\n",
    "        if series[i] not in unique:\n",
    "            unique.append(series[i])\n",
    "    return unique"
   ]
  },
  {
   "cell_type": "code",
   "execution_count": 24,
   "metadata": {
    "ExecuteTime": {
     "end_time": "2021-08-31T00:17:21.039115Z",
     "start_time": "2021-08-31T00:17:21.034128Z"
    }
   },
   "outputs": [
    {
     "data": {
      "text/plain": [
       "[1, 2, 3, 6, 5, 8, 9, 4]"
      ]
     },
     "execution_count": 24,
     "metadata": {},
     "output_type": "execute_result"
    }
   ],
   "source": [
    "del_duplicates([1,2,3,6,6,5,5,8,8,9,4,4,6])"
   ]
  },
  {
   "cell_type": "code",
   "execution_count": 28,
   "metadata": {
    "ExecuteTime": {
     "end_time": "2021-08-31T00:22:06.145777Z",
     "start_time": "2021-08-31T00:22:06.138826Z"
    }
   },
   "outputs": [],
   "source": [
    "def find_duplicates(series):\n",
    "    duplicates = []\n",
    "    for i in range(len(series)):\n",
    "        for j in range(len(series)):\n",
    "            if i!=j:\n",
    "                if series[i]==series[j] and series[j] not in duplicates:\n",
    "                    duplicates.append(series[j])\n",
    "    return duplicates"
   ]
  },
  {
   "cell_type": "code",
   "execution_count": 29,
   "metadata": {
    "ExecuteTime": {
     "end_time": "2021-08-31T00:22:06.461654Z",
     "start_time": "2021-08-31T00:22:06.457644Z"
    }
   },
   "outputs": [
    {
     "data": {
      "text/plain": [
       "[6, 5, 8, 4]"
      ]
     },
     "execution_count": 29,
     "metadata": {},
     "output_type": "execute_result"
    }
   ],
   "source": [
    "find_duplicates([1,2,3,6,6,5,5,8,8,9,4,4,6,5,6,7])"
   ]
  },
  {
   "cell_type": "markdown",
   "metadata": {},
   "source": [
    "### recurring numbers"
   ]
  },
  {
   "cell_type": "code",
   "execution_count": 37,
   "metadata": {
    "ExecuteTime": {
     "end_time": "2021-08-31T03:14:58.689940Z",
     "start_time": "2021-08-31T03:14:58.684985Z"
    }
   },
   "outputs": [
    {
     "name": "stdout",
     "output_type": "stream",
     "text": [
      "2\n"
     ]
    }
   ],
   "source": [
    "# 1st non-recurring number\n",
    "s=[1,1,1,1,2,3,6,4]\n",
    "for i in range(len(s)-1):\n",
    "    if s[i]!=s[i+1]:\n",
    "        print(s[i+1])\n",
    "        break"
   ]
  },
  {
   "cell_type": "code",
   "execution_count": 67,
   "metadata": {
    "ExecuteTime": {
     "end_time": "2021-08-31T04:30:42.784932Z",
     "start_time": "2021-08-31T04:30:42.777951Z"
    }
   },
   "outputs": [
    {
     "name": "stdout",
     "output_type": "stream",
     "text": [
      "1\n"
     ]
    }
   ],
   "source": [
    "# most recurring nummber\n",
    "s=[1,1,6,3,6,5,8,9,5,5,2,36,3,2,1,2]\n",
    "k=max(s,key=s.count)\n",
    "print(k)"
   ]
  },
  {
   "cell_type": "code",
   "execution_count": null,
   "metadata": {
    "ExecuteTime": {
     "end_time": "2021-08-31T03:19:31.097419Z",
     "start_time": "2021-08-31T03:19:31.093389Z"
    }
   },
   "outputs": [],
   "source": [
    "\n"
   ]
  },
  {
   "cell_type": "code",
   "execution_count": 43,
   "metadata": {
    "ExecuteTime": {
     "end_time": "2021-08-31T03:34:37.899175Z",
     "start_time": "2021-08-31T03:34:37.892192Z"
    }
   },
   "outputs": [
    {
     "data": {
      "text/plain": [
       "[1, 1, 1, 2, 2, 2, 3, 3, 5, 5, 5, 6, 6, 8, 9, 36]"
      ]
     },
     "execution_count": 43,
     "metadata": {},
     "output_type": "execute_result"
    }
   ],
   "source": [
    "s.sort()\n",
    "s"
   ]
  },
  {
   "cell_type": "code",
   "execution_count": 44,
   "metadata": {
    "ExecuteTime": {
     "end_time": "2021-08-31T03:35:38.778650Z",
     "start_time": "2021-08-31T03:35:38.773631Z"
    }
   },
   "outputs": [
    {
     "data": {
      "text/plain": [
       "[36, 9, 8, 6, 6, 5, 5, 5, 3, 3, 2, 2, 2, 1, 1, 1]"
      ]
     },
     "execution_count": 44,
     "metadata": {},
     "output_type": "execute_result"
    }
   ],
   "source": [
    "s.sort(reverse=True)\n",
    "s"
   ]
  },
  {
   "cell_type": "code",
   "execution_count": 45,
   "metadata": {
    "ExecuteTime": {
     "end_time": "2021-08-31T03:39:33.428435Z",
     "start_time": "2021-08-31T03:39:33.423486Z"
    }
   },
   "outputs": [
    {
     "data": {
      "text/plain": [
       "[1, 2, 3, 36, 5, 6, 8, 9]"
      ]
     },
     "execution_count": 45,
     "metadata": {},
     "output_type": "execute_result"
    }
   ],
   "source": [
    "list(set(s))"
   ]
  },
  {
   "cell_type": "code",
   "execution_count": 56,
   "metadata": {
    "ExecuteTime": {
     "end_time": "2021-08-31T03:49:49.580539Z",
     "start_time": "2021-08-31T03:49:49.574558Z"
    }
   },
   "outputs": [],
   "source": [
    "# counter - or, refer to flatiorn material\n",
    "unique = list(set(s))\n",
    "number=dict.fromkeys(unique,0)\n",
    "    \n",
    "for i in range(len(s)):\n",
    "    if s[i] in list(set(s)):\n",
    "        number[s[i]]+=1"
   ]
  },
  {
   "cell_type": "code",
   "execution_count": 57,
   "metadata": {
    "ExecuteTime": {
     "end_time": "2021-08-31T03:49:49.883357Z",
     "start_time": "2021-08-31T03:49:49.879350Z"
    }
   },
   "outputs": [
    {
     "data": {
      "text/plain": [
       "{1: 3, 2: 3, 3: 2, 36: 1, 5: 3, 6: 2, 8: 1, 9: 1}"
      ]
     },
     "execution_count": 57,
     "metadata": {},
     "output_type": "execute_result"
    }
   ],
   "source": [
    "number"
   ]
  },
  {
   "cell_type": "code",
   "execution_count": 70,
   "metadata": {
    "ExecuteTime": {
     "end_time": "2021-08-31T04:32:01.058189Z",
     "start_time": "2021-08-31T04:32:01.049426Z"
    }
   },
   "outputs": [
    {
     "name": "stdout",
     "output_type": "stream",
     "text": [
      "1: 3\n",
      "1: 3\n",
      "6: 2\n",
      "3: 2\n",
      "6: 2\n",
      "5: 3\n",
      "8: 1\n",
      "9: 1\n",
      "5: 3\n",
      "5: 3\n",
      "2: 3\n",
      "36: 1\n",
      "3: 2\n",
      "2: 3\n",
      "1: 3\n",
      "2: 3\n"
     ]
    }
   ],
   "source": [
    "for i in s:\n",
    "    print(f'{i}: {s.count(i)}')"
   ]
  },
  {
   "cell_type": "markdown",
   "metadata": {},
   "source": [
    "### GCF,lcm"
   ]
  },
  {
   "cell_type": "code",
   "execution_count": 59,
   "metadata": {
    "ExecuteTime": {
     "end_time": "2021-08-31T04:06:21.668472Z",
     "start_time": "2021-08-31T04:06:21.663458Z"
    }
   },
   "outputs": [
    {
     "name": "stdout",
     "output_type": "stream",
     "text": [
      "5\n"
     ]
    }
   ],
   "source": [
    "a = 15\n",
    "b = 20\n",
    " \n",
    "while b:\n",
    "    a,b=b,a%b\n",
    " \n",
    "print(a)"
   ]
  },
  {
   "cell_type": "code",
   "execution_count": 60,
   "metadata": {
    "ExecuteTime": {
     "end_time": "2021-08-31T04:19:48.266422Z",
     "start_time": "2021-08-31T04:19:48.258383Z"
    }
   },
   "outputs": [
    {
     "name": "stdout",
     "output_type": "stream",
     "text": [
      "60\n"
     ]
    }
   ],
   "source": [
    "#Lowest common Factor\n",
    " \n",
    "a = 15\n",
    "b = 20\n",
    "c = a\n",
    "d = b\n",
    " \n",
    "while b:\n",
    "    a,b=b,a%b\n",
    " \n",
    "lcm = int( (c*d) * 1.0 / a)\n",
    " \n",
    "print(lcm)"
   ]
  },
  {
   "cell_type": "markdown",
   "metadata": {},
   "source": [
    "### Other"
   ]
  },
  {
   "cell_type": "code",
   "execution_count": 64,
   "metadata": {
    "ExecuteTime": {
     "end_time": "2021-08-31T04:24:33.574755Z",
     "start_time": "2021-08-31T04:24:33.566779Z"
    }
   },
   "outputs": [
    {
     "data": {
      "text/plain": [
       "'abcde'"
      ]
     },
     "execution_count": 64,
     "metadata": {},
     "output_type": "execute_result"
    }
   ],
   "source": [
    "c = ['a','b','c','d','e']\n",
    " \n",
    "strs = (''.join(c))\n",
    "strs"
   ]
  },
  {
   "cell_type": "code",
   "execution_count": 63,
   "metadata": {
    "ExecuteTime": {
     "end_time": "2021-08-31T04:24:16.993378Z",
     "start_time": "2021-08-31T04:24:16.985380Z"
    }
   },
   "outputs": [
    {
     "name": "stdout",
     "output_type": "stream",
     "text": [
      "{'here': 1, 'only': 1}\n"
     ]
    }
   ],
   "source": [
    "#Find common words from two sentences\n",
    " \n",
    "a = 'Hi I am Pawan. I am here only'\n",
    "b = 'here only'\n",
    "d = {}\n",
    " \n",
    "for w1 in a.split():\n",
    "    for w2 in b.split():\n",
    "        if w1 == w2:\n",
    "            d[w1] =  d.get(w1,0) + 1\n",
    " \n",
    "print(d)"
   ]
  },
  {
   "cell_type": "code",
   "execution_count": 65,
   "metadata": {
    "ExecuteTime": {
     "end_time": "2021-08-31T04:26:28.378050Z",
     "start_time": "2021-08-31T04:26:28.369043Z"
    }
   },
   "outputs": [
    {
     "name": "stdout",
     "output_type": "stream",
     "text": [
      "{'Hi': 2, 'I': 4, 'am': 4, 'Pawan.': 2, 'here': 1, 'only': 1}\n"
     ]
    }
   ],
   "source": [
    "a = 'Hi I am Pawan. I am here only'\n",
    "b = 'here only'\n",
    "d = {}\n",
    "\n",
    "for w1 in a.split():\n",
    "    for w2 in b.split():\n",
    "        if w1!=w2:\n",
    "            d[w1]=d.get(w1,0)+1\n",
    "\n",
    "print(d)"
   ]
  },
  {
   "cell_type": "code",
   "execution_count": 66,
   "metadata": {
    "ExecuteTime": {
     "end_time": "2021-08-31T04:27:48.401942Z",
     "start_time": "2021-08-31T04:27:48.392110Z"
    }
   },
   "outputs": [
    {
     "name": "stdout",
     "output_type": "stream",
     "text": [
      "The original string is -  {'Hi': 1, 'I': 1, 'am': 1, 'Pawan': 1, 'here': 2, 'only': 2}\n",
      "\n",
      "\n",
      "The uncommon words from two input strings is -  ['Hi', 'I', 'am', 'Pawan']\n"
     ]
    }
   ],
   "source": [
    "a = 'Hi I am Pawan here only'\n",
    "b = 'here only'\n",
    "d = {}\n",
    " \n",
    "for w in a.split():\n",
    "    d[w] = d.get(w,0) + 1\n",
    "     \n",
    "for w in b.split():\n",
    "    d[w] = d.get(w,0) + 1\n",
    " \n",
    "print(\"The original string is - \",d)\n",
    " \n",
    "print(\"\\n\")\n",
    " \n",
    "uncon = [w for w in d if d[w] == 1]\n",
    " \n",
    "print(\"The uncommon words from two input strings is - \" , uncon)"
   ]
  },
  {
   "cell_type": "markdown",
   "metadata": {},
   "source": [
    "### Fibonacci (0,1,1,2,3,5,8)"
   ]
  },
  {
   "cell_type": "code",
   "execution_count": 75,
   "metadata": {
    "ExecuteTime": {
     "end_time": "2021-08-31T04:51:06.969388Z",
     "start_time": "2021-08-31T04:51:05.161855Z"
    }
   },
   "outputs": [
    {
     "name": "stdout",
     "output_type": "stream",
     "text": [
      "6\n"
     ]
    },
    {
     "data": {
      "text/plain": [
       "[0, 1, 1, 2, 3, 5, 8, 13]"
      ]
     },
     "execution_count": 75,
     "metadata": {},
     "output_type": "execute_result"
    }
   ],
   "source": [
    "n = int(input())\n",
    "f =[0,1]\n",
    "for i in range(n):\n",
    "    f.append(f[i]+f[i+1])\n",
    "f"
   ]
  },
  {
   "cell_type": "code",
   "execution_count": null,
   "metadata": {},
   "outputs": [],
   "source": []
  }
 ],
 "metadata": {
  "kernelspec": {
   "display_name": "Python 3",
   "language": "python",
   "name": "python3"
  },
  "language_info": {
   "codemirror_mode": {
    "name": "ipython",
    "version": 3
   },
   "file_extension": ".py",
   "mimetype": "text/x-python",
   "name": "python",
   "nbconvert_exporter": "python",
   "pygments_lexer": "ipython3",
   "version": "3.6.9"
  },
  "toc": {
   "base_numbering": 1,
   "nav_menu": {},
   "number_sections": true,
   "sideBar": true,
   "skip_h1_title": false,
   "title_cell": "Table of Contents",
   "title_sidebar": "Contents",
   "toc_cell": false,
   "toc_position": {},
   "toc_section_display": true,
   "toc_window_display": false
  }
 },
 "nbformat": 4,
 "nbformat_minor": 4
}
