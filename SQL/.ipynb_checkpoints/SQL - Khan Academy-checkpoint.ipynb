{
 "cells": [
  {
   "cell_type": "code",
   "execution_count": 1,
   "metadata": {
    "ExecuteTime": {
     "end_time": "2021-06-24T23:55:20.259584Z",
     "start_time": "2021-06-24T23:55:20.250239Z"
    }
   },
   "outputs": [],
   "source": [
    "import sqlite3"
   ]
  },
  {
   "cell_type": "code",
   "execution_count": 2,
   "metadata": {
    "ExecuteTime": {
     "end_time": "2021-06-24T23:55:20.811117Z",
     "start_time": "2021-06-24T23:55:20.805769Z"
    }
   },
   "outputs": [],
   "source": [
    "from sqlite3 import Error"
   ]
  },
  {
   "cell_type": "code",
   "execution_count": 3,
   "metadata": {
    "ExecuteTime": {
     "end_time": "2021-06-24T23:55:23.992009Z",
     "start_time": "2021-06-24T23:55:21.317504Z"
    }
   },
   "outputs": [],
   "source": [
    "import pandas as pd"
   ]
  },
  {
   "cell_type": "code",
   "execution_count": 4,
   "metadata": {
    "ExecuteTime": {
     "end_time": "2021-06-24T23:55:24.015241Z",
     "start_time": "2021-06-24T23:55:23.996937Z"
    }
   },
   "outputs": [],
   "source": [
    "#Creating a new db using python\n",
    "\n",
    "def create_connection(db_file):\n",
    "    \"\"\"create db connection to SQLite Db\"\"\"\n",
    "    conn = None\n",
    "    try:\n",
    "        conn = sqlite3.connect(db_file)\n",
    "    except Error as e:\n",
    "        print(e)\n",
    "    finally:\n",
    "        if conn:\n",
    "            conn.close()"
   ]
  },
  {
   "cell_type": "code",
   "execution_count": 5,
   "metadata": {
    "ExecuteTime": {
     "end_time": "2021-06-24T23:55:24.031343Z",
     "start_time": "2021-06-24T23:55:24.019745Z"
    }
   },
   "outputs": [],
   "source": [
    "# if __name__=='__main__':\n",
    "#     create_connection(r\"C:\\Users\\19035\\Documents\\Data Science - Flatiron\\Practice\\Current\\Coding_Practice\\SQL\\pythonsqlite.db\")"
   ]
  },
  {
   "cell_type": "code",
   "execution_count": 6,
   "metadata": {
    "ExecuteTime": {
     "end_time": "2021-06-24T23:55:24.047189Z",
     "start_time": "2021-06-24T23:55:24.032773Z"
    }
   },
   "outputs": [
    {
     "name": "stdout",
     "output_type": "stream",
     "text": [
      "unable to open database file\n"
     ]
    }
   ],
   "source": [
    "create_connection(r\"C:\\Users\\19035\\Documents\\Data Science - Flatiron\\Practice\\Current\\Coding_Practice\\SQL\\pythonsqlite.db\")"
   ]
  },
  {
   "cell_type": "code",
   "execution_count": 7,
   "metadata": {
    "ExecuteTime": {
     "end_time": "2021-06-24T23:55:25.527176Z",
     "start_time": "2021-06-24T23:55:25.511028Z"
    }
   },
   "outputs": [],
   "source": [
    "conn = sqlite3.connect('pythonsqlite.db')"
   ]
  },
  {
   "cell_type": "code",
   "execution_count": 8,
   "metadata": {
    "ExecuteTime": {
     "end_time": "2021-06-24T23:55:26.486483Z",
     "start_time": "2021-06-24T23:55:26.481187Z"
    }
   },
   "outputs": [],
   "source": [
    "cur=conn.cursor()"
   ]
  },
  {
   "cell_type": "markdown",
   "metadata": {},
   "source": [
    " #### Creating a grocery list : Bananas (4), Peanut Butter (1), Dark Chocolate bars (2)"
   ]
  },
  {
   "cell_type": "code",
   "execution_count": 11,
   "metadata": {
    "ExecuteTime": {
     "end_time": "2021-06-22T00:42:37.861582Z",
     "start_time": "2021-06-22T00:42:37.858590Z"
    }
   },
   "outputs": [],
   "source": [
    "# #create table\n",
    "cur.execute(\"\"\"CREATE TABLE groceries (id INTEGER PRIMARY KEY, name TEXT, quantity INTEGER);\"\"\")\n"
   ]
  },
  {
   "cell_type": "code",
   "execution_count": 9,
   "metadata": {
    "ExecuteTime": {
     "end_time": "2021-06-24T23:55:34.503902Z",
     "start_time": "2021-06-24T23:55:34.480176Z"
    }
   },
   "outputs": [
    {
     "data": {
      "text/html": [
       "<div>\n",
       "<style scoped>\n",
       "    .dataframe tbody tr th:only-of-type {\n",
       "        vertical-align: middle;\n",
       "    }\n",
       "\n",
       "    .dataframe tbody tr th {\n",
       "        vertical-align: top;\n",
       "    }\n",
       "\n",
       "    .dataframe thead th {\n",
       "        text-align: right;\n",
       "    }\n",
       "</style>\n",
       "<table border=\"1\" class=\"dataframe\">\n",
       "  <thead>\n",
       "    <tr style=\"text-align: right;\">\n",
       "      <th></th>\n",
       "    </tr>\n",
       "  </thead>\n",
       "  <tbody>\n",
       "  </tbody>\n",
       "</table>\n",
       "</div>"
      ],
      "text/plain": [
       "Empty DataFrame\n",
       "Columns: []\n",
       "Index: []"
      ]
     },
     "execution_count": 9,
     "metadata": {},
     "output_type": "execute_result"
    }
   ],
   "source": [
    "pd.DataFrame(cur.execute(\"\"\"SELECT * FROM groceries;\"\"\").fetchall())"
   ]
  },
  {
   "cell_type": "code",
   "execution_count": 10,
   "metadata": {
    "ExecuteTime": {
     "end_time": "2021-06-24T23:55:34.512219Z",
     "start_time": "2021-06-24T23:55:34.505848Z"
    }
   },
   "outputs": [
    {
     "data": {
      "text/plain": [
       "(('id', None, None, None, None, None, None),\n",
       " ('name', None, None, None, None, None, None),\n",
       " ('quantity', None, None, None, None, None, None))"
      ]
     },
     "execution_count": 10,
     "metadata": {},
     "output_type": "execute_result"
    }
   ],
   "source": [
    "cur.description"
   ]
  },
  {
   "cell_type": "code",
   "execution_count": 11,
   "metadata": {
    "ExecuteTime": {
     "end_time": "2021-06-24T23:55:34.527763Z",
     "start_time": "2021-06-24T23:55:34.515374Z"
    }
   },
   "outputs": [],
   "source": [
    "def sql_to_pd(query):\n",
    "    df = pd.DataFrame(cur.execute(query).fetchall())\n",
    "    df.columns = [x[0] for x in cur.description]\n",
    "    return df"
   ]
  },
  {
   "cell_type": "code",
   "execution_count": 12,
   "metadata": {
    "ExecuteTime": {
     "end_time": "2021-06-24T23:55:34.543031Z",
     "start_time": "2021-06-24T23:55:34.530378Z"
    }
   },
   "outputs": [
    {
     "data": {
      "text/plain": [
       "<sqlite3.Cursor at 0x13e44a0ed50>"
      ]
     },
     "execution_count": 12,
     "metadata": {},
     "output_type": "execute_result"
    }
   ],
   "source": [
    "cur.execute(\"\"\"INSERT INTO groceries VALUES (1,\"Bananas\", 4);\"\"\")"
   ]
  },
  {
   "cell_type": "code",
   "execution_count": 13,
   "metadata": {
    "ExecuteTime": {
     "end_time": "2021-06-24T23:55:34.567971Z",
     "start_time": "2021-06-24T23:55:34.544924Z"
    }
   },
   "outputs": [
    {
     "data": {
      "text/html": [
       "<div>\n",
       "<style scoped>\n",
       "    .dataframe tbody tr th:only-of-type {\n",
       "        vertical-align: middle;\n",
       "    }\n",
       "\n",
       "    .dataframe tbody tr th {\n",
       "        vertical-align: top;\n",
       "    }\n",
       "\n",
       "    .dataframe thead th {\n",
       "        text-align: right;\n",
       "    }\n",
       "</style>\n",
       "<table border=\"1\" class=\"dataframe\">\n",
       "  <thead>\n",
       "    <tr style=\"text-align: right;\">\n",
       "      <th></th>\n",
       "      <th>id</th>\n",
       "      <th>name</th>\n",
       "      <th>quantity</th>\n",
       "    </tr>\n",
       "  </thead>\n",
       "  <tbody>\n",
       "    <tr>\n",
       "      <td>0</td>\n",
       "      <td>1</td>\n",
       "      <td>Bananas</td>\n",
       "      <td>4</td>\n",
       "    </tr>\n",
       "  </tbody>\n",
       "</table>\n",
       "</div>"
      ],
      "text/plain": [
       "   id     name  quantity\n",
       "0   1  Bananas         4"
      ]
     },
     "execution_count": 13,
     "metadata": {},
     "output_type": "execute_result"
    }
   ],
   "source": [
    "sql_to_pd(\"\"\"SELECT * FROM groceries;\"\"\")"
   ]
  },
  {
   "cell_type": "code",
   "execution_count": 14,
   "metadata": {
    "ExecuteTime": {
     "end_time": "2021-06-24T23:55:34.576151Z",
     "start_time": "2021-06-24T23:55:34.569436Z"
    }
   },
   "outputs": [
    {
     "data": {
      "text/plain": [
       "<sqlite3.Cursor at 0x13e44a0ed50>"
      ]
     },
     "execution_count": 14,
     "metadata": {},
     "output_type": "execute_result"
    }
   ],
   "source": [
    "cur.execute(\"\"\"INSERT INTO groceries VALUES (2, \"Peanut Butter\", 1);\"\"\")\n",
    "cur.execute(\"\"\"INSERT INTO groceries VALUES (3, \"Dark Chocolate Bars\", 2);\"\"\")"
   ]
  },
  {
   "cell_type": "code",
   "execution_count": 15,
   "metadata": {
    "ExecuteTime": {
     "end_time": "2021-06-24T23:55:34.601363Z",
     "start_time": "2021-06-24T23:55:34.577149Z"
    }
   },
   "outputs": [
    {
     "data": {
      "text/html": [
       "<div>\n",
       "<style scoped>\n",
       "    .dataframe tbody tr th:only-of-type {\n",
       "        vertical-align: middle;\n",
       "    }\n",
       "\n",
       "    .dataframe tbody tr th {\n",
       "        vertical-align: top;\n",
       "    }\n",
       "\n",
       "    .dataframe thead th {\n",
       "        text-align: right;\n",
       "    }\n",
       "</style>\n",
       "<table border=\"1\" class=\"dataframe\">\n",
       "  <thead>\n",
       "    <tr style=\"text-align: right;\">\n",
       "      <th></th>\n",
       "      <th>id</th>\n",
       "      <th>name</th>\n",
       "      <th>quantity</th>\n",
       "    </tr>\n",
       "  </thead>\n",
       "  <tbody>\n",
       "    <tr>\n",
       "      <td>0</td>\n",
       "      <td>1</td>\n",
       "      <td>Bananas</td>\n",
       "      <td>4</td>\n",
       "    </tr>\n",
       "    <tr>\n",
       "      <td>1</td>\n",
       "      <td>2</td>\n",
       "      <td>Peanut Butter</td>\n",
       "      <td>1</td>\n",
       "    </tr>\n",
       "    <tr>\n",
       "      <td>2</td>\n",
       "      <td>3</td>\n",
       "      <td>Dark Chocolate Bars</td>\n",
       "      <td>2</td>\n",
       "    </tr>\n",
       "  </tbody>\n",
       "</table>\n",
       "</div>"
      ],
      "text/plain": [
       "   id                 name  quantity\n",
       "0   1              Bananas         4\n",
       "1   2        Peanut Butter         1\n",
       "2   3  Dark Chocolate Bars         2"
      ]
     },
     "execution_count": 15,
     "metadata": {},
     "output_type": "execute_result"
    }
   ],
   "source": [
    "sql_to_pd(\"\"\"SELECT * FROM groceries;\"\"\")"
   ]
  },
  {
   "cell_type": "markdown",
   "metadata": {
    "heading_collapsed": true
   },
   "source": [
    "#### Add column"
   ]
  },
  {
   "cell_type": "code",
   "execution_count": 16,
   "metadata": {
    "ExecuteTime": {
     "end_time": "2021-06-24T23:55:34.617949Z",
     "start_time": "2021-06-24T23:55:34.603425Z"
    },
    "hidden": true
   },
   "outputs": [
    {
     "data": {
      "text/plain": [
       "<sqlite3.Cursor at 0x13e44a0ed50>"
      ]
     },
     "execution_count": 16,
     "metadata": {},
     "output_type": "execute_result"
    }
   ],
   "source": [
    "cur.execute(\"\"\"ALTER TABLE groceries\n",
    "                ADD aisle INTEGER;\"\"\")"
   ]
  },
  {
   "cell_type": "code",
   "execution_count": 17,
   "metadata": {
    "ExecuteTime": {
     "end_time": "2021-06-24T23:55:34.633762Z",
     "start_time": "2021-06-24T23:55:34.620884Z"
    },
    "hidden": true
   },
   "outputs": [
    {
     "data": {
      "text/html": [
       "<div>\n",
       "<style scoped>\n",
       "    .dataframe tbody tr th:only-of-type {\n",
       "        vertical-align: middle;\n",
       "    }\n",
       "\n",
       "    .dataframe tbody tr th {\n",
       "        vertical-align: top;\n",
       "    }\n",
       "\n",
       "    .dataframe thead th {\n",
       "        text-align: right;\n",
       "    }\n",
       "</style>\n",
       "<table border=\"1\" class=\"dataframe\">\n",
       "  <thead>\n",
       "    <tr style=\"text-align: right;\">\n",
       "      <th></th>\n",
       "      <th>id</th>\n",
       "      <th>name</th>\n",
       "      <th>quantity</th>\n",
       "      <th>aisle</th>\n",
       "    </tr>\n",
       "  </thead>\n",
       "  <tbody>\n",
       "    <tr>\n",
       "      <td>0</td>\n",
       "      <td>1</td>\n",
       "      <td>Bananas</td>\n",
       "      <td>4</td>\n",
       "      <td>None</td>\n",
       "    </tr>\n",
       "    <tr>\n",
       "      <td>1</td>\n",
       "      <td>2</td>\n",
       "      <td>Peanut Butter</td>\n",
       "      <td>1</td>\n",
       "      <td>None</td>\n",
       "    </tr>\n",
       "    <tr>\n",
       "      <td>2</td>\n",
       "      <td>3</td>\n",
       "      <td>Dark Chocolate Bars</td>\n",
       "      <td>2</td>\n",
       "      <td>None</td>\n",
       "    </tr>\n",
       "  </tbody>\n",
       "</table>\n",
       "</div>"
      ],
      "text/plain": [
       "   id                 name  quantity aisle\n",
       "0   1              Bananas         4  None\n",
       "1   2        Peanut Butter         1  None\n",
       "2   3  Dark Chocolate Bars         2  None"
      ]
     },
     "execution_count": 17,
     "metadata": {},
     "output_type": "execute_result"
    }
   ],
   "source": [
    "sql_to_pd(\"\"\"SELECT * FROM groceries;\"\"\")"
   ]
  },
  {
   "cell_type": "code",
   "execution_count": 18,
   "metadata": {
    "ExecuteTime": {
     "end_time": "2021-06-24T23:55:34.649757Z",
     "start_time": "2021-06-24T23:55:34.635757Z"
    },
    "hidden": true
   },
   "outputs": [
    {
     "data": {
      "text/plain": [
       "<sqlite3.Cursor at 0x13e44a0ed50>"
      ]
     },
     "execution_count": 18,
     "metadata": {},
     "output_type": "execute_result"
    }
   ],
   "source": [
    "cur.execute(\"\"\"INSERT INTO groceries(aisle)\n",
    "                VALUES (7)\"\"\")\n",
    "\n",
    "cur.execute(\"\"\"INSERT INTO groceries(aisle)\n",
    "                VALUES (2)\"\"\")\n",
    "\n",
    "cur.execute(\"\"\"INSERT INTO groceries(aisle)\n",
    "                VALUES (2)\"\"\")"
   ]
  },
  {
   "cell_type": "code",
   "execution_count": 19,
   "metadata": {
    "ExecuteTime": {
     "end_time": "2021-06-24T23:55:34.673729Z",
     "start_time": "2021-06-24T23:55:34.650820Z"
    },
    "hidden": true
   },
   "outputs": [
    {
     "data": {
      "text/html": [
       "<div>\n",
       "<style scoped>\n",
       "    .dataframe tbody tr th:only-of-type {\n",
       "        vertical-align: middle;\n",
       "    }\n",
       "\n",
       "    .dataframe tbody tr th {\n",
       "        vertical-align: top;\n",
       "    }\n",
       "\n",
       "    .dataframe thead th {\n",
       "        text-align: right;\n",
       "    }\n",
       "</style>\n",
       "<table border=\"1\" class=\"dataframe\">\n",
       "  <thead>\n",
       "    <tr style=\"text-align: right;\">\n",
       "      <th></th>\n",
       "      <th>id</th>\n",
       "      <th>name</th>\n",
       "      <th>quantity</th>\n",
       "      <th>aisle</th>\n",
       "    </tr>\n",
       "  </thead>\n",
       "  <tbody>\n",
       "    <tr>\n",
       "      <td>0</td>\n",
       "      <td>1</td>\n",
       "      <td>Bananas</td>\n",
       "      <td>4.0</td>\n",
       "      <td>NaN</td>\n",
       "    </tr>\n",
       "    <tr>\n",
       "      <td>1</td>\n",
       "      <td>2</td>\n",
       "      <td>Peanut Butter</td>\n",
       "      <td>1.0</td>\n",
       "      <td>NaN</td>\n",
       "    </tr>\n",
       "    <tr>\n",
       "      <td>2</td>\n",
       "      <td>3</td>\n",
       "      <td>Dark Chocolate Bars</td>\n",
       "      <td>2.0</td>\n",
       "      <td>NaN</td>\n",
       "    </tr>\n",
       "    <tr>\n",
       "      <td>3</td>\n",
       "      <td>4</td>\n",
       "      <td>None</td>\n",
       "      <td>NaN</td>\n",
       "      <td>7.0</td>\n",
       "    </tr>\n",
       "    <tr>\n",
       "      <td>4</td>\n",
       "      <td>5</td>\n",
       "      <td>None</td>\n",
       "      <td>NaN</td>\n",
       "      <td>2.0</td>\n",
       "    </tr>\n",
       "    <tr>\n",
       "      <td>5</td>\n",
       "      <td>6</td>\n",
       "      <td>None</td>\n",
       "      <td>NaN</td>\n",
       "      <td>2.0</td>\n",
       "    </tr>\n",
       "  </tbody>\n",
       "</table>\n",
       "</div>"
      ],
      "text/plain": [
       "   id                 name  quantity  aisle\n",
       "0   1              Bananas       4.0    NaN\n",
       "1   2        Peanut Butter       1.0    NaN\n",
       "2   3  Dark Chocolate Bars       2.0    NaN\n",
       "3   4                 None       NaN    7.0\n",
       "4   5                 None       NaN    2.0\n",
       "5   6                 None       NaN    2.0"
      ]
     },
     "execution_count": 19,
     "metadata": {},
     "output_type": "execute_result"
    }
   ],
   "source": [
    "sql_to_pd(\"\"\"SELECT * FROM groceries;\"\"\")"
   ]
  },
  {
   "cell_type": "markdown",
   "metadata": {
    "heading_collapsed": true
   },
   "source": [
    "#### Delete rows"
   ]
  },
  {
   "cell_type": "code",
   "execution_count": 20,
   "metadata": {
    "ExecuteTime": {
     "end_time": "2021-06-24T23:55:34.681688Z",
     "start_time": "2021-06-24T23:55:34.674759Z"
    },
    "hidden": true
   },
   "outputs": [
    {
     "data": {
      "text/plain": [
       "<sqlite3.Cursor at 0x13e44a0ed50>"
      ]
     },
     "execution_count": 20,
     "metadata": {},
     "output_type": "execute_result"
    }
   ],
   "source": [
    "cur.execute(\"\"\"DELETE FROM groceries WHERE id=4;\"\"\")\n",
    "cur.execute(\"\"\"DELETE FROM groceries WHERE id=5;\"\"\")\n",
    "cur.execute(\"\"\"DELETE FROM groceries WHERE id=6;\"\"\")"
   ]
  },
  {
   "cell_type": "code",
   "execution_count": 21,
   "metadata": {
    "ExecuteTime": {
     "end_time": "2021-06-24T23:55:34.706314Z",
     "start_time": "2021-06-24T23:55:34.684345Z"
    },
    "hidden": true
   },
   "outputs": [
    {
     "data": {
      "text/html": [
       "<div>\n",
       "<style scoped>\n",
       "    .dataframe tbody tr th:only-of-type {\n",
       "        vertical-align: middle;\n",
       "    }\n",
       "\n",
       "    .dataframe tbody tr th {\n",
       "        vertical-align: top;\n",
       "    }\n",
       "\n",
       "    .dataframe thead th {\n",
       "        text-align: right;\n",
       "    }\n",
       "</style>\n",
       "<table border=\"1\" class=\"dataframe\">\n",
       "  <thead>\n",
       "    <tr style=\"text-align: right;\">\n",
       "      <th></th>\n",
       "      <th>id</th>\n",
       "      <th>name</th>\n",
       "      <th>quantity</th>\n",
       "      <th>aisle</th>\n",
       "    </tr>\n",
       "  </thead>\n",
       "  <tbody>\n",
       "    <tr>\n",
       "      <td>0</td>\n",
       "      <td>1</td>\n",
       "      <td>Bananas</td>\n",
       "      <td>4</td>\n",
       "      <td>None</td>\n",
       "    </tr>\n",
       "    <tr>\n",
       "      <td>1</td>\n",
       "      <td>2</td>\n",
       "      <td>Peanut Butter</td>\n",
       "      <td>1</td>\n",
       "      <td>None</td>\n",
       "    </tr>\n",
       "    <tr>\n",
       "      <td>2</td>\n",
       "      <td>3</td>\n",
       "      <td>Dark Chocolate Bars</td>\n",
       "      <td>2</td>\n",
       "      <td>None</td>\n",
       "    </tr>\n",
       "  </tbody>\n",
       "</table>\n",
       "</div>"
      ],
      "text/plain": [
       "   id                 name  quantity aisle\n",
       "0   1              Bananas         4  None\n",
       "1   2        Peanut Butter         1  None\n",
       "2   3  Dark Chocolate Bars         2  None"
      ]
     },
     "execution_count": 21,
     "metadata": {},
     "output_type": "execute_result"
    }
   ],
   "source": [
    "sql_to_pd(\"\"\"SELECT * FROM groceries;\"\"\")"
   ]
  },
  {
   "cell_type": "markdown",
   "metadata": {
    "heading_collapsed": true
   },
   "source": [
    "#### Update Value"
   ]
  },
  {
   "cell_type": "code",
   "execution_count": 22,
   "metadata": {
    "ExecuteTime": {
     "end_time": "2021-06-24T23:55:34.721845Z",
     "start_time": "2021-06-24T23:55:34.708996Z"
    },
    "hidden": true
   },
   "outputs": [
    {
     "data": {
      "text/plain": [
       "<sqlite3.Cursor at 0x13e44a0ed50>"
      ]
     },
     "execution_count": 22,
     "metadata": {},
     "output_type": "execute_result"
    }
   ],
   "source": [
    "cur.execute(\"\"\"UPDATE groceries\n",
    "                SET aisle = 7\n",
    "                WHERE id = 1;\"\"\")\n",
    "cur.execute(\"\"\"UPDATE groceries\n",
    "                SET aisle = 2\n",
    "                WHERE id = 2;\"\"\")\n",
    "cur.execute(\"\"\"UPDATE groceries\n",
    "                SET aisle = 2\n",
    "                WHERE id = 3;\"\"\")"
   ]
  },
  {
   "cell_type": "code",
   "execution_count": 23,
   "metadata": {
    "ExecuteTime": {
     "end_time": "2021-06-24T23:55:34.738089Z",
     "start_time": "2021-06-24T23:55:34.724148Z"
    },
    "hidden": true
   },
   "outputs": [
    {
     "data": {
      "text/html": [
       "<div>\n",
       "<style scoped>\n",
       "    .dataframe tbody tr th:only-of-type {\n",
       "        vertical-align: middle;\n",
       "    }\n",
       "\n",
       "    .dataframe tbody tr th {\n",
       "        vertical-align: top;\n",
       "    }\n",
       "\n",
       "    .dataframe thead th {\n",
       "        text-align: right;\n",
       "    }\n",
       "</style>\n",
       "<table border=\"1\" class=\"dataframe\">\n",
       "  <thead>\n",
       "    <tr style=\"text-align: right;\">\n",
       "      <th></th>\n",
       "      <th>id</th>\n",
       "      <th>name</th>\n",
       "      <th>quantity</th>\n",
       "      <th>aisle</th>\n",
       "    </tr>\n",
       "  </thead>\n",
       "  <tbody>\n",
       "    <tr>\n",
       "      <td>0</td>\n",
       "      <td>1</td>\n",
       "      <td>Bananas</td>\n",
       "      <td>4</td>\n",
       "      <td>7</td>\n",
       "    </tr>\n",
       "    <tr>\n",
       "      <td>1</td>\n",
       "      <td>2</td>\n",
       "      <td>Peanut Butter</td>\n",
       "      <td>1</td>\n",
       "      <td>2</td>\n",
       "    </tr>\n",
       "    <tr>\n",
       "      <td>2</td>\n",
       "      <td>3</td>\n",
       "      <td>Dark Chocolate Bars</td>\n",
       "      <td>2</td>\n",
       "      <td>2</td>\n",
       "    </tr>\n",
       "  </tbody>\n",
       "</table>\n",
       "</div>"
      ],
      "text/plain": [
       "   id                 name  quantity  aisle\n",
       "0   1              Bananas         4      7\n",
       "1   2        Peanut Butter         1      2\n",
       "2   3  Dark Chocolate Bars         2      2"
      ]
     },
     "execution_count": 23,
     "metadata": {},
     "output_type": "execute_result"
    }
   ],
   "source": [
    "sql_to_pd(\"\"\"SELECT * FROM groceries;\"\"\")"
   ]
  },
  {
   "cell_type": "code",
   "execution_count": 24,
   "metadata": {
    "ExecuteTime": {
     "end_time": "2021-06-24T23:55:34.754991Z",
     "start_time": "2021-06-24T23:55:34.740264Z"
    },
    "hidden": true
   },
   "outputs": [
    {
     "data": {
      "text/plain": [
       "<sqlite3.Cursor at 0x13e44a0ed50>"
      ]
     },
     "execution_count": 24,
     "metadata": {},
     "output_type": "execute_result"
    }
   ],
   "source": [
    "cur.execute(\"\"\"INSERT INTO groceries VALUES (4, \"Ice Cream\", 1, 12);\"\"\")\n",
    "cur.execute(\"\"\"INSERT INTO groceries VALUES (5, \"Cherries\", 6, 2);\"\"\")\n",
    "cur.execute(\"\"\"INSERT INTO groceries VALUES (6, \"Chocolate Syrup\", 1, 4);\"\"\")"
   ]
  },
  {
   "cell_type": "code",
   "execution_count": 25,
   "metadata": {
    "ExecuteTime": {
     "end_time": "2021-06-24T23:55:34.771422Z",
     "start_time": "2021-06-24T23:55:34.756909Z"
    },
    "hidden": true
   },
   "outputs": [
    {
     "data": {
      "text/html": [
       "<div>\n",
       "<style scoped>\n",
       "    .dataframe tbody tr th:only-of-type {\n",
       "        vertical-align: middle;\n",
       "    }\n",
       "\n",
       "    .dataframe tbody tr th {\n",
       "        vertical-align: top;\n",
       "    }\n",
       "\n",
       "    .dataframe thead th {\n",
       "        text-align: right;\n",
       "    }\n",
       "</style>\n",
       "<table border=\"1\" class=\"dataframe\">\n",
       "  <thead>\n",
       "    <tr style=\"text-align: right;\">\n",
       "      <th></th>\n",
       "      <th>id</th>\n",
       "      <th>name</th>\n",
       "      <th>quantity</th>\n",
       "      <th>aisle</th>\n",
       "    </tr>\n",
       "  </thead>\n",
       "  <tbody>\n",
       "    <tr>\n",
       "      <td>0</td>\n",
       "      <td>1</td>\n",
       "      <td>Bananas</td>\n",
       "      <td>4</td>\n",
       "      <td>7</td>\n",
       "    </tr>\n",
       "    <tr>\n",
       "      <td>1</td>\n",
       "      <td>2</td>\n",
       "      <td>Peanut Butter</td>\n",
       "      <td>1</td>\n",
       "      <td>2</td>\n",
       "    </tr>\n",
       "    <tr>\n",
       "      <td>2</td>\n",
       "      <td>3</td>\n",
       "      <td>Dark Chocolate Bars</td>\n",
       "      <td>2</td>\n",
       "      <td>2</td>\n",
       "    </tr>\n",
       "    <tr>\n",
       "      <td>3</td>\n",
       "      <td>4</td>\n",
       "      <td>Ice Cream</td>\n",
       "      <td>1</td>\n",
       "      <td>12</td>\n",
       "    </tr>\n",
       "    <tr>\n",
       "      <td>4</td>\n",
       "      <td>5</td>\n",
       "      <td>Cherries</td>\n",
       "      <td>6</td>\n",
       "      <td>2</td>\n",
       "    </tr>\n",
       "    <tr>\n",
       "      <td>5</td>\n",
       "      <td>6</td>\n",
       "      <td>Chocolate Syrup</td>\n",
       "      <td>1</td>\n",
       "      <td>4</td>\n",
       "    </tr>\n",
       "  </tbody>\n",
       "</table>\n",
       "</div>"
      ],
      "text/plain": [
       "   id                 name  quantity  aisle\n",
       "0   1              Bananas         4      7\n",
       "1   2        Peanut Butter         1      2\n",
       "2   3  Dark Chocolate Bars         2      2\n",
       "3   4            Ice Cream         1     12\n",
       "4   5             Cherries         6      2\n",
       "5   6      Chocolate Syrup         1      4"
      ]
     },
     "execution_count": 25,
     "metadata": {},
     "output_type": "execute_result"
    }
   ],
   "source": [
    "sql_to_pd(\"\"\"SELECT * FROM groceries;\"\"\")"
   ]
  },
  {
   "cell_type": "code",
   "execution_count": 26,
   "metadata": {
    "ExecuteTime": {
     "end_time": "2021-06-24T23:55:34.786902Z",
     "start_time": "2021-06-24T23:55:34.773116Z"
    },
    "hidden": true
   },
   "outputs": [
    {
     "data": {
      "text/html": [
       "<div>\n",
       "<style scoped>\n",
       "    .dataframe tbody tr th:only-of-type {\n",
       "        vertical-align: middle;\n",
       "    }\n",
       "\n",
       "    .dataframe tbody tr th {\n",
       "        vertical-align: top;\n",
       "    }\n",
       "\n",
       "    .dataframe thead th {\n",
       "        text-align: right;\n",
       "    }\n",
       "</style>\n",
       "<table border=\"1\" class=\"dataframe\">\n",
       "  <thead>\n",
       "    <tr style=\"text-align: right;\">\n",
       "      <th></th>\n",
       "      <th>id</th>\n",
       "      <th>name</th>\n",
       "      <th>quantity</th>\n",
       "      <th>aisle</th>\n",
       "    </tr>\n",
       "  </thead>\n",
       "  <tbody>\n",
       "    <tr>\n",
       "      <td>0</td>\n",
       "      <td>2</td>\n",
       "      <td>Peanut Butter</td>\n",
       "      <td>1</td>\n",
       "      <td>2</td>\n",
       "    </tr>\n",
       "    <tr>\n",
       "      <td>1</td>\n",
       "      <td>3</td>\n",
       "      <td>Dark Chocolate Bars</td>\n",
       "      <td>2</td>\n",
       "      <td>2</td>\n",
       "    </tr>\n",
       "    <tr>\n",
       "      <td>2</td>\n",
       "      <td>5</td>\n",
       "      <td>Cherries</td>\n",
       "      <td>6</td>\n",
       "      <td>2</td>\n",
       "    </tr>\n",
       "    <tr>\n",
       "      <td>3</td>\n",
       "      <td>6</td>\n",
       "      <td>Chocolate Syrup</td>\n",
       "      <td>1</td>\n",
       "      <td>4</td>\n",
       "    </tr>\n",
       "    <tr>\n",
       "      <td>4</td>\n",
       "      <td>1</td>\n",
       "      <td>Bananas</td>\n",
       "      <td>4</td>\n",
       "      <td>7</td>\n",
       "    </tr>\n",
       "    <tr>\n",
       "      <td>5</td>\n",
       "      <td>4</td>\n",
       "      <td>Ice Cream</td>\n",
       "      <td>1</td>\n",
       "      <td>12</td>\n",
       "    </tr>\n",
       "  </tbody>\n",
       "</table>\n",
       "</div>"
      ],
      "text/plain": [
       "   id                 name  quantity  aisle\n",
       "0   2        Peanut Butter         1      2\n",
       "1   3  Dark Chocolate Bars         2      2\n",
       "2   5             Cherries         6      2\n",
       "3   6      Chocolate Syrup         1      4\n",
       "4   1              Bananas         4      7\n",
       "5   4            Ice Cream         1     12"
      ]
     },
     "execution_count": 26,
     "metadata": {},
     "output_type": "execute_result"
    }
   ],
   "source": [
    "sql_to_pd(\"\"\"SELECT * FROM groceries ORDER BY aisle;\"\"\")"
   ]
  },
  {
   "cell_type": "code",
   "execution_count": 27,
   "metadata": {
    "ExecuteTime": {
     "end_time": "2021-06-24T23:55:34.810317Z",
     "start_time": "2021-06-24T23:55:34.788898Z"
    },
    "hidden": true
   },
   "outputs": [
    {
     "data": {
      "text/html": [
       "<div>\n",
       "<style scoped>\n",
       "    .dataframe tbody tr th:only-of-type {\n",
       "        vertical-align: middle;\n",
       "    }\n",
       "\n",
       "    .dataframe tbody tr th {\n",
       "        vertical-align: top;\n",
       "    }\n",
       "\n",
       "    .dataframe thead th {\n",
       "        text-align: right;\n",
       "    }\n",
       "</style>\n",
       "<table border=\"1\" class=\"dataframe\">\n",
       "  <thead>\n",
       "    <tr style=\"text-align: right;\">\n",
       "      <th></th>\n",
       "      <th>id</th>\n",
       "      <th>name</th>\n",
       "      <th>quantity</th>\n",
       "      <th>aisle</th>\n",
       "    </tr>\n",
       "  </thead>\n",
       "  <tbody>\n",
       "    <tr>\n",
       "      <td>0</td>\n",
       "      <td>1</td>\n",
       "      <td>Bananas</td>\n",
       "      <td>4</td>\n",
       "      <td>7</td>\n",
       "    </tr>\n",
       "    <tr>\n",
       "      <td>1</td>\n",
       "      <td>4</td>\n",
       "      <td>Ice Cream</td>\n",
       "      <td>1</td>\n",
       "      <td>12</td>\n",
       "    </tr>\n",
       "  </tbody>\n",
       "</table>\n",
       "</div>"
      ],
      "text/plain": [
       "   id       name  quantity  aisle\n",
       "0   1    Bananas         4      7\n",
       "1   4  Ice Cream         1     12"
      ]
     },
     "execution_count": 27,
     "metadata": {},
     "output_type": "execute_result"
    }
   ],
   "source": [
    "sql_to_pd(\"\"\"SELECT * FROM groceries WHERE aisle>5 ORDER BY aisle;\"\"\")"
   ]
  },
  {
   "cell_type": "markdown",
   "metadata": {
    "heading_collapsed": true
   },
   "source": [
    "#### Aggregating Data"
   ]
  },
  {
   "cell_type": "code",
   "execution_count": 28,
   "metadata": {
    "ExecuteTime": {
     "end_time": "2021-06-24T23:55:34.826666Z",
     "start_time": "2021-06-24T23:55:34.812795Z"
    },
    "hidden": true
   },
   "outputs": [
    {
     "data": {
      "text/plain": [
       "[(15,)]"
      ]
     },
     "execution_count": 28,
     "metadata": {},
     "output_type": "execute_result"
    }
   ],
   "source": [
    "cur.execute(\"\"\"SELECT SUM(quantity) FROM groceries;\"\"\").fetchall()"
   ]
  },
  {
   "cell_type": "code",
   "execution_count": 29,
   "metadata": {
    "ExecuteTime": {
     "end_time": "2021-06-24T23:55:34.843454Z",
     "start_time": "2021-06-24T23:55:34.828269Z"
    },
    "hidden": true
   },
   "outputs": [
    {
     "data": {
      "text/html": [
       "<div>\n",
       "<style scoped>\n",
       "    .dataframe tbody tr th:only-of-type {\n",
       "        vertical-align: middle;\n",
       "    }\n",
       "\n",
       "    .dataframe tbody tr th {\n",
       "        vertical-align: top;\n",
       "    }\n",
       "\n",
       "    .dataframe thead th {\n",
       "        text-align: right;\n",
       "    }\n",
       "</style>\n",
       "<table border=\"1\" class=\"dataframe\">\n",
       "  <thead>\n",
       "    <tr style=\"text-align: right;\">\n",
       "      <th></th>\n",
       "      <th>SUM(quantity)</th>\n",
       "    </tr>\n",
       "  </thead>\n",
       "  <tbody>\n",
       "    <tr>\n",
       "      <td>0</td>\n",
       "      <td>15</td>\n",
       "    </tr>\n",
       "  </tbody>\n",
       "</table>\n",
       "</div>"
      ],
      "text/plain": [
       "   SUM(quantity)\n",
       "0             15"
      ]
     },
     "execution_count": 29,
     "metadata": {},
     "output_type": "execute_result"
    }
   ],
   "source": [
    "sql_to_pd(\"\"\"SELECT SUM(quantity) FROM groceries;\"\"\")"
   ]
  },
  {
   "cell_type": "code",
   "execution_count": 30,
   "metadata": {
    "ExecuteTime": {
     "end_time": "2021-06-24T23:55:34.858653Z",
     "start_time": "2021-06-24T23:55:34.845042Z"
    },
    "hidden": true
   },
   "outputs": [
    {
     "data": {
      "text/html": [
       "<div>\n",
       "<style scoped>\n",
       "    .dataframe tbody tr th:only-of-type {\n",
       "        vertical-align: middle;\n",
       "    }\n",
       "\n",
       "    .dataframe tbody tr th {\n",
       "        vertical-align: top;\n",
       "    }\n",
       "\n",
       "    .dataframe thead th {\n",
       "        text-align: right;\n",
       "    }\n",
       "</style>\n",
       "<table border=\"1\" class=\"dataframe\">\n",
       "  <thead>\n",
       "    <tr style=\"text-align: right;\">\n",
       "      <th></th>\n",
       "      <th>MAX(quantity)</th>\n",
       "    </tr>\n",
       "  </thead>\n",
       "  <tbody>\n",
       "    <tr>\n",
       "      <td>0</td>\n",
       "      <td>6</td>\n",
       "    </tr>\n",
       "  </tbody>\n",
       "</table>\n",
       "</div>"
      ],
      "text/plain": [
       "   MAX(quantity)\n",
       "0              6"
      ]
     },
     "execution_count": 30,
     "metadata": {},
     "output_type": "execute_result"
    }
   ],
   "source": [
    "sql_to_pd(\"\"\"SELECT MAX(quantity) FROM groceries;\"\"\")"
   ]
  },
  {
   "cell_type": "code",
   "execution_count": 31,
   "metadata": {
    "ExecuteTime": {
     "end_time": "2021-06-24T23:55:34.880167Z",
     "start_time": "2021-06-24T23:55:34.863451Z"
    },
    "hidden": true
   },
   "outputs": [
    {
     "data": {
      "text/html": [
       "<div>\n",
       "<style scoped>\n",
       "    .dataframe tbody tr th:only-of-type {\n",
       "        vertical-align: middle;\n",
       "    }\n",
       "\n",
       "    .dataframe tbody tr th {\n",
       "        vertical-align: top;\n",
       "    }\n",
       "\n",
       "    .dataframe thead th {\n",
       "        text-align: right;\n",
       "    }\n",
       "</style>\n",
       "<table border=\"1\" class=\"dataframe\">\n",
       "  <thead>\n",
       "    <tr style=\"text-align: right;\">\n",
       "      <th></th>\n",
       "      <th>name</th>\n",
       "      <th>MAX(quantity)</th>\n",
       "    </tr>\n",
       "  </thead>\n",
       "  <tbody>\n",
       "    <tr>\n",
       "      <td>0</td>\n",
       "      <td>Cherries</td>\n",
       "      <td>6</td>\n",
       "    </tr>\n",
       "  </tbody>\n",
       "</table>\n",
       "</div>"
      ],
      "text/plain": [
       "       name  MAX(quantity)\n",
       "0  Cherries              6"
      ]
     },
     "execution_count": 31,
     "metadata": {},
     "output_type": "execute_result"
    }
   ],
   "source": [
    "sql_to_pd(\"\"\"SELECT name, MAX(quantity) FROM groceries;\"\"\")"
   ]
  },
  {
   "cell_type": "code",
   "execution_count": 32,
   "metadata": {
    "ExecuteTime": {
     "end_time": "2021-06-24T23:55:34.896859Z",
     "start_time": "2021-06-24T23:55:34.883369Z"
    },
    "hidden": true
   },
   "outputs": [
    {
     "data": {
      "text/html": [
       "<div>\n",
       "<style scoped>\n",
       "    .dataframe tbody tr th:only-of-type {\n",
       "        vertical-align: middle;\n",
       "    }\n",
       "\n",
       "    .dataframe tbody tr th {\n",
       "        vertical-align: top;\n",
       "    }\n",
       "\n",
       "    .dataframe thead th {\n",
       "        text-align: right;\n",
       "    }\n",
       "</style>\n",
       "<table border=\"1\" class=\"dataframe\">\n",
       "  <thead>\n",
       "    <tr style=\"text-align: right;\">\n",
       "      <th></th>\n",
       "      <th>SUM(quantity)</th>\n",
       "    </tr>\n",
       "  </thead>\n",
       "  <tbody>\n",
       "    <tr>\n",
       "      <td>0</td>\n",
       "      <td>9</td>\n",
       "    </tr>\n",
       "    <tr>\n",
       "      <td>1</td>\n",
       "      <td>1</td>\n",
       "    </tr>\n",
       "    <tr>\n",
       "      <td>2</td>\n",
       "      <td>4</td>\n",
       "    </tr>\n",
       "    <tr>\n",
       "      <td>3</td>\n",
       "      <td>1</td>\n",
       "    </tr>\n",
       "  </tbody>\n",
       "</table>\n",
       "</div>"
      ],
      "text/plain": [
       "   SUM(quantity)\n",
       "0              9\n",
       "1              1\n",
       "2              4\n",
       "3              1"
      ]
     },
     "execution_count": 32,
     "metadata": {},
     "output_type": "execute_result"
    }
   ],
   "source": [
    "sql_to_pd(\"\"\"SELECT SUM(quantity) FROM groceries GROUP BY aisle;\"\"\")"
   ]
  },
  {
   "cell_type": "code",
   "execution_count": 33,
   "metadata": {
    "ExecuteTime": {
     "end_time": "2021-06-24T23:55:34.913466Z",
     "start_time": "2021-06-24T23:55:34.898999Z"
    },
    "hidden": true
   },
   "outputs": [
    {
     "data": {
      "text/html": [
       "<div>\n",
       "<style scoped>\n",
       "    .dataframe tbody tr th:only-of-type {\n",
       "        vertical-align: middle;\n",
       "    }\n",
       "\n",
       "    .dataframe tbody tr th {\n",
       "        vertical-align: top;\n",
       "    }\n",
       "\n",
       "    .dataframe thead th {\n",
       "        text-align: right;\n",
       "    }\n",
       "</style>\n",
       "<table border=\"1\" class=\"dataframe\">\n",
       "  <thead>\n",
       "    <tr style=\"text-align: right;\">\n",
       "      <th></th>\n",
       "      <th>aisle</th>\n",
       "      <th>SUM(quantity)</th>\n",
       "    </tr>\n",
       "  </thead>\n",
       "  <tbody>\n",
       "    <tr>\n",
       "      <td>0</td>\n",
       "      <td>2</td>\n",
       "      <td>9</td>\n",
       "    </tr>\n",
       "    <tr>\n",
       "      <td>1</td>\n",
       "      <td>4</td>\n",
       "      <td>1</td>\n",
       "    </tr>\n",
       "    <tr>\n",
       "      <td>2</td>\n",
       "      <td>7</td>\n",
       "      <td>4</td>\n",
       "    </tr>\n",
       "    <tr>\n",
       "      <td>3</td>\n",
       "      <td>12</td>\n",
       "      <td>1</td>\n",
       "    </tr>\n",
       "  </tbody>\n",
       "</table>\n",
       "</div>"
      ],
      "text/plain": [
       "   aisle  SUM(quantity)\n",
       "0      2              9\n",
       "1      4              1\n",
       "2      7              4\n",
       "3     12              1"
      ]
     },
     "execution_count": 33,
     "metadata": {},
     "output_type": "execute_result"
    }
   ],
   "source": [
    "sql_to_pd(\"\"\"SELECT aisle, SUM(quantity) FROM groceries GROUP BY aisle;\"\"\")"
   ]
  },
  {
   "cell_type": "markdown",
   "metadata": {
    "heading_collapsed": true
   },
   "source": [
    "### More Complex Queries"
   ]
  },
  {
   "cell_type": "code",
   "execution_count": 34,
   "metadata": {
    "ExecuteTime": {
     "end_time": "2021-06-24T23:55:34.930171Z",
     "start_time": "2021-06-24T23:55:34.915460Z"
    },
    "hidden": true
   },
   "outputs": [
    {
     "data": {
      "text/plain": [
       "<sqlite3.Cursor at 0x13e44a0ed50>"
      ]
     },
     "execution_count": 34,
     "metadata": {},
     "output_type": "execute_result"
    }
   ],
   "source": [
    "cur.execute(\"\"\"CREATE TABLE excercise_logs (id INTEGER PRIMARY KEY AUTOINCREMENT, type TEXT, minutes INTEGER,\n",
    "                calories INTEGER, heart_rate INTEGER);\"\"\")\n",
    "cur.execute(\"\"\"INSERT INTO excercise_logs (type, minutes, calories, heart_rate) VALUES (\"biking\", 30, 100, 110);\"\"\")\n",
    "cur.execute(\"\"\"INSERT INTO excercise_logs (type, minutes, calories, heart_rate) VALUES (\"biking\", 10, 30, 105);\"\"\")\n",
    "cur.execute(\"\"\"INSERT INTO excercise_logs (type, minutes, calories, heart_rate) VALUES (\"dancing\", 15, 200, 120);\"\"\")"
   ]
  },
  {
   "cell_type": "code",
   "execution_count": 35,
   "metadata": {
    "ExecuteTime": {
     "end_time": "2021-06-24T23:55:34.947510Z",
     "start_time": "2021-06-24T23:55:34.931486Z"
    },
    "hidden": true
   },
   "outputs": [
    {
     "data": {
      "text/html": [
       "<div>\n",
       "<style scoped>\n",
       "    .dataframe tbody tr th:only-of-type {\n",
       "        vertical-align: middle;\n",
       "    }\n",
       "\n",
       "    .dataframe tbody tr th {\n",
       "        vertical-align: top;\n",
       "    }\n",
       "\n",
       "    .dataframe thead th {\n",
       "        text-align: right;\n",
       "    }\n",
       "</style>\n",
       "<table border=\"1\" class=\"dataframe\">\n",
       "  <thead>\n",
       "    <tr style=\"text-align: right;\">\n",
       "      <th></th>\n",
       "      <th>id</th>\n",
       "      <th>type</th>\n",
       "      <th>minutes</th>\n",
       "      <th>calories</th>\n",
       "      <th>heart_rate</th>\n",
       "    </tr>\n",
       "  </thead>\n",
       "  <tbody>\n",
       "    <tr>\n",
       "      <td>0</td>\n",
       "      <td>1</td>\n",
       "      <td>biking</td>\n",
       "      <td>30</td>\n",
       "      <td>100</td>\n",
       "      <td>110</td>\n",
       "    </tr>\n",
       "    <tr>\n",
       "      <td>1</td>\n",
       "      <td>2</td>\n",
       "      <td>biking</td>\n",
       "      <td>10</td>\n",
       "      <td>30</td>\n",
       "      <td>105</td>\n",
       "    </tr>\n",
       "    <tr>\n",
       "      <td>2</td>\n",
       "      <td>3</td>\n",
       "      <td>dancing</td>\n",
       "      <td>15</td>\n",
       "      <td>200</td>\n",
       "      <td>120</td>\n",
       "    </tr>\n",
       "  </tbody>\n",
       "</table>\n",
       "</div>"
      ],
      "text/plain": [
       "   id     type  minutes  calories  heart_rate\n",
       "0   1   biking       30       100         110\n",
       "1   2   biking       10        30         105\n",
       "2   3  dancing       15       200         120"
      ]
     },
     "execution_count": 35,
     "metadata": {},
     "output_type": "execute_result"
    }
   ],
   "source": [
    "sql_to_pd(\"\"\"SELECT * FROM excercise_logs\"\"\")"
   ]
  },
  {
   "cell_type": "code",
   "execution_count": 36,
   "metadata": {
    "ExecuteTime": {
     "end_time": "2021-06-24T23:55:34.963457Z",
     "start_time": "2021-06-24T23:55:34.949444Z"
    },
    "hidden": true
   },
   "outputs": [
    {
     "data": {
      "text/plain": [
       "<sqlite3.Cursor at 0x13e44a0ed50>"
      ]
     },
     "execution_count": 36,
     "metadata": {},
     "output_type": "execute_result"
    }
   ],
   "source": [
    "cur.execute(\"\"\"ALTER TABLE excercise_logs\n",
    "                RENAME TO exercise_logs;\"\"\")"
   ]
  },
  {
   "cell_type": "code",
   "execution_count": 37,
   "metadata": {
    "ExecuteTime": {
     "end_time": "2021-06-24T23:55:34.980150Z",
     "start_time": "2021-06-24T23:55:34.965452Z"
    },
    "hidden": true,
    "scrolled": true
   },
   "outputs": [
    {
     "data": {
      "text/html": [
       "<div>\n",
       "<style scoped>\n",
       "    .dataframe tbody tr th:only-of-type {\n",
       "        vertical-align: middle;\n",
       "    }\n",
       "\n",
       "    .dataframe tbody tr th {\n",
       "        vertical-align: top;\n",
       "    }\n",
       "\n",
       "    .dataframe thead th {\n",
       "        text-align: right;\n",
       "    }\n",
       "</style>\n",
       "<table border=\"1\" class=\"dataframe\">\n",
       "  <thead>\n",
       "    <tr style=\"text-align: right;\">\n",
       "      <th></th>\n",
       "      <th>id</th>\n",
       "      <th>type</th>\n",
       "      <th>minutes</th>\n",
       "      <th>calories</th>\n",
       "      <th>heart_rate</th>\n",
       "    </tr>\n",
       "  </thead>\n",
       "  <tbody>\n",
       "    <tr>\n",
       "      <td>0</td>\n",
       "      <td>1</td>\n",
       "      <td>biking</td>\n",
       "      <td>30</td>\n",
       "      <td>100</td>\n",
       "      <td>110</td>\n",
       "    </tr>\n",
       "    <tr>\n",
       "      <td>1</td>\n",
       "      <td>2</td>\n",
       "      <td>biking</td>\n",
       "      <td>10</td>\n",
       "      <td>30</td>\n",
       "      <td>105</td>\n",
       "    </tr>\n",
       "    <tr>\n",
       "      <td>2</td>\n",
       "      <td>3</td>\n",
       "      <td>dancing</td>\n",
       "      <td>15</td>\n",
       "      <td>200</td>\n",
       "      <td>120</td>\n",
       "    </tr>\n",
       "  </tbody>\n",
       "</table>\n",
       "</div>"
      ],
      "text/plain": [
       "   id     type  minutes  calories  heart_rate\n",
       "0   1   biking       30       100         110\n",
       "1   2   biking       10        30         105\n",
       "2   3  dancing       15       200         120"
      ]
     },
     "execution_count": 37,
     "metadata": {},
     "output_type": "execute_result"
    }
   ],
   "source": [
    "sql_to_pd(\"\"\"SELECT * FROM exercise_logs\"\"\")"
   ]
  },
  {
   "cell_type": "markdown",
   "metadata": {
    "heading_collapsed": true,
    "hidden": true
   },
   "source": [
    "#### AND Keyword"
   ]
  },
  {
   "cell_type": "code",
   "execution_count": 38,
   "metadata": {
    "ExecuteTime": {
     "end_time": "2021-06-24T23:55:34.996228Z",
     "start_time": "2021-06-24T23:55:34.981924Z"
    },
    "hidden": true
   },
   "outputs": [
    {
     "data": {
      "text/html": [
       "<div>\n",
       "<style scoped>\n",
       "    .dataframe tbody tr th:only-of-type {\n",
       "        vertical-align: middle;\n",
       "    }\n",
       "\n",
       "    .dataframe tbody tr th {\n",
       "        vertical-align: top;\n",
       "    }\n",
       "\n",
       "    .dataframe thead th {\n",
       "        text-align: right;\n",
       "    }\n",
       "</style>\n",
       "<table border=\"1\" class=\"dataframe\">\n",
       "  <thead>\n",
       "    <tr style=\"text-align: right;\">\n",
       "      <th></th>\n",
       "      <th>id</th>\n",
       "      <th>type</th>\n",
       "      <th>minutes</th>\n",
       "      <th>calories</th>\n",
       "      <th>heart_rate</th>\n",
       "    </tr>\n",
       "  </thead>\n",
       "  <tbody>\n",
       "    <tr>\n",
       "      <td>0</td>\n",
       "      <td>3</td>\n",
       "      <td>dancing</td>\n",
       "      <td>15</td>\n",
       "      <td>200</td>\n",
       "      <td>120</td>\n",
       "    </tr>\n",
       "  </tbody>\n",
       "</table>\n",
       "</div>"
      ],
      "text/plain": [
       "   id     type  minutes  calories  heart_rate\n",
       "0   3  dancing       15       200         120"
      ]
     },
     "execution_count": 38,
     "metadata": {},
     "output_type": "execute_result"
    }
   ],
   "source": [
    "sql_to_pd(\"\"\"SELECT * FROM exercise_logs WHERE calories>50 AND minutes<30;\"\"\")"
   ]
  },
  {
   "cell_type": "code",
   "execution_count": 39,
   "metadata": {
    "ExecuteTime": {
     "end_time": "2021-06-24T23:55:35.013598Z",
     "start_time": "2021-06-24T23:55:34.997227Z"
    },
    "hidden": true
   },
   "outputs": [
    {
     "data": {
      "text/html": [
       "<div>\n",
       "<style scoped>\n",
       "    .dataframe tbody tr th:only-of-type {\n",
       "        vertical-align: middle;\n",
       "    }\n",
       "\n",
       "    .dataframe tbody tr th {\n",
       "        vertical-align: top;\n",
       "    }\n",
       "\n",
       "    .dataframe thead th {\n",
       "        text-align: right;\n",
       "    }\n",
       "</style>\n",
       "<table border=\"1\" class=\"dataframe\">\n",
       "  <thead>\n",
       "    <tr style=\"text-align: right;\">\n",
       "      <th></th>\n",
       "      <th>id</th>\n",
       "      <th>type</th>\n",
       "      <th>minutes</th>\n",
       "      <th>calories</th>\n",
       "      <th>heart_rate</th>\n",
       "    </tr>\n",
       "  </thead>\n",
       "  <tbody>\n",
       "    <tr>\n",
       "      <td>0</td>\n",
       "      <td>1</td>\n",
       "      <td>biking</td>\n",
       "      <td>30</td>\n",
       "      <td>100</td>\n",
       "      <td>110</td>\n",
       "    </tr>\n",
       "    <tr>\n",
       "      <td>1</td>\n",
       "      <td>2</td>\n",
       "      <td>biking</td>\n",
       "      <td>10</td>\n",
       "      <td>30</td>\n",
       "      <td>105</td>\n",
       "    </tr>\n",
       "    <tr>\n",
       "      <td>2</td>\n",
       "      <td>3</td>\n",
       "      <td>dancing</td>\n",
       "      <td>15</td>\n",
       "      <td>200</td>\n",
       "      <td>120</td>\n",
       "    </tr>\n",
       "  </tbody>\n",
       "</table>\n",
       "</div>"
      ],
      "text/plain": [
       "   id     type  minutes  calories  heart_rate\n",
       "0   1   biking       30       100         110\n",
       "1   2   biking       10        30         105\n",
       "2   3  dancing       15       200         120"
      ]
     },
     "execution_count": 39,
     "metadata": {},
     "output_type": "execute_result"
    }
   ],
   "source": [
    "sql_to_pd(\"\"\"SELECT * FROM exercise_logs WHERE calories>50 OR heart_rate>100;\"\"\")"
   ]
  },
  {
   "cell_type": "markdown",
   "metadata": {
    "hidden": true
   },
   "source": [
    "**And** has precedence over **or** if both are used in the same statement, but can use parenthesis to change the order of evaluation"
   ]
  },
  {
   "cell_type": "markdown",
   "metadata": {
    "heading_collapsed": true,
    "hidden": true
   },
   "source": [
    "#### Querying in Subqueries"
   ]
  },
  {
   "cell_type": "code",
   "execution_count": 40,
   "metadata": {
    "ExecuteTime": {
     "end_time": "2021-06-24T23:55:35.021150Z",
     "start_time": "2021-06-24T23:55:35.014616Z"
    },
    "hidden": true
   },
   "outputs": [
    {
     "data": {
      "text/plain": [
       "<sqlite3.Cursor at 0x13e44a0ed50>"
      ]
     },
     "execution_count": 40,
     "metadata": {},
     "output_type": "execute_result"
    }
   ],
   "source": [
    "cur.execute(\"\"\"INSERT INTO exercise_logs (type, minutes, calories, heart_rate) VALUES (\"tree climbing\", 30, 70, 90);\"\"\")\n",
    "cur.execute(\"\"\"INSERT INTO exercise_logs (type, minutes, calories, heart_rate) VALUES (\"tree climbing\", 25, 72, 80);\"\"\")\n",
    "cur.execute(\"\"\"INSERT INTO exercise_logs (type, minutes, calories, heart_rate) VALUES (\"rowing\", 30, 70, 90);\"\"\")\n",
    "cur.execute(\"\"\"INSERT INTO exercise_logs (type, minutes, calories, heart_rate) VALUES (\"hiking\", 60, 80, 85);\"\"\")"
   ]
  },
  {
   "cell_type": "code",
   "execution_count": 41,
   "metadata": {
    "ExecuteTime": {
     "end_time": "2021-06-24T23:55:35.040786Z",
     "start_time": "2021-06-24T23:55:35.023176Z"
    },
    "hidden": true
   },
   "outputs": [
    {
     "data": {
      "text/html": [
       "<div>\n",
       "<style scoped>\n",
       "    .dataframe tbody tr th:only-of-type {\n",
       "        vertical-align: middle;\n",
       "    }\n",
       "\n",
       "    .dataframe tbody tr th {\n",
       "        vertical-align: top;\n",
       "    }\n",
       "\n",
       "    .dataframe thead th {\n",
       "        text-align: right;\n",
       "    }\n",
       "</style>\n",
       "<table border=\"1\" class=\"dataframe\">\n",
       "  <thead>\n",
       "    <tr style=\"text-align: right;\">\n",
       "      <th></th>\n",
       "      <th>id</th>\n",
       "      <th>type</th>\n",
       "      <th>minutes</th>\n",
       "      <th>calories</th>\n",
       "      <th>heart_rate</th>\n",
       "    </tr>\n",
       "  </thead>\n",
       "  <tbody>\n",
       "    <tr>\n",
       "      <td>0</td>\n",
       "      <td>1</td>\n",
       "      <td>biking</td>\n",
       "      <td>30</td>\n",
       "      <td>100</td>\n",
       "      <td>110</td>\n",
       "    </tr>\n",
       "    <tr>\n",
       "      <td>1</td>\n",
       "      <td>2</td>\n",
       "      <td>biking</td>\n",
       "      <td>10</td>\n",
       "      <td>30</td>\n",
       "      <td>105</td>\n",
       "    </tr>\n",
       "    <tr>\n",
       "      <td>2</td>\n",
       "      <td>3</td>\n",
       "      <td>dancing</td>\n",
       "      <td>15</td>\n",
       "      <td>200</td>\n",
       "      <td>120</td>\n",
       "    </tr>\n",
       "    <tr>\n",
       "      <td>3</td>\n",
       "      <td>4</td>\n",
       "      <td>tree climbing</td>\n",
       "      <td>30</td>\n",
       "      <td>70</td>\n",
       "      <td>90</td>\n",
       "    </tr>\n",
       "    <tr>\n",
       "      <td>4</td>\n",
       "      <td>5</td>\n",
       "      <td>tree climbing</td>\n",
       "      <td>25</td>\n",
       "      <td>72</td>\n",
       "      <td>80</td>\n",
       "    </tr>\n",
       "    <tr>\n",
       "      <td>5</td>\n",
       "      <td>6</td>\n",
       "      <td>rowing</td>\n",
       "      <td>30</td>\n",
       "      <td>70</td>\n",
       "      <td>90</td>\n",
       "    </tr>\n",
       "    <tr>\n",
       "      <td>6</td>\n",
       "      <td>7</td>\n",
       "      <td>hiking</td>\n",
       "      <td>60</td>\n",
       "      <td>80</td>\n",
       "      <td>85</td>\n",
       "    </tr>\n",
       "  </tbody>\n",
       "</table>\n",
       "</div>"
      ],
      "text/plain": [
       "   id           type  minutes  calories  heart_rate\n",
       "0   1         biking       30       100         110\n",
       "1   2         biking       10        30         105\n",
       "2   3        dancing       15       200         120\n",
       "3   4  tree climbing       30        70          90\n",
       "4   5  tree climbing       25        72          80\n",
       "5   6         rowing       30        70          90\n",
       "6   7         hiking       60        80          85"
      ]
     },
     "execution_count": 41,
     "metadata": {},
     "output_type": "execute_result"
    }
   ],
   "source": [
    "sql_to_pd(\"\"\"SELECT * FROM exercise_logs\"\"\")"
   ]
  },
  {
   "cell_type": "code",
   "execution_count": 42,
   "metadata": {
    "ExecuteTime": {
     "end_time": "2021-06-24T23:55:35.056131Z",
     "start_time": "2021-06-24T23:55:35.042933Z"
    },
    "hidden": true
   },
   "outputs": [
    {
     "data": {
      "text/html": [
       "<div>\n",
       "<style scoped>\n",
       "    .dataframe tbody tr th:only-of-type {\n",
       "        vertical-align: middle;\n",
       "    }\n",
       "\n",
       "    .dataframe tbody tr th {\n",
       "        vertical-align: top;\n",
       "    }\n",
       "\n",
       "    .dataframe thead th {\n",
       "        text-align: right;\n",
       "    }\n",
       "</style>\n",
       "<table border=\"1\" class=\"dataframe\">\n",
       "  <thead>\n",
       "    <tr style=\"text-align: right;\">\n",
       "      <th></th>\n",
       "      <th>id</th>\n",
       "      <th>type</th>\n",
       "      <th>minutes</th>\n",
       "      <th>calories</th>\n",
       "      <th>heart_rate</th>\n",
       "    </tr>\n",
       "  </thead>\n",
       "  <tbody>\n",
       "    <tr>\n",
       "      <td>0</td>\n",
       "      <td>1</td>\n",
       "      <td>biking</td>\n",
       "      <td>30</td>\n",
       "      <td>100</td>\n",
       "      <td>110</td>\n",
       "    </tr>\n",
       "    <tr>\n",
       "      <td>1</td>\n",
       "      <td>2</td>\n",
       "      <td>biking</td>\n",
       "      <td>10</td>\n",
       "      <td>30</td>\n",
       "      <td>105</td>\n",
       "    </tr>\n",
       "  </tbody>\n",
       "</table>\n",
       "</div>"
      ],
      "text/plain": [
       "   id    type  minutes  calories  heart_rate\n",
       "0   1  biking       30       100         110\n",
       "1   2  biking       10        30         105"
      ]
     },
     "execution_count": 42,
     "metadata": {},
     "output_type": "execute_result"
    }
   ],
   "source": [
    "sql_to_pd(\"\"\"SELECT * FROM exercise_logs WHERE type =\"biking\";\"\"\")"
   ]
  },
  {
   "cell_type": "code",
   "execution_count": 43,
   "metadata": {
    "ExecuteTime": {
     "end_time": "2021-06-24T23:55:35.072156Z",
     "start_time": "2021-06-24T23:55:35.057742Z"
    },
    "hidden": true
   },
   "outputs": [
    {
     "data": {
      "text/html": [
       "<div>\n",
       "<style scoped>\n",
       "    .dataframe tbody tr th:only-of-type {\n",
       "        vertical-align: middle;\n",
       "    }\n",
       "\n",
       "    .dataframe tbody tr th {\n",
       "        vertical-align: top;\n",
       "    }\n",
       "\n",
       "    .dataframe thead th {\n",
       "        text-align: right;\n",
       "    }\n",
       "</style>\n",
       "<table border=\"1\" class=\"dataframe\">\n",
       "  <thead>\n",
       "    <tr style=\"text-align: right;\">\n",
       "      <th></th>\n",
       "      <th>id</th>\n",
       "      <th>type</th>\n",
       "      <th>minutes</th>\n",
       "      <th>calories</th>\n",
       "      <th>heart_rate</th>\n",
       "    </tr>\n",
       "  </thead>\n",
       "  <tbody>\n",
       "    <tr>\n",
       "      <td>0</td>\n",
       "      <td>1</td>\n",
       "      <td>biking</td>\n",
       "      <td>30</td>\n",
       "      <td>100</td>\n",
       "      <td>110</td>\n",
       "    </tr>\n",
       "    <tr>\n",
       "      <td>1</td>\n",
       "      <td>2</td>\n",
       "      <td>biking</td>\n",
       "      <td>10</td>\n",
       "      <td>30</td>\n",
       "      <td>105</td>\n",
       "    </tr>\n",
       "    <tr>\n",
       "      <td>2</td>\n",
       "      <td>6</td>\n",
       "      <td>rowing</td>\n",
       "      <td>30</td>\n",
       "      <td>70</td>\n",
       "      <td>90</td>\n",
       "    </tr>\n",
       "    <tr>\n",
       "      <td>3</td>\n",
       "      <td>7</td>\n",
       "      <td>hiking</td>\n",
       "      <td>60</td>\n",
       "      <td>80</td>\n",
       "      <td>85</td>\n",
       "    </tr>\n",
       "  </tbody>\n",
       "</table>\n",
       "</div>"
      ],
      "text/plain": [
       "   id    type  minutes  calories  heart_rate\n",
       "0   1  biking       30       100         110\n",
       "1   2  biking       10        30         105\n",
       "2   6  rowing       30        70          90\n",
       "3   7  hiking       60        80          85"
      ]
     },
     "execution_count": 43,
     "metadata": {},
     "output_type": "execute_result"
    }
   ],
   "source": [
    "sql_to_pd(\"\"\"SELECT * FROM exercise_logs WHERE type =\"biking\" OR type=\"rowing\" OR type = \"hiking\";\"\"\")"
   ]
  },
  {
   "cell_type": "markdown",
   "metadata": {
    "hidden": true
   },
   "source": [
    "Instead, use IN operator"
   ]
  },
  {
   "cell_type": "markdown",
   "metadata": {
    "heading_collapsed": true,
    "hidden": true
   },
   "source": [
    "##### The **IN** Operator"
   ]
  },
  {
   "cell_type": "code",
   "execution_count": 44,
   "metadata": {
    "ExecuteTime": {
     "end_time": "2021-06-24T23:55:35.088117Z",
     "start_time": "2021-06-24T23:55:35.072156Z"
    },
    "hidden": true
   },
   "outputs": [
    {
     "data": {
      "text/html": [
       "<div>\n",
       "<style scoped>\n",
       "    .dataframe tbody tr th:only-of-type {\n",
       "        vertical-align: middle;\n",
       "    }\n",
       "\n",
       "    .dataframe tbody tr th {\n",
       "        vertical-align: top;\n",
       "    }\n",
       "\n",
       "    .dataframe thead th {\n",
       "        text-align: right;\n",
       "    }\n",
       "</style>\n",
       "<table border=\"1\" class=\"dataframe\">\n",
       "  <thead>\n",
       "    <tr style=\"text-align: right;\">\n",
       "      <th></th>\n",
       "      <th>id</th>\n",
       "      <th>type</th>\n",
       "      <th>minutes</th>\n",
       "      <th>calories</th>\n",
       "      <th>heart_rate</th>\n",
       "    </tr>\n",
       "  </thead>\n",
       "  <tbody>\n",
       "    <tr>\n",
       "      <td>0</td>\n",
       "      <td>1</td>\n",
       "      <td>biking</td>\n",
       "      <td>30</td>\n",
       "      <td>100</td>\n",
       "      <td>110</td>\n",
       "    </tr>\n",
       "    <tr>\n",
       "      <td>1</td>\n",
       "      <td>2</td>\n",
       "      <td>biking</td>\n",
       "      <td>10</td>\n",
       "      <td>30</td>\n",
       "      <td>105</td>\n",
       "    </tr>\n",
       "    <tr>\n",
       "      <td>2</td>\n",
       "      <td>4</td>\n",
       "      <td>tree climbing</td>\n",
       "      <td>30</td>\n",
       "      <td>70</td>\n",
       "      <td>90</td>\n",
       "    </tr>\n",
       "    <tr>\n",
       "      <td>3</td>\n",
       "      <td>5</td>\n",
       "      <td>tree climbing</td>\n",
       "      <td>25</td>\n",
       "      <td>72</td>\n",
       "      <td>80</td>\n",
       "    </tr>\n",
       "    <tr>\n",
       "      <td>4</td>\n",
       "      <td>6</td>\n",
       "      <td>rowing</td>\n",
       "      <td>30</td>\n",
       "      <td>70</td>\n",
       "      <td>90</td>\n",
       "    </tr>\n",
       "    <tr>\n",
       "      <td>5</td>\n",
       "      <td>7</td>\n",
       "      <td>hiking</td>\n",
       "      <td>60</td>\n",
       "      <td>80</td>\n",
       "      <td>85</td>\n",
       "    </tr>\n",
       "  </tbody>\n",
       "</table>\n",
       "</div>"
      ],
      "text/plain": [
       "   id           type  minutes  calories  heart_rate\n",
       "0   1         biking       30       100         110\n",
       "1   2         biking       10        30         105\n",
       "2   4  tree climbing       30        70          90\n",
       "3   5  tree climbing       25        72          80\n",
       "4   6         rowing       30        70          90\n",
       "5   7         hiking       60        80          85"
      ]
     },
     "execution_count": 44,
     "metadata": {},
     "output_type": "execute_result"
    }
   ],
   "source": [
    "sql_to_pd(\"\"\"SELECT * FROM exercise_logs WHERE type IN (\"biking\",\"rowing\",\"hiking\",\"tree climbing\");\"\"\")"
   ]
  },
  {
   "cell_type": "markdown",
   "metadata": {
    "heading_collapsed": true,
    "hidden": true
   },
   "source": [
    "##### Inverse query"
   ]
  },
  {
   "cell_type": "code",
   "execution_count": 45,
   "metadata": {
    "ExecuteTime": {
     "end_time": "2021-06-24T23:55:35.105418Z",
     "start_time": "2021-06-24T23:55:35.089387Z"
    },
    "hidden": true
   },
   "outputs": [
    {
     "data": {
      "text/html": [
       "<div>\n",
       "<style scoped>\n",
       "    .dataframe tbody tr th:only-of-type {\n",
       "        vertical-align: middle;\n",
       "    }\n",
       "\n",
       "    .dataframe tbody tr th {\n",
       "        vertical-align: top;\n",
       "    }\n",
       "\n",
       "    .dataframe thead th {\n",
       "        text-align: right;\n",
       "    }\n",
       "</style>\n",
       "<table border=\"1\" class=\"dataframe\">\n",
       "  <thead>\n",
       "    <tr style=\"text-align: right;\">\n",
       "      <th></th>\n",
       "      <th>id</th>\n",
       "      <th>type</th>\n",
       "      <th>minutes</th>\n",
       "      <th>calories</th>\n",
       "      <th>heart_rate</th>\n",
       "    </tr>\n",
       "  </thead>\n",
       "  <tbody>\n",
       "    <tr>\n",
       "      <td>0</td>\n",
       "      <td>3</td>\n",
       "      <td>dancing</td>\n",
       "      <td>15</td>\n",
       "      <td>200</td>\n",
       "      <td>120</td>\n",
       "    </tr>\n",
       "  </tbody>\n",
       "</table>\n",
       "</div>"
      ],
      "text/plain": [
       "   id     type  minutes  calories  heart_rate\n",
       "0   3  dancing       15       200         120"
      ]
     },
     "execution_count": 45,
     "metadata": {},
     "output_type": "execute_result"
    }
   ],
   "source": [
    "sql_to_pd(\"\"\"SELECT * FROM exercise_logs WHERE type NOT IN (\"biking\",\"rowing\",\"hiking\",\"tree climbing\");\"\"\")"
   ]
  },
  {
   "cell_type": "code",
   "execution_count": null,
   "metadata": {
    "hidden": true
   },
   "outputs": [],
   "source": []
  },
  {
   "cell_type": "code",
   "execution_count": null,
   "metadata": {
    "hidden": true
   },
   "outputs": [],
   "source": []
  },
  {
   "cell_type": "code",
   "execution_count": 46,
   "metadata": {
    "ExecuteTime": {
     "end_time": "2021-06-24T23:55:35.113369Z",
     "start_time": "2021-06-24T23:55:35.106824Z"
    },
    "hidden": true
   },
   "outputs": [
    {
     "data": {
      "text/plain": [
       "<sqlite3.Cursor at 0x13e44a0ed50>"
      ]
     },
     "execution_count": 46,
     "metadata": {},
     "output_type": "execute_result"
    }
   ],
   "source": [
    "cur.execute(\"\"\"CREATE TABLE drs_favorites\n",
    "    (id INTEGER PRIMARY KEY,\n",
    "    type TEXT,\n",
    "    reason TEXT);\"\"\" )\n",
    "\n",
    "cur.execute(\"\"\"INSERT INTO drs_favorites(type, reason) VALUES (\"biking\", \"Improves endurance and flexibility.\");\"\"\")\n",
    "cur.execute(\"\"\"INSERT INTO drs_favorites(type, reason) VALUES (\"hiking\", \"Increases cardiovascular health.\");\"\"\")"
   ]
  },
  {
   "cell_type": "code",
   "execution_count": 47,
   "metadata": {
    "ExecuteTime": {
     "end_time": "2021-06-24T23:55:35.129163Z",
     "start_time": "2021-06-24T23:55:35.115670Z"
    },
    "hidden": true
   },
   "outputs": [
    {
     "data": {
      "text/html": [
       "<div>\n",
       "<style scoped>\n",
       "    .dataframe tbody tr th:only-of-type {\n",
       "        vertical-align: middle;\n",
       "    }\n",
       "\n",
       "    .dataframe tbody tr th {\n",
       "        vertical-align: top;\n",
       "    }\n",
       "\n",
       "    .dataframe thead th {\n",
       "        text-align: right;\n",
       "    }\n",
       "</style>\n",
       "<table border=\"1\" class=\"dataframe\">\n",
       "  <thead>\n",
       "    <tr style=\"text-align: right;\">\n",
       "      <th></th>\n",
       "      <th>id</th>\n",
       "      <th>type</th>\n",
       "      <th>reason</th>\n",
       "    </tr>\n",
       "  </thead>\n",
       "  <tbody>\n",
       "    <tr>\n",
       "      <td>0</td>\n",
       "      <td>1</td>\n",
       "      <td>biking</td>\n",
       "      <td>Improves endurance and flexibility.</td>\n",
       "    </tr>\n",
       "    <tr>\n",
       "      <td>1</td>\n",
       "      <td>2</td>\n",
       "      <td>hiking</td>\n",
       "      <td>Increases cardiovascular health.</td>\n",
       "    </tr>\n",
       "  </tbody>\n",
       "</table>\n",
       "</div>"
      ],
      "text/plain": [
       "   id    type                               reason\n",
       "0   1  biking  Improves endurance and flexibility.\n",
       "1   2  hiking     Increases cardiovascular health."
      ]
     },
     "execution_count": 47,
     "metadata": {},
     "output_type": "execute_result"
    }
   ],
   "source": [
    "sql_to_pd(\"\"\"SELECT * FROM drs_favorites\"\"\")"
   ]
  },
  {
   "cell_type": "code",
   "execution_count": null,
   "metadata": {
    "hidden": true
   },
   "outputs": [],
   "source": []
  },
  {
   "cell_type": "code",
   "execution_count": null,
   "metadata": {
    "hidden": true
   },
   "outputs": [],
   "source": []
  },
  {
   "cell_type": "code",
   "execution_count": 48,
   "metadata": {
    "ExecuteTime": {
     "end_time": "2021-06-24T23:55:35.144985Z",
     "start_time": "2021-06-24T23:55:35.131206Z"
    },
    "hidden": true
   },
   "outputs": [
    {
     "data": {
      "text/html": [
       "<div>\n",
       "<style scoped>\n",
       "    .dataframe tbody tr th:only-of-type {\n",
       "        vertical-align: middle;\n",
       "    }\n",
       "\n",
       "    .dataframe tbody tr th {\n",
       "        vertical-align: top;\n",
       "    }\n",
       "\n",
       "    .dataframe thead th {\n",
       "        text-align: right;\n",
       "    }\n",
       "</style>\n",
       "<table border=\"1\" class=\"dataframe\">\n",
       "  <thead>\n",
       "    <tr style=\"text-align: right;\">\n",
       "      <th></th>\n",
       "      <th>id</th>\n",
       "      <th>type</th>\n",
       "      <th>minutes</th>\n",
       "      <th>calories</th>\n",
       "      <th>heart_rate</th>\n",
       "    </tr>\n",
       "  </thead>\n",
       "  <tbody>\n",
       "    <tr>\n",
       "      <td>0</td>\n",
       "      <td>1</td>\n",
       "      <td>biking</td>\n",
       "      <td>30</td>\n",
       "      <td>100</td>\n",
       "      <td>110</td>\n",
       "    </tr>\n",
       "    <tr>\n",
       "      <td>1</td>\n",
       "      <td>2</td>\n",
       "      <td>biking</td>\n",
       "      <td>10</td>\n",
       "      <td>30</td>\n",
       "      <td>105</td>\n",
       "    </tr>\n",
       "    <tr>\n",
       "      <td>2</td>\n",
       "      <td>7</td>\n",
       "      <td>hiking</td>\n",
       "      <td>60</td>\n",
       "      <td>80</td>\n",
       "      <td>85</td>\n",
       "    </tr>\n",
       "  </tbody>\n",
       "</table>\n",
       "</div>"
      ],
      "text/plain": [
       "   id    type  minutes  calories  heart_rate\n",
       "0   1  biking       30       100         110\n",
       "1   2  biking       10        30         105\n",
       "2   7  hiking       60        80          85"
      ]
     },
     "execution_count": 48,
     "metadata": {},
     "output_type": "execute_result"
    }
   ],
   "source": [
    "sql_to_pd(\"\"\"SELECT * FROM exercise_logs WHERE type IN (SELECT type FROM drs_favorites)\"\"\")"
   ]
  },
  {
   "cell_type": "code",
   "execution_count": 49,
   "metadata": {
    "ExecuteTime": {
     "end_time": "2021-06-24T23:55:35.163449Z",
     "start_time": "2021-06-24T23:55:35.146980Z"
    },
    "hidden": true
   },
   "outputs": [
    {
     "data": {
      "text/html": [
       "<div>\n",
       "<style scoped>\n",
       "    .dataframe tbody tr th:only-of-type {\n",
       "        vertical-align: middle;\n",
       "    }\n",
       "\n",
       "    .dataframe tbody tr th {\n",
       "        vertical-align: top;\n",
       "    }\n",
       "\n",
       "    .dataframe thead th {\n",
       "        text-align: right;\n",
       "    }\n",
       "</style>\n",
       "<table border=\"1\" class=\"dataframe\">\n",
       "  <thead>\n",
       "    <tr style=\"text-align: right;\">\n",
       "      <th></th>\n",
       "      <th>id</th>\n",
       "      <th>type</th>\n",
       "      <th>minutes</th>\n",
       "      <th>calories</th>\n",
       "      <th>heart_rate</th>\n",
       "    </tr>\n",
       "  </thead>\n",
       "  <tbody>\n",
       "    <tr>\n",
       "      <td>0</td>\n",
       "      <td>7</td>\n",
       "      <td>hiking</td>\n",
       "      <td>60</td>\n",
       "      <td>80</td>\n",
       "      <td>85</td>\n",
       "    </tr>\n",
       "  </tbody>\n",
       "</table>\n",
       "</div>"
      ],
      "text/plain": [
       "   id    type  minutes  calories  heart_rate\n",
       "0   7  hiking       60        80          85"
      ]
     },
     "execution_count": 49,
     "metadata": {},
     "output_type": "execute_result"
    }
   ],
   "source": [
    "sql_to_pd(\"\"\"SELECT * FROM exercise_logs WHERE type IN (SELECT type FROM drs_favorites WHERE reason = \"Increases cardiovascular health.\");\"\"\")"
   ]
  },
  {
   "cell_type": "markdown",
   "metadata": {
    "hidden": true
   },
   "source": [
    "Errors out if not exact match in the string. can also do a non exact match"
   ]
  },
  {
   "cell_type": "markdown",
   "metadata": {
    "heading_collapsed": true,
    "hidden": true
   },
   "source": [
    "##### LIKE Operator"
   ]
  },
  {
   "cell_type": "code",
   "execution_count": 50,
   "metadata": {
    "ExecuteTime": {
     "end_time": "2021-06-24T23:55:35.181022Z",
     "start_time": "2021-06-24T23:55:35.164447Z"
    },
    "hidden": true
   },
   "outputs": [
    {
     "data": {
      "text/html": [
       "<div>\n",
       "<style scoped>\n",
       "    .dataframe tbody tr th:only-of-type {\n",
       "        vertical-align: middle;\n",
       "    }\n",
       "\n",
       "    .dataframe tbody tr th {\n",
       "        vertical-align: top;\n",
       "    }\n",
       "\n",
       "    .dataframe thead th {\n",
       "        text-align: right;\n",
       "    }\n",
       "</style>\n",
       "<table border=\"1\" class=\"dataframe\">\n",
       "  <thead>\n",
       "    <tr style=\"text-align: right;\">\n",
       "      <th></th>\n",
       "      <th>id</th>\n",
       "      <th>type</th>\n",
       "      <th>minutes</th>\n",
       "      <th>calories</th>\n",
       "      <th>heart_rate</th>\n",
       "    </tr>\n",
       "  </thead>\n",
       "  <tbody>\n",
       "    <tr>\n",
       "      <td>0</td>\n",
       "      <td>7</td>\n",
       "      <td>hiking</td>\n",
       "      <td>60</td>\n",
       "      <td>80</td>\n",
       "      <td>85</td>\n",
       "    </tr>\n",
       "  </tbody>\n",
       "</table>\n",
       "</div>"
      ],
      "text/plain": [
       "   id    type  minutes  calories  heart_rate\n",
       "0   7  hiking       60        80          85"
      ]
     },
     "execution_count": 50,
     "metadata": {},
     "output_type": "execute_result"
    }
   ],
   "source": [
    "sql_to_pd(\"\"\"SELECT * FROM exercise_logs WHERE type IN (SELECT type FROM drs_favorites WHERE reason LIKE \"%cardiovascular%\");\"\"\")"
   ]
  },
  {
   "cell_type": "markdown",
   "metadata": {
    "heading_collapsed": true,
    "hidden": true
   },
   "source": [
    "#### Restricting grouped results with HAVING"
   ]
  },
  {
   "cell_type": "code",
   "execution_count": 51,
   "metadata": {
    "ExecuteTime": {
     "end_time": "2021-06-24T23:55:35.196676Z",
     "start_time": "2021-06-24T23:55:35.183488Z"
    },
    "hidden": true
   },
   "outputs": [
    {
     "data": {
      "text/html": [
       "<div>\n",
       "<style scoped>\n",
       "    .dataframe tbody tr th:only-of-type {\n",
       "        vertical-align: middle;\n",
       "    }\n",
       "\n",
       "    .dataframe tbody tr th {\n",
       "        vertical-align: top;\n",
       "    }\n",
       "\n",
       "    .dataframe thead th {\n",
       "        text-align: right;\n",
       "    }\n",
       "</style>\n",
       "<table border=\"1\" class=\"dataframe\">\n",
       "  <thead>\n",
       "    <tr style=\"text-align: right;\">\n",
       "      <th></th>\n",
       "      <th>type</th>\n",
       "      <th>SUM(calories)</th>\n",
       "    </tr>\n",
       "  </thead>\n",
       "  <tbody>\n",
       "    <tr>\n",
       "      <td>0</td>\n",
       "      <td>biking</td>\n",
       "      <td>130</td>\n",
       "    </tr>\n",
       "    <tr>\n",
       "      <td>1</td>\n",
       "      <td>dancing</td>\n",
       "      <td>200</td>\n",
       "    </tr>\n",
       "    <tr>\n",
       "      <td>2</td>\n",
       "      <td>hiking</td>\n",
       "      <td>80</td>\n",
       "    </tr>\n",
       "    <tr>\n",
       "      <td>3</td>\n",
       "      <td>rowing</td>\n",
       "      <td>70</td>\n",
       "    </tr>\n",
       "    <tr>\n",
       "      <td>4</td>\n",
       "      <td>tree climbing</td>\n",
       "      <td>142</td>\n",
       "    </tr>\n",
       "  </tbody>\n",
       "</table>\n",
       "</div>"
      ],
      "text/plain": [
       "            type  SUM(calories)\n",
       "0         biking            130\n",
       "1        dancing            200\n",
       "2         hiking             80\n",
       "3         rowing             70\n",
       "4  tree climbing            142"
      ]
     },
     "execution_count": 51,
     "metadata": {},
     "output_type": "execute_result"
    }
   ],
   "source": [
    "sql_to_pd(\"\"\"SELECT type, SUM(calories) FROM exercise_logs GROUP BY type;\"\"\")"
   ]
  },
  {
   "cell_type": "code",
   "execution_count": 52,
   "metadata": {
    "ExecuteTime": {
     "end_time": "2021-06-24T23:55:35.212879Z",
     "start_time": "2021-06-24T23:55:35.198703Z"
    },
    "hidden": true
   },
   "outputs": [
    {
     "data": {
      "text/html": [
       "<div>\n",
       "<style scoped>\n",
       "    .dataframe tbody tr th:only-of-type {\n",
       "        vertical-align: middle;\n",
       "    }\n",
       "\n",
       "    .dataframe tbody tr th {\n",
       "        vertical-align: top;\n",
       "    }\n",
       "\n",
       "    .dataframe thead th {\n",
       "        text-align: right;\n",
       "    }\n",
       "</style>\n",
       "<table border=\"1\" class=\"dataframe\">\n",
       "  <thead>\n",
       "    <tr style=\"text-align: right;\">\n",
       "      <th></th>\n",
       "      <th>type</th>\n",
       "      <th>total_calories</th>\n",
       "    </tr>\n",
       "  </thead>\n",
       "  <tbody>\n",
       "    <tr>\n",
       "      <td>0</td>\n",
       "      <td>biking</td>\n",
       "      <td>130</td>\n",
       "    </tr>\n",
       "    <tr>\n",
       "      <td>1</td>\n",
       "      <td>dancing</td>\n",
       "      <td>200</td>\n",
       "    </tr>\n",
       "    <tr>\n",
       "      <td>2</td>\n",
       "      <td>hiking</td>\n",
       "      <td>80</td>\n",
       "    </tr>\n",
       "    <tr>\n",
       "      <td>3</td>\n",
       "      <td>rowing</td>\n",
       "      <td>70</td>\n",
       "    </tr>\n",
       "    <tr>\n",
       "      <td>4</td>\n",
       "      <td>tree climbing</td>\n",
       "      <td>142</td>\n",
       "    </tr>\n",
       "  </tbody>\n",
       "</table>\n",
       "</div>"
      ],
      "text/plain": [
       "            type  total_calories\n",
       "0         biking             130\n",
       "1        dancing             200\n",
       "2         hiking              80\n",
       "3         rowing              70\n",
       "4  tree climbing             142"
      ]
     },
     "execution_count": 52,
     "metadata": {},
     "output_type": "execute_result"
    }
   ],
   "source": [
    "sql_to_pd(\"\"\"SELECT type, SUM(calories) AS total_calories FROM exercise_logs GROUP BY type;\"\"\")"
   ]
  },
  {
   "cell_type": "markdown",
   "metadata": {
    "hidden": true
   },
   "source": [
    "WHERE only filters out individual logs. For aggregate, HAVING"
   ]
  },
  {
   "cell_type": "code",
   "execution_count": 53,
   "metadata": {
    "ExecuteTime": {
     "end_time": "2021-06-24T23:55:35.229793Z",
     "start_time": "2021-06-24T23:55:35.214625Z"
    },
    "hidden": true
   },
   "outputs": [
    {
     "data": {
      "text/html": [
       "<div>\n",
       "<style scoped>\n",
       "    .dataframe tbody tr th:only-of-type {\n",
       "        vertical-align: middle;\n",
       "    }\n",
       "\n",
       "    .dataframe tbody tr th {\n",
       "        vertical-align: top;\n",
       "    }\n",
       "\n",
       "    .dataframe thead th {\n",
       "        text-align: right;\n",
       "    }\n",
       "</style>\n",
       "<table border=\"1\" class=\"dataframe\">\n",
       "  <thead>\n",
       "    <tr style=\"text-align: right;\">\n",
       "      <th></th>\n",
       "      <th>type</th>\n",
       "      <th>total_calories</th>\n",
       "    </tr>\n",
       "  </thead>\n",
       "  <tbody>\n",
       "    <tr>\n",
       "      <td>0</td>\n",
       "      <td>dancing</td>\n",
       "      <td>200</td>\n",
       "    </tr>\n",
       "  </tbody>\n",
       "</table>\n",
       "</div>"
      ],
      "text/plain": [
       "      type  total_calories\n",
       "0  dancing             200"
      ]
     },
     "execution_count": 53,
     "metadata": {},
     "output_type": "execute_result"
    }
   ],
   "source": [
    "sql_to_pd(\"\"\"SELECT type, SUM(calories) AS total_calories FROM exercise_logs GROUP BY type HAVING total_calories>150;\"\"\")"
   ]
  },
  {
   "cell_type": "code",
   "execution_count": 54,
   "metadata": {
    "ExecuteTime": {
     "end_time": "2021-06-24T23:55:35.246789Z",
     "start_time": "2021-06-24T23:55:35.231788Z"
    },
    "hidden": true
   },
   "outputs": [
    {
     "data": {
      "text/html": [
       "<div>\n",
       "<style scoped>\n",
       "    .dataframe tbody tr th:only-of-type {\n",
       "        vertical-align: middle;\n",
       "    }\n",
       "\n",
       "    .dataframe tbody tr th {\n",
       "        vertical-align: top;\n",
       "    }\n",
       "\n",
       "    .dataframe thead th {\n",
       "        text-align: right;\n",
       "    }\n",
       "</style>\n",
       "<table border=\"1\" class=\"dataframe\">\n",
       "  <thead>\n",
       "    <tr style=\"text-align: right;\">\n",
       "      <th></th>\n",
       "      <th>type</th>\n",
       "      <th>average_calories</th>\n",
       "    </tr>\n",
       "  </thead>\n",
       "  <tbody>\n",
       "    <tr>\n",
       "      <td>0</td>\n",
       "      <td>dancing</td>\n",
       "      <td>200.0</td>\n",
       "    </tr>\n",
       "    <tr>\n",
       "      <td>1</td>\n",
       "      <td>hiking</td>\n",
       "      <td>80.0</td>\n",
       "    </tr>\n",
       "    <tr>\n",
       "      <td>2</td>\n",
       "      <td>tree climbing</td>\n",
       "      <td>71.0</td>\n",
       "    </tr>\n",
       "  </tbody>\n",
       "</table>\n",
       "</div>"
      ],
      "text/plain": [
       "            type  average_calories\n",
       "0        dancing             200.0\n",
       "1         hiking              80.0\n",
       "2  tree climbing              71.0"
      ]
     },
     "execution_count": 54,
     "metadata": {},
     "output_type": "execute_result"
    }
   ],
   "source": [
    "sql_to_pd(\"\"\"SELECT type, AVG(calories) AS average_calories FROM exercise_logs GROUP BY type\n",
    "                HAVING average_calories>70\"\"\")"
   ]
  },
  {
   "cell_type": "markdown",
   "metadata": {
    "hidden": true
   },
   "source": [
    "Only those activities which have been logged more than once: COUNT"
   ]
  },
  {
   "cell_type": "markdown",
   "metadata": {
    "heading_collapsed": true,
    "hidden": true
   },
   "source": [
    "##### COUNT Operator"
   ]
  },
  {
   "cell_type": "code",
   "execution_count": 55,
   "metadata": {
    "ExecuteTime": {
     "end_time": "2021-06-24T23:55:35.262844Z",
     "start_time": "2021-06-24T23:55:35.248818Z"
    },
    "hidden": true
   },
   "outputs": [
    {
     "data": {
      "text/html": [
       "<div>\n",
       "<style scoped>\n",
       "    .dataframe tbody tr th:only-of-type {\n",
       "        vertical-align: middle;\n",
       "    }\n",
       "\n",
       "    .dataframe tbody tr th {\n",
       "        vertical-align: top;\n",
       "    }\n",
       "\n",
       "    .dataframe thead th {\n",
       "        text-align: right;\n",
       "    }\n",
       "</style>\n",
       "<table border=\"1\" class=\"dataframe\">\n",
       "  <thead>\n",
       "    <tr style=\"text-align: right;\">\n",
       "      <th></th>\n",
       "      <th>type</th>\n",
       "    </tr>\n",
       "  </thead>\n",
       "  <tbody>\n",
       "    <tr>\n",
       "      <td>0</td>\n",
       "      <td>biking</td>\n",
       "    </tr>\n",
       "    <tr>\n",
       "      <td>1</td>\n",
       "      <td>tree climbing</td>\n",
       "    </tr>\n",
       "  </tbody>\n",
       "</table>\n",
       "</div>"
      ],
      "text/plain": [
       "            type\n",
       "0         biking\n",
       "1  tree climbing"
      ]
     },
     "execution_count": 55,
     "metadata": {},
     "output_type": "execute_result"
    }
   ],
   "source": [
    "sql_to_pd(\"\"\"SELECT type FROM exercise_logs GROUP BY type HAVING COUNT(*)>=2;\"\"\")"
   ]
  },
  {
   "cell_type": "markdown",
   "metadata": {
    "heading_collapsed": true,
    "hidden": true
   },
   "source": [
    "#### Calculating results with CASE"
   ]
  },
  {
   "cell_type": "code",
   "execution_count": 56,
   "metadata": {
    "ExecuteTime": {
     "end_time": "2021-06-24T23:55:35.270862Z",
     "start_time": "2021-06-24T23:55:35.264840Z"
    },
    "hidden": true
   },
   "outputs": [
    {
     "data": {
      "text/plain": [
       "<sqlite3.Cursor at 0x13e44a0ed50>"
      ]
     },
     "execution_count": 56,
     "metadata": {},
     "output_type": "execute_result"
    }
   ],
   "source": [
    "cur.execute(\"\"\"INSERT INTO exercise_logs (type, minutes, calories, heart_rate) VALUES (\"dancing\", 15, 165, 120);\"\"\")"
   ]
  },
  {
   "cell_type": "code",
   "execution_count": 57,
   "metadata": {
    "ExecuteTime": {
     "end_time": "2021-06-24T23:55:35.317544Z",
     "start_time": "2021-06-24T23:55:35.272857Z"
    },
    "hidden": true
   },
   "outputs": [
    {
     "data": {
      "text/html": [
       "<div>\n",
       "<style scoped>\n",
       "    .dataframe tbody tr th:only-of-type {\n",
       "        vertical-align: middle;\n",
       "    }\n",
       "\n",
       "    .dataframe tbody tr th {\n",
       "        vertical-align: top;\n",
       "    }\n",
       "\n",
       "    .dataframe thead th {\n",
       "        text-align: right;\n",
       "    }\n",
       "</style>\n",
       "<table border=\"1\" class=\"dataframe\">\n",
       "  <thead>\n",
       "    <tr style=\"text-align: right;\">\n",
       "      <th></th>\n",
       "      <th>id</th>\n",
       "      <th>type</th>\n",
       "      <th>minutes</th>\n",
       "      <th>calories</th>\n",
       "      <th>heart_rate</th>\n",
       "    </tr>\n",
       "  </thead>\n",
       "  <tbody>\n",
       "    <tr>\n",
       "      <td>0</td>\n",
       "      <td>1</td>\n",
       "      <td>biking</td>\n",
       "      <td>30</td>\n",
       "      <td>100</td>\n",
       "      <td>110</td>\n",
       "    </tr>\n",
       "    <tr>\n",
       "      <td>1</td>\n",
       "      <td>2</td>\n",
       "      <td>biking</td>\n",
       "      <td>10</td>\n",
       "      <td>30</td>\n",
       "      <td>105</td>\n",
       "    </tr>\n",
       "    <tr>\n",
       "      <td>2</td>\n",
       "      <td>3</td>\n",
       "      <td>dancing</td>\n",
       "      <td>15</td>\n",
       "      <td>200</td>\n",
       "      <td>120</td>\n",
       "    </tr>\n",
       "    <tr>\n",
       "      <td>3</td>\n",
       "      <td>4</td>\n",
       "      <td>tree climbing</td>\n",
       "      <td>30</td>\n",
       "      <td>70</td>\n",
       "      <td>90</td>\n",
       "    </tr>\n",
       "    <tr>\n",
       "      <td>4</td>\n",
       "      <td>5</td>\n",
       "      <td>tree climbing</td>\n",
       "      <td>25</td>\n",
       "      <td>72</td>\n",
       "      <td>80</td>\n",
       "    </tr>\n",
       "    <tr>\n",
       "      <td>5</td>\n",
       "      <td>6</td>\n",
       "      <td>rowing</td>\n",
       "      <td>30</td>\n",
       "      <td>70</td>\n",
       "      <td>90</td>\n",
       "    </tr>\n",
       "    <tr>\n",
       "      <td>6</td>\n",
       "      <td>7</td>\n",
       "      <td>hiking</td>\n",
       "      <td>60</td>\n",
       "      <td>80</td>\n",
       "      <td>85</td>\n",
       "    </tr>\n",
       "    <tr>\n",
       "      <td>7</td>\n",
       "      <td>8</td>\n",
       "      <td>dancing</td>\n",
       "      <td>15</td>\n",
       "      <td>165</td>\n",
       "      <td>120</td>\n",
       "    </tr>\n",
       "  </tbody>\n",
       "</table>\n",
       "</div>"
      ],
      "text/plain": [
       "   id           type  minutes  calories  heart_rate\n",
       "0   1         biking       30       100         110\n",
       "1   2         biking       10        30         105\n",
       "2   3        dancing       15       200         120\n",
       "3   4  tree climbing       30        70          90\n",
       "4   5  tree climbing       25        72          80\n",
       "5   6         rowing       30        70          90\n",
       "6   7         hiking       60        80          85\n",
       "7   8        dancing       15       165         120"
      ]
     },
     "execution_count": 57,
     "metadata": {},
     "output_type": "execute_result"
    }
   ],
   "source": [
    "sql_to_pd(\"\"\"SELECT * from exercise_logs\"\"\")"
   ]
  },
  {
   "cell_type": "markdown",
   "metadata": {
    "hidden": true
   },
   "source": [
    "Max heartrate is 220-age"
   ]
  },
  {
   "cell_type": "code",
   "execution_count": 58,
   "metadata": {
    "ExecuteTime": {
     "end_time": "2021-06-24T23:55:35.334333Z",
     "start_time": "2021-06-24T23:55:35.319544Z"
    },
    "hidden": true
   },
   "outputs": [
    {
     "data": {
      "text/html": [
       "<div>\n",
       "<style scoped>\n",
       "    .dataframe tbody tr th:only-of-type {\n",
       "        vertical-align: middle;\n",
       "    }\n",
       "\n",
       "    .dataframe tbody tr th {\n",
       "        vertical-align: top;\n",
       "    }\n",
       "\n",
       "    .dataframe thead th {\n",
       "        text-align: right;\n",
       "    }\n",
       "</style>\n",
       "<table border=\"1\" class=\"dataframe\">\n",
       "  <thead>\n",
       "    <tr style=\"text-align: right;\">\n",
       "      <th></th>\n",
       "      <th>COUNT(*)</th>\n",
       "    </tr>\n",
       "  </thead>\n",
       "  <tbody>\n",
       "    <tr>\n",
       "      <td>0</td>\n",
       "      <td>0</td>\n",
       "    </tr>\n",
       "  </tbody>\n",
       "</table>\n",
       "</div>"
      ],
      "text/plain": [
       "   COUNT(*)\n",
       "0         0"
      ]
     },
     "execution_count": 58,
     "metadata": {},
     "output_type": "execute_result"
    }
   ],
   "source": [
    "sql_to_pd(\"\"\"SELECT COUNT(*) from exercise_logs WHERE heart_rate > 220-28;\"\"\")"
   ]
  },
  {
   "cell_type": "markdown",
   "metadata": {
    "hidden": true
   },
   "source": [
    "Target heart rate: 50-90% of max"
   ]
  },
  {
   "cell_type": "code",
   "execution_count": 59,
   "metadata": {
    "ExecuteTime": {
     "end_time": "2021-06-24T23:55:35.350428Z",
     "start_time": "2021-06-24T23:55:35.336200Z"
    },
    "hidden": true
   },
   "outputs": [
    {
     "data": {
      "text/html": [
       "<div>\n",
       "<style scoped>\n",
       "    .dataframe tbody tr th:only-of-type {\n",
       "        vertical-align: middle;\n",
       "    }\n",
       "\n",
       "    .dataframe tbody tr th {\n",
       "        vertical-align: top;\n",
       "    }\n",
       "\n",
       "    .dataframe thead th {\n",
       "        text-align: right;\n",
       "    }\n",
       "</style>\n",
       "<table border=\"1\" class=\"dataframe\">\n",
       "  <thead>\n",
       "    <tr style=\"text-align: right;\">\n",
       "      <th></th>\n",
       "      <th>COUNT(*)</th>\n",
       "    </tr>\n",
       "  </thead>\n",
       "  <tbody>\n",
       "    <tr>\n",
       "      <td>0</td>\n",
       "      <td>4</td>\n",
       "    </tr>\n",
       "  </tbody>\n",
       "</table>\n",
       "</div>"
      ],
      "text/plain": [
       "   COUNT(*)\n",
       "0         4"
      ]
     },
     "execution_count": 59,
     "metadata": {},
     "output_type": "execute_result"
    }
   ],
   "source": [
    "sql_to_pd(\"\"\"SELECT COUNT(*) from exercise_logs WHERE heart_rate >= ROUND(0.5*(220-28)) AND heart_rate <= ROUND(0.9*(220-28));\"\"\")"
   ]
  },
  {
   "cell_type": "markdown",
   "metadata": {
    "hidden": true
   },
   "source": [
    "Summary of logs and how many in each zone. But we dont have a column for zones to use group by. Effectively create a column using the **CASE** statement."
   ]
  },
  {
   "cell_type": "code",
   "execution_count": 60,
   "metadata": {
    "ExecuteTime": {
     "end_time": "2021-06-24T23:55:35.366667Z",
     "start_time": "2021-06-24T23:55:35.353375Z"
    },
    "hidden": true
   },
   "outputs": [
    {
     "data": {
      "text/html": [
       "<div>\n",
       "<style scoped>\n",
       "    .dataframe tbody tr th:only-of-type {\n",
       "        vertical-align: middle;\n",
       "    }\n",
       "\n",
       "    .dataframe tbody tr th {\n",
       "        vertical-align: top;\n",
       "    }\n",
       "\n",
       "    .dataframe thead th {\n",
       "        text-align: right;\n",
       "    }\n",
       "</style>\n",
       "<table border=\"1\" class=\"dataframe\">\n",
       "  <thead>\n",
       "    <tr style=\"text-align: right;\">\n",
       "      <th></th>\n",
       "      <th>type</th>\n",
       "      <th>heart_rate</th>\n",
       "    </tr>\n",
       "  </thead>\n",
       "  <tbody>\n",
       "    <tr>\n",
       "      <td>0</td>\n",
       "      <td>biking</td>\n",
       "      <td>110</td>\n",
       "    </tr>\n",
       "    <tr>\n",
       "      <td>1</td>\n",
       "      <td>biking</td>\n",
       "      <td>105</td>\n",
       "    </tr>\n",
       "    <tr>\n",
       "      <td>2</td>\n",
       "      <td>dancing</td>\n",
       "      <td>120</td>\n",
       "    </tr>\n",
       "    <tr>\n",
       "      <td>3</td>\n",
       "      <td>tree climbing</td>\n",
       "      <td>90</td>\n",
       "    </tr>\n",
       "    <tr>\n",
       "      <td>4</td>\n",
       "      <td>tree climbing</td>\n",
       "      <td>80</td>\n",
       "    </tr>\n",
       "    <tr>\n",
       "      <td>5</td>\n",
       "      <td>rowing</td>\n",
       "      <td>90</td>\n",
       "    </tr>\n",
       "    <tr>\n",
       "      <td>6</td>\n",
       "      <td>hiking</td>\n",
       "      <td>85</td>\n",
       "    </tr>\n",
       "    <tr>\n",
       "      <td>7</td>\n",
       "      <td>dancing</td>\n",
       "      <td>120</td>\n",
       "    </tr>\n",
       "  </tbody>\n",
       "</table>\n",
       "</div>"
      ],
      "text/plain": [
       "            type  heart_rate\n",
       "0         biking         110\n",
       "1         biking         105\n",
       "2        dancing         120\n",
       "3  tree climbing          90\n",
       "4  tree climbing          80\n",
       "5         rowing          90\n",
       "6         hiking          85\n",
       "7        dancing         120"
      ]
     },
     "execution_count": 60,
     "metadata": {},
     "output_type": "execute_result"
    }
   ],
   "source": [
    "sql_to_pd(\"\"\"SELECT type, heart_rate FROM exercise_logs;\"\"\")"
   ]
  },
  {
   "cell_type": "code",
   "execution_count": 61,
   "metadata": {
    "ExecuteTime": {
     "end_time": "2021-06-24T23:55:35.382618Z",
     "start_time": "2021-06-24T23:55:35.367631Z"
    },
    "hidden": true
   },
   "outputs": [
    {
     "data": {
      "text/html": [
       "<div>\n",
       "<style scoped>\n",
       "    .dataframe tbody tr th:only-of-type {\n",
       "        vertical-align: middle;\n",
       "    }\n",
       "\n",
       "    .dataframe tbody tr th {\n",
       "        vertical-align: top;\n",
       "    }\n",
       "\n",
       "    .dataframe thead th {\n",
       "        text-align: right;\n",
       "    }\n",
       "</style>\n",
       "<table border=\"1\" class=\"dataframe\">\n",
       "  <thead>\n",
       "    <tr style=\"text-align: right;\">\n",
       "      <th></th>\n",
       "      <th>type</th>\n",
       "      <th>heart_rate</th>\n",
       "      <th>hr_zone</th>\n",
       "    </tr>\n",
       "  </thead>\n",
       "  <tbody>\n",
       "    <tr>\n",
       "      <td>0</td>\n",
       "      <td>biking</td>\n",
       "      <td>110</td>\n",
       "      <td>within target</td>\n",
       "    </tr>\n",
       "    <tr>\n",
       "      <td>1</td>\n",
       "      <td>biking</td>\n",
       "      <td>105</td>\n",
       "      <td>within target</td>\n",
       "    </tr>\n",
       "    <tr>\n",
       "      <td>2</td>\n",
       "      <td>dancing</td>\n",
       "      <td>120</td>\n",
       "      <td>within target</td>\n",
       "    </tr>\n",
       "    <tr>\n",
       "      <td>3</td>\n",
       "      <td>tree climbing</td>\n",
       "      <td>90</td>\n",
       "      <td>below target</td>\n",
       "    </tr>\n",
       "    <tr>\n",
       "      <td>4</td>\n",
       "      <td>tree climbing</td>\n",
       "      <td>80</td>\n",
       "      <td>below target</td>\n",
       "    </tr>\n",
       "    <tr>\n",
       "      <td>5</td>\n",
       "      <td>rowing</td>\n",
       "      <td>90</td>\n",
       "      <td>below target</td>\n",
       "    </tr>\n",
       "    <tr>\n",
       "      <td>6</td>\n",
       "      <td>hiking</td>\n",
       "      <td>85</td>\n",
       "      <td>below target</td>\n",
       "    </tr>\n",
       "    <tr>\n",
       "      <td>7</td>\n",
       "      <td>dancing</td>\n",
       "      <td>120</td>\n",
       "      <td>within target</td>\n",
       "    </tr>\n",
       "  </tbody>\n",
       "</table>\n",
       "</div>"
      ],
      "text/plain": [
       "            type  heart_rate        hr_zone\n",
       "0         biking         110  within target\n",
       "1         biking         105  within target\n",
       "2        dancing         120  within target\n",
       "3  tree climbing          90   below target\n",
       "4  tree climbing          80   below target\n",
       "5         rowing          90   below target\n",
       "6         hiking          85   below target\n",
       "7        dancing         120  within target"
      ]
     },
     "execution_count": 61,
     "metadata": {},
     "output_type": "execute_result"
    }
   ],
   "source": [
    "sql_to_pd(\"\"\"SELECT type, heart_rate,\n",
    "                CASE\n",
    "                    WHEN heart_rate > 220-28 THEN \"above max\"\n",
    "                    WHEN heart_rate>= ROUND(0.9*(220-28)) THEN \"above target\"\n",
    "                    WHEN heart_rate>= ROUND(0.5*(220-28)) THEN \"within target\"\n",
    "                    ELSE \"below target\"\n",
    "                END AS hr_zone\n",
    "            FROM exercise_logs;\"\"\")"
   ]
  },
  {
   "cell_type": "code",
   "execution_count": 62,
   "metadata": {
    "ExecuteTime": {
     "end_time": "2021-06-24T23:55:35.398705Z",
     "start_time": "2021-06-24T23:55:35.384724Z"
    },
    "hidden": true
   },
   "outputs": [
    {
     "data": {
      "text/html": [
       "<div>\n",
       "<style scoped>\n",
       "    .dataframe tbody tr th:only-of-type {\n",
       "        vertical-align: middle;\n",
       "    }\n",
       "\n",
       "    .dataframe tbody tr th {\n",
       "        vertical-align: top;\n",
       "    }\n",
       "\n",
       "    .dataframe thead th {\n",
       "        text-align: right;\n",
       "    }\n",
       "</style>\n",
       "<table border=\"1\" class=\"dataframe\">\n",
       "  <thead>\n",
       "    <tr style=\"text-align: right;\">\n",
       "      <th></th>\n",
       "      <th>COUNT(*)</th>\n",
       "      <th>hr_zone</th>\n",
       "    </tr>\n",
       "  </thead>\n",
       "  <tbody>\n",
       "    <tr>\n",
       "      <td>0</td>\n",
       "      <td>4</td>\n",
       "      <td>below target</td>\n",
       "    </tr>\n",
       "    <tr>\n",
       "      <td>1</td>\n",
       "      <td>4</td>\n",
       "      <td>within target</td>\n",
       "    </tr>\n",
       "  </tbody>\n",
       "</table>\n",
       "</div>"
      ],
      "text/plain": [
       "   COUNT(*)        hr_zone\n",
       "0         4   below target\n",
       "1         4  within target"
      ]
     },
     "execution_count": 62,
     "metadata": {},
     "output_type": "execute_result"
    }
   ],
   "source": [
    "sql_to_pd(\"\"\"SELECT COUNT(*),\n",
    "                CASE\n",
    "                    WHEN heart_rate > 220-28 THEN \"above max\"\n",
    "                    WHEN heart_rate>= ROUND(0.9*(220-28)) THEN \"above target\"\n",
    "                    WHEN heart_rate>= ROUND(0.5*(220-28)) THEN \"within target\"\n",
    "                    ELSE \"below target\"\n",
    "                END AS hr_zone\n",
    "            FROM exercise_logs\n",
    "            GROUP BY hr_zone;\"\"\")"
   ]
  },
  {
   "cell_type": "markdown",
   "metadata": {
    "heading_collapsed": true,
    "hidden": true
   },
   "source": [
    "##### Challenge: GradeBook"
   ]
  },
  {
   "cell_type": "code",
   "execution_count": 63,
   "metadata": {
    "ExecuteTime": {
     "end_time": "2021-06-24T23:55:35.414282Z",
     "start_time": "2021-06-24T23:55:35.400668Z"
    },
    "hidden": true
   },
   "outputs": [
    {
     "data": {
      "text/plain": [
       "<sqlite3.Cursor at 0x13e44a0ed50>"
      ]
     },
     "execution_count": 63,
     "metadata": {},
     "output_type": "execute_result"
    }
   ],
   "source": [
    "cur.execute(\"\"\"CREATE TABLE student_grades (\n",
    "    id INTEGER PRIMARY KEY AUTOINCREMENT,\n",
    "    name TEXT,\n",
    "    number_grade INTEGER,\n",
    "    fraction_completed REAL);\"\"\")\n",
    "cur.execute(\"\"\"INSERT INTO student_grades (name, number_grade, fraction_completed)\n",
    "    VALUES (\"Winston\", 90, 0.805);\"\"\")\n",
    "cur.execute(\"\"\"INSERT INTO student_grades (name, number_grade, fraction_completed)\n",
    "    VALUES (\"Winnefer\", 95, 0.901);\"\"\")\n",
    "cur.execute(\"\"\"INSERT INTO student_grades (name, number_grade, fraction_completed)\n",
    "    VALUES (\"Winsteen\", 85, 0.906);\"\"\")\n",
    "cur.execute(\"\"\"INSERT INTO student_grades (name, number_grade, fraction_completed)\n",
    "    VALUES (\"Wincifer\", 66, 0.7054);\"\"\")\n",
    "cur.execute(\"\"\"INSERT INTO student_grades (name, number_grade, fraction_completed)\n",
    "    VALUES (\"Winster\", 76, 0.5013);\"\"\")\n",
    "cur.execute(\"\"\"INSERT INTO student_grades (name, number_grade, fraction_completed)\n",
    "    VALUES (\"Winstonia\", 82, 0.9045);\"\"\")"
   ]
  },
  {
   "cell_type": "code",
   "execution_count": 64,
   "metadata": {
    "ExecuteTime": {
     "end_time": "2021-06-24T23:55:35.430620Z",
     "start_time": "2021-06-24T23:55:35.415281Z"
    },
    "hidden": true
   },
   "outputs": [
    {
     "data": {
      "text/html": [
       "<div>\n",
       "<style scoped>\n",
       "    .dataframe tbody tr th:only-of-type {\n",
       "        vertical-align: middle;\n",
       "    }\n",
       "\n",
       "    .dataframe tbody tr th {\n",
       "        vertical-align: top;\n",
       "    }\n",
       "\n",
       "    .dataframe thead th {\n",
       "        text-align: right;\n",
       "    }\n",
       "</style>\n",
       "<table border=\"1\" class=\"dataframe\">\n",
       "  <thead>\n",
       "    <tr style=\"text-align: right;\">\n",
       "      <th></th>\n",
       "      <th>id</th>\n",
       "      <th>name</th>\n",
       "      <th>number_grade</th>\n",
       "      <th>fraction_completed</th>\n",
       "    </tr>\n",
       "  </thead>\n",
       "  <tbody>\n",
       "    <tr>\n",
       "      <td>0</td>\n",
       "      <td>1</td>\n",
       "      <td>Winston</td>\n",
       "      <td>90</td>\n",
       "      <td>0.8050</td>\n",
       "    </tr>\n",
       "    <tr>\n",
       "      <td>1</td>\n",
       "      <td>2</td>\n",
       "      <td>Winnefer</td>\n",
       "      <td>95</td>\n",
       "      <td>0.9010</td>\n",
       "    </tr>\n",
       "    <tr>\n",
       "      <td>2</td>\n",
       "      <td>3</td>\n",
       "      <td>Winsteen</td>\n",
       "      <td>85</td>\n",
       "      <td>0.9060</td>\n",
       "    </tr>\n",
       "    <tr>\n",
       "      <td>3</td>\n",
       "      <td>4</td>\n",
       "      <td>Wincifer</td>\n",
       "      <td>66</td>\n",
       "      <td>0.7054</td>\n",
       "    </tr>\n",
       "    <tr>\n",
       "      <td>4</td>\n",
       "      <td>5</td>\n",
       "      <td>Winster</td>\n",
       "      <td>76</td>\n",
       "      <td>0.5013</td>\n",
       "    </tr>\n",
       "    <tr>\n",
       "      <td>5</td>\n",
       "      <td>6</td>\n",
       "      <td>Winstonia</td>\n",
       "      <td>82</td>\n",
       "      <td>0.9045</td>\n",
       "    </tr>\n",
       "  </tbody>\n",
       "</table>\n",
       "</div>"
      ],
      "text/plain": [
       "   id       name  number_grade  fraction_completed\n",
       "0   1    Winston            90              0.8050\n",
       "1   2   Winnefer            95              0.9010\n",
       "2   3   Winsteen            85              0.9060\n",
       "3   4   Wincifer            66              0.7054\n",
       "4   5    Winster            76              0.5013\n",
       "5   6  Winstonia            82              0.9045"
      ]
     },
     "execution_count": 64,
     "metadata": {},
     "output_type": "execute_result"
    }
   ],
   "source": [
    "sql_to_pd(\"\"\"SELECT * FROM student_grades\"\"\")"
   ]
  },
  {
   "cell_type": "code",
   "execution_count": 65,
   "metadata": {
    "ExecuteTime": {
     "end_time": "2021-06-24T23:55:35.446712Z",
     "start_time": "2021-06-24T23:55:35.432799Z"
    },
    "hidden": true
   },
   "outputs": [
    {
     "data": {
      "text/html": [
       "<div>\n",
       "<style scoped>\n",
       "    .dataframe tbody tr th:only-of-type {\n",
       "        vertical-align: middle;\n",
       "    }\n",
       "\n",
       "    .dataframe tbody tr th {\n",
       "        vertical-align: top;\n",
       "    }\n",
       "\n",
       "    .dataframe thead th {\n",
       "        text-align: right;\n",
       "    }\n",
       "</style>\n",
       "<table border=\"1\" class=\"dataframe\">\n",
       "  <thead>\n",
       "    <tr style=\"text-align: right;\">\n",
       "      <th></th>\n",
       "      <th>name</th>\n",
       "      <th>number_grade</th>\n",
       "      <th>percent_completed</th>\n",
       "    </tr>\n",
       "  </thead>\n",
       "  <tbody>\n",
       "    <tr>\n",
       "      <td>0</td>\n",
       "      <td>Winston</td>\n",
       "      <td>90</td>\n",
       "      <td>81.0</td>\n",
       "    </tr>\n",
       "    <tr>\n",
       "      <td>1</td>\n",
       "      <td>Winnefer</td>\n",
       "      <td>95</td>\n",
       "      <td>90.0</td>\n",
       "    </tr>\n",
       "    <tr>\n",
       "      <td>2</td>\n",
       "      <td>Winsteen</td>\n",
       "      <td>85</td>\n",
       "      <td>91.0</td>\n",
       "    </tr>\n",
       "    <tr>\n",
       "      <td>3</td>\n",
       "      <td>Wincifer</td>\n",
       "      <td>66</td>\n",
       "      <td>71.0</td>\n",
       "    </tr>\n",
       "    <tr>\n",
       "      <td>4</td>\n",
       "      <td>Winster</td>\n",
       "      <td>76</td>\n",
       "      <td>50.0</td>\n",
       "    </tr>\n",
       "    <tr>\n",
       "      <td>5</td>\n",
       "      <td>Winstonia</td>\n",
       "      <td>82</td>\n",
       "      <td>90.0</td>\n",
       "    </tr>\n",
       "  </tbody>\n",
       "</table>\n",
       "</div>"
      ],
      "text/plain": [
       "        name  number_grade  percent_completed\n",
       "0    Winston            90               81.0\n",
       "1   Winnefer            95               90.0\n",
       "2   Winsteen            85               91.0\n",
       "3   Wincifer            66               71.0\n",
       "4    Winster            76               50.0\n",
       "5  Winstonia            82               90.0"
      ]
     },
     "execution_count": 65,
     "metadata": {},
     "output_type": "execute_result"
    }
   ],
   "source": [
    "sql_to_pd(\"\"\"SELECT name, number_grade,ROUND(fraction_completed*100) AS percent_completed FROM student_grades;\"\"\")"
   ]
  },
  {
   "cell_type": "code",
   "execution_count": 66,
   "metadata": {
    "ExecuteTime": {
     "end_time": "2021-06-24T23:55:35.472672Z",
     "start_time": "2021-06-24T23:55:35.447710Z"
    },
    "hidden": true
   },
   "outputs": [
    {
     "data": {
      "text/html": [
       "<div>\n",
       "<style scoped>\n",
       "    .dataframe tbody tr th:only-of-type {\n",
       "        vertical-align: middle;\n",
       "    }\n",
       "\n",
       "    .dataframe tbody tr th {\n",
       "        vertical-align: top;\n",
       "    }\n",
       "\n",
       "    .dataframe thead th {\n",
       "        text-align: right;\n",
       "    }\n",
       "</style>\n",
       "<table border=\"1\" class=\"dataframe\">\n",
       "  <thead>\n",
       "    <tr style=\"text-align: right;\">\n",
       "      <th></th>\n",
       "      <th>COUNT(*)</th>\n",
       "      <th>letter_grade</th>\n",
       "    </tr>\n",
       "  </thead>\n",
       "  <tbody>\n",
       "    <tr>\n",
       "      <td>0</td>\n",
       "      <td>1</td>\n",
       "      <td>A</td>\n",
       "    </tr>\n",
       "    <tr>\n",
       "      <td>1</td>\n",
       "      <td>3</td>\n",
       "      <td>B</td>\n",
       "    </tr>\n",
       "    <tr>\n",
       "      <td>2</td>\n",
       "      <td>1</td>\n",
       "      <td>C</td>\n",
       "    </tr>\n",
       "    <tr>\n",
       "      <td>3</td>\n",
       "      <td>1</td>\n",
       "      <td>F</td>\n",
       "    </tr>\n",
       "  </tbody>\n",
       "</table>\n",
       "</div>"
      ],
      "text/plain": [
       "   COUNT(*) letter_grade\n",
       "0         1            A\n",
       "1         3            B\n",
       "2         1            C\n",
       "3         1            F"
      ]
     },
     "execution_count": 66,
     "metadata": {},
     "output_type": "execute_result"
    }
   ],
   "source": [
    "sql_to_pd(\"\"\"SELECT COUNT(*),\n",
    "    CASE\n",
    "        WHEN number_grade > 90 THEN \"A\"\n",
    "        WHEN number_grade > 80 THEN \"B\"\n",
    "        WHEN number_grade > 70 THEN \"C\"\n",
    "        ELSE \"F\"\n",
    "    END AS letter_grade\n",
    "FROM student_grades\n",
    "GROUP BY letter_grade\"\"\")"
   ]
  },
  {
   "cell_type": "markdown",
   "metadata": {
    "heading_collapsed": true
   },
   "source": [
    "### Relational Queries in SQL"
   ]
  },
  {
   "cell_type": "markdown",
   "metadata": {
    "heading_collapsed": true,
    "hidden": true
   },
   "source": [
    "#### JOINing Related tables"
   ]
  },
  {
   "cell_type": "code",
   "execution_count": 67,
   "metadata": {
    "ExecuteTime": {
     "end_time": "2021-06-24T23:55:35.488957Z",
     "start_time": "2021-06-24T23:55:35.475038Z"
    },
    "hidden": true
   },
   "outputs": [
    {
     "data": {
      "text/plain": [
       "<sqlite3.Cursor at 0x13e44a0ed50>"
      ]
     },
     "execution_count": 67,
     "metadata": {},
     "output_type": "execute_result"
    }
   ],
   "source": [
    "cur.execute(\"\"\"CREATE TABLE students (id INTEGER PRIMARY KEY,\n",
    "    first_name TEXT,\n",
    "    last_name TEXT,\n",
    "    email TEXT,\n",
    "    phone TEXT,\n",
    "    birthdate TEXT);\"\"\")\n",
    "\n",
    "cur.execute(\"\"\"INSERT INTO students (first_name, last_name, email, phone, birthdate)\n",
    "    VALUES (\"Peter\", \"Rabbit\", \"peter@rabbit.com\", \"555-6666\", \"2002-06-24\");\"\"\")\n",
    "\n",
    "cur.execute(\"\"\"INSERT INTO students (first_name, last_name, email, phone, birthdate)\n",
    "    VALUES (\"Alice\", \"Wonderland\", \"alice@wonderland.com\", \"555-4444\", \"2002-07-04\");\"\"\")\n",
    "\n",
    "#-----------------------------------------------------------------------------------------------------------------\n",
    "\n",
    "cur.execute(\"\"\"CREATE TABLE student_grades2 (id INTEGER PRIMARY KEY,\n",
    "    student_id INTEGER,\n",
    "    test TEXT,\n",
    "    grade INTEGER);\"\"\")\n",
    "\n",
    "cur.execute(\"\"\"INSERT INTO student_grades2 (student_id, test, grade)\n",
    "    VALUES (1, \"Nutrition\", 95);\"\"\")\n",
    "\n",
    "cur.execute(\"\"\"INSERT INTO student_grades2 (student_id, test, grade)\n",
    "    VALUES (2, \"Nutrition\", 92);\"\"\")\n",
    "\n",
    "cur.execute(\"\"\"INSERT INTO student_grades2 (student_id, test, grade)\n",
    "    VALUES (1, \"Chemistry\", 85);\"\"\")\n",
    "\n",
    "cur.execute(\"\"\"INSERT INTO student_grades2 (student_id, test, grade)\n",
    "    VALUES (2, \"Chemistry\", 95);\"\"\")"
   ]
  },
  {
   "cell_type": "code",
   "execution_count": 68,
   "metadata": {
    "ExecuteTime": {
     "end_time": "2021-06-24T23:55:35.504947Z",
     "start_time": "2021-06-24T23:55:35.492258Z"
    },
    "hidden": true
   },
   "outputs": [
    {
     "data": {
      "text/html": [
       "<div>\n",
       "<style scoped>\n",
       "    .dataframe tbody tr th:only-of-type {\n",
       "        vertical-align: middle;\n",
       "    }\n",
       "\n",
       "    .dataframe tbody tr th {\n",
       "        vertical-align: top;\n",
       "    }\n",
       "\n",
       "    .dataframe thead th {\n",
       "        text-align: right;\n",
       "    }\n",
       "</style>\n",
       "<table border=\"1\" class=\"dataframe\">\n",
       "  <thead>\n",
       "    <tr style=\"text-align: right;\">\n",
       "      <th></th>\n",
       "      <th>id</th>\n",
       "      <th>student_id</th>\n",
       "      <th>test</th>\n",
       "      <th>grade</th>\n",
       "    </tr>\n",
       "  </thead>\n",
       "  <tbody>\n",
       "    <tr>\n",
       "      <td>0</td>\n",
       "      <td>1</td>\n",
       "      <td>1</td>\n",
       "      <td>Nutrition</td>\n",
       "      <td>95</td>\n",
       "    </tr>\n",
       "    <tr>\n",
       "      <td>1</td>\n",
       "      <td>2</td>\n",
       "      <td>2</td>\n",
       "      <td>Nutrition</td>\n",
       "      <td>92</td>\n",
       "    </tr>\n",
       "    <tr>\n",
       "      <td>2</td>\n",
       "      <td>3</td>\n",
       "      <td>1</td>\n",
       "      <td>Chemistry</td>\n",
       "      <td>85</td>\n",
       "    </tr>\n",
       "    <tr>\n",
       "      <td>3</td>\n",
       "      <td>4</td>\n",
       "      <td>2</td>\n",
       "      <td>Chemistry</td>\n",
       "      <td>95</td>\n",
       "    </tr>\n",
       "  </tbody>\n",
       "</table>\n",
       "</div>"
      ],
      "text/plain": [
       "   id  student_id       test  grade\n",
       "0   1           1  Nutrition     95\n",
       "1   2           2  Nutrition     92\n",
       "2   3           1  Chemistry     85\n",
       "3   4           2  Chemistry     95"
      ]
     },
     "execution_count": 68,
     "metadata": {},
     "output_type": "execute_result"
    }
   ],
   "source": [
    "sql_to_pd(\"\"\"SELECT * FROM student_grades2\"\"\")"
   ]
  },
  {
   "cell_type": "code",
   "execution_count": 69,
   "metadata": {
    "ExecuteTime": {
     "end_time": "2021-06-24T23:55:35.540683Z",
     "start_time": "2021-06-24T23:55:35.507740Z"
    },
    "hidden": true
   },
   "outputs": [
    {
     "data": {
      "text/html": [
       "<div>\n",
       "<style scoped>\n",
       "    .dataframe tbody tr th:only-of-type {\n",
       "        vertical-align: middle;\n",
       "    }\n",
       "\n",
       "    .dataframe tbody tr th {\n",
       "        vertical-align: top;\n",
       "    }\n",
       "\n",
       "    .dataframe thead th {\n",
       "        text-align: right;\n",
       "    }\n",
       "</style>\n",
       "<table border=\"1\" class=\"dataframe\">\n",
       "  <thead>\n",
       "    <tr style=\"text-align: right;\">\n",
       "      <th></th>\n",
       "      <th>id</th>\n",
       "      <th>student_id</th>\n",
       "      <th>test</th>\n",
       "      <th>grade</th>\n",
       "      <th>id</th>\n",
       "      <th>first_name</th>\n",
       "      <th>last_name</th>\n",
       "      <th>email</th>\n",
       "      <th>phone</th>\n",
       "      <th>birthdate</th>\n",
       "    </tr>\n",
       "  </thead>\n",
       "  <tbody>\n",
       "    <tr>\n",
       "      <td>0</td>\n",
       "      <td>1</td>\n",
       "      <td>1</td>\n",
       "      <td>Nutrition</td>\n",
       "      <td>95</td>\n",
       "      <td>1</td>\n",
       "      <td>Peter</td>\n",
       "      <td>Rabbit</td>\n",
       "      <td>peter@rabbit.com</td>\n",
       "      <td>555-6666</td>\n",
       "      <td>2002-06-24</td>\n",
       "    </tr>\n",
       "    <tr>\n",
       "      <td>1</td>\n",
       "      <td>1</td>\n",
       "      <td>1</td>\n",
       "      <td>Nutrition</td>\n",
       "      <td>95</td>\n",
       "      <td>2</td>\n",
       "      <td>Alice</td>\n",
       "      <td>Wonderland</td>\n",
       "      <td>alice@wonderland.com</td>\n",
       "      <td>555-4444</td>\n",
       "      <td>2002-07-04</td>\n",
       "    </tr>\n",
       "    <tr>\n",
       "      <td>2</td>\n",
       "      <td>2</td>\n",
       "      <td>2</td>\n",
       "      <td>Nutrition</td>\n",
       "      <td>92</td>\n",
       "      <td>1</td>\n",
       "      <td>Peter</td>\n",
       "      <td>Rabbit</td>\n",
       "      <td>peter@rabbit.com</td>\n",
       "      <td>555-6666</td>\n",
       "      <td>2002-06-24</td>\n",
       "    </tr>\n",
       "    <tr>\n",
       "      <td>3</td>\n",
       "      <td>2</td>\n",
       "      <td>2</td>\n",
       "      <td>Nutrition</td>\n",
       "      <td>92</td>\n",
       "      <td>2</td>\n",
       "      <td>Alice</td>\n",
       "      <td>Wonderland</td>\n",
       "      <td>alice@wonderland.com</td>\n",
       "      <td>555-4444</td>\n",
       "      <td>2002-07-04</td>\n",
       "    </tr>\n",
       "    <tr>\n",
       "      <td>4</td>\n",
       "      <td>3</td>\n",
       "      <td>1</td>\n",
       "      <td>Chemistry</td>\n",
       "      <td>85</td>\n",
       "      <td>1</td>\n",
       "      <td>Peter</td>\n",
       "      <td>Rabbit</td>\n",
       "      <td>peter@rabbit.com</td>\n",
       "      <td>555-6666</td>\n",
       "      <td>2002-06-24</td>\n",
       "    </tr>\n",
       "    <tr>\n",
       "      <td>5</td>\n",
       "      <td>3</td>\n",
       "      <td>1</td>\n",
       "      <td>Chemistry</td>\n",
       "      <td>85</td>\n",
       "      <td>2</td>\n",
       "      <td>Alice</td>\n",
       "      <td>Wonderland</td>\n",
       "      <td>alice@wonderland.com</td>\n",
       "      <td>555-4444</td>\n",
       "      <td>2002-07-04</td>\n",
       "    </tr>\n",
       "    <tr>\n",
       "      <td>6</td>\n",
       "      <td>4</td>\n",
       "      <td>2</td>\n",
       "      <td>Chemistry</td>\n",
       "      <td>95</td>\n",
       "      <td>1</td>\n",
       "      <td>Peter</td>\n",
       "      <td>Rabbit</td>\n",
       "      <td>peter@rabbit.com</td>\n",
       "      <td>555-6666</td>\n",
       "      <td>2002-06-24</td>\n",
       "    </tr>\n",
       "    <tr>\n",
       "      <td>7</td>\n",
       "      <td>4</td>\n",
       "      <td>2</td>\n",
       "      <td>Chemistry</td>\n",
       "      <td>95</td>\n",
       "      <td>2</td>\n",
       "      <td>Alice</td>\n",
       "      <td>Wonderland</td>\n",
       "      <td>alice@wonderland.com</td>\n",
       "      <td>555-4444</td>\n",
       "      <td>2002-07-04</td>\n",
       "    </tr>\n",
       "  </tbody>\n",
       "</table>\n",
       "</div>"
      ],
      "text/plain": [
       "   id  student_id       test  grade  id first_name   last_name  \\\n",
       "0   1           1  Nutrition     95   1      Peter      Rabbit   \n",
       "1   1           1  Nutrition     95   2      Alice  Wonderland   \n",
       "2   2           2  Nutrition     92   1      Peter      Rabbit   \n",
       "3   2           2  Nutrition     92   2      Alice  Wonderland   \n",
       "4   3           1  Chemistry     85   1      Peter      Rabbit   \n",
       "5   3           1  Chemistry     85   2      Alice  Wonderland   \n",
       "6   4           2  Chemistry     95   1      Peter      Rabbit   \n",
       "7   4           2  Chemistry     95   2      Alice  Wonderland   \n",
       "\n",
       "                  email     phone   birthdate  \n",
       "0      peter@rabbit.com  555-6666  2002-06-24  \n",
       "1  alice@wonderland.com  555-4444  2002-07-04  \n",
       "2      peter@rabbit.com  555-6666  2002-06-24  \n",
       "3  alice@wonderland.com  555-4444  2002-07-04  \n",
       "4      peter@rabbit.com  555-6666  2002-06-24  \n",
       "5  alice@wonderland.com  555-4444  2002-07-04  \n",
       "6      peter@rabbit.com  555-6666  2002-06-24  \n",
       "7  alice@wonderland.com  555-4444  2002-07-04  "
      ]
     },
     "execution_count": 69,
     "metadata": {},
     "output_type": "execute_result"
    }
   ],
   "source": [
    "# Cross Join\n",
    "\n",
    "sql_to_pd(\"\"\"SELECT * FROM student_grades2,students\"\"\")"
   ]
  },
  {
   "cell_type": "code",
   "execution_count": 70,
   "metadata": {
    "ExecuteTime": {
     "end_time": "2021-06-24T23:55:35.566275Z",
     "start_time": "2021-06-24T23:55:35.542678Z"
    },
    "hidden": true
   },
   "outputs": [
    {
     "data": {
      "text/html": [
       "<div>\n",
       "<style scoped>\n",
       "    .dataframe tbody tr th:only-of-type {\n",
       "        vertical-align: middle;\n",
       "    }\n",
       "\n",
       "    .dataframe tbody tr th {\n",
       "        vertical-align: top;\n",
       "    }\n",
       "\n",
       "    .dataframe thead th {\n",
       "        text-align: right;\n",
       "    }\n",
       "</style>\n",
       "<table border=\"1\" class=\"dataframe\">\n",
       "  <thead>\n",
       "    <tr style=\"text-align: right;\">\n",
       "      <th></th>\n",
       "      <th>id</th>\n",
       "      <th>student_id</th>\n",
       "      <th>test</th>\n",
       "      <th>grade</th>\n",
       "      <th>id</th>\n",
       "      <th>first_name</th>\n",
       "      <th>last_name</th>\n",
       "      <th>email</th>\n",
       "      <th>phone</th>\n",
       "      <th>birthdate</th>\n",
       "    </tr>\n",
       "  </thead>\n",
       "  <tbody>\n",
       "    <tr>\n",
       "      <td>0</td>\n",
       "      <td>1</td>\n",
       "      <td>1</td>\n",
       "      <td>Nutrition</td>\n",
       "      <td>95</td>\n",
       "      <td>1</td>\n",
       "      <td>Peter</td>\n",
       "      <td>Rabbit</td>\n",
       "      <td>peter@rabbit.com</td>\n",
       "      <td>555-6666</td>\n",
       "      <td>2002-06-24</td>\n",
       "    </tr>\n",
       "    <tr>\n",
       "      <td>1</td>\n",
       "      <td>2</td>\n",
       "      <td>2</td>\n",
       "      <td>Nutrition</td>\n",
       "      <td>92</td>\n",
       "      <td>2</td>\n",
       "      <td>Alice</td>\n",
       "      <td>Wonderland</td>\n",
       "      <td>alice@wonderland.com</td>\n",
       "      <td>555-4444</td>\n",
       "      <td>2002-07-04</td>\n",
       "    </tr>\n",
       "    <tr>\n",
       "      <td>2</td>\n",
       "      <td>3</td>\n",
       "      <td>1</td>\n",
       "      <td>Chemistry</td>\n",
       "      <td>85</td>\n",
       "      <td>1</td>\n",
       "      <td>Peter</td>\n",
       "      <td>Rabbit</td>\n",
       "      <td>peter@rabbit.com</td>\n",
       "      <td>555-6666</td>\n",
       "      <td>2002-06-24</td>\n",
       "    </tr>\n",
       "    <tr>\n",
       "      <td>3</td>\n",
       "      <td>4</td>\n",
       "      <td>2</td>\n",
       "      <td>Chemistry</td>\n",
       "      <td>95</td>\n",
       "      <td>2</td>\n",
       "      <td>Alice</td>\n",
       "      <td>Wonderland</td>\n",
       "      <td>alice@wonderland.com</td>\n",
       "      <td>555-4444</td>\n",
       "      <td>2002-07-04</td>\n",
       "    </tr>\n",
       "  </tbody>\n",
       "</table>\n",
       "</div>"
      ],
      "text/plain": [
       "   id  student_id       test  grade  id first_name   last_name  \\\n",
       "0   1           1  Nutrition     95   1      Peter      Rabbit   \n",
       "1   2           2  Nutrition     92   2      Alice  Wonderland   \n",
       "2   3           1  Chemistry     85   1      Peter      Rabbit   \n",
       "3   4           2  Chemistry     95   2      Alice  Wonderland   \n",
       "\n",
       "                  email     phone   birthdate  \n",
       "0      peter@rabbit.com  555-6666  2002-06-24  \n",
       "1  alice@wonderland.com  555-4444  2002-07-04  \n",
       "2      peter@rabbit.com  555-6666  2002-06-24  \n",
       "3  alice@wonderland.com  555-4444  2002-07-04  "
      ]
     },
     "execution_count": 70,
     "metadata": {},
     "output_type": "execute_result"
    }
   ],
   "source": [
    "# Inner Join Method 1: Implicit Inner Join\n",
    "\n",
    "sql_to_pd(\"\"\"SELECT * FROM student_grades2,students\n",
    "                WHERE student_grades2.student_id=students.id\"\"\")"
   ]
  },
  {
   "cell_type": "code",
   "execution_count": 71,
   "metadata": {
    "ExecuteTime": {
     "end_time": "2021-06-24T23:55:35.596758Z",
     "start_time": "2021-06-24T23:55:35.568855Z"
    },
    "hidden": true
   },
   "outputs": [
    {
     "data": {
      "text/html": [
       "<div>\n",
       "<style scoped>\n",
       "    .dataframe tbody tr th:only-of-type {\n",
       "        vertical-align: middle;\n",
       "    }\n",
       "\n",
       "    .dataframe tbody tr th {\n",
       "        vertical-align: top;\n",
       "    }\n",
       "\n",
       "    .dataframe thead th {\n",
       "        text-align: right;\n",
       "    }\n",
       "</style>\n",
       "<table border=\"1\" class=\"dataframe\">\n",
       "  <thead>\n",
       "    <tr style=\"text-align: right;\">\n",
       "      <th></th>\n",
       "      <th>id</th>\n",
       "      <th>first_name</th>\n",
       "      <th>last_name</th>\n",
       "      <th>email</th>\n",
       "      <th>phone</th>\n",
       "      <th>birthdate</th>\n",
       "      <th>id</th>\n",
       "      <th>student_id</th>\n",
       "      <th>test</th>\n",
       "      <th>grade</th>\n",
       "    </tr>\n",
       "  </thead>\n",
       "  <tbody>\n",
       "    <tr>\n",
       "      <td>0</td>\n",
       "      <td>1</td>\n",
       "      <td>Peter</td>\n",
       "      <td>Rabbit</td>\n",
       "      <td>peter@rabbit.com</td>\n",
       "      <td>555-6666</td>\n",
       "      <td>2002-06-24</td>\n",
       "      <td>1</td>\n",
       "      <td>1</td>\n",
       "      <td>Nutrition</td>\n",
       "      <td>95</td>\n",
       "    </tr>\n",
       "    <tr>\n",
       "      <td>1</td>\n",
       "      <td>2</td>\n",
       "      <td>Alice</td>\n",
       "      <td>Wonderland</td>\n",
       "      <td>alice@wonderland.com</td>\n",
       "      <td>555-4444</td>\n",
       "      <td>2002-07-04</td>\n",
       "      <td>2</td>\n",
       "      <td>2</td>\n",
       "      <td>Nutrition</td>\n",
       "      <td>92</td>\n",
       "    </tr>\n",
       "    <tr>\n",
       "      <td>2</td>\n",
       "      <td>1</td>\n",
       "      <td>Peter</td>\n",
       "      <td>Rabbit</td>\n",
       "      <td>peter@rabbit.com</td>\n",
       "      <td>555-6666</td>\n",
       "      <td>2002-06-24</td>\n",
       "      <td>3</td>\n",
       "      <td>1</td>\n",
       "      <td>Chemistry</td>\n",
       "      <td>85</td>\n",
       "    </tr>\n",
       "    <tr>\n",
       "      <td>3</td>\n",
       "      <td>2</td>\n",
       "      <td>Alice</td>\n",
       "      <td>Wonderland</td>\n",
       "      <td>alice@wonderland.com</td>\n",
       "      <td>555-4444</td>\n",
       "      <td>2002-07-04</td>\n",
       "      <td>4</td>\n",
       "      <td>2</td>\n",
       "      <td>Chemistry</td>\n",
       "      <td>95</td>\n",
       "    </tr>\n",
       "  </tbody>\n",
       "</table>\n",
       "</div>"
      ],
      "text/plain": [
       "   id first_name   last_name                 email     phone   birthdate  id  \\\n",
       "0   1      Peter      Rabbit      peter@rabbit.com  555-6666  2002-06-24   1   \n",
       "1   2      Alice  Wonderland  alice@wonderland.com  555-4444  2002-07-04   2   \n",
       "2   1      Peter      Rabbit      peter@rabbit.com  555-6666  2002-06-24   3   \n",
       "3   2      Alice  Wonderland  alice@wonderland.com  555-4444  2002-07-04   4   \n",
       "\n",
       "   student_id       test  grade  \n",
       "0           1  Nutrition     95  \n",
       "1           2  Nutrition     92  \n",
       "2           1  Chemistry     85  \n",
       "3           2  Chemistry     95  "
      ]
     },
     "execution_count": 71,
     "metadata": {},
     "output_type": "execute_result"
    }
   ],
   "source": [
    "# Inner Join Method 2: Explicit Inner Join\n",
    "\n",
    "sql_to_pd(\"\"\"SELECT * FROM students\n",
    "                JOIN student_grades2\n",
    "                ON students.id = student_grades2.student_id\"\"\")"
   ]
  },
  {
   "cell_type": "code",
   "execution_count": 72,
   "metadata": {
    "ExecuteTime": {
     "end_time": "2021-06-24T23:55:35.613361Z",
     "start_time": "2021-06-24T23:55:35.597756Z"
    },
    "hidden": true
   },
   "outputs": [
    {
     "data": {
      "text/html": [
       "<div>\n",
       "<style scoped>\n",
       "    .dataframe tbody tr th:only-of-type {\n",
       "        vertical-align: middle;\n",
       "    }\n",
       "\n",
       "    .dataframe tbody tr th {\n",
       "        vertical-align: top;\n",
       "    }\n",
       "\n",
       "    .dataframe thead th {\n",
       "        text-align: right;\n",
       "    }\n",
       "</style>\n",
       "<table border=\"1\" class=\"dataframe\">\n",
       "  <thead>\n",
       "    <tr style=\"text-align: right;\">\n",
       "      <th></th>\n",
       "      <th>first_name</th>\n",
       "      <th>last_name</th>\n",
       "      <th>email</th>\n",
       "      <th>test</th>\n",
       "      <th>grade</th>\n",
       "    </tr>\n",
       "  </thead>\n",
       "  <tbody>\n",
       "    <tr>\n",
       "      <td>0</td>\n",
       "      <td>Peter</td>\n",
       "      <td>Rabbit</td>\n",
       "      <td>peter@rabbit.com</td>\n",
       "      <td>Nutrition</td>\n",
       "      <td>95</td>\n",
       "    </tr>\n",
       "    <tr>\n",
       "      <td>1</td>\n",
       "      <td>Alice</td>\n",
       "      <td>Wonderland</td>\n",
       "      <td>alice@wonderland.com</td>\n",
       "      <td>Nutrition</td>\n",
       "      <td>92</td>\n",
       "    </tr>\n",
       "    <tr>\n",
       "      <td>2</td>\n",
       "      <td>Peter</td>\n",
       "      <td>Rabbit</td>\n",
       "      <td>peter@rabbit.com</td>\n",
       "      <td>Chemistry</td>\n",
       "      <td>85</td>\n",
       "    </tr>\n",
       "    <tr>\n",
       "      <td>3</td>\n",
       "      <td>Alice</td>\n",
       "      <td>Wonderland</td>\n",
       "      <td>alice@wonderland.com</td>\n",
       "      <td>Chemistry</td>\n",
       "      <td>95</td>\n",
       "    </tr>\n",
       "  </tbody>\n",
       "</table>\n",
       "</div>"
      ],
      "text/plain": [
       "  first_name   last_name                 email       test  grade\n",
       "0      Peter      Rabbit      peter@rabbit.com  Nutrition     95\n",
       "1      Alice  Wonderland  alice@wonderland.com  Nutrition     92\n",
       "2      Peter      Rabbit      peter@rabbit.com  Chemistry     85\n",
       "3      Alice  Wonderland  alice@wonderland.com  Chemistry     95"
      ]
     },
     "execution_count": 72,
     "metadata": {},
     "output_type": "execute_result"
    }
   ],
   "source": [
    "sql_to_pd(\"\"\"SELECT first_name, last_name, email, test, grade FROM students\n",
    "                JOIN student_grades2\n",
    "                ON students.id = student_grades2.student_id\"\"\")"
   ]
  },
  {
   "cell_type": "code",
   "execution_count": 73,
   "metadata": {
    "ExecuteTime": {
     "end_time": "2021-06-24T23:55:35.640346Z",
     "start_time": "2021-06-24T23:55:35.616067Z"
    },
    "hidden": true
   },
   "outputs": [
    {
     "data": {
      "text/html": [
       "<div>\n",
       "<style scoped>\n",
       "    .dataframe tbody tr th:only-of-type {\n",
       "        vertical-align: middle;\n",
       "    }\n",
       "\n",
       "    .dataframe tbody tr th {\n",
       "        vertical-align: top;\n",
       "    }\n",
       "\n",
       "    .dataframe thead th {\n",
       "        text-align: right;\n",
       "    }\n",
       "</style>\n",
       "<table border=\"1\" class=\"dataframe\">\n",
       "  <thead>\n",
       "    <tr style=\"text-align: right;\">\n",
       "      <th></th>\n",
       "      <th>first_name</th>\n",
       "      <th>last_name</th>\n",
       "      <th>email</th>\n",
       "      <th>test</th>\n",
       "      <th>grade</th>\n",
       "    </tr>\n",
       "  </thead>\n",
       "  <tbody>\n",
       "    <tr>\n",
       "      <td>0</td>\n",
       "      <td>Peter</td>\n",
       "      <td>Rabbit</td>\n",
       "      <td>peter@rabbit.com</td>\n",
       "      <td>Nutrition</td>\n",
       "      <td>95</td>\n",
       "    </tr>\n",
       "    <tr>\n",
       "      <td>1</td>\n",
       "      <td>Alice</td>\n",
       "      <td>Wonderland</td>\n",
       "      <td>alice@wonderland.com</td>\n",
       "      <td>Nutrition</td>\n",
       "      <td>92</td>\n",
       "    </tr>\n",
       "    <tr>\n",
       "      <td>2</td>\n",
       "      <td>Alice</td>\n",
       "      <td>Wonderland</td>\n",
       "      <td>alice@wonderland.com</td>\n",
       "      <td>Chemistry</td>\n",
       "      <td>95</td>\n",
       "    </tr>\n",
       "  </tbody>\n",
       "</table>\n",
       "</div>"
      ],
      "text/plain": [
       "  first_name   last_name                 email       test  grade\n",
       "0      Peter      Rabbit      peter@rabbit.com  Nutrition     95\n",
       "1      Alice  Wonderland  alice@wonderland.com  Nutrition     92\n",
       "2      Alice  Wonderland  alice@wonderland.com  Chemistry     95"
      ]
     },
     "execution_count": 73,
     "metadata": {},
     "output_type": "execute_result"
    }
   ],
   "source": [
    "sql_to_pd(\"\"\"SELECT first_name, last_name, email, test, grade FROM students\n",
    "                JOIN student_grades2\n",
    "                ON students.id = student_grades2.student_id\n",
    "                WHERE grade>90\"\"\")"
   ]
  },
  {
   "cell_type": "markdown",
   "metadata": {
    "hidden": true
   },
   "source": [
    "What is 2 tables have same column names but different representation?\n",
    "\n",
    "With such scenario, if we specify the column name in the SELECT statement, it wouldnt know which table to pull the grade from.\n",
    "\n",
    "Therefore, best practice to prefix the columns in the statement: table_name.column_name"
   ]
  },
  {
   "cell_type": "code",
   "execution_count": 74,
   "metadata": {
    "ExecuteTime": {
     "end_time": "2021-06-24T23:55:35.656412Z",
     "start_time": "2021-06-24T23:55:35.641816Z"
    },
    "hidden": true
   },
   "outputs": [
    {
     "data": {
      "text/html": [
       "<div>\n",
       "<style scoped>\n",
       "    .dataframe tbody tr th:only-of-type {\n",
       "        vertical-align: middle;\n",
       "    }\n",
       "\n",
       "    .dataframe tbody tr th {\n",
       "        vertical-align: top;\n",
       "    }\n",
       "\n",
       "    .dataframe thead th {\n",
       "        text-align: right;\n",
       "    }\n",
       "</style>\n",
       "<table border=\"1\" class=\"dataframe\">\n",
       "  <thead>\n",
       "    <tr style=\"text-align: right;\">\n",
       "      <th></th>\n",
       "      <th>first_name</th>\n",
       "      <th>last_name</th>\n",
       "      <th>email</th>\n",
       "      <th>test</th>\n",
       "      <th>grade</th>\n",
       "    </tr>\n",
       "  </thead>\n",
       "  <tbody>\n",
       "    <tr>\n",
       "      <td>0</td>\n",
       "      <td>Peter</td>\n",
       "      <td>Rabbit</td>\n",
       "      <td>peter@rabbit.com</td>\n",
       "      <td>Nutrition</td>\n",
       "      <td>95</td>\n",
       "    </tr>\n",
       "    <tr>\n",
       "      <td>1</td>\n",
       "      <td>Alice</td>\n",
       "      <td>Wonderland</td>\n",
       "      <td>alice@wonderland.com</td>\n",
       "      <td>Nutrition</td>\n",
       "      <td>92</td>\n",
       "    </tr>\n",
       "    <tr>\n",
       "      <td>2</td>\n",
       "      <td>Alice</td>\n",
       "      <td>Wonderland</td>\n",
       "      <td>alice@wonderland.com</td>\n",
       "      <td>Chemistry</td>\n",
       "      <td>95</td>\n",
       "    </tr>\n",
       "  </tbody>\n",
       "</table>\n",
       "</div>"
      ],
      "text/plain": [
       "  first_name   last_name                 email       test  grade\n",
       "0      Peter      Rabbit      peter@rabbit.com  Nutrition     95\n",
       "1      Alice  Wonderland  alice@wonderland.com  Nutrition     92\n",
       "2      Alice  Wonderland  alice@wonderland.com  Chemistry     95"
      ]
     },
     "execution_count": 74,
     "metadata": {},
     "output_type": "execute_result"
    }
   ],
   "source": [
    "sql_to_pd(\"\"\"SELECT students.first_name, students.last_name, students.email, student_grades2.test, student_grades2.grade FROM students\n",
    "    JOIN student_grades2\n",
    "    ON students.id = student_grades2.student_id\n",
    "    WHERE grade > 90;\"\"\")"
   ]
  },
  {
   "cell_type": "markdown",
   "metadata": {
    "heading_collapsed": true,
    "hidden": true
   },
   "source": [
    "#### Challenge: Bobby's Hobbies"
   ]
  },
  {
   "cell_type": "code",
   "execution_count": 75,
   "metadata": {
    "ExecuteTime": {
     "end_time": "2021-06-24T23:55:35.676610Z",
     "start_time": "2021-06-24T23:55:35.658440Z"
    },
    "hidden": true
   },
   "outputs": [
    {
     "data": {
      "text/plain": [
       "<sqlite3.Cursor at 0x13e44a0ed50>"
      ]
     },
     "execution_count": 75,
     "metadata": {},
     "output_type": "execute_result"
    }
   ],
   "source": [
    "cur.execute(\"\"\"CREATE TABLE persons (\n",
    "    id INTEGER PRIMARY KEY AUTOINCREMENT,\n",
    "    name TEXT,\n",
    "    age INTEGER);\"\"\")\n",
    "cur.execute(\"\"\"INSERT INTO persons (name, age) VALUES (\"Bobby McBobbyFace\", 12);\"\"\")\n",
    "cur.execute(\"\"\"INSERT INTO persons (name, age) VALUES (\"Lucy BoBucie\", 25);\"\"\")\n",
    "cur.execute(\"\"\"INSERT INTO persons (name, age) VALUES (\"Banana FoFanna\", 14);\"\"\")\n",
    "cur.execute(\"\"\"INSERT INTO persons (name, age) VALUES (\"Shish Kabob\", 20);\"\"\")\n",
    "cur.execute(\"\"\"INSERT INTO persons (name, age) VALUES (\"Fluffy Sparkles\", 8);\"\"\")\n",
    "\n",
    "\n",
    "cur.execute(\"\"\"CREATE table hobbies (\n",
    "    id INTEGER PRIMARY KEY AUTOINCREMENT,\n",
    "    person_id INTEGER,\n",
    "    name TEXT);\"\"\")\n",
    "cur.execute(\"\"\"INSERT INTO hobbies (person_id, name) VALUES (1, \"drawing\");\"\"\")\n",
    "cur.execute(\"\"\"INSERT INTO hobbies (person_id, name) VALUES (1, \"coding\");\"\"\")\n",
    "cur.execute(\"\"\"INSERT INTO hobbies (person_id, name) VALUES (2, \"dancing\");\"\"\")\n",
    "cur.execute(\"\"\"INSERT INTO hobbies (person_id, name) VALUES (2, \"coding\");\"\"\")\n",
    "cur.execute(\"\"\"INSERT INTO hobbies (person_id, name) VALUES (3, \"skating\");\"\"\")\n",
    "cur.execute(\"\"\"INSERT INTO hobbies (person_id, name) VALUES (3, \"rowing\");\"\"\")\n",
    "cur.execute(\"\"\"INSERT INTO hobbies (person_id, name) VALUES (3, \"drawing\");\"\"\")\n",
    "cur.execute(\"\"\"INSERT INTO hobbies (person_id, name) VALUES (4, \"coding\");\"\"\")\n",
    "cur.execute(\"\"\"INSERT INTO hobbies (person_id, name) VALUES (4, \"dilly-dallying\");\"\"\")\n",
    "cur.execute(\"\"\"INSERT INTO hobbies (person_id, name) VALUES (4, \"meowing\");\"\"\")"
   ]
  },
  {
   "cell_type": "code",
   "execution_count": 76,
   "metadata": {
    "ExecuteTime": {
     "end_time": "2021-06-24T23:55:35.695622Z",
     "start_time": "2021-06-24T23:55:35.682081Z"
    },
    "hidden": true
   },
   "outputs": [
    {
     "data": {
      "text/plain": [
       "<sqlite3.Cursor at 0x13e44a0ed50>"
      ]
     },
     "execution_count": 76,
     "metadata": {},
     "output_type": "execute_result"
    }
   ],
   "source": [
    "cur.execute(\"\"\"INSERT INTO persons (name,age) VALUES (\"Sweta Patel\",29);\"\"\")\n",
    "cur.execute(\"\"\"INSERT INTO hobbies (person_id,name) VALUES (6,\"reading books and hiking\");\"\"\")"
   ]
  },
  {
   "cell_type": "code",
   "execution_count": 77,
   "metadata": {
    "ExecuteTime": {
     "end_time": "2021-06-24T23:55:35.713091Z",
     "start_time": "2021-06-24T23:55:35.698615Z"
    },
    "hidden": true
   },
   "outputs": [
    {
     "data": {
      "text/html": [
       "<div>\n",
       "<style scoped>\n",
       "    .dataframe tbody tr th:only-of-type {\n",
       "        vertical-align: middle;\n",
       "    }\n",
       "\n",
       "    .dataframe tbody tr th {\n",
       "        vertical-align: top;\n",
       "    }\n",
       "\n",
       "    .dataframe thead th {\n",
       "        text-align: right;\n",
       "    }\n",
       "</style>\n",
       "<table border=\"1\" class=\"dataframe\">\n",
       "  <thead>\n",
       "    <tr style=\"text-align: right;\">\n",
       "      <th></th>\n",
       "      <th>name</th>\n",
       "      <th>name</th>\n",
       "    </tr>\n",
       "  </thead>\n",
       "  <tbody>\n",
       "    <tr>\n",
       "      <td>0</td>\n",
       "      <td>Bobby McBobbyFace</td>\n",
       "      <td>drawing</td>\n",
       "    </tr>\n",
       "    <tr>\n",
       "      <td>1</td>\n",
       "      <td>Bobby McBobbyFace</td>\n",
       "      <td>coding</td>\n",
       "    </tr>\n",
       "    <tr>\n",
       "      <td>2</td>\n",
       "      <td>Lucy BoBucie</td>\n",
       "      <td>dancing</td>\n",
       "    </tr>\n",
       "    <tr>\n",
       "      <td>3</td>\n",
       "      <td>Lucy BoBucie</td>\n",
       "      <td>coding</td>\n",
       "    </tr>\n",
       "    <tr>\n",
       "      <td>4</td>\n",
       "      <td>Banana FoFanna</td>\n",
       "      <td>skating</td>\n",
       "    </tr>\n",
       "    <tr>\n",
       "      <td>5</td>\n",
       "      <td>Banana FoFanna</td>\n",
       "      <td>rowing</td>\n",
       "    </tr>\n",
       "    <tr>\n",
       "      <td>6</td>\n",
       "      <td>Banana FoFanna</td>\n",
       "      <td>drawing</td>\n",
       "    </tr>\n",
       "    <tr>\n",
       "      <td>7</td>\n",
       "      <td>Shish Kabob</td>\n",
       "      <td>coding</td>\n",
       "    </tr>\n",
       "    <tr>\n",
       "      <td>8</td>\n",
       "      <td>Shish Kabob</td>\n",
       "      <td>dilly-dallying</td>\n",
       "    </tr>\n",
       "    <tr>\n",
       "      <td>9</td>\n",
       "      <td>Shish Kabob</td>\n",
       "      <td>meowing</td>\n",
       "    </tr>\n",
       "    <tr>\n",
       "      <td>10</td>\n",
       "      <td>Sweta Patel</td>\n",
       "      <td>reading books and hiking</td>\n",
       "    </tr>\n",
       "  </tbody>\n",
       "</table>\n",
       "</div>"
      ],
      "text/plain": [
       "                 name                      name\n",
       "0   Bobby McBobbyFace                   drawing\n",
       "1   Bobby McBobbyFace                    coding\n",
       "2        Lucy BoBucie                   dancing\n",
       "3        Lucy BoBucie                    coding\n",
       "4      Banana FoFanna                   skating\n",
       "5      Banana FoFanna                    rowing\n",
       "6      Banana FoFanna                   drawing\n",
       "7         Shish Kabob                    coding\n",
       "8         Shish Kabob            dilly-dallying\n",
       "9         Shish Kabob                   meowing\n",
       "10        Sweta Patel  reading books and hiking"
      ]
     },
     "execution_count": 77,
     "metadata": {},
     "output_type": "execute_result"
    }
   ],
   "source": [
    "sql_to_pd(\"\"\"SELECT persons.name, hobbies.name FROM persons\n",
    "JOIN hobbies\n",
    "ON persons.id=hobbies.person_id;\"\"\")"
   ]
  },
  {
   "cell_type": "code",
   "execution_count": 78,
   "metadata": {
    "ExecuteTime": {
     "end_time": "2021-06-24T23:55:35.730150Z",
     "start_time": "2021-06-24T23:55:35.715122Z"
    },
    "hidden": true
   },
   "outputs": [
    {
     "data": {
      "text/html": [
       "<div>\n",
       "<style scoped>\n",
       "    .dataframe tbody tr th:only-of-type {\n",
       "        vertical-align: middle;\n",
       "    }\n",
       "\n",
       "    .dataframe tbody tr th {\n",
       "        vertical-align: top;\n",
       "    }\n",
       "\n",
       "    .dataframe thead th {\n",
       "        text-align: right;\n",
       "    }\n",
       "</style>\n",
       "<table border=\"1\" class=\"dataframe\">\n",
       "  <thead>\n",
       "    <tr style=\"text-align: right;\">\n",
       "      <th></th>\n",
       "      <th>name</th>\n",
       "      <th>name</th>\n",
       "    </tr>\n",
       "  </thead>\n",
       "  <tbody>\n",
       "    <tr>\n",
       "      <td>0</td>\n",
       "      <td>Bobby McBobbyFace</td>\n",
       "      <td>drawing</td>\n",
       "    </tr>\n",
       "    <tr>\n",
       "      <td>1</td>\n",
       "      <td>Bobby McBobbyFace</td>\n",
       "      <td>coding</td>\n",
       "    </tr>\n",
       "  </tbody>\n",
       "</table>\n",
       "</div>"
      ],
      "text/plain": [
       "                name     name\n",
       "0  Bobby McBobbyFace  drawing\n",
       "1  Bobby McBobbyFace   coding"
      ]
     },
     "execution_count": 78,
     "metadata": {},
     "output_type": "execute_result"
    }
   ],
   "source": [
    "sql_to_pd(\"\"\"SELECT persons.name, hobbies.name FROM persons\n",
    "JOIN hobbies\n",
    "ON persons.id=hobbies.person_id\n",
    "WHERE persons.name = \"Bobby McBobbyFace\";\"\"\")"
   ]
  },
  {
   "cell_type": "markdown",
   "metadata": {
    "heading_collapsed": true,
    "hidden": true
   },
   "source": [
    "#### Joining related tables with left outer joins"
   ]
  },
  {
   "cell_type": "code",
   "execution_count": 79,
   "metadata": {
    "ExecuteTime": {
     "end_time": "2021-06-24T23:55:35.738467Z",
     "start_time": "2021-06-24T23:55:35.732146Z"
    },
    "hidden": true
   },
   "outputs": [
    {
     "data": {
      "text/plain": [
       "<sqlite3.Cursor at 0x13e44a0ed50>"
      ]
     },
     "execution_count": 79,
     "metadata": {},
     "output_type": "execute_result"
    }
   ],
   "source": [
    "cur.execute(\"\"\"CREATE TABLE student_projects (id INTEGER PRIMARY KEY,\n",
    "    student_id INTEGER,\n",
    "    title TEXT);\"\"\")\n",
    "\n",
    "cur.execute(\"\"\"INSERT INTO student_projects (student_id, title)\n",
    "    VALUES (1, \"Carrotapault\");\"\"\")"
   ]
  },
  {
   "cell_type": "code",
   "execution_count": 80,
   "metadata": {
    "ExecuteTime": {
     "end_time": "2021-06-24T23:55:35.756045Z",
     "start_time": "2021-06-24T23:55:35.739463Z"
    },
    "hidden": true
   },
   "outputs": [
    {
     "data": {
      "text/html": [
       "<div>\n",
       "<style scoped>\n",
       "    .dataframe tbody tr th:only-of-type {\n",
       "        vertical-align: middle;\n",
       "    }\n",
       "\n",
       "    .dataframe tbody tr th {\n",
       "        vertical-align: top;\n",
       "    }\n",
       "\n",
       "    .dataframe thead th {\n",
       "        text-align: right;\n",
       "    }\n",
       "</style>\n",
       "<table border=\"1\" class=\"dataframe\">\n",
       "  <thead>\n",
       "    <tr style=\"text-align: right;\">\n",
       "      <th></th>\n",
       "      <th>first_name</th>\n",
       "      <th>last_name</th>\n",
       "      <th>title</th>\n",
       "    </tr>\n",
       "  </thead>\n",
       "  <tbody>\n",
       "    <tr>\n",
       "      <td>0</td>\n",
       "      <td>Peter</td>\n",
       "      <td>Rabbit</td>\n",
       "      <td>Carrotapault</td>\n",
       "    </tr>\n",
       "  </tbody>\n",
       "</table>\n",
       "</div>"
      ],
      "text/plain": [
       "  first_name last_name         title\n",
       "0      Peter    Rabbit  Carrotapault"
      ]
     },
     "execution_count": 80,
     "metadata": {},
     "output_type": "execute_result"
    }
   ],
   "source": [
    "sql_to_pd(\"\"\"SELECT students.first_name,students.last_name, student_projects.title\n",
    "                FROM students JOIN student_projects ON students.id=student_projects.student_id;\"\"\")"
   ]
  },
  {
   "cell_type": "markdown",
   "metadata": {
    "hidden": true
   },
   "source": [
    "Inner join only gives result if matching values in both tables. So, if we also want to see project of other student (even if they dont have a record.)"
   ]
  },
  {
   "cell_type": "markdown",
   "metadata": {
    "hidden": true
   },
   "source": [
    "Here, outer join is useful"
   ]
  },
  {
   "cell_type": "code",
   "execution_count": 81,
   "metadata": {
    "ExecuteTime": {
     "end_time": "2021-06-24T23:55:35.778655Z",
     "start_time": "2021-06-24T23:55:35.757464Z"
    },
    "hidden": true
   },
   "outputs": [
    {
     "data": {
      "text/html": [
       "<div>\n",
       "<style scoped>\n",
       "    .dataframe tbody tr th:only-of-type {\n",
       "        vertical-align: middle;\n",
       "    }\n",
       "\n",
       "    .dataframe tbody tr th {\n",
       "        vertical-align: top;\n",
       "    }\n",
       "\n",
       "    .dataframe thead th {\n",
       "        text-align: right;\n",
       "    }\n",
       "</style>\n",
       "<table border=\"1\" class=\"dataframe\">\n",
       "  <thead>\n",
       "    <tr style=\"text-align: right;\">\n",
       "      <th></th>\n",
       "      <th>first_name</th>\n",
       "      <th>last_name</th>\n",
       "      <th>title</th>\n",
       "    </tr>\n",
       "  </thead>\n",
       "  <tbody>\n",
       "    <tr>\n",
       "      <td>0</td>\n",
       "      <td>Peter</td>\n",
       "      <td>Rabbit</td>\n",
       "      <td>Carrotapault</td>\n",
       "    </tr>\n",
       "    <tr>\n",
       "      <td>1</td>\n",
       "      <td>Alice</td>\n",
       "      <td>Wonderland</td>\n",
       "      <td>None</td>\n",
       "    </tr>\n",
       "  </tbody>\n",
       "</table>\n",
       "</div>"
      ],
      "text/plain": [
       "  first_name   last_name         title\n",
       "0      Peter      Rabbit  Carrotapault\n",
       "1      Alice  Wonderland          None"
      ]
     },
     "execution_count": 81,
     "metadata": {},
     "output_type": "execute_result"
    }
   ],
   "source": [
    "sql_to_pd(\"\"\"SELECT students.first_name,students.last_name, student_projects.title\n",
    "                FROM students LEFT OUTER JOIN student_projects ON students.id=student_projects.student_id;\"\"\")"
   ]
  },
  {
   "cell_type": "code",
   "execution_count": 82,
   "metadata": {
    "ExecuteTime": {
     "end_time": "2021-06-24T23:55:35.796022Z",
     "start_time": "2021-06-24T23:55:35.780037Z"
    },
    "hidden": true
   },
   "outputs": [
    {
     "data": {
      "text/html": [
       "<div>\n",
       "<style scoped>\n",
       "    .dataframe tbody tr th:only-of-type {\n",
       "        vertical-align: middle;\n",
       "    }\n",
       "\n",
       "    .dataframe tbody tr th {\n",
       "        vertical-align: top;\n",
       "    }\n",
       "\n",
       "    .dataframe thead th {\n",
       "        text-align: right;\n",
       "    }\n",
       "</style>\n",
       "<table border=\"1\" class=\"dataframe\">\n",
       "  <thead>\n",
       "    <tr style=\"text-align: right;\">\n",
       "      <th></th>\n",
       "      <th>first_name</th>\n",
       "      <th>last_name</th>\n",
       "      <th>title</th>\n",
       "    </tr>\n",
       "  </thead>\n",
       "  <tbody>\n",
       "    <tr>\n",
       "      <td>0</td>\n",
       "      <td>Peter</td>\n",
       "      <td>Rabbit</td>\n",
       "      <td>Carrotapault</td>\n",
       "    </tr>\n",
       "    <tr>\n",
       "      <td>1</td>\n",
       "      <td>Alice</td>\n",
       "      <td>Wonderland</td>\n",
       "      <td>None</td>\n",
       "    </tr>\n",
       "  </tbody>\n",
       "</table>\n",
       "</div>"
      ],
      "text/plain": [
       "  first_name   last_name         title\n",
       "0      Peter      Rabbit  Carrotapault\n",
       "1      Alice  Wonderland          None"
      ]
     },
     "execution_count": 82,
     "metadata": {},
     "output_type": "execute_result"
    }
   ],
   "source": [
    "sql_to_pd(\"\"\"SELECT students.first_name,students.last_name, student_projects.title\n",
    "                FROM students LEFT JOIN student_projects ON students.id=student_projects.student_id;\"\"\")"
   ]
  },
  {
   "cell_type": "markdown",
   "metadata": {
    "heading_collapsed": true,
    "hidden": true
   },
   "source": [
    "#### Challenge: Customer's orders"
   ]
  },
  {
   "cell_type": "code",
   "execution_count": 83,
   "metadata": {
    "ExecuteTime": {
     "end_time": "2021-06-24T23:55:35.813435Z",
     "start_time": "2021-06-24T23:55:35.797645Z"
    },
    "hidden": true
   },
   "outputs": [
    {
     "data": {
      "text/plain": [
       "<sqlite3.Cursor at 0x13e44a0ed50>"
      ]
     },
     "execution_count": 83,
     "metadata": {},
     "output_type": "execute_result"
    }
   ],
   "source": [
    "cur.execute(\"\"\"CREATE TABLE customers (\n",
    "    id INTEGER PRIMARY KEY AUTOINCREMENT,\n",
    "    name TEXT,\n",
    "    email TEXT);\"\"\")\n",
    "cur.execute(\"\"\"INSERT INTO customers (name, email) VALUES (\"Doctor Who\", \"doctorwho@timelords.com\");\"\"\")\n",
    "cur.execute(\"\"\"INSERT INTO customers (name, email) VALUES (\"Harry Potter\", \"harry@potter.com\");\"\"\")\n",
    "cur.execute(\"\"\"INSERT INTO customers (name, email) VALUES (\"Captain Awesome\", \"captain@awesome.com\");\"\"\")\n",
    "cur.execute(\"\"\"CREATE TABLE orders (\n",
    "    id INTEGER PRIMARY KEY AUTOINCREMENT,\n",
    "    customer_id INTEGER,\n",
    "    item TEXT,\n",
    "    price REAL);\"\"\")\n",
    "cur.execute(\"\"\"INSERT INTO orders (customer_id, item, price)\n",
    "    VALUES (1, \"Sonic Screwdriver\", 1000.00);\"\"\")\n",
    "cur.execute(\"\"\"INSERT INTO orders (customer_id, item, price)\n",
    "    VALUES (2, \"High Quality Broomstick\", 40.00);\"\"\")\n",
    "cur.execute(\"\"\"INSERT INTO orders (customer_id, item, price)\n",
    "    VALUES (1, \"TARDIS\", 1000000.00);\"\"\")"
   ]
  },
  {
   "cell_type": "code",
   "execution_count": 84,
   "metadata": {
    "ExecuteTime": {
     "end_time": "2021-06-24T23:55:35.831981Z",
     "start_time": "2021-06-24T23:55:35.815464Z"
    },
    "hidden": true
   },
   "outputs": [
    {
     "data": {
      "text/html": [
       "<div>\n",
       "<style scoped>\n",
       "    .dataframe tbody tr th:only-of-type {\n",
       "        vertical-align: middle;\n",
       "    }\n",
       "\n",
       "    .dataframe tbody tr th {\n",
       "        vertical-align: top;\n",
       "    }\n",
       "\n",
       "    .dataframe thead th {\n",
       "        text-align: right;\n",
       "    }\n",
       "</style>\n",
       "<table border=\"1\" class=\"dataframe\">\n",
       "  <thead>\n",
       "    <tr style=\"text-align: right;\">\n",
       "      <th></th>\n",
       "      <th>name</th>\n",
       "      <th>email</th>\n",
       "      <th>item</th>\n",
       "      <th>price</th>\n",
       "    </tr>\n",
       "  </thead>\n",
       "  <tbody>\n",
       "    <tr>\n",
       "      <td>0</td>\n",
       "      <td>Doctor Who</td>\n",
       "      <td>doctorwho@timelords.com</td>\n",
       "      <td>Sonic Screwdriver</td>\n",
       "      <td>1000.0</td>\n",
       "    </tr>\n",
       "    <tr>\n",
       "      <td>1</td>\n",
       "      <td>Doctor Who</td>\n",
       "      <td>doctorwho@timelords.com</td>\n",
       "      <td>TARDIS</td>\n",
       "      <td>1000000.0</td>\n",
       "    </tr>\n",
       "    <tr>\n",
       "      <td>2</td>\n",
       "      <td>Harry Potter</td>\n",
       "      <td>harry@potter.com</td>\n",
       "      <td>High Quality Broomstick</td>\n",
       "      <td>40.0</td>\n",
       "    </tr>\n",
       "    <tr>\n",
       "      <td>3</td>\n",
       "      <td>Captain Awesome</td>\n",
       "      <td>captain@awesome.com</td>\n",
       "      <td>None</td>\n",
       "      <td>NaN</td>\n",
       "    </tr>\n",
       "  </tbody>\n",
       "</table>\n",
       "</div>"
      ],
      "text/plain": [
       "              name                    email                     item  \\\n",
       "0       Doctor Who  doctorwho@timelords.com        Sonic Screwdriver   \n",
       "1       Doctor Who  doctorwho@timelords.com                   TARDIS   \n",
       "2     Harry Potter         harry@potter.com  High Quality Broomstick   \n",
       "3  Captain Awesome      captain@awesome.com                     None   \n",
       "\n",
       "       price  \n",
       "0     1000.0  \n",
       "1  1000000.0  \n",
       "2       40.0  \n",
       "3        NaN  "
      ]
     },
     "execution_count": 84,
     "metadata": {},
     "output_type": "execute_result"
    }
   ],
   "source": [
    "sql_to_pd(\"\"\"SELECT customers.name, customers.email, orders.item, orders.price FROM customers LEFT OUTER JOIN orders ON customers.id=orders.customer_id;\"\"\")"
   ]
  },
  {
   "cell_type": "code",
   "execution_count": 85,
   "metadata": {
    "ExecuteTime": {
     "end_time": "2021-06-24T23:55:35.847739Z",
     "start_time": "2021-06-24T23:55:35.833453Z"
    },
    "hidden": true
   },
   "outputs": [
    {
     "data": {
      "text/html": [
       "<div>\n",
       "<style scoped>\n",
       "    .dataframe tbody tr th:only-of-type {\n",
       "        vertical-align: middle;\n",
       "    }\n",
       "\n",
       "    .dataframe tbody tr th {\n",
       "        vertical-align: top;\n",
       "    }\n",
       "\n",
       "    .dataframe thead th {\n",
       "        text-align: right;\n",
       "    }\n",
       "</style>\n",
       "<table border=\"1\" class=\"dataframe\">\n",
       "  <thead>\n",
       "    <tr style=\"text-align: right;\">\n",
       "      <th></th>\n",
       "      <th>name</th>\n",
       "      <th>email</th>\n",
       "      <th>SUM(orders.price)</th>\n",
       "    </tr>\n",
       "  </thead>\n",
       "  <tbody>\n",
       "    <tr>\n",
       "      <td>0</td>\n",
       "      <td>Doctor Who</td>\n",
       "      <td>doctorwho@timelords.com</td>\n",
       "      <td>1001000.0</td>\n",
       "    </tr>\n",
       "    <tr>\n",
       "      <td>1</td>\n",
       "      <td>Harry Potter</td>\n",
       "      <td>harry@potter.com</td>\n",
       "      <td>40.0</td>\n",
       "    </tr>\n",
       "    <tr>\n",
       "      <td>2</td>\n",
       "      <td>Captain Awesome</td>\n",
       "      <td>captain@awesome.com</td>\n",
       "      <td>NaN</td>\n",
       "    </tr>\n",
       "  </tbody>\n",
       "</table>\n",
       "</div>"
      ],
      "text/plain": [
       "              name                    email  SUM(orders.price)\n",
       "0       Doctor Who  doctorwho@timelords.com          1001000.0\n",
       "1     Harry Potter         harry@potter.com               40.0\n",
       "2  Captain Awesome      captain@awesome.com                NaN"
      ]
     },
     "execution_count": 85,
     "metadata": {},
     "output_type": "execute_result"
    }
   ],
   "source": [
    "sql_to_pd(\"\"\"SELECT customers.name, customers.email, SUM(orders.price) FROM customers LEFT OUTER JOIN orders ON customers.id=orders.customer_id\n",
    "GROUP BY customers.name\n",
    "ORDER BY orders.price DESC;\"\"\")"
   ]
  },
  {
   "cell_type": "markdown",
   "metadata": {
    "heading_collapsed": true,
    "hidden": true
   },
   "source": [
    "#### Joining tables to themselves with Self-Joins"
   ]
  },
  {
   "cell_type": "code",
   "execution_count": 86,
   "metadata": {
    "ExecuteTime": {
     "end_time": "2021-06-24T23:55:35.855650Z",
     "start_time": "2021-06-24T23:55:35.849101Z"
    },
    "hidden": true
   },
   "outputs": [
    {
     "data": {
      "text/plain": [
       "<sqlite3.Cursor at 0x13e44a0ed50>"
      ]
     },
     "execution_count": 86,
     "metadata": {},
     "output_type": "execute_result"
    }
   ],
   "source": [
    "cur.execute(\"\"\"ALTER TABLE students\n",
    "                ADD buddy_id INTEGER;\"\"\")"
   ]
  },
  {
   "cell_type": "code",
   "execution_count": 87,
   "metadata": {
    "ExecuteTime": {
     "end_time": "2021-06-24T23:55:35.871822Z",
     "start_time": "2021-06-24T23:55:35.857236Z"
    },
    "hidden": true
   },
   "outputs": [
    {
     "data": {
      "text/html": [
       "<div>\n",
       "<style scoped>\n",
       "    .dataframe tbody tr th:only-of-type {\n",
       "        vertical-align: middle;\n",
       "    }\n",
       "\n",
       "    .dataframe tbody tr th {\n",
       "        vertical-align: top;\n",
       "    }\n",
       "\n",
       "    .dataframe thead th {\n",
       "        text-align: right;\n",
       "    }\n",
       "</style>\n",
       "<table border=\"1\" class=\"dataframe\">\n",
       "  <thead>\n",
       "    <tr style=\"text-align: right;\">\n",
       "      <th></th>\n",
       "      <th>id</th>\n",
       "      <th>first_name</th>\n",
       "      <th>last_name</th>\n",
       "      <th>email</th>\n",
       "      <th>phone</th>\n",
       "      <th>birthdate</th>\n",
       "      <th>buddy_id</th>\n",
       "    </tr>\n",
       "  </thead>\n",
       "  <tbody>\n",
       "    <tr>\n",
       "      <td>0</td>\n",
       "      <td>1</td>\n",
       "      <td>Peter</td>\n",
       "      <td>Rabbit</td>\n",
       "      <td>peter@rabbit.com</td>\n",
       "      <td>555-6666</td>\n",
       "      <td>2002-06-24</td>\n",
       "      <td>None</td>\n",
       "    </tr>\n",
       "    <tr>\n",
       "      <td>1</td>\n",
       "      <td>2</td>\n",
       "      <td>Alice</td>\n",
       "      <td>Wonderland</td>\n",
       "      <td>alice@wonderland.com</td>\n",
       "      <td>555-4444</td>\n",
       "      <td>2002-07-04</td>\n",
       "      <td>None</td>\n",
       "    </tr>\n",
       "  </tbody>\n",
       "</table>\n",
       "</div>"
      ],
      "text/plain": [
       "   id first_name   last_name                 email     phone   birthdate  \\\n",
       "0   1      Peter      Rabbit      peter@rabbit.com  555-6666  2002-06-24   \n",
       "1   2      Alice  Wonderland  alice@wonderland.com  555-4444  2002-07-04   \n",
       "\n",
       "  buddy_id  \n",
       "0     None  \n",
       "1     None  "
      ]
     },
     "execution_count": 87,
     "metadata": {},
     "output_type": "execute_result"
    }
   ],
   "source": [
    "sql_to_pd(\"\"\"SELECT * FROM students\"\"\")"
   ]
  },
  {
   "cell_type": "code",
   "execution_count": 88,
   "metadata": {
    "ExecuteTime": {
     "end_time": "2021-06-24T23:55:35.879570Z",
     "start_time": "2021-06-24T23:55:35.873816Z"
    },
    "hidden": true
   },
   "outputs": [
    {
     "data": {
      "text/plain": [
       "<sqlite3.Cursor at 0x13e44a0ed50>"
      ]
     },
     "execution_count": 88,
     "metadata": {},
     "output_type": "execute_result"
    }
   ],
   "source": [
    "cur.execute(\"\"\"UPDATE students\n",
    "                SET buddy_id = 2\n",
    "                WHERE id = 1;\"\"\")\n",
    "cur.execute(\"\"\"UPDATE students\n",
    "                SET buddy_id = 1\n",
    "                WHERE id = 2;\"\"\")"
   ]
  },
  {
   "cell_type": "code",
   "execution_count": 89,
   "metadata": {
    "ExecuteTime": {
     "end_time": "2021-06-24T23:55:35.905895Z",
     "start_time": "2021-06-24T23:55:35.881563Z"
    },
    "hidden": true
   },
   "outputs": [
    {
     "data": {
      "text/html": [
       "<div>\n",
       "<style scoped>\n",
       "    .dataframe tbody tr th:only-of-type {\n",
       "        vertical-align: middle;\n",
       "    }\n",
       "\n",
       "    .dataframe tbody tr th {\n",
       "        vertical-align: top;\n",
       "    }\n",
       "\n",
       "    .dataframe thead th {\n",
       "        text-align: right;\n",
       "    }\n",
       "</style>\n",
       "<table border=\"1\" class=\"dataframe\">\n",
       "  <thead>\n",
       "    <tr style=\"text-align: right;\">\n",
       "      <th></th>\n",
       "      <th>id</th>\n",
       "      <th>first_name</th>\n",
       "      <th>last_name</th>\n",
       "      <th>email</th>\n",
       "      <th>phone</th>\n",
       "      <th>birthdate</th>\n",
       "      <th>buddy_id</th>\n",
       "    </tr>\n",
       "  </thead>\n",
       "  <tbody>\n",
       "    <tr>\n",
       "      <td>0</td>\n",
       "      <td>1</td>\n",
       "      <td>Peter</td>\n",
       "      <td>Rabbit</td>\n",
       "      <td>peter@rabbit.com</td>\n",
       "      <td>555-6666</td>\n",
       "      <td>2002-06-24</td>\n",
       "      <td>2</td>\n",
       "    </tr>\n",
       "    <tr>\n",
       "      <td>1</td>\n",
       "      <td>2</td>\n",
       "      <td>Alice</td>\n",
       "      <td>Wonderland</td>\n",
       "      <td>alice@wonderland.com</td>\n",
       "      <td>555-4444</td>\n",
       "      <td>2002-07-04</td>\n",
       "      <td>1</td>\n",
       "    </tr>\n",
       "  </tbody>\n",
       "</table>\n",
       "</div>"
      ],
      "text/plain": [
       "   id first_name   last_name                 email     phone   birthdate  \\\n",
       "0   1      Peter      Rabbit      peter@rabbit.com  555-6666  2002-06-24   \n",
       "1   2      Alice  Wonderland  alice@wonderland.com  555-4444  2002-07-04   \n",
       "\n",
       "   buddy_id  \n",
       "0         2  \n",
       "1         1  "
      ]
     },
     "execution_count": 89,
     "metadata": {},
     "output_type": "execute_result"
    }
   ],
   "source": [
    "sql_to_pd(\"\"\"SELECT * FROM students;\"\"\")"
   ]
  },
  {
   "cell_type": "code",
   "execution_count": 90,
   "metadata": {
    "ExecuteTime": {
     "end_time": "2021-06-24T23:55:35.913723Z",
     "start_time": "2021-06-24T23:55:35.905895Z"
    },
    "hidden": true
   },
   "outputs": [
    {
     "data": {
      "text/plain": [
       "<sqlite3.Cursor at 0x13e44a0ed50>"
      ]
     },
     "execution_count": 90,
     "metadata": {},
     "output_type": "execute_result"
    }
   ],
   "source": [
    "cur.execute(\"\"\"INSERT INTO students \n",
    "    VALUES (3, \"Aladdin\", \"Lampland\", \"aladdin@lampland.com\", \"555-3333\", \"2001-05-10\", 4);\"\"\")\n",
    "cur.execute(\"\"\"INSERT INTO students \n",
    "    VALUES (4, \"Simba\", \"Kingston\", \"simba@kingston.com\", \"555-1111\", \"2001-12-24\", 3);\"\"\")"
   ]
  },
  {
   "cell_type": "code",
   "execution_count": 91,
   "metadata": {
    "ExecuteTime": {
     "end_time": "2021-06-24T23:55:35.940025Z",
     "start_time": "2021-06-24T23:55:35.915719Z"
    },
    "hidden": true
   },
   "outputs": [
    {
     "data": {
      "text/html": [
       "<div>\n",
       "<style scoped>\n",
       "    .dataframe tbody tr th:only-of-type {\n",
       "        vertical-align: middle;\n",
       "    }\n",
       "\n",
       "    .dataframe tbody tr th {\n",
       "        vertical-align: top;\n",
       "    }\n",
       "\n",
       "    .dataframe thead th {\n",
       "        text-align: right;\n",
       "    }\n",
       "</style>\n",
       "<table border=\"1\" class=\"dataframe\">\n",
       "  <thead>\n",
       "    <tr style=\"text-align: right;\">\n",
       "      <th></th>\n",
       "      <th>id</th>\n",
       "      <th>first_name</th>\n",
       "      <th>last_name</th>\n",
       "      <th>email</th>\n",
       "      <th>phone</th>\n",
       "      <th>birthdate</th>\n",
       "      <th>buddy_id</th>\n",
       "    </tr>\n",
       "  </thead>\n",
       "  <tbody>\n",
       "    <tr>\n",
       "      <td>0</td>\n",
       "      <td>1</td>\n",
       "      <td>Peter</td>\n",
       "      <td>Rabbit</td>\n",
       "      <td>peter@rabbit.com</td>\n",
       "      <td>555-6666</td>\n",
       "      <td>2002-06-24</td>\n",
       "      <td>2</td>\n",
       "    </tr>\n",
       "    <tr>\n",
       "      <td>1</td>\n",
       "      <td>2</td>\n",
       "      <td>Alice</td>\n",
       "      <td>Wonderland</td>\n",
       "      <td>alice@wonderland.com</td>\n",
       "      <td>555-4444</td>\n",
       "      <td>2002-07-04</td>\n",
       "      <td>1</td>\n",
       "    </tr>\n",
       "    <tr>\n",
       "      <td>2</td>\n",
       "      <td>3</td>\n",
       "      <td>Aladdin</td>\n",
       "      <td>Lampland</td>\n",
       "      <td>aladdin@lampland.com</td>\n",
       "      <td>555-3333</td>\n",
       "      <td>2001-05-10</td>\n",
       "      <td>4</td>\n",
       "    </tr>\n",
       "    <tr>\n",
       "      <td>3</td>\n",
       "      <td>4</td>\n",
       "      <td>Simba</td>\n",
       "      <td>Kingston</td>\n",
       "      <td>simba@kingston.com</td>\n",
       "      <td>555-1111</td>\n",
       "      <td>2001-12-24</td>\n",
       "      <td>3</td>\n",
       "    </tr>\n",
       "  </tbody>\n",
       "</table>\n",
       "</div>"
      ],
      "text/plain": [
       "   id first_name   last_name                 email     phone   birthdate  \\\n",
       "0   1      Peter      Rabbit      peter@rabbit.com  555-6666  2002-06-24   \n",
       "1   2      Alice  Wonderland  alice@wonderland.com  555-4444  2002-07-04   \n",
       "2   3    Aladdin    Lampland  aladdin@lampland.com  555-3333  2001-05-10   \n",
       "3   4      Simba    Kingston    simba@kingston.com  555-1111  2001-12-24   \n",
       "\n",
       "   buddy_id  \n",
       "0         2  \n",
       "1         1  \n",
       "2         4  \n",
       "3         3  "
      ]
     },
     "execution_count": 91,
     "metadata": {},
     "output_type": "execute_result"
    }
   ],
   "source": [
    "sql_to_pd(\"\"\"SELECT * FROM students;\"\"\")"
   ]
  },
  {
   "cell_type": "markdown",
   "metadata": {
    "hidden": true
   },
   "source": [
    "here, buddy id is the student id this student is linked with"
   ]
  },
  {
   "cell_type": "markdown",
   "metadata": {
    "hidden": true
   },
   "source": [
    "Column related to another column in the same table"
   ]
  },
  {
   "cell_type": "code",
   "execution_count": 92,
   "metadata": {
    "ExecuteTime": {
     "end_time": "2021-06-24T23:55:35.963028Z",
     "start_time": "2021-06-24T23:55:35.941022Z"
    },
    "hidden": true
   },
   "outputs": [
    {
     "data": {
      "text/html": [
       "<div>\n",
       "<style scoped>\n",
       "    .dataframe tbody tr th:only-of-type {\n",
       "        vertical-align: middle;\n",
       "    }\n",
       "\n",
       "    .dataframe tbody tr th {\n",
       "        vertical-align: top;\n",
       "    }\n",
       "\n",
       "    .dataframe thead th {\n",
       "        text-align: right;\n",
       "    }\n",
       "</style>\n",
       "<table border=\"1\" class=\"dataframe\">\n",
       "  <thead>\n",
       "    <tr style=\"text-align: right;\">\n",
       "      <th></th>\n",
       "      <th>first_name</th>\n",
       "      <th>last_name</th>\n",
       "      <th>email</th>\n",
       "    </tr>\n",
       "  </thead>\n",
       "  <tbody>\n",
       "    <tr>\n",
       "      <td>0</td>\n",
       "      <td>Peter</td>\n",
       "      <td>Rabbit</td>\n",
       "      <td>peter@rabbit.com</td>\n",
       "    </tr>\n",
       "    <tr>\n",
       "      <td>1</td>\n",
       "      <td>Peter</td>\n",
       "      <td>Rabbit</td>\n",
       "      <td>alice@wonderland.com</td>\n",
       "    </tr>\n",
       "    <tr>\n",
       "      <td>2</td>\n",
       "      <td>Peter</td>\n",
       "      <td>Rabbit</td>\n",
       "      <td>aladdin@lampland.com</td>\n",
       "    </tr>\n",
       "    <tr>\n",
       "      <td>3</td>\n",
       "      <td>Peter</td>\n",
       "      <td>Rabbit</td>\n",
       "      <td>simba@kingston.com</td>\n",
       "    </tr>\n",
       "    <tr>\n",
       "      <td>4</td>\n",
       "      <td>Alice</td>\n",
       "      <td>Wonderland</td>\n",
       "      <td>peter@rabbit.com</td>\n",
       "    </tr>\n",
       "    <tr>\n",
       "      <td>5</td>\n",
       "      <td>Alice</td>\n",
       "      <td>Wonderland</td>\n",
       "      <td>alice@wonderland.com</td>\n",
       "    </tr>\n",
       "    <tr>\n",
       "      <td>6</td>\n",
       "      <td>Alice</td>\n",
       "      <td>Wonderland</td>\n",
       "      <td>aladdin@lampland.com</td>\n",
       "    </tr>\n",
       "    <tr>\n",
       "      <td>7</td>\n",
       "      <td>Alice</td>\n",
       "      <td>Wonderland</td>\n",
       "      <td>simba@kingston.com</td>\n",
       "    </tr>\n",
       "    <tr>\n",
       "      <td>8</td>\n",
       "      <td>Aladdin</td>\n",
       "      <td>Lampland</td>\n",
       "      <td>peter@rabbit.com</td>\n",
       "    </tr>\n",
       "    <tr>\n",
       "      <td>9</td>\n",
       "      <td>Aladdin</td>\n",
       "      <td>Lampland</td>\n",
       "      <td>alice@wonderland.com</td>\n",
       "    </tr>\n",
       "    <tr>\n",
       "      <td>10</td>\n",
       "      <td>Aladdin</td>\n",
       "      <td>Lampland</td>\n",
       "      <td>aladdin@lampland.com</td>\n",
       "    </tr>\n",
       "    <tr>\n",
       "      <td>11</td>\n",
       "      <td>Aladdin</td>\n",
       "      <td>Lampland</td>\n",
       "      <td>simba@kingston.com</td>\n",
       "    </tr>\n",
       "    <tr>\n",
       "      <td>12</td>\n",
       "      <td>Simba</td>\n",
       "      <td>Kingston</td>\n",
       "      <td>peter@rabbit.com</td>\n",
       "    </tr>\n",
       "    <tr>\n",
       "      <td>13</td>\n",
       "      <td>Simba</td>\n",
       "      <td>Kingston</td>\n",
       "      <td>alice@wonderland.com</td>\n",
       "    </tr>\n",
       "    <tr>\n",
       "      <td>14</td>\n",
       "      <td>Simba</td>\n",
       "      <td>Kingston</td>\n",
       "      <td>aladdin@lampland.com</td>\n",
       "    </tr>\n",
       "    <tr>\n",
       "      <td>15</td>\n",
       "      <td>Simba</td>\n",
       "      <td>Kingston</td>\n",
       "      <td>simba@kingston.com</td>\n",
       "    </tr>\n",
       "  </tbody>\n",
       "</table>\n",
       "</div>"
      ],
      "text/plain": [
       "   first_name   last_name                 email\n",
       "0       Peter      Rabbit      peter@rabbit.com\n",
       "1       Peter      Rabbit  alice@wonderland.com\n",
       "2       Peter      Rabbit  aladdin@lampland.com\n",
       "3       Peter      Rabbit    simba@kingston.com\n",
       "4       Alice  Wonderland      peter@rabbit.com\n",
       "5       Alice  Wonderland  alice@wonderland.com\n",
       "6       Alice  Wonderland  aladdin@lampland.com\n",
       "7       Alice  Wonderland    simba@kingston.com\n",
       "8     Aladdin    Lampland      peter@rabbit.com\n",
       "9     Aladdin    Lampland  alice@wonderland.com\n",
       "10    Aladdin    Lampland  aladdin@lampland.com\n",
       "11    Aladdin    Lampland    simba@kingston.com\n",
       "12      Simba    Kingston      peter@rabbit.com\n",
       "13      Simba    Kingston  alice@wonderland.com\n",
       "14      Simba    Kingston  aladdin@lampland.com\n",
       "15      Simba    Kingston    simba@kingston.com"
      ]
     },
     "execution_count": 92,
     "metadata": {},
     "output_type": "execute_result"
    }
   ],
   "source": [
    "sql_to_pd(\"\"\"SELECT students.first_name, students.last_name, buddies.email FROM students JOIN students buddies;\"\"\")"
   ]
  },
  {
   "cell_type": "code",
   "execution_count": 93,
   "metadata": {
    "ExecuteTime": {
     "end_time": "2021-06-24T23:55:35.980086Z",
     "start_time": "2021-06-24T23:55:35.965314Z"
    },
    "hidden": true
   },
   "outputs": [
    {
     "data": {
      "text/html": [
       "<div>\n",
       "<style scoped>\n",
       "    .dataframe tbody tr th:only-of-type {\n",
       "        vertical-align: middle;\n",
       "    }\n",
       "\n",
       "    .dataframe tbody tr th {\n",
       "        vertical-align: top;\n",
       "    }\n",
       "\n",
       "    .dataframe thead th {\n",
       "        text-align: right;\n",
       "    }\n",
       "</style>\n",
       "<table border=\"1\" class=\"dataframe\">\n",
       "  <thead>\n",
       "    <tr style=\"text-align: right;\">\n",
       "      <th></th>\n",
       "      <th>first_name</th>\n",
       "      <th>last_name</th>\n",
       "      <th>email</th>\n",
       "    </tr>\n",
       "  </thead>\n",
       "  <tbody>\n",
       "    <tr>\n",
       "      <td>0</td>\n",
       "      <td>Peter</td>\n",
       "      <td>Rabbit</td>\n",
       "      <td>alice@wonderland.com</td>\n",
       "    </tr>\n",
       "    <tr>\n",
       "      <td>1</td>\n",
       "      <td>Alice</td>\n",
       "      <td>Wonderland</td>\n",
       "      <td>peter@rabbit.com</td>\n",
       "    </tr>\n",
       "    <tr>\n",
       "      <td>2</td>\n",
       "      <td>Aladdin</td>\n",
       "      <td>Lampland</td>\n",
       "      <td>simba@kingston.com</td>\n",
       "    </tr>\n",
       "    <tr>\n",
       "      <td>3</td>\n",
       "      <td>Simba</td>\n",
       "      <td>Kingston</td>\n",
       "      <td>aladdin@lampland.com</td>\n",
       "    </tr>\n",
       "  </tbody>\n",
       "</table>\n",
       "</div>"
      ],
      "text/plain": [
       "  first_name   last_name                 email\n",
       "0      Peter      Rabbit  alice@wonderland.com\n",
       "1      Alice  Wonderland      peter@rabbit.com\n",
       "2    Aladdin    Lampland    simba@kingston.com\n",
       "3      Simba    Kingston  aladdin@lampland.com"
      ]
     },
     "execution_count": 93,
     "metadata": {},
     "output_type": "execute_result"
    }
   ],
   "source": [
    "sql_to_pd(\"\"\"SELECT students.first_name, students.last_name, buddies.email FROM students JOIN students buddies\n",
    "                ON students.buddy_id = buddies.id;\"\"\")"
   ]
  },
  {
   "cell_type": "code",
   "execution_count": 94,
   "metadata": {
    "ExecuteTime": {
     "end_time": "2021-06-24T23:55:35.997894Z",
     "start_time": "2021-06-24T23:55:35.982112Z"
    },
    "hidden": true
   },
   "outputs": [
    {
     "data": {
      "text/html": [
       "<div>\n",
       "<style scoped>\n",
       "    .dataframe tbody tr th:only-of-type {\n",
       "        vertical-align: middle;\n",
       "    }\n",
       "\n",
       "    .dataframe tbody tr th {\n",
       "        vertical-align: top;\n",
       "    }\n",
       "\n",
       "    .dataframe thead th {\n",
       "        text-align: right;\n",
       "    }\n",
       "</style>\n",
       "<table border=\"1\" class=\"dataframe\">\n",
       "  <thead>\n",
       "    <tr style=\"text-align: right;\">\n",
       "      <th></th>\n",
       "      <th>first_name</th>\n",
       "      <th>last_name</th>\n",
       "      <th>buddy_email</th>\n",
       "    </tr>\n",
       "  </thead>\n",
       "  <tbody>\n",
       "    <tr>\n",
       "      <td>0</td>\n",
       "      <td>Peter</td>\n",
       "      <td>Rabbit</td>\n",
       "      <td>alice@wonderland.com</td>\n",
       "    </tr>\n",
       "    <tr>\n",
       "      <td>1</td>\n",
       "      <td>Alice</td>\n",
       "      <td>Wonderland</td>\n",
       "      <td>peter@rabbit.com</td>\n",
       "    </tr>\n",
       "    <tr>\n",
       "      <td>2</td>\n",
       "      <td>Aladdin</td>\n",
       "      <td>Lampland</td>\n",
       "      <td>simba@kingston.com</td>\n",
       "    </tr>\n",
       "    <tr>\n",
       "      <td>3</td>\n",
       "      <td>Simba</td>\n",
       "      <td>Kingston</td>\n",
       "      <td>aladdin@lampland.com</td>\n",
       "    </tr>\n",
       "  </tbody>\n",
       "</table>\n",
       "</div>"
      ],
      "text/plain": [
       "  first_name   last_name           buddy_email\n",
       "0      Peter      Rabbit  alice@wonderland.com\n",
       "1      Alice  Wonderland      peter@rabbit.com\n",
       "2    Aladdin    Lampland    simba@kingston.com\n",
       "3      Simba    Kingston  aladdin@lampland.com"
      ]
     },
     "execution_count": 94,
     "metadata": {},
     "output_type": "execute_result"
    }
   ],
   "source": [
    "sql_to_pd(\"\"\"SELECT students.first_name, students.last_name, buddies.email as buddy_email FROM students JOIN students buddies\n",
    "                ON students.buddy_id = buddies.id;\"\"\")"
   ]
  },
  {
   "cell_type": "markdown",
   "metadata": {
    "heading_collapsed": true,
    "hidden": true
   },
   "source": [
    "#### Challenge: Sequel in SQL"
   ]
  },
  {
   "cell_type": "code",
   "execution_count": 95,
   "metadata": {
    "ExecuteTime": {
     "end_time": "2021-06-24T23:55:36.013428Z",
     "start_time": "2021-06-24T23:55:35.999264Z"
    },
    "hidden": true
   },
   "outputs": [
    {
     "data": {
      "text/plain": [
       "<sqlite3.Cursor at 0x13e44a0ed50>"
      ]
     },
     "execution_count": 95,
     "metadata": {},
     "output_type": "execute_result"
    }
   ],
   "source": [
    "cur.execute(\"\"\"CREATE TABLE movies (id INTEGER PRIMARY KEY AUTOINCREMENT,\n",
    "    title TEXT,\n",
    "    released INTEGER,\n",
    "    sequel_id INTEGER);\"\"\")\n",
    "cur.execute(\"\"\"INSERT INTO movies \n",
    "    VALUES (1, \"Harry Potter and the Philosopher's Stone\", 2001, 2);\"\"\")\n",
    "cur.execute(\"\"\"INSERT INTO movies \n",
    "    VALUES (2, \"Harry Potter and the Chamber of Secrets\", 2002, 3);\"\"\")\n",
    "cur.execute(\"\"\"INSERT INTO movies \n",
    "    VALUES (3, \"Harry Potter and the Prisoner of Azkaban\", 2004, 4);\"\"\")\n",
    "cur.execute(\"\"\"INSERT INTO movies \n",
    "    VALUES (4, \"Harry Potter and the Goblet of Fire\", 2005, 5);\"\"\")\n",
    "cur.execute(\"\"\"INSERT INTO movies \n",
    "    VALUES (5, \"Harry Potter and the Order of the Phoenix \", 2007, 6);\"\"\")\n",
    "cur.execute(\"\"\"INSERT INTO movies \n",
    "    VALUES (6, \"Harry Potter and the Half-Blood Prince\", 2009, 7);\"\"\")\n",
    "cur.execute(\"\"\"INSERT INTO movies \n",
    "    VALUES (7, \"Harry Potter and the Deathly Hallows – Part 1\", 2010, 8);\"\"\")\n",
    "cur.execute(\"\"\"INSERT INTO movies \n",
    "    VALUES (8, \"Harry Potter and the Deathly Hallows – Part 2\", 2011, NULL);\"\"\")"
   ]
  },
  {
   "cell_type": "code",
   "execution_count": 96,
   "metadata": {
    "ExecuteTime": {
     "end_time": "2021-06-24T23:55:36.031141Z",
     "start_time": "2021-06-24T23:55:36.015422Z"
    },
    "hidden": true
   },
   "outputs": [
    {
     "data": {
      "text/html": [
       "<div>\n",
       "<style scoped>\n",
       "    .dataframe tbody tr th:only-of-type {\n",
       "        vertical-align: middle;\n",
       "    }\n",
       "\n",
       "    .dataframe tbody tr th {\n",
       "        vertical-align: top;\n",
       "    }\n",
       "\n",
       "    .dataframe thead th {\n",
       "        text-align: right;\n",
       "    }\n",
       "</style>\n",
       "<table border=\"1\" class=\"dataframe\">\n",
       "  <thead>\n",
       "    <tr style=\"text-align: right;\">\n",
       "      <th></th>\n",
       "      <th>title</th>\n",
       "      <th>sequel_title</th>\n",
       "    </tr>\n",
       "  </thead>\n",
       "  <tbody>\n",
       "    <tr>\n",
       "      <td>0</td>\n",
       "      <td>Harry Potter and the Philosopher's Stone</td>\n",
       "      <td>Harry Potter and the Chamber of Secrets</td>\n",
       "    </tr>\n",
       "    <tr>\n",
       "      <td>1</td>\n",
       "      <td>Harry Potter and the Chamber of Secrets</td>\n",
       "      <td>Harry Potter and the Prisoner of Azkaban</td>\n",
       "    </tr>\n",
       "    <tr>\n",
       "      <td>2</td>\n",
       "      <td>Harry Potter and the Prisoner of Azkaban</td>\n",
       "      <td>Harry Potter and the Goblet of Fire</td>\n",
       "    </tr>\n",
       "    <tr>\n",
       "      <td>3</td>\n",
       "      <td>Harry Potter and the Goblet of Fire</td>\n",
       "      <td>Harry Potter and the Order of the Phoenix</td>\n",
       "    </tr>\n",
       "    <tr>\n",
       "      <td>4</td>\n",
       "      <td>Harry Potter and the Order of the Phoenix</td>\n",
       "      <td>Harry Potter and the Half-Blood Prince</td>\n",
       "    </tr>\n",
       "    <tr>\n",
       "      <td>5</td>\n",
       "      <td>Harry Potter and the Half-Blood Prince</td>\n",
       "      <td>Harry Potter and the Deathly Hallows – Part 1</td>\n",
       "    </tr>\n",
       "    <tr>\n",
       "      <td>6</td>\n",
       "      <td>Harry Potter and the Deathly Hallows – Part 1</td>\n",
       "      <td>Harry Potter and the Deathly Hallows – Part 2</td>\n",
       "    </tr>\n",
       "    <tr>\n",
       "      <td>7</td>\n",
       "      <td>Harry Potter and the Deathly Hallows – Part 2</td>\n",
       "      <td>None</td>\n",
       "    </tr>\n",
       "  </tbody>\n",
       "</table>\n",
       "</div>"
      ],
      "text/plain": [
       "                                           title  \\\n",
       "0       Harry Potter and the Philosopher's Stone   \n",
       "1        Harry Potter and the Chamber of Secrets   \n",
       "2       Harry Potter and the Prisoner of Azkaban   \n",
       "3            Harry Potter and the Goblet of Fire   \n",
       "4     Harry Potter and the Order of the Phoenix    \n",
       "5         Harry Potter and the Half-Blood Prince   \n",
       "6  Harry Potter and the Deathly Hallows – Part 1   \n",
       "7  Harry Potter and the Deathly Hallows – Part 2   \n",
       "\n",
       "                                    sequel_title  \n",
       "0        Harry Potter and the Chamber of Secrets  \n",
       "1       Harry Potter and the Prisoner of Azkaban  \n",
       "2            Harry Potter and the Goblet of Fire  \n",
       "3     Harry Potter and the Order of the Phoenix   \n",
       "4         Harry Potter and the Half-Blood Prince  \n",
       "5  Harry Potter and the Deathly Hallows – Part 1  \n",
       "6  Harry Potter and the Deathly Hallows – Part 2  \n",
       "7                                           None  "
      ]
     },
     "execution_count": 96,
     "metadata": {},
     "output_type": "execute_result"
    }
   ],
   "source": [
    "sql_to_pd(\"\"\"SELECT movies.title, sequel.title as sequel_title FROM movies LEFT OUTER JOIN movies sequel ON movies.sequel_id=sequel.id;\"\"\")"
   ]
  },
  {
   "cell_type": "markdown",
   "metadata": {
    "heading_collapsed": true,
    "hidden": true
   },
   "source": [
    "#### Combining Multiple Joins"
   ]
  },
  {
   "cell_type": "code",
   "execution_count": 97,
   "metadata": {
    "ExecuteTime": {
     "end_time": "2021-06-24T23:55:36.047792Z",
     "start_time": "2021-06-24T23:55:36.032172Z"
    },
    "hidden": true
   },
   "outputs": [
    {
     "data": {
      "text/plain": [
       "<sqlite3.Cursor at 0x13e44a0ed50>"
      ]
     },
     "execution_count": 97,
     "metadata": {},
     "output_type": "execute_result"
    }
   ],
   "source": [
    "cur.execute(\"\"\"INSERT INTO student_projects (student_id, title)\n",
    "    VALUES (2, \"Mad Hattery\");\"\"\")\n",
    "cur.execute(\"\"\"INSERT INTO student_projects (student_id, title)\n",
    "    VALUES (3, \"Carpet Physics\");\"\"\")\n",
    "cur.execute(\"\"\"INSERT INTO student_projects (student_id, title)\n",
    "    VALUES (4, \"Hyena Habitats\");\"\"\")\n",
    "\n",
    "cur.execute(\"\"\"CREATE TABLE project_pairs (id INTEGER PRIMARY KEY,\n",
    "    project1_id INTEGER,\n",
    "    project2_id INTEGER);\"\"\")\n",
    "cur.execute(\"\"\"INSERT INTO project_pairs (project1_id, project2_id)\n",
    "    VALUES(1, 2);\"\"\")\n",
    "cur.execute(\"\"\"INSERT INTO project_pairs (project1_id, project2_id)\n",
    "    VALUES(3, 4);\"\"\")"
   ]
  },
  {
   "cell_type": "markdown",
   "metadata": {
    "hidden": true
   },
   "source": [
    "Review each others projects. example, hyena habitats should review carpet physics, etc. Project pairs: project ids that are paired with each other."
   ]
  },
  {
   "cell_type": "code",
   "execution_count": 98,
   "metadata": {
    "ExecuteTime": {
     "end_time": "2021-06-24T23:55:36.064235Z",
     "start_time": "2021-06-24T23:55:36.049196Z"
    },
    "hidden": true
   },
   "outputs": [
    {
     "data": {
      "text/html": [
       "<div>\n",
       "<style scoped>\n",
       "    .dataframe tbody tr th:only-of-type {\n",
       "        vertical-align: middle;\n",
       "    }\n",
       "\n",
       "    .dataframe tbody tr th {\n",
       "        vertical-align: top;\n",
       "    }\n",
       "\n",
       "    .dataframe thead th {\n",
       "        text-align: right;\n",
       "    }\n",
       "</style>\n",
       "<table border=\"1\" class=\"dataframe\">\n",
       "  <thead>\n",
       "    <tr style=\"text-align: right;\">\n",
       "      <th></th>\n",
       "      <th>title</th>\n",
       "      <th>title</th>\n",
       "    </tr>\n",
       "  </thead>\n",
       "  <tbody>\n",
       "    <tr>\n",
       "      <td>0</td>\n",
       "      <td>Carrotapault</td>\n",
       "      <td>Mad Hattery</td>\n",
       "    </tr>\n",
       "    <tr>\n",
       "      <td>1</td>\n",
       "      <td>Carpet Physics</td>\n",
       "      <td>Hyena Habitats</td>\n",
       "    </tr>\n",
       "  </tbody>\n",
       "</table>\n",
       "</div>"
      ],
      "text/plain": [
       "            title           title\n",
       "0    Carrotapault     Mad Hattery\n",
       "1  Carpet Physics  Hyena Habitats"
      ]
     },
     "execution_count": 98,
     "metadata": {},
     "output_type": "execute_result"
    }
   ],
   "source": [
    "sql_to_pd(\"\"\"SELECT a.title, b.title FROM project_pairs\n",
    "    JOIN student_projects a\n",
    "    ON project_pairs.project1_id = a.id\n",
    "    JOIN student_projects b\n",
    "    ON project_pairs.project2_id = b.id;\"\"\")"
   ]
  },
  {
   "cell_type": "markdown",
   "metadata": {
    "hidden": true
   },
   "source": [
    "But, more joins means slower queries :("
   ]
  },
  {
   "cell_type": "markdown",
   "metadata": {
    "heading_collapsed": true,
    "hidden": true
   },
   "source": [
    "#### Challenge: FriendBook"
   ]
  },
  {
   "cell_type": "code",
   "execution_count": 99,
   "metadata": {
    "ExecuteTime": {
     "end_time": "2021-06-24T23:55:36.080056Z",
     "start_time": "2021-06-24T23:55:36.066230Z"
    },
    "hidden": true
   },
   "outputs": [
    {
     "data": {
      "text/html": [
       "<div>\n",
       "<style scoped>\n",
       "    .dataframe tbody tr th:only-of-type {\n",
       "        vertical-align: middle;\n",
       "    }\n",
       "\n",
       "    .dataframe tbody tr th {\n",
       "        vertical-align: top;\n",
       "    }\n",
       "\n",
       "    .dataframe thead th {\n",
       "        text-align: right;\n",
       "    }\n",
       "</style>\n",
       "<table border=\"1\" class=\"dataframe\">\n",
       "  <thead>\n",
       "    <tr style=\"text-align: right;\">\n",
       "      <th></th>\n",
       "      <th>id</th>\n",
       "      <th>name</th>\n",
       "      <th>age</th>\n",
       "    </tr>\n",
       "  </thead>\n",
       "  <tbody>\n",
       "    <tr>\n",
       "      <td>0</td>\n",
       "      <td>1</td>\n",
       "      <td>Bobby McBobbyFace</td>\n",
       "      <td>12</td>\n",
       "    </tr>\n",
       "    <tr>\n",
       "      <td>1</td>\n",
       "      <td>2</td>\n",
       "      <td>Lucy BoBucie</td>\n",
       "      <td>25</td>\n",
       "    </tr>\n",
       "    <tr>\n",
       "      <td>2</td>\n",
       "      <td>3</td>\n",
       "      <td>Banana FoFanna</td>\n",
       "      <td>14</td>\n",
       "    </tr>\n",
       "    <tr>\n",
       "      <td>3</td>\n",
       "      <td>4</td>\n",
       "      <td>Shish Kabob</td>\n",
       "      <td>20</td>\n",
       "    </tr>\n",
       "    <tr>\n",
       "      <td>4</td>\n",
       "      <td>5</td>\n",
       "      <td>Fluffy Sparkles</td>\n",
       "      <td>8</td>\n",
       "    </tr>\n",
       "    <tr>\n",
       "      <td>5</td>\n",
       "      <td>6</td>\n",
       "      <td>Sweta Patel</td>\n",
       "      <td>29</td>\n",
       "    </tr>\n",
       "  </tbody>\n",
       "</table>\n",
       "</div>"
      ],
      "text/plain": [
       "   id               name  age\n",
       "0   1  Bobby McBobbyFace   12\n",
       "1   2       Lucy BoBucie   25\n",
       "2   3     Banana FoFanna   14\n",
       "3   4        Shish Kabob   20\n",
       "4   5    Fluffy Sparkles    8\n",
       "5   6        Sweta Patel   29"
      ]
     },
     "execution_count": 99,
     "metadata": {},
     "output_type": "execute_result"
    }
   ],
   "source": [
    "sql_to_pd(\"\"\"SELECT * FROM persons\"\"\")"
   ]
  },
  {
   "cell_type": "code",
   "execution_count": 100,
   "metadata": {
    "ExecuteTime": {
     "end_time": "2021-06-24T23:55:36.096724Z",
     "start_time": "2021-06-24T23:55:36.081085Z"
    },
    "hidden": true
   },
   "outputs": [
    {
     "data": {
      "text/html": [
       "<div>\n",
       "<style scoped>\n",
       "    .dataframe tbody tr th:only-of-type {\n",
       "        vertical-align: middle;\n",
       "    }\n",
       "\n",
       "    .dataframe tbody tr th {\n",
       "        vertical-align: top;\n",
       "    }\n",
       "\n",
       "    .dataframe thead th {\n",
       "        text-align: right;\n",
       "    }\n",
       "</style>\n",
       "<table border=\"1\" class=\"dataframe\">\n",
       "  <thead>\n",
       "    <tr style=\"text-align: right;\">\n",
       "      <th></th>\n",
       "      <th>id</th>\n",
       "      <th>person_id</th>\n",
       "      <th>name</th>\n",
       "    </tr>\n",
       "  </thead>\n",
       "  <tbody>\n",
       "    <tr>\n",
       "      <td>0</td>\n",
       "      <td>1</td>\n",
       "      <td>1</td>\n",
       "      <td>drawing</td>\n",
       "    </tr>\n",
       "    <tr>\n",
       "      <td>1</td>\n",
       "      <td>2</td>\n",
       "      <td>1</td>\n",
       "      <td>coding</td>\n",
       "    </tr>\n",
       "    <tr>\n",
       "      <td>2</td>\n",
       "      <td>3</td>\n",
       "      <td>2</td>\n",
       "      <td>dancing</td>\n",
       "    </tr>\n",
       "    <tr>\n",
       "      <td>3</td>\n",
       "      <td>4</td>\n",
       "      <td>2</td>\n",
       "      <td>coding</td>\n",
       "    </tr>\n",
       "    <tr>\n",
       "      <td>4</td>\n",
       "      <td>5</td>\n",
       "      <td>3</td>\n",
       "      <td>skating</td>\n",
       "    </tr>\n",
       "    <tr>\n",
       "      <td>5</td>\n",
       "      <td>6</td>\n",
       "      <td>3</td>\n",
       "      <td>rowing</td>\n",
       "    </tr>\n",
       "    <tr>\n",
       "      <td>6</td>\n",
       "      <td>7</td>\n",
       "      <td>3</td>\n",
       "      <td>drawing</td>\n",
       "    </tr>\n",
       "    <tr>\n",
       "      <td>7</td>\n",
       "      <td>8</td>\n",
       "      <td>4</td>\n",
       "      <td>coding</td>\n",
       "    </tr>\n",
       "    <tr>\n",
       "      <td>8</td>\n",
       "      <td>9</td>\n",
       "      <td>4</td>\n",
       "      <td>dilly-dallying</td>\n",
       "    </tr>\n",
       "    <tr>\n",
       "      <td>9</td>\n",
       "      <td>10</td>\n",
       "      <td>4</td>\n",
       "      <td>meowing</td>\n",
       "    </tr>\n",
       "    <tr>\n",
       "      <td>10</td>\n",
       "      <td>11</td>\n",
       "      <td>6</td>\n",
       "      <td>reading books and hiking</td>\n",
       "    </tr>\n",
       "  </tbody>\n",
       "</table>\n",
       "</div>"
      ],
      "text/plain": [
       "    id  person_id                      name\n",
       "0    1          1                   drawing\n",
       "1    2          1                    coding\n",
       "2    3          2                   dancing\n",
       "3    4          2                    coding\n",
       "4    5          3                   skating\n",
       "5    6          3                    rowing\n",
       "6    7          3                   drawing\n",
       "7    8          4                    coding\n",
       "8    9          4            dilly-dallying\n",
       "9   10          4                   meowing\n",
       "10  11          6  reading books and hiking"
      ]
     },
     "execution_count": 100,
     "metadata": {},
     "output_type": "execute_result"
    }
   ],
   "source": [
    "sql_to_pd(\"\"\"SELECT * FROM hobbies\"\"\")"
   ]
  },
  {
   "cell_type": "code",
   "execution_count": 101,
   "metadata": {
    "ExecuteTime": {
     "end_time": "2021-06-24T23:55:36.104550Z",
     "start_time": "2021-06-24T23:55:36.097756Z"
    },
    "hidden": true
   },
   "outputs": [
    {
     "data": {
      "text/plain": [
       "<sqlite3.Cursor at 0x13e44a0ed50>"
      ]
     },
     "execution_count": 101,
     "metadata": {},
     "output_type": "execute_result"
    }
   ],
   "source": [
    "cur.execute(\"\"\"CREATE table friends (\n",
    "    id INTEGER PRIMARY KEY AUTOINCREMENT,\n",
    "    person1_id INTEGER,\n",
    "    person2_id INTEGER);\"\"\")\n",
    "cur.execute(\"\"\"INSERT INTO friends (person1_id, person2_id)\n",
    "    VALUES (1, 4);\"\"\")\n",
    "cur.execute(\"\"\"INSERT INTO friends (person1_id, person2_id)\n",
    "    VALUES (2, 3);\"\"\")"
   ]
  },
  {
   "cell_type": "code",
   "execution_count": 102,
   "metadata": {
    "ExecuteTime": {
     "end_time": "2021-06-24T23:55:36.126731Z",
     "start_time": "2021-06-24T23:55:36.106545Z"
    },
    "hidden": true
   },
   "outputs": [
    {
     "data": {
      "text/html": [
       "<div>\n",
       "<style scoped>\n",
       "    .dataframe tbody tr th:only-of-type {\n",
       "        vertical-align: middle;\n",
       "    }\n",
       "\n",
       "    .dataframe tbody tr th {\n",
       "        vertical-align: top;\n",
       "    }\n",
       "\n",
       "    .dataframe thead th {\n",
       "        text-align: right;\n",
       "    }\n",
       "</style>\n",
       "<table border=\"1\" class=\"dataframe\">\n",
       "  <thead>\n",
       "    <tr style=\"text-align: right;\">\n",
       "      <th></th>\n",
       "      <th>name</th>\n",
       "      <th>hobby</th>\n",
       "    </tr>\n",
       "  </thead>\n",
       "  <tbody>\n",
       "    <tr>\n",
       "      <td>0</td>\n",
       "      <td>Bobby McBobbyFace</td>\n",
       "      <td>drawing</td>\n",
       "    </tr>\n",
       "    <tr>\n",
       "      <td>1</td>\n",
       "      <td>Bobby McBobbyFace</td>\n",
       "      <td>coding</td>\n",
       "    </tr>\n",
       "    <tr>\n",
       "      <td>2</td>\n",
       "      <td>Lucy BoBucie</td>\n",
       "      <td>dancing</td>\n",
       "    </tr>\n",
       "    <tr>\n",
       "      <td>3</td>\n",
       "      <td>Lucy BoBucie</td>\n",
       "      <td>coding</td>\n",
       "    </tr>\n",
       "    <tr>\n",
       "      <td>4</td>\n",
       "      <td>Banana FoFanna</td>\n",
       "      <td>skating</td>\n",
       "    </tr>\n",
       "    <tr>\n",
       "      <td>5</td>\n",
       "      <td>Banana FoFanna</td>\n",
       "      <td>rowing</td>\n",
       "    </tr>\n",
       "    <tr>\n",
       "      <td>6</td>\n",
       "      <td>Banana FoFanna</td>\n",
       "      <td>drawing</td>\n",
       "    </tr>\n",
       "    <tr>\n",
       "      <td>7</td>\n",
       "      <td>Shish Kabob</td>\n",
       "      <td>coding</td>\n",
       "    </tr>\n",
       "    <tr>\n",
       "      <td>8</td>\n",
       "      <td>Shish Kabob</td>\n",
       "      <td>dilly-dallying</td>\n",
       "    </tr>\n",
       "    <tr>\n",
       "      <td>9</td>\n",
       "      <td>Shish Kabob</td>\n",
       "      <td>meowing</td>\n",
       "    </tr>\n",
       "    <tr>\n",
       "      <td>10</td>\n",
       "      <td>Sweta Patel</td>\n",
       "      <td>reading books and hiking</td>\n",
       "    </tr>\n",
       "  </tbody>\n",
       "</table>\n",
       "</div>"
      ],
      "text/plain": [
       "                 name                     hobby\n",
       "0   Bobby McBobbyFace                   drawing\n",
       "1   Bobby McBobbyFace                    coding\n",
       "2        Lucy BoBucie                   dancing\n",
       "3        Lucy BoBucie                    coding\n",
       "4      Banana FoFanna                   skating\n",
       "5      Banana FoFanna                    rowing\n",
       "6      Banana FoFanna                   drawing\n",
       "7         Shish Kabob                    coding\n",
       "8         Shish Kabob            dilly-dallying\n",
       "9         Shish Kabob                   meowing\n",
       "10        Sweta Patel  reading books and hiking"
      ]
     },
     "execution_count": 102,
     "metadata": {},
     "output_type": "execute_result"
    }
   ],
   "source": [
    "sql_to_pd(\"\"\"SELECT persons.name, hobbies.name as hobby FROM persons JOIN hobbies ON persons.id = hobbies.person_id;\"\"\")"
   ]
  },
  {
   "cell_type": "code",
   "execution_count": 103,
   "metadata": {
    "ExecuteTime": {
     "end_time": "2021-06-24T23:55:36.146743Z",
     "start_time": "2021-06-24T23:55:36.127763Z"
    },
    "hidden": true
   },
   "outputs": [
    {
     "data": {
      "text/html": [
       "<div>\n",
       "<style scoped>\n",
       "    .dataframe tbody tr th:only-of-type {\n",
       "        vertical-align: middle;\n",
       "    }\n",
       "\n",
       "    .dataframe tbody tr th {\n",
       "        vertical-align: top;\n",
       "    }\n",
       "\n",
       "    .dataframe thead th {\n",
       "        text-align: right;\n",
       "    }\n",
       "</style>\n",
       "<table border=\"1\" class=\"dataframe\">\n",
       "  <thead>\n",
       "    <tr style=\"text-align: right;\">\n",
       "      <th></th>\n",
       "      <th>name</th>\n",
       "      <th>friend</th>\n",
       "    </tr>\n",
       "  </thead>\n",
       "  <tbody>\n",
       "    <tr>\n",
       "      <td>0</td>\n",
       "      <td>Bobby McBobbyFace</td>\n",
       "      <td>Shish Kabob</td>\n",
       "    </tr>\n",
       "    <tr>\n",
       "      <td>1</td>\n",
       "      <td>Lucy BoBucie</td>\n",
       "      <td>Banana FoFanna</td>\n",
       "    </tr>\n",
       "  </tbody>\n",
       "</table>\n",
       "</div>"
      ],
      "text/plain": [
       "                name          friend\n",
       "0  Bobby McBobbyFace     Shish Kabob\n",
       "1       Lucy BoBucie  Banana FoFanna"
      ]
     },
     "execution_count": 103,
     "metadata": {},
     "output_type": "execute_result"
    }
   ],
   "source": [
    "sql_to_pd(\"\"\"SELECT a.name, b.name friend FROM friends\n",
    "    JOIN persons a\n",
    "    ON a.id = friends.person1_id\n",
    "    JOIN persons b\n",
    "    ON b.id = friends.person2_id;\"\"\")"
   ]
  },
  {
   "cell_type": "markdown",
   "metadata": {
    "heading_collapsed": true,
    "hidden": true
   },
   "source": [
    "#### More efficient SQL with query planning and optimization"
   ]
  },
  {
   "cell_type": "markdown",
   "metadata": {
    "hidden": true
   },
   "source": [
    "Now that you've learned many ways of selecting data and are starting to do `SELECT`s across multiple tables, it's a good time to talk about the efficiency of your SQL queries - how quickly do they execute, and could they execute faster?\n",
    "\n",
    "SQL is a declarative language - each query declares what we want the SQL engine to do, but it doesn't say how.  As it turns out, the how -- the \"plan\" -- is what affects the efficiency of the queries, however, so it's pretty important.\n",
    "\n",
    "**Why do SQL queries need a plan?**\n",
    "\n",
    "For example, let's say we had this simple query:\n",
    "\n",
    "`SELECT * FROM books WHERE author = \"J K Rowling\";`\n",
    "\n",
    "For this query, these are 2 different ways that SQL could find the results:\n",
    "- **Do a \"full table scan\":** look at every single row in the table, return the matching rows.\n",
    "- **Create an \"index\":** Make a copy of the table sorted by author, then do a binary search to find the row where the author is \"J K Rowling\", find the matching IDs, then do a binary search on the original table that returns the rows that match the ID.\n",
    "\n",
    "Which one is faster? It depends on the data, and on how often the query will be executed. If the table is only 10 rows long, then a full table scan only requires looking at 10 rows, and the first plan would work out well.\n",
    "\n",
    "If the table was 10 million rows long, then that full table scan would require looking at 10 million rows. It would be faster to do a binary search on a sorted table - we only need 23 lookups to find a value in 10 million rows. However, creating the sorted table would take a while (~230 million operations, depending on our engine). If we were executing that query many times (more than 23 times) or if we already had that table created, then that second plan would be better.\n",
    "\n",
    "How does a SQL engine decide which plan to pick? That's an important step that we haven't talked about yet, because we've been focused on the syntax of our queries, not their implementation. As you get into more advanced SQL usage on big databases, the planning step is increasingly important.\n",
    "\n",
    "**The lifecycle of a SQL query**\n",
    "\n",
    "We can think of the SQL engine going through these steps for each query we give it:\n",
    "\n",
    ">Parse, then Optimize, then Execute\n",
    "\n",
    "1. The query parser makes sure that the query is syntactically correct (e.g. commas out of place) and semantically correct (i.e. the tables exist), and returns errors if not. If it's correct, then it turns it into an algebraic expression and passes it to the next step.\n",
    "2. The query planner and optimizer does the hard thinking work. It first performs straightforward optimizations (improvements that always result in better performance, like simplifying 5*10 into 50). It then considers different \"query plans\" which may have different optimizations, estimates the cost (CPU and time) of each query plan based on the number of rows in the relevant tables, then it picks the optimal plan and passes it on to the next step.\n",
    "3. The query executor takes the plan and turns it into operations for the database, returning the results back to us if there are any.\n",
    "\n",
    "**Where do humans come in?**\n",
    "\n",
    "The query planning and optimization happens for every query, and you could go your whole life issuing SQL queries and not realize it. However, once you start dealing with bigger data sets, you'll start to care more about the speed of your queries, and you might find yourself wondering if there's any way you can improve the performance of your queries.\n",
    "\n",
    "Many times, especially for complex queries, there are indeed ways you can help optimize a query, and that's known as **\"query tuning\"**.\n",
    "\n",
    "The first step is to identify what queries you want to tune, which you can figure out by looking at which of your database calls are taking the longest or using the most resources, like with a SQL profiler. Sometimes, you might discover a badly performing query after it takes so long that it takes down your whole database. Hopefully, you find that out earlier.\n",
    "\n",
    "The next step is to understand how a particular SQL engine is executing a query, and all SQL systems come with a way to ask the engine. In SQLite, you can stick `EXPLAIN QUERY PLAN` in front of any SQL to see what it's doing behind the scenes. If you use that, be prepared to dig deep into the `EXPLAIN QUERY PLAN` **reference**, because the \"explanation\" is pretty detailed and implementation specific. If you're using another SQL engine, you can search for **\"how do I get an execution plan in X\"**.\n",
    "\n",
    "Now comes the hard part: manual optimization to improve that execution plan. This is also the part that is often dependent on the particularities of the SQL engine you're using, and the particularities of your own data.\n",
    "\n",
    "For example, remember that query we discussed at the top? If we knew ahead of time that we would want to do hundreds of queries that restricted `WHERE` on the author column, then we could explicitly create the index, using `CREATE INDEX`. Then the SQL engine would be able to use that index to efficiently find the matching rows. You can read this guide about **SQLite query planning** to help you understand when indexes would help.\n",
    "\n",
    "Creating indexes can often make repeated queries more efficient. But there are many other approaches as well. For SQLite, you can get more insight in their query planner overview and take careful note of the \"manual\" sections.\n",
    "\n",
    "We can't cover all the complexities of query optimization and query tuning here, so I recommend that you dive deeper into it when you need it.\n",
    "\n",
    "(Here are some deep dives into different SQL query planners that I found interesting: SQL Server Query Optimizer, Oracle SQL Tuning, MSSQL Execution Plan Basics)\n",
    "\n",
    "https://www.khanacademy.org/computing/computer-programming/sql/relational-queries-in-sql/a/more-efficient-sql-with-query-planning-and-optimization"
   ]
  },
  {
   "cell_type": "markdown",
   "metadata": {
    "heading_collapsed": true
   },
   "source": [
    "### Modifying Databases with SQL"
   ]
  },
  {
   "cell_type": "markdown",
   "metadata": {
    "heading_collapsed": true,
    "hidden": true
   },
   "source": [
    "#### Changing rows with UPDATE and DELETE"
   ]
  },
  {
   "cell_type": "code",
   "execution_count": 104,
   "metadata": {
    "ExecuteTime": {
     "end_time": "2021-06-24T23:55:36.154521Z",
     "start_time": "2021-06-24T23:55:36.148118Z"
    },
    "hidden": true
   },
   "outputs": [],
   "source": [
    "def sql(query):\n",
    "    return cur.execute(query)"
   ]
  },
  {
   "cell_type": "code",
   "execution_count": 105,
   "metadata": {
    "ExecuteTime": {
     "end_time": "2021-06-24T23:55:36.174889Z",
     "start_time": "2021-06-24T23:55:36.154521Z"
    },
    "hidden": true
   },
   "outputs": [
    {
     "data": {
      "text/plain": [
       "<sqlite3.Cursor at 0x13e44a0ed50>"
      ]
     },
     "execution_count": 105,
     "metadata": {},
     "output_type": "execute_result"
    }
   ],
   "source": [
    "sql(\"\"\"CREATE TABLE users (\n",
    "    id INTEGER PRIMARY KEY,\n",
    "    name TEXT);\"\"\")\n",
    "sql(\"\"\"CREATE TABLE diary_logs (\n",
    "    id INTEGER PRIMARY KEY,\n",
    "    user_id INTEGER,\n",
    "    date TEXT,\n",
    "    content TEXT\n",
    "    );\"\"\")"
   ]
  },
  {
   "cell_type": "code",
   "execution_count": 106,
   "metadata": {
    "ExecuteTime": {
     "end_time": "2021-06-24T23:55:36.183102Z",
     "start_time": "2021-06-24T23:55:36.176916Z"
    },
    "hidden": true
   },
   "outputs": [
    {
     "data": {
      "text/plain": [
       "<sqlite3.Cursor at 0x13e44a0ed50>"
      ]
     },
     "execution_count": 106,
     "metadata": {},
     "output_type": "execute_result"
    }
   ],
   "source": [
    "sql(\"\"\"INSERT INTO diary_logs (user_id, date, content) VALUES (1, \"2015-04-01\",\n",
    "    \"I had a horrible fight with OhNoesGuy and I buried my woes in 3 pounds of dark chocolate.\");\"\"\")\n",
    "sql(\"\"\"INSERT INTO diary_logs (user_id, date, content) VALUES (1, \"2015-04-02\",\n",
    "    \"We made up and now we're best friends forever and we celebrated with a tub of ice cream.\");\"\"\")"
   ]
  },
  {
   "cell_type": "code",
   "execution_count": 107,
   "metadata": {
    "ExecuteTime": {
     "end_time": "2021-06-24T23:55:36.191590Z",
     "start_time": "2021-06-24T23:55:36.184100Z"
    },
    "hidden": true
   },
   "outputs": [
    {
     "data": {
      "text/plain": [
       "<sqlite3.Cursor at 0x13e44a0ed50>"
      ]
     },
     "execution_count": 107,
     "metadata": {},
     "output_type": "execute_result"
    }
   ],
   "source": [
    "sql(\"\"\"UPDATE diary_logs\n",
    "        SET content=\"I had a horrible fight with OhNoesGuy\"\n",
    "        WHERE user_id = 1 AND date=\"2015-04-01\";\"\"\")\n",
    "\n",
    "# safer if we know the id\n",
    "\n",
    "sql(\"\"\"UPDATE diary_logs\n",
    "        SET content=\"I had a horrible fight with OhNoesGuy\"\n",
    "        WHERE id = 1;\"\"\")"
   ]
  },
  {
   "cell_type": "code",
   "execution_count": 108,
   "metadata": {
    "ExecuteTime": {
     "end_time": "2021-06-24T23:55:36.199916Z",
     "start_time": "2021-06-24T23:55:36.192910Z"
    },
    "hidden": true
   },
   "outputs": [
    {
     "data": {
      "text/plain": [
       "<sqlite3.Cursor at 0x13e44a0ed50>"
      ]
     },
     "execution_count": 108,
     "metadata": {},
     "output_type": "execute_result"
    }
   ],
   "source": [
    "sql(\"\"\"DELETE FROM diary_logs WHERE id=1;\"\"\")"
   ]
  },
  {
   "cell_type": "code",
   "execution_count": 109,
   "metadata": {
    "ExecuteTime": {
     "end_time": "2021-06-24T23:55:36.222680Z",
     "start_time": "2021-06-24T23:55:36.201911Z"
    },
    "hidden": true
   },
   "outputs": [
    {
     "data": {
      "text/html": [
       "<div>\n",
       "<style scoped>\n",
       "    .dataframe tbody tr th:only-of-type {\n",
       "        vertical-align: middle;\n",
       "    }\n",
       "\n",
       "    .dataframe tbody tr th {\n",
       "        vertical-align: top;\n",
       "    }\n",
       "\n",
       "    .dataframe thead th {\n",
       "        text-align: right;\n",
       "    }\n",
       "</style>\n",
       "<table border=\"1\" class=\"dataframe\">\n",
       "  <thead>\n",
       "    <tr style=\"text-align: right;\">\n",
       "      <th></th>\n",
       "      <th>id</th>\n",
       "      <th>user_id</th>\n",
       "      <th>date</th>\n",
       "      <th>content</th>\n",
       "    </tr>\n",
       "  </thead>\n",
       "  <tbody>\n",
       "    <tr>\n",
       "      <td>0</td>\n",
       "      <td>2</td>\n",
       "      <td>1</td>\n",
       "      <td>2015-04-02</td>\n",
       "      <td>We made up and now we're best friends forever ...</td>\n",
       "    </tr>\n",
       "  </tbody>\n",
       "</table>\n",
       "</div>"
      ],
      "text/plain": [
       "   id  user_id        date                                            content\n",
       "0   2        1  2015-04-02  We made up and now we're best friends forever ..."
      ]
     },
     "execution_count": 109,
     "metadata": {},
     "output_type": "execute_result"
    }
   ],
   "source": [
    "sql_to_pd(\"\"\"SELECT * FROM diary_logs\"\"\")"
   ]
  },
  {
   "cell_type": "markdown",
   "metadata": {
    "hidden": true
   },
   "source": [
    "Usually they dont delete data but create a new column deleted and have boolians/values for deleted true or false and based on what you need, they filter out the table if deleted is true."
   ]
  },
  {
   "cell_type": "markdown",
   "metadata": {
    "heading_collapsed": true,
    "hidden": true
   },
   "source": [
    "#### Altering Tables after creation"
   ]
  },
  {
   "cell_type": "markdown",
   "metadata": {
    "heading_collapsed": true,
    "hidden": true
   },
   "source": [
    "##### Add Column"
   ]
  },
  {
   "cell_type": "code",
   "execution_count": 110,
   "metadata": {
    "ExecuteTime": {
     "end_time": "2021-06-25T00:02:10.747714Z",
     "start_time": "2021-06-25T00:02:10.739413Z"
    },
    "hidden": true
   },
   "outputs": [
    {
     "data": {
      "text/plain": [
       "<sqlite3.Cursor at 0x13e44a0ed50>"
      ]
     },
     "execution_count": 110,
     "metadata": {},
     "output_type": "execute_result"
    }
   ],
   "source": [
    "sql(\"\"\"ALTER TABLE diary_logs ADD emotion TEXT\"\"\")"
   ]
  },
  {
   "cell_type": "code",
   "execution_count": 111,
   "metadata": {
    "ExecuteTime": {
     "end_time": "2021-06-25T00:02:56.344929Z",
     "start_time": "2021-06-25T00:02:56.333436Z"
    },
    "hidden": true
   },
   "outputs": [
    {
     "data": {
      "text/plain": [
       "<sqlite3.Cursor at 0x13e44a0ed50>"
      ]
     },
     "execution_count": 111,
     "metadata": {},
     "output_type": "execute_result"
    }
   ],
   "source": [
    "sql(\"\"\"INSERT INTO diary_logs (user_id, date, content, emotion) VALUES (1, \"2015-04-03\",\n",
    "    \"We went to Disneyland!\", \"happy\");\"\"\")"
   ]
  },
  {
   "cell_type": "code",
   "execution_count": 112,
   "metadata": {
    "ExecuteTime": {
     "end_time": "2021-06-25T00:04:10.411733Z",
     "start_time": "2021-06-25T00:04:10.384357Z"
    },
    "hidden": true
   },
   "outputs": [
    {
     "data": {
      "text/html": [
       "<div>\n",
       "<style scoped>\n",
       "    .dataframe tbody tr th:only-of-type {\n",
       "        vertical-align: middle;\n",
       "    }\n",
       "\n",
       "    .dataframe tbody tr th {\n",
       "        vertical-align: top;\n",
       "    }\n",
       "\n",
       "    .dataframe thead th {\n",
       "        text-align: right;\n",
       "    }\n",
       "</style>\n",
       "<table border=\"1\" class=\"dataframe\">\n",
       "  <thead>\n",
       "    <tr style=\"text-align: right;\">\n",
       "      <th></th>\n",
       "      <th>id</th>\n",
       "      <th>user_id</th>\n",
       "      <th>date</th>\n",
       "      <th>content</th>\n",
       "      <th>emotion</th>\n",
       "    </tr>\n",
       "  </thead>\n",
       "  <tbody>\n",
       "    <tr>\n",
       "      <td>0</td>\n",
       "      <td>2</td>\n",
       "      <td>1</td>\n",
       "      <td>2015-04-02</td>\n",
       "      <td>We made up and now we're best friends forever ...</td>\n",
       "      <td>None</td>\n",
       "    </tr>\n",
       "    <tr>\n",
       "      <td>1</td>\n",
       "      <td>3</td>\n",
       "      <td>1</td>\n",
       "      <td>2015-04-03</td>\n",
       "      <td>We went to Disneyland!</td>\n",
       "      <td>happy</td>\n",
       "    </tr>\n",
       "  </tbody>\n",
       "</table>\n",
       "</div>"
      ],
      "text/plain": [
       "   id  user_id        date                                            content  \\\n",
       "0   2        1  2015-04-02  We made up and now we're best friends forever ...   \n",
       "1   3        1  2015-04-03                             We went to Disneyland!   \n",
       "\n",
       "  emotion  \n",
       "0    None  \n",
       "1   happy  "
      ]
     },
     "execution_count": 112,
     "metadata": {},
     "output_type": "execute_result"
    }
   ],
   "source": [
    "sql_to_pd(\"\"\"SELECT * FROM diary_logs\"\"\")"
   ]
  },
  {
   "cell_type": "markdown",
   "metadata": {
    "hidden": true
   },
   "source": [
    "If we needed a default value instead of null, we specify it in the ALTER TABLE statement like: `ALTER TABLE diary_logs ADD emotion TEXT default \"unknown\"`"
   ]
  },
  {
   "cell_type": "markdown",
   "metadata": {
    "heading_collapsed": true,
    "hidden": true
   },
   "source": [
    "##### Deleting Entire Table"
   ]
  },
  {
   "cell_type": "markdown",
   "metadata": {
    "hidden": true
   },
   "source": [
    "`DROP TABLE diary_logs`"
   ]
  },
  {
   "cell_type": "markdown",
   "metadata": {
    "heading_collapsed": true,
    "hidden": true
   },
   "source": [
    "#### Challenge: Clothing Alterations"
   ]
  },
  {
   "cell_type": "code",
   "execution_count": 113,
   "metadata": {
    "ExecuteTime": {
     "end_time": "2021-06-25T00:16:50.275905Z",
     "start_time": "2021-06-25T00:16:50.265595Z"
    },
    "hidden": true
   },
   "outputs": [
    {
     "data": {
      "text/plain": [
       "<sqlite3.Cursor at 0x13e44a0ed50>"
      ]
     },
     "execution_count": 113,
     "metadata": {},
     "output_type": "execute_result"
    }
   ],
   "source": [
    "sql(\"\"\"CREATE TABLE clothes (\n",
    "    id INTEGER PRIMARY KEY AUTOINCREMENT,\n",
    "    type TEXT,\n",
    "    design TEXT);\"\"\")\n",
    "sql(\"\"\"INSERT INTO clothes (type, design)\n",
    "    VALUES (\"dress\", \"pink polka dots\");\"\"\")\n",
    "sql(\"\"\"INSERT INTO clothes (type, design)\n",
    "    VALUES (\"pants\", \"rainbow tie-dye\");\"\"\")\n",
    "sql(\"\"\"INSERT INTO clothes (type, design)\n",
    "    VALUES (\"blazer\", \"black sequin\");\"\"\")"
   ]
  },
  {
   "cell_type": "code",
   "execution_count": 114,
   "metadata": {
    "ExecuteTime": {
     "end_time": "2021-06-25T00:17:17.028800Z",
     "start_time": "2021-06-25T00:17:17.001515Z"
    },
    "hidden": true
   },
   "outputs": [
    {
     "data": {
      "text/html": [
       "<div>\n",
       "<style scoped>\n",
       "    .dataframe tbody tr th:only-of-type {\n",
       "        vertical-align: middle;\n",
       "    }\n",
       "\n",
       "    .dataframe tbody tr th {\n",
       "        vertical-align: top;\n",
       "    }\n",
       "\n",
       "    .dataframe thead th {\n",
       "        text-align: right;\n",
       "    }\n",
       "</style>\n",
       "<table border=\"1\" class=\"dataframe\">\n",
       "  <thead>\n",
       "    <tr style=\"text-align: right;\">\n",
       "      <th></th>\n",
       "      <th>id</th>\n",
       "      <th>type</th>\n",
       "      <th>design</th>\n",
       "      <th>price</th>\n",
       "    </tr>\n",
       "  </thead>\n",
       "  <tbody>\n",
       "    <tr>\n",
       "      <td>0</td>\n",
       "      <td>1</td>\n",
       "      <td>dress</td>\n",
       "      <td>pink polka dots</td>\n",
       "      <td>not assigned</td>\n",
       "    </tr>\n",
       "    <tr>\n",
       "      <td>1</td>\n",
       "      <td>2</td>\n",
       "      <td>pants</td>\n",
       "      <td>rainbow tie-dye</td>\n",
       "      <td>not assigned</td>\n",
       "    </tr>\n",
       "    <tr>\n",
       "      <td>2</td>\n",
       "      <td>3</td>\n",
       "      <td>blazer</td>\n",
       "      <td>black sequin</td>\n",
       "      <td>not assigned</td>\n",
       "    </tr>\n",
       "  </tbody>\n",
       "</table>\n",
       "</div>"
      ],
      "text/plain": [
       "   id    type           design         price\n",
       "0   1   dress  pink polka dots  not assigned\n",
       "1   2   pants  rainbow tie-dye  not assigned\n",
       "2   3  blazer     black sequin  not assigned"
      ]
     },
     "execution_count": 114,
     "metadata": {},
     "output_type": "execute_result"
    }
   ],
   "source": [
    "sql(\"\"\"ALTER TABLE clothes ADD price NUMERIC default \"not assigned\";\"\"\")\n",
    "\n",
    "sql_to_pd(\"\"\"SELECT * FROM clothes;\"\"\")"
   ]
  },
  {
   "cell_type": "code",
   "execution_count": 115,
   "metadata": {
    "ExecuteTime": {
     "end_time": "2021-06-25T00:18:17.143308Z",
     "start_time": "2021-06-25T00:18:17.120326Z"
    },
    "hidden": true
   },
   "outputs": [
    {
     "data": {
      "text/html": [
       "<div>\n",
       "<style scoped>\n",
       "    .dataframe tbody tr th:only-of-type {\n",
       "        vertical-align: middle;\n",
       "    }\n",
       "\n",
       "    .dataframe tbody tr th {\n",
       "        vertical-align: top;\n",
       "    }\n",
       "\n",
       "    .dataframe thead th {\n",
       "        text-align: right;\n",
       "    }\n",
       "</style>\n",
       "<table border=\"1\" class=\"dataframe\">\n",
       "  <thead>\n",
       "    <tr style=\"text-align: right;\">\n",
       "      <th></th>\n",
       "      <th>id</th>\n",
       "      <th>type</th>\n",
       "      <th>design</th>\n",
       "      <th>price</th>\n",
       "    </tr>\n",
       "  </thead>\n",
       "  <tbody>\n",
       "    <tr>\n",
       "      <td>0</td>\n",
       "      <td>1</td>\n",
       "      <td>dress</td>\n",
       "      <td>pink polka dots</td>\n",
       "      <td>10</td>\n",
       "    </tr>\n",
       "    <tr>\n",
       "      <td>1</td>\n",
       "      <td>2</td>\n",
       "      <td>pants</td>\n",
       "      <td>rainbow tie-dye</td>\n",
       "      <td>20</td>\n",
       "    </tr>\n",
       "    <tr>\n",
       "      <td>2</td>\n",
       "      <td>3</td>\n",
       "      <td>blazer</td>\n",
       "      <td>black sequin</td>\n",
       "      <td>30</td>\n",
       "    </tr>\n",
       "  </tbody>\n",
       "</table>\n",
       "</div>"
      ],
      "text/plain": [
       "   id    type           design  price\n",
       "0   1   dress  pink polka dots     10\n",
       "1   2   pants  rainbow tie-dye     20\n",
       "2   3  blazer     black sequin     30"
      ]
     },
     "execution_count": 115,
     "metadata": {},
     "output_type": "execute_result"
    }
   ],
   "source": [
    "sql(\"\"\"UPDATE clothes SET price=10 WHERE id = 1;\"\"\")\n",
    "sql(\"\"\"UPDATE clothes SET price = 20 WHERE id = 2;\"\"\")\n",
    "sql(\"\"\"UPDATE clothes SET price = 30 WHERE id = 3;\"\"\")\n",
    "\n",
    "sql_to_pd(\"\"\"SELECT * FROM clothes;\"\"\")"
   ]
  },
  {
   "cell_type": "code",
   "execution_count": 116,
   "metadata": {
    "ExecuteTime": {
     "end_time": "2021-06-25T00:18:53.855610Z",
     "start_time": "2021-06-25T00:18:53.832335Z"
    },
    "hidden": true
   },
   "outputs": [
    {
     "data": {
      "text/html": [
       "<div>\n",
       "<style scoped>\n",
       "    .dataframe tbody tr th:only-of-type {\n",
       "        vertical-align: middle;\n",
       "    }\n",
       "\n",
       "    .dataframe tbody tr th {\n",
       "        vertical-align: top;\n",
       "    }\n",
       "\n",
       "    .dataframe thead th {\n",
       "        text-align: right;\n",
       "    }\n",
       "</style>\n",
       "<table border=\"1\" class=\"dataframe\">\n",
       "  <thead>\n",
       "    <tr style=\"text-align: right;\">\n",
       "      <th></th>\n",
       "      <th>id</th>\n",
       "      <th>type</th>\n",
       "      <th>design</th>\n",
       "      <th>price</th>\n",
       "    </tr>\n",
       "  </thead>\n",
       "  <tbody>\n",
       "    <tr>\n",
       "      <td>0</td>\n",
       "      <td>1</td>\n",
       "      <td>dress</td>\n",
       "      <td>pink polka dots</td>\n",
       "      <td>10.00</td>\n",
       "    </tr>\n",
       "    <tr>\n",
       "      <td>1</td>\n",
       "      <td>2</td>\n",
       "      <td>pants</td>\n",
       "      <td>rainbow tie-dye</td>\n",
       "      <td>20.00</td>\n",
       "    </tr>\n",
       "    <tr>\n",
       "      <td>2</td>\n",
       "      <td>3</td>\n",
       "      <td>blazer</td>\n",
       "      <td>black sequin</td>\n",
       "      <td>30.00</td>\n",
       "    </tr>\n",
       "    <tr>\n",
       "      <td>3</td>\n",
       "      <td>4</td>\n",
       "      <td>camisole</td>\n",
       "      <td>pastel</td>\n",
       "      <td>19.99</td>\n",
       "    </tr>\n",
       "  </tbody>\n",
       "</table>\n",
       "</div>"
      ],
      "text/plain": [
       "   id      type           design  price\n",
       "0   1     dress  pink polka dots  10.00\n",
       "1   2     pants  rainbow tie-dye  20.00\n",
       "2   3    blazer     black sequin  30.00\n",
       "3   4  camisole           pastel  19.99"
      ]
     },
     "execution_count": 116,
     "metadata": {},
     "output_type": "execute_result"
    }
   ],
   "source": [
    "sql(\"\"\"INSERT INTO clothes (type, design, price) VALUES (\"camisole\", \"pastel\", 19.99);\"\"\")\n",
    "\n",
    "sql_to_pd(\"\"\"SELECT * FROM clothes;\"\"\")"
   ]
  },
  {
   "cell_type": "markdown",
   "metadata": {
    "heading_collapsed": true,
    "hidden": true
   },
   "source": [
    "#### Make SQL Safer"
   ]
  },
  {
   "cell_type": "markdown",
   "metadata": {
    "hidden": true
   },
   "source": [
    "limit to 1: `UPDATE users SET deleted = true WHERE id = 1 LIMIT 1;` or if deleting: `DELETE users WHERE id = 1 LIMIT 1;`"
   ]
  },
  {
   "cell_type": "markdown",
   "metadata": {
    "heading_collapsed": true,
    "hidden": true
   },
   "source": [
    "##### Using Transactions"
   ]
  },
  {
   "cell_type": "markdown",
   "metadata": {
    "hidden": true
   },
   "source": [
    "Whenever we issue a command like CREATE, UPDATE, INSERT, or DELETE, we are automatically starting a transaction. However, if we want, we can also wrap up multiple commands inside a bigger transaction. It may be that we only want an UPDATE to go through if another UPDATE goes through as well, so we want to put both of them in the same transaction.\n",
    "\n",
    "In that case, we can wrap the commands in `BEGIN TRANSACTION` and `COMMIT`:\n",
    "\n",
    "`BEGIN TRANSACTION;\n",
    "UPDATE people SET husband = \"Winston\" WHERE user_id = 1;\n",
    "UPDATE people SET wife = \"Winnefer\" WHERE user_id = 2;\n",
    "COMMIT;`"
   ]
  },
  {
   "cell_type": "markdown",
   "metadata": {
    "hidden": true
   },
   "source": [
    "If the database is unable to issue both those UPDATE commands for some reason, then it will rollback the transaction and leave the database how it was when it started.\n",
    "\n",
    "We also use transactions when we want to make sure that all of our commands operate on the same view of the data - when we want to ensure that no other transactions operate on that same data while the sequence of commands is running. When you're looking at a sequence of commands you want to run, ask yourself what would happen if another user issued commands at the same time. Could your data end up in a weird state? In that case, you should run in a transaction.\n",
    "\n",
    "For example, the following commands create a row denoting that a user earned a badge, and then update the user's recent activity to describe that:\n",
    "\n",
    "`INSERT INTO user_badges VALUES (1, \"SQL Master\", \"4pm\");\n",
    "UPDATE user SET recent_activity = \"Earned SQL Master badge\" WHERE id = 1;`\n",
    "\n",
    "At the same time, another user or process might be awarding the user a second badge:\n",
    "\n",
    "`INSERT INTO user_badges VALUES (1, \"Great Listener\", \"4:05pm\");\n",
    "UPDATE user SET recent_activity = \"Earned Great Listener badge\" WHERE id = 1;`\n",
    "\n",
    "These commands could now actually be issued in this order:\n",
    "\n",
    "`INSERT INTO user_badges VALUES (1, \"SQL Master\");\n",
    "INSERT INTO user_badges VALUES (1, \"Great Listener\");\n",
    "UPDATE user SET recent_activity = \"Earned Great Listener badge\" WHERE id = 1;\n",
    "UPDATE user SET recent_activity = \"Earned SQL Master badge\" WHERE id = 1;`\n",
    "\n",
    "Their recent activity would now be \"Earned SQL Master badge\" even though the most recently inserted badge was \"Great listener\". That's not the end of the world, but it's also probably not what we expected.\n",
    "\n",
    "Instead, we could run those in a transaction, to guarantee that no other transactions happen in the middle:\n",
    "\n",
    "`BEGIN TRANSACTION;\n",
    "INSERT INTO user_badges VALUES (1, \"SQL Master\");\n",
    "UPDATE user SET recent_activity = \"Earned SQL Master badge\" WHERE id = 1;\n",
    "COMMIT;`"
   ]
  },
  {
   "cell_type": "markdown",
   "metadata": {
    "heading_collapsed": true,
    "hidden": true
   },
   "source": [
    "##### Granting Privileges"
   ]
  },
  {
   "cell_type": "markdown",
   "metadata": {
    "hidden": true
   },
   "source": [
    "`GRANT FULL ON TABLE users TO super_admin;`\n",
    "`GRANT SELECT ON TABLE users TO analyzing_user;`"
   ]
  },
  {
   "cell_type": "code",
   "execution_count": null,
   "metadata": {
    "hidden": true
   },
   "outputs": [],
   "source": []
  }
 ],
 "metadata": {
  "kernelspec": {
   "display_name": "Python 3",
   "language": "python",
   "name": "python3"
  },
  "language_info": {
   "codemirror_mode": {
    "name": "ipython",
    "version": 3
   },
   "file_extension": ".py",
   "mimetype": "text/x-python",
   "name": "python",
   "nbconvert_exporter": "python",
   "pygments_lexer": "ipython3",
   "version": "3.6.9"
  },
  "toc": {
   "base_numbering": 1,
   "nav_menu": {},
   "number_sections": true,
   "sideBar": true,
   "skip_h1_title": false,
   "title_cell": "Table of Contents",
   "title_sidebar": "Contents",
   "toc_cell": false,
   "toc_position": {},
   "toc_section_display": true,
   "toc_window_display": false
  }
 },
 "nbformat": 4,
 "nbformat_minor": 2
}
