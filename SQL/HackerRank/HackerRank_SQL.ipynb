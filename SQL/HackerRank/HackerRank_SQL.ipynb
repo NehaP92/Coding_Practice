{
 "cells": [
  {
   "cell_type": "markdown",
   "metadata": {},
   "source": [
    "# HackerRank - SQL Medium"
   ]
  },
  {
   "cell_type": "markdown",
   "metadata": {},
   "source": [
    "1. Generate the following two result sets:\n",
    "\n",
    "\n",
    " - Query an alphabetically ordered list of all names in OCCUPATIONS, immediately followed by the first letter of each profession as a parenthetical (i.e.: enclosed in parentheses). For example: AnActorName(A), ADoctorName(D), AProfessorName(P), and ASingerName(S).\n",
    "\n",
    "\n",
    " - Query the number of ocurrences of each occupation in OCCUPATIONS. Sort the occurrences in ascending order, and output them in the following format: \n",
    " `There are a total of [occupation_count] [occupation]s.`\n",
    "where [occupation_count] is the number of occurrences of an occupation in OCCUPATIONS and [occupation] is the lowercase occupation name. If more than one Occupation has the same [occupation_count], they should be ordered alphabetically."
   ]
  },
  {
   "cell_type": "markdown",
   "metadata": {},
   "source": [
    "https://www.hackerrank.com/challenges/the-pads/problem"
   ]
  },
  {
   "cell_type": "markdown",
   "metadata": {},
   "source": [
    "```\n",
    "SELECT concat(NAME,concat('(',concat(substr(OCCUPATION,1,1),')'))) FROM OCCUPATIONS ORDER BY NAME ASC;\n",
    "SELECT concat(concat(concat('There are a total of ', count(OCCUPATION)),' '), concat(lower(occupation),'s.')) FROM OCCUPATIONS GROUP BY OCCUPATION ORDER BY count(OCCUPATION) ASC;\n",
    "```"
   ]
  },
  {
   "cell_type": "markdown",
   "metadata": {},
   "source": [
    "2. Pivot the Occupation column in OCCUPATIONS so that each Name is sorted alphabetically and displayed underneath its corresponding Occupation. The output column headers should be Doctor, Professor, Singer, and Actor, respectively.\n",
    "\n",
    "Note: Print NULL when there are no more names corresponding to an occupation."
   ]
  },
  {
   "cell_type": "markdown",
   "metadata": {},
   "source": [
    "# HackerRank - SQL - Easy"
   ]
  },
  {
   "cell_type": "markdown",
   "metadata": {},
   "source": [
    "1. Query all columns for all American cities in the CITY table with populations larger than 100000. The CountryCode for America is USA.\n",
    "\n",
    "https://www.hackerrank.com/challenges/revising-the-select-query/problem"
   ]
  },
  {
   "cell_type": "markdown",
   "metadata": {},
   "source": [
    "```\n",
    "SELECT * FROM CITY WHERE COUNTRYCODE = 'USA' AND POPULATION > 100000\n",
    "```"
   ]
  },
  {
   "cell_type": "markdown",
   "metadata": {},
   "source": [
    "2. Query the NAME field for all American cities in the CITY table with populations larger than 120000. The CountryCode for America is USA.\n",
    "\n",
    "https://www.hackerrank.com/challenges/revising-the-select-query-2/problem?h_r=next-challenge&h_v=zen"
   ]
  },
  {
   "cell_type": "markdown",
   "metadata": {},
   "source": [
    "```\n",
    "SELECT NAME FROM CITY WHERE COUNTRYCODE = 'USA' AND POPULATION>120000;\n",
    "```"
   ]
  },
  {
   "cell_type": "markdown",
   "metadata": {},
   "source": [
    "3. Query all columns for a city in CITY with the ID 1661.\n",
    "\n",
    "https://www.hackerrank.com/challenges/select-by-id/problem?h_r=next-challenge&h_v=zen&h_r=next-challenge&h_v=zen&h_r=next-challenge&h_v=zen"
   ]
  },
  {
   "cell_type": "markdown",
   "metadata": {},
   "source": [
    "```\n",
    "SELECT * FROM CITY WHERE ID = 1661;\n",
    "```"
   ]
  },
  {
   "cell_type": "markdown",
   "metadata": {},
   "source": [
    "4. Query the two cities in STATION with the shortest and longest CITY names, as well as their respective lengths (i.e.: number of characters in the name). If there is more than one smallest or largest city, choose the one that comes first when ordered alphabetically.\n",
    "\n",
    "https://www.hackerrank.com/challenges/weather-observation-station-5/problem"
   ]
  },
  {
   "cell_type": "markdown",
   "metadata": {},
   "source": [
    "```\n",
    "SELECT CITY,LENGTH(CITY) AS LEN FROM STATION ORDER BY LEN ASC LIMIT 1;\n",
    "SELECT CITY,LENGTH(CITY) AS LEN FROM STATION ORDER BY LEN DESC LIMIT 1;\n",
    "```"
   ]
  },
  {
   "cell_type": "markdown",
   "metadata": {},
   "source": [
    "```\n",
    "select city, length(city) from station\n",
    "order by length(city),city asc\n",
    "limit 1;\n",
    "select city, length(city) from station\n",
    "order by length(city) desc\n",
    "limit 1;\n",
    "```"
   ]
  },
  {
   "cell_type": "markdown",
   "metadata": {},
   "source": [
    "5. Query the list of CITY names starting with vowels (i.e., a, e, i, o, or u) from STATION. Your result cannot contain duplicates.\n",
    "\n",
    "https://www.hackerrank.com/challenges/weather-observation-station-6/problem?h_r=next-challenge&h_v=zen"
   ]
  },
  {
   "cell_type": "markdown",
   "metadata": {},
   "source": [
    "```\n",
    "SELECT DISTINCT CITY FROM STATION WHERE lower(substr(city,1,1)) in ('a','e','i','o','u');\n",
    "```"
   ]
  },
  {
   "cell_type": "markdown",
   "metadata": {},
   "source": [
    "```\n",
    "SELECT DISTINCT city FROM station WHERE city REGEXP \"^[aeiou].*\";\n",
    "```"
   ]
  },
  {
   "cell_type": "markdown",
   "metadata": {},
   "source": [
    "6. Query the list of CITY names ending with vowels (a, e, i, o, u) from STATION. Your result cannot contain duplicates.\n",
    "\n",
    "https://www.hackerrank.com/challenges/weather-observation-station-7/problem?h_r=next-challenge&h_v=zen&h_r=next-challenge&h_v=zen"
   ]
  },
  {
   "cell_type": "markdown",
   "metadata": {},
   "source": [
    "```\n",
    "SELECT DISTINCT CITY FROM STATION WHERE LOWER(SUBSTR(CITY,LENGTH(CITY),1)) IN ('a','e','i','o','u');\n",
    "```"
   ]
  },
  {
   "cell_type": "markdown",
   "metadata": {},
   "source": [
    "OR try regex"
   ]
  },
  {
   "cell_type": "markdown",
   "metadata": {},
   "source": [
    "7. Query the list of CITY names from STATION which have vowels (i.e., a, e, i, o, and u) as both their first and last characters. Your result cannot contain duplicates.\n",
    "\n",
    "https://www.hackerrank.com/challenges/weather-observation-station-8/problem?h_r=next-challenge&h_v=zen&h_r=next-challenge&h_v=zen&h_r=next-challenge&h_v=zen"
   ]
  },
  {
   "cell_type": "markdown",
   "metadata": {},
   "source": [
    "```\n",
    "select distinct city from station \n",
    "where left(city,1) in ('a','e','i','o','u') \n",
    "and right(city, 1) in ('a','e','i','o','u')\n",
    "```"
   ]
  },
  {
   "cell_type": "markdown",
   "metadata": {},
   "source": [
    "OR use REGEX"
   ]
  },
  {
   "cell_type": "markdown",
   "metadata": {},
   "source": [
    "8. Query the list of CITY names from STATION that do not start with vowels. Your result cannot contain duplicates.\n",
    "\n",
    "https://www.hackerrank.com/challenges/weather-observation-station-9/problem"
   ]
  },
  {
   "cell_type": "markdown",
   "metadata": {},
   "source": [
    "```\n",
    "SELECT DISTINCT CITY FROM STATION WHERE LOWER(SUBSTR(CITY,1,1)) NOT IN ('a','e','i','o','u');\n",
    "```"
   ]
  },
  {
   "cell_type": "markdown",
   "metadata": {},
   "source": [
    "9. Query the Name of any student in STUDENTS who scored higher than 75 Marks. Order your output by the last three characters of each name. If two or more students both have names ending in the same last three characters (i.e.: Bobby, Robby, etc.), secondary sort them by ascending ID.\n",
    "\n",
    "https://www.hackerrank.com/challenges/more-than-75-marks/problem"
   ]
  },
  {
   "cell_type": "markdown",
   "metadata": {},
   "source": [
    "```\n",
    "SELECT Name FROM STUDENTS WHERE Marks>75 ORDER BY right(Name,3),ID ASC;\n",
    "```"
   ]
  },
  {
   "cell_type": "markdown",
   "metadata": {},
   "source": [
    "10. Write a query that prints a list of employee names (i.e.: the name attribute) from the Employee table in alphabetical order.\n",
    "\n",
    "https://www.hackerrank.com/challenges/name-of-employees/problem?h_r=next-challenge&h_v=zen"
   ]
  },
  {
   "cell_type": "markdown",
   "metadata": {},
   "source": [
    "```\n",
    "SELECT Name FROM Employee Order by Name;\n",
    "```"
   ]
  },
  {
   "cell_type": "markdown",
   "metadata": {},
   "source": [
    "11. Write a query that prints a list of employee names (i.e.: the name attribute) for employees in Employee having a salary greater than $2000 per month who have been employees for less than 10 months. Sort your result by ascending employee_id.\n",
    "\n",
    "https://www.hackerrank.com/challenges/salary-of-employees/problem?h_r=next-challenge&h_v=zen&h_r=next-challenge&h_v=zen"
   ]
  },
  {
   "cell_type": "markdown",
   "metadata": {},
   "source": [
    "```\n",
    "SELECT name FROM Employee WHERE salary>2000 AND months<10 ORDER BY employee_id;\n",
    "```"
   ]
  },
  {
   "cell_type": "markdown",
   "metadata": {},
   "source": [
    "12. Write a query identifying the type of each record in the TRIANGLES table using its three side lengths. Output one of the following statements for each record in the table:\n",
    "\n",
    "> Equilateral: It's a triangle with 3 sides of equal length.\n",
    "\n",
    ">Isosceles: It's a triangle with 2 sides of equal length.\n",
    "\n",
    ">Scalene: It's a triangle with 3 sides of differing lengths.\n",
    "\n",
    ">Not A Triangle: The given values of A, B, and C don't form a triangle.\n",
    "\n",
    "https://www.hackerrank.com/challenges/what-type-of-triangle/problem"
   ]
  },
  {
   "cell_type": "markdown",
   "metadata": {},
   "source": [
    "```\n",
    "SELECT CASE\n",
    "            WHEN A+B>C AND B+C>A AND A+C>B THEN\n",
    "                CASE\n",
    "                    WHEN A=B=C THEN \"Equilateral\"\n",
    "                    WHEN (A=B) OR (B=C) OR (A=C) THEN \"Isosceles\"\n",
    "                    ELSE \"Scalene\"\n",
    "            ELSE \"Not A Triangle\"\n",
    "        END\n",
    "FROM TRIANGLES;\n",
    "```"
   ]
  },
  {
   "cell_type": "code",
   "execution_count": null,
   "metadata": {},
   "outputs": [],
   "source": []
  }
 ],
 "metadata": {
  "kernelspec": {
   "display_name": "Python 3",
   "language": "python",
   "name": "python3"
  },
  "language_info": {
   "codemirror_mode": {
    "name": "ipython",
    "version": 3
   },
   "file_extension": ".py",
   "mimetype": "text/x-python",
   "name": "python",
   "nbconvert_exporter": "python",
   "pygments_lexer": "ipython3",
   "version": "3.6.9"
  },
  "toc": {
   "base_numbering": 1,
   "nav_menu": {},
   "number_sections": true,
   "sideBar": true,
   "skip_h1_title": false,
   "title_cell": "Table of Contents",
   "title_sidebar": "Contents",
   "toc_cell": false,
   "toc_position": {},
   "toc_section_display": true,
   "toc_window_display": false
  }
 },
 "nbformat": 4,
 "nbformat_minor": 2
}
